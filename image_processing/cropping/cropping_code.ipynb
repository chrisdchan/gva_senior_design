{
 "cells": [
  {
   "cell_type": "code",
   "execution_count": 22,
   "metadata": {},
   "outputs": [
    {
     "name": "stdout",
     "output_type": "stream",
     "text": [
      "3699\n"
     ]
    }
   ],
   "source": [
    "from PIL import Image, ImageFilter\n",
    "from dotenv import load_dotenv\n",
    "\n",
    "import os\n",
    "import matplotlib.pyplot as plt\n",
    "import numpy as np\n",
    "import cv2 as cv\n",
    "from skimage.measure import label, regionprops, regionprops_table\n",
    "\n",
    "load_dotenv()\n",
    "\n",
    "PROJECT_DIR = os.getenv('PROJECT_DIR')\n",
    "\n",
    "image_path = os.path.join(PROJECT_DIR, 'image_processing/data/uncropped/Testing_Image_1.jpg')\n",
    "image = Image.open(image_path)\n",
    "\n",
    "# Convert to greyscale\n",
    "image = image.convert('L')\n",
    "\n",
    "# Gaussian Blur\n",
    "image = image.filter(ImageFilter.GaussianBlur(radius=3))\n",
    "\n",
    "img = cv.imread(image_path, cv.IMREAD_GRAYSCALE)\n",
    "img = cv.GaussianBlur(img, (5, 5), 0)\n",
    "\n",
    "upper_threshold, thresh_input_image = cv.threshold(\n",
    "    img, thresh=0, maxval=255, type=cv.THRESH_BINARY + cv.THRESH_OTSU\n",
    ")\n",
    "# Calculate lower threshold\n",
    "lower_threshold = 0.5 * upper_threshold\n",
    "\n",
    "lower_threshold = 5\n",
    "upper_threshold = 7\n",
    "\n",
    "\n",
    "edge = cv.Canny(img, upper_threshold, lower_threshold)\n",
    "\n",
    "seClose = cv.getStructuringElement(cv.MORPH_RECT, (5, 100))\n",
    "closedImg = cv.morphologyEx(edge, cv.MORPH_CLOSE, seClose)\n",
    "\n",
    "h, w = closedImg.shape[:2]\n",
    "mask = np.zeros((h+2, w+2), np.uint8)\n",
    "\n",
    "filledImg = cv.floodFill(closedImg, mask=mask, seedPoint=(1000, 1000), newVal=255)[1]\n",
    "cc = cv.connectedComponents(filledImg)[1]\n",
    "\n",
    "regions = regionprops(cc)\n",
    "print(len(regions))\n",
    "\n",
    "\n",
    "# fig, ax = plt.subplots(5, 1, figsize=(5, 20))\n",
    "\n",
    "# ax[0].imshow(image, cmap='gray')\n",
    "# ax[1].imshow(edge, cmap='gray')\n",
    "# ax[2].imshow(closedImg, cmap='gray')\n",
    "# ax[3].imshow(filledImg, cmap='gray')\n",
    "# ax[4].imshow(cc, cmap='gray')"
   ]
  },
  {
   "cell_type": "code",
   "execution_count": null,
   "metadata": {},
   "outputs": [],
   "source": [
    "kkwkk\n",
    "def process_image_to_ROI(image):\n",
    "    ''' Takes in an image\n",
    "    '''\n",
    "\n",
    "    # Convert to greyscale\n",
    "    image = image.convert('L')\n",
    "\n",
    "    # Apply Gaussian Blur\n",
    "    image = image.filter(ImageFilter.GaussianBlur(radius=3))\n",
    "\n",
    "    \n",
    "\n",
    "    \n",
    "    "
   ]
  }
 ],
 "metadata": {
  "kernelspec": {
   "display_name": "gva",
   "language": "python",
   "name": "python3"
  },
  "language_info": {
   "codemirror_mode": {
    "name": "ipython",
    "version": 3
   },
   "file_extension": ".py",
   "mimetype": "text/x-python",
   "name": "python",
   "nbconvert_exporter": "python",
   "pygments_lexer": "ipython3",
   "version": "3.11.7"
  }
 },
 "nbformat": 4,
 "nbformat_minor": 2
}
