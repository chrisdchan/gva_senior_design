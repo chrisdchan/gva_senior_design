{
 "cells": [
  {
   "cell_type": "markdown",
   "id": "f8a62c56-ff4b-4f13-bfcb-6e9a81ba58c2",
   "metadata": {},
   "source": [
    "### Script to rename file names in the dataset\n",
    "This will remove the word Image and Mask from each file name"
   ]
  },
  {
   "cell_type": "code",
   "execution_count": 28,
   "id": "64493fdf",
   "metadata": {},
   "outputs": [],
   "source": [
    "def remove_word(file_name, word):\n",
    "    \"\"\" Returns a new file_name with word removed from it\n",
    "        Input:\n",
    "            file_name: string (only file name NOT the path)\n",
    "            word: word with which to remove\n",
    "    \"\"\"\n",
    "    return file_name.replace(word, '')"
   ]
  },
  {
   "cell_type": "code",
   "execution_count": 46,
   "id": "16fa7c56",
   "metadata": {},
   "outputs": [],
   "source": [
    "import re\n",
    "def white_space_to_underscore(file_name):\n",
    "    \"\"\" Returns a new file_name with all white spaces removed\n",
    "        Input:\n",
    "            file_name: string (only file name NOT the path)\n",
    "    \"\"\"\n",
    "    return re.sub(r'(\\s|_)+', '_', file_name.strip())"
   ]
  },
  {
   "cell_type": "code",
   "execution_count": 57,
   "id": "c3860d59-e0a8-4dc9-ab29-9f796c2b34b8",
   "metadata": {},
   "outputs": [],
   "source": [
    "import os\n",
    "from functools import reduce\n",
    "\n",
    "def apply_renames(directory, fns):\n",
    "    \"\"\" Iterates over a directory and renames each file according to the functions in order\n",
    "        Input:\n",
    "            directory: string\n",
    "            fns: List<(string -> )>\n",
    "    \"\"\"\n",
    "    for filename in os.listdir(directory):\n",
    "        new_filename = reduce(lambda acc, fn: fn(acc), fns, filename)\n",
    "        old_path = os.path.join(directory, filename)\n",
    "        new_path = os.path.join(directory, new_filename)\n",
    "        os.rename(old_path, new_path)"
   ]
  },
  {
   "cell_type": "markdown",
   "id": "afc0d4f0",
   "metadata": {},
   "source": [
    "Executed 2/22/2024 3:47pm"
   ]
  },
  {
   "cell_type": "code",
   "execution_count": 59,
   "id": "184a88b0-038a-4e26-92fa-f1b6c608ccdf",
   "metadata": {},
   "outputs": [],
   "source": [
    "masks_dir = \"data/masks/_Masks\"\n",
    "img_dir = \"data/original/_Original\"\n",
    "\n",
    "mask_renames = [\n",
    "    lambda filename: remove_word(filename, \"Mask\"),\n",
    "    white_space_to_underscore,\n",
    "]\n",
    "\n",
    "image_renames = [\n",
    "    lambda filename: remove_word(filename, \"Image\"),\n",
    "    lambda filename: remove_word(filename, \"image\"),\n",
    "    white_space_to_underscore,\n",
    "]\n",
    "\n",
    "apply_renames(masks_dir, mask_renames)\n",
    "apply_renames(img_dir, image_renames)"
   ]
  }
 ],
 "metadata": {
  "kernelspec": {
   "display_name": "Python 3 (ipykernel)",
   "language": "python",
   "name": "python3"
  },
  "language_info": {
   "codemirror_mode": {
    "name": "ipython",
    "version": 3
   },
   "file_extension": ".py",
   "mimetype": "text/x-python",
   "name": "python",
   "nbconvert_exporter": "python",
   "pygments_lexer": "ipython3",
   "version": "3.11.7"
  }
 },
 "nbformat": 4,
 "nbformat_minor": 5
}
