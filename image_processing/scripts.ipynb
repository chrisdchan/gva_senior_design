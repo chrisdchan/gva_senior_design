{
 "cells": [
  {
   "cell_type": "markdown",
   "id": "f8a62c56-ff4b-4f13-bfcb-6e9a81ba58c2",
   "metadata": {},
   "source": [
    "### Script to rename file names in the dataset\n",
    "This will remove the word Image and Mask from each file name"
   ]
  },
  {
   "cell_type": "code",
   "execution_count": 4,
   "id": "c3860d59-e0a8-4dc9-ab29-9f796c2b34b8",
   "metadata": {},
   "outputs": [],
   "source": [
    "import os\n",
    "def remove_word_from_filenames(directory, word):\n",
    "    for filename in os.listdir(directory):\n",
    "        if word in filename:\n",
    "            print(filename)"
   ]
  },
  {
   "cell_type": "code",
   "execution_count": null,
   "id": "8dec5bb0-b413-4841-9c73-4eefa6992df7",
   "metadata": {},
   "outputs": [],
   "source": []
  },
  {
   "cell_type": "code",
   "execution_count": 7,
   "id": "184a88b0-038a-4e26-92fa-f1b6c608ccdf",
   "metadata": {},
   "outputs": [
    {
     "name": "stdout",
     "output_type": "stream",
     "text": [
      "SH Mask 4.h5\n",
      "SH Mask 2.h5\n",
      "SH Mask 1.h5\n",
      "SH Mask 6.h5\n",
      "ACC_Mask2.h5\n",
      "SH Mask 10.h5\n",
      "ACC_Mask3.h5\n",
      "ACC_Mask4.h5\n",
      "YH_Mask2.h5\n",
      "SH Mask 8.h5\n",
      "ACC_Mask1.h5\n",
      "SH Mask 9.h5\n",
      "SH Mask 7.h5\n",
      "YH_Mask3.h5\n",
      "YH_Mask1.h5\n",
      "YH_Mask4.h5\n",
      "SH Mask 5.h5\n",
      "SH Mask 3.h5\n",
      "ACC_Mask5.h5\n",
      "SH Mask 11.h5\n",
      "YH_Mask5.h5\n"
     ]
    }
   ],
   "source": [
    "masks_dir = \"data/_Masks\"\n",
    "remove_word_from_filenames(masks_dir, \"Mask\")"
   ]
  },
  {
   "cell_type": "code",
   "execution_count": null,
   "id": "46fe997a-9ece-4409-b1dc-f85f73516bf6",
   "metadata": {},
   "outputs": [],
   "source": []
  }
 ],
 "metadata": {
  "kernelspec": {
   "display_name": "Python 3 (ipykernel)",
   "language": "python",
   "name": "python3"
  },
  "language_info": {
   "codemirror_mode": {
    "name": "ipython",
    "version": 3
   },
   "file_extension": ".py",
   "mimetype": "text/x-python",
   "name": "python",
   "nbconvert_exporter": "python",
   "pygments_lexer": "ipython3",
   "version": "3.10.13"
  }
 },
 "nbformat": 4,
 "nbformat_minor": 5
}
