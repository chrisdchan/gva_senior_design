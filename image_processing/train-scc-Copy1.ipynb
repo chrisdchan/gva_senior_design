{
 "cells": [
  {
   "cell_type": "code",
   "execution_count": 1,
   "metadata": {},
   "outputs": [],
   "source": [
    "from GvaDataset import GvaDataset\n",
    "from torch.utils.data import random_split, DataLoader\n",
    "import torchvision.transforms as transforms \n",
    "import torch\n",
    "\n",
    "transform = transforms.Compose([\n",
    "    transforms.Resize((1024, 512)),\n",
    "    transforms.RandomHorizontalFlip(p=0.5)\n",
    "])\n",
    "\n",
    "images_path = \"/projectnb/dunlop/chrisdc/gva_senior_design/image_processing/data/_Original\"\n",
    "labels_path = \"/projectnb/dunlop/chrisdc/gva_senior_design/image_processing/data/labels\"\n",
    "dataset = GvaDataset(images_path, labels_path, transform=transform)\n",
    "\n",
    "total_size = len(dataset)\n",
    "train_size = int(total_size * 0.8)  # 80% for training\n",
    "test_size = total_size - train_size  # 20% for testing\n",
    "\n",
    "train_dataset = torch.utils.data.Subset(dataset, range(train_size))\n",
    "test_dataset = torch.utils.data.Subset(dataset, range(train_size, train_size+test_size))\n",
    "\n",
    "train_loader = DataLoader(train_dataset, batch_size=4, shuffle=True)\n",
    "test_loader = DataLoader(test_dataset, batch_size=1, shuffle=False)"
   ]
  },
  {
   "cell_type": "code",
   "execution_count": 6,
   "metadata": {},
   "outputs": [],
   "source": [
    "import torch\n",
    "import pickle\n",
    "import matplotlib.pyplot as plt\n",
    "from tqdm import tqdm\n",
    "\n",
    "\n",
    "class Experiment:\n",
    "    def __init__(self, model, criterion, optimizer, device='cpu', starting_epoch=0):\n",
    "        self.model = model\n",
    "        self.criterion = criterion\n",
    "        self.optimizer = optimizer\n",
    "        self.device = device\n",
    "        self.starting_epoch = starting_epoch\n",
    "\n",
    "        self.validation_loss_history = []\n",
    "        self.train_loss_history = []\n",
    "\n",
    "    def train(self, train_loader, validation_loader, epochs=10):\n",
    "        N = len(train_loader)\n",
    "        for epoch in range(1, epochs + 1):\n",
    "            self.model.train()\n",
    "            epoch_loss = 0\n",
    "            with tqdm(enumerate(train_loader), \n",
    "                      total=N, \n",
    "                      desc=f'Epoch {self.starting_epoch + epoch}/{self.starting_epoch + epochs}', \n",
    "                      unit='batch') as pbar:\n",
    "                for i, data in pbar:\n",
    "                    images, labels, _ = data\n",
    "\n",
    "                    images = images.to(self.device)\n",
    "                    labels = labels.to(self.device)\n",
    "\n",
    "                    self.optimizer.zero_grad()\n",
    "\n",
    "                    pred = self.model(images)\n",
    "\n",
    "                    pred = torch.squeeze(pred)\n",
    "                    labels = torch.squeeze(labels)\n",
    "                \n",
    "                    loss = self.criterion(pred, labels)\n",
    "                    loss.backward()\n",
    "                    self.optimizer.step()\n",
    "\n",
    "                    epoch_loss += loss.item()\n",
    "                    pbar.set_postfix(loss = loss.item(), avg_loss=epoch_loss / (i + 1))\n",
    "\n",
    "            self.model.eval()\n",
    "            with torch.no_grad():\n",
    "                epoch_val_loss = 0\n",
    "                for images, labels, _ in validation_loader:\n",
    "                    images = images.to(self.device)\n",
    "                    labels = labels.to(self.device)\n",
    "                    pred = self.model(images)\n",
    "                    labels = torch.squeeze(labels)\n",
    "                    pred = torch.squeeze(pred)\n",
    "                    val_loss = self.criterion(pred, labels)\n",
    "                    epoch_val_loss += val_loss.item()\n",
    "\n",
    "            print(f'{self.starting_epoch +  epoch}/{self.starting_epoch + epochs} train loss: {epoch_loss / N}  val loss: {epoch_val_loss / len(validation_loader)}')\n",
    "            self.train_loss_history.append(epoch_loss / N)\n",
    "            self.validation_loss_history.append(epoch_val_loss / len(validation_loader))\n",
    "            epoch_loss = 0\n",
    "        \n",
    "        self.starting_epoch += epochs\n",
    "        print(\"Training Complete\")\n",
    "\n",
    "    def save_weights(self, file_name):\n",
    "        assert file_name.endswith(\".pth\")\n",
    "\n",
    "        torch.save(self.model.state_dict(), file_name)\n",
    "\n",
    "    def save_experiment(self, file_name):\n",
    "        assert file_name.endswith(\".pkl\")\n",
    "\n",
    "        exp_dict = dict(\n",
    "            train_loss_history=self.train_loss_history, \n",
    "            val_loss_history=self.validation_loss_history, \n",
    "            state_dict=self.model.state_dict(),\n",
    "            starting_epoch = self.starting_epoch\n",
    "        )\n",
    "\n",
    "        with open(file_name, 'wb') as f:\n",
    "            pickle.dump(exp_dict, f)\n",
    "\n",
    "    def plot_loss(self):\n",
    "        plt.plot(self.train_loss_history, color='blue', label='Training Loss')\n",
    "        plt.plot(self.validation_loss_history, color='green', label='Validation Loss')\n",
    "        plt.title(\"Training Loss\")\n",
    "        plt.legend()\n",
    "        plt.xlabel(\"Epochs\")\n",
    "        plt.ylabel(self.criterion.__name__)\n",
    "\n",
    "    def load_experiment(self, file_name):\n",
    "\n",
    "        with open(file_name, 'rb') as f:\n",
    "            exp_dict = pickle.load(f)\n",
    "        \n",
    "        state_dict = exp_dict['state_dict']\n",
    "        self.model.load_state_dict(state_dict)\n",
    "        self.starting_epoch = exp_dict['starting_epoch']\n",
    "        self.val_loss_history = exp_dict['val_loss_history']\n",
    "        self.train_loss_history = exp_dict['train_loss_history']\n"
   ]
  },
  {
   "cell_type": "code",
   "execution_count": 7,
   "metadata": {},
   "outputs": [],
   "source": [
    "from models.unet import UNet\n",
    "# from experiment import Experiment\n",
    "from losses import dice_loss\n",
    "import torch.optim as optim\n",
    "import torch.nn as nn\n",
    "import torch\n",
    "\n",
    "device = 'cuda' if torch.cuda.is_available() else 'cpu'\n",
    "model = UNet(in_channels=3, out_channels=2).to(device)\n",
    "optimizer = optim.Adam(model.parameters())\n",
    "criterion = dice_loss\n",
    "experiment = Experiment(model, criterion, optimizer, device)"
   ]
  },
  {
   "cell_type": "code",
   "execution_count": 8,
   "metadata": {},
   "outputs": [
    {
     "name": "stderr",
     "output_type": "stream",
     "text": [
      "Epoch 1/5: 100%|███| 6/6 [00:05<00:00,  1.07batch/s, avg_loss=0.876, loss=0.944]\n"
     ]
    },
    {
     "name": "stdout",
     "output_type": "stream",
     "text": [
      "1/5 train loss: 0.8762735823790232  val loss: 0.9716331362724304\n"
     ]
    },
    {
     "name": "stderr",
     "output_type": "stream",
     "text": [
      "Epoch 2/5: 100%|███| 6/6 [00:05<00:00,  1.09batch/s, avg_loss=0.844, loss=0.705]\n"
     ]
    },
    {
     "name": "stdout",
     "output_type": "stream",
     "text": [
      "2/5 train loss: 0.8442181249459585  val loss: 0.9709388514359792\n"
     ]
    },
    {
     "name": "stderr",
     "output_type": "stream",
     "text": [
      "Epoch 3/5: 100%|███| 6/6 [00:05<00:00,  1.08batch/s, avg_loss=0.843, loss=0.766]\n"
     ]
    },
    {
     "name": "stdout",
     "output_type": "stream",
     "text": [
      "3/5 train loss: 0.8426059285799662  val loss: 0.9726859430472056\n"
     ]
    },
    {
     "name": "stderr",
     "output_type": "stream",
     "text": [
      "Epoch 4/5: 100%|███| 6/6 [00:05<00:00,  1.09batch/s, avg_loss=0.851, loss=0.911]\n"
     ]
    },
    {
     "name": "stdout",
     "output_type": "stream",
     "text": [
      "4/5 train loss: 0.8505076368649801  val loss: 0.9724708298842112\n"
     ]
    },
    {
     "name": "stderr",
     "output_type": "stream",
     "text": [
      "Epoch 5/5: 100%|███| 6/6 [00:05<00:00,  1.09batch/s, avg_loss=0.836, loss=0.842]\n"
     ]
    },
    {
     "name": "stdout",
     "output_type": "stream",
     "text": [
      "5/5 train loss: 0.8355555435021719  val loss: 0.9772857129573822\n",
      "Training Complete\n"
     ]
    }
   ],
   "source": [
    "experiment.train(train_loader=train_loader, validation_loader=test_loader, epochs=5)"
   ]
  },
  {
   "cell_type": "code",
   "execution_count": 12,
   "metadata": {},
   "outputs": [],
   "source": [
    "import os\n",
    "weights_dir = \"/projectnb/dunlop/chrisdc/gva_senior_design/image_processing/weights/\"\n",
    "name = '3-29-24_epochs5'\n",
    "weights_path = os.path.join(weights_dir, name + '.pkl')\n",
    "experiment.save_experiment(weights_path)\n",
    "experiment.load_experiment(weights_path)"
   ]
  },
  {
   "cell_type": "code",
   "execution_count": 14,
   "metadata": {},
   "outputs": [
    {
     "name": "stderr",
     "output_type": "stream",
     "text": [
      "Epoch 6/1000: 100%|█| 6/6 [00:05<00:00,  1.07batch/s, avg_loss=0.814, loss=0.763\n"
     ]
    },
    {
     "name": "stdout",
     "output_type": "stream",
     "text": [
      "6/1000 train loss: 0.8136072556177775  val loss: 0.9711140791575114\n"
     ]
    },
    {
     "name": "stderr",
     "output_type": "stream",
     "text": [
      "Epoch 7/1000: 100%|█| 6/6 [00:05<00:00,  1.07batch/s, avg_loss=0.813, loss=0.782\n"
     ]
    },
    {
     "name": "stdout",
     "output_type": "stream",
     "text": [
      "7/1000 train loss: 0.8126545151074728  val loss: 0.9836932222048441\n"
     ]
    },
    {
     "name": "stderr",
     "output_type": "stream",
     "text": [
      "Epoch 8/1000: 100%|█| 6/6 [00:05<00:00,  1.07batch/s, avg_loss=0.82, loss=0.914]\n"
     ]
    },
    {
     "name": "stdout",
     "output_type": "stream",
     "text": [
      "8/1000 train loss: 0.8198564151922861  val loss: 0.9660768906275431\n"
     ]
    },
    {
     "name": "stderr",
     "output_type": "stream",
     "text": [
      "Epoch 9/1000: 100%|█| 6/6 [00:05<00:00,  1.08batch/s, avg_loss=0.803, loss=0.785\n"
     ]
    },
    {
     "name": "stdout",
     "output_type": "stream",
     "text": [
      "9/1000 train loss: 0.8026299377282461  val loss: 0.9522728820641836\n"
     ]
    },
    {
     "name": "stderr",
     "output_type": "stream",
     "text": [
      "Epoch 10/1000: 100%|█| 6/6 [00:05<00:00,  1.06batch/s, avg_loss=0.802, loss=0.74\n"
     ]
    },
    {
     "name": "stdout",
     "output_type": "stream",
     "text": [
      "10/1000 train loss: 0.8021645049254099  val loss: 0.9575835168361664\n"
     ]
    },
    {
     "name": "stderr",
     "output_type": "stream",
     "text": [
      "Epoch 11/1000: 100%|█| 6/6 [00:05<00:00,  1.07batch/s, avg_loss=0.793, loss=0.73\n"
     ]
    },
    {
     "name": "stdout",
     "output_type": "stream",
     "text": [
      "11/1000 train loss: 0.7933532297611237  val loss: 0.9373914500077566\n"
     ]
    },
    {
     "name": "stderr",
     "output_type": "stream",
     "text": [
      "Epoch 12/1000: 100%|█| 6/6 [00:05<00:00,  1.07batch/s, avg_loss=0.787, loss=0.86\n"
     ]
    },
    {
     "name": "stdout",
     "output_type": "stream",
     "text": [
      "12/1000 train loss: 0.7873551150163015  val loss: 0.9160664776961008\n"
     ]
    },
    {
     "name": "stderr",
     "output_type": "stream",
     "text": [
      "Epoch 13/1000: 100%|█| 6/6 [00:05<00:00,  1.08batch/s, avg_loss=0.799, loss=0.62\n"
     ]
    },
    {
     "name": "stdout",
     "output_type": "stream",
     "text": [
      "13/1000 train loss: 0.7985307474931082  val loss: 0.9172644019126892\n"
     ]
    },
    {
     "name": "stderr",
     "output_type": "stream",
     "text": [
      "Epoch 14/1000: 100%|█| 6/6 [00:05<00:00,  1.07batch/s, avg_loss=0.779, loss=0.90\n"
     ]
    },
    {
     "name": "stdout",
     "output_type": "stream",
     "text": [
      "14/1000 train loss: 0.7791557908058167  val loss: 0.9420765240987142\n"
     ]
    },
    {
     "name": "stderr",
     "output_type": "stream",
     "text": [
      "Epoch 15/1000: 100%|█| 6/6 [00:05<00:00,  1.08batch/s, avg_loss=0.777, loss=0.79\n"
     ]
    },
    {
     "name": "stdout",
     "output_type": "stream",
     "text": [
      "15/1000 train loss: 0.7774562040964762  val loss: 0.9134951134522756\n"
     ]
    },
    {
     "name": "stderr",
     "output_type": "stream",
     "text": [
      "Epoch 16/1000: 100%|█| 6/6 [00:05<00:00,  1.08batch/s, avg_loss=0.765, loss=0.70\n"
     ]
    },
    {
     "name": "stdout",
     "output_type": "stream",
     "text": [
      "16/1000 train loss: 0.7645359933376312  val loss: 0.8472829262415568\n"
     ]
    },
    {
     "name": "stderr",
     "output_type": "stream",
     "text": [
      "Epoch 17/1000: 100%|█| 6/6 [00:05<00:00,  1.09batch/s, avg_loss=0.763, loss=0.82\n"
     ]
    },
    {
     "name": "stdout",
     "output_type": "stream",
     "text": [
      "17/1000 train loss: 0.7625078558921814  val loss: 0.9086391031742096\n"
     ]
    },
    {
     "name": "stderr",
     "output_type": "stream",
     "text": [
      "Epoch 18/1000: 100%|█| 6/6 [00:05<00:00,  1.08batch/s, avg_loss=0.74, loss=0.724\n"
     ]
    },
    {
     "name": "stdout",
     "output_type": "stream",
     "text": [
      "18/1000 train loss: 0.7398282786210378  val loss: 0.8902016381422678\n"
     ]
    },
    {
     "name": "stderr",
     "output_type": "stream",
     "text": [
      "Epoch 19/1000: 100%|█| 6/6 [00:05<00:00,  1.09batch/s, avg_loss=0.75, loss=0.815\n"
     ]
    },
    {
     "name": "stdout",
     "output_type": "stream",
     "text": [
      "19/1000 train loss: 0.7498540083567301  val loss: 0.9380251467227936\n"
     ]
    },
    {
     "name": "stderr",
     "output_type": "stream",
     "text": [
      "Epoch 20/1000: 100%|█| 6/6 [00:05<00:00,  1.09batch/s, avg_loss=0.736, loss=0.81\n"
     ]
    },
    {
     "name": "stdout",
     "output_type": "stream",
     "text": [
      "20/1000 train loss: 0.7355070809523264  val loss: 0.8430529733498892\n"
     ]
    },
    {
     "name": "stderr",
     "output_type": "stream",
     "text": [
      "Epoch 21/1000: 100%|█| 6/6 [00:05<00:00,  1.07batch/s, avg_loss=0.794, loss=0.86\n"
     ]
    },
    {
     "name": "stdout",
     "output_type": "stream",
     "text": [
      "21/1000 train loss: 0.793584018945694  val loss: 0.8371940851211548\n"
     ]
    },
    {
     "name": "stderr",
     "output_type": "stream",
     "text": [
      "Epoch 22/1000: 100%|█| 6/6 [00:05<00:00,  1.08batch/s, avg_loss=0.723, loss=0.68\n"
     ]
    },
    {
     "name": "stdout",
     "output_type": "stream",
     "text": [
      "22/1000 train loss: 0.7234431703885397  val loss: 0.829282154639562\n"
     ]
    },
    {
     "name": "stderr",
     "output_type": "stream",
     "text": [
      "Epoch 23/1000: 100%|█| 6/6 [00:05<00:00,  1.09batch/s, avg_loss=0.736, loss=0.78\n"
     ]
    },
    {
     "name": "stdout",
     "output_type": "stream",
     "text": [
      "23/1000 train loss: 0.736080676317215  val loss: 0.7781325280666351\n"
     ]
    },
    {
     "name": "stderr",
     "output_type": "stream",
     "text": [
      "Epoch 24/1000: 100%|█| 6/6 [00:05<00:00,  1.08batch/s, avg_loss=0.738, loss=0.50\n"
     ]
    },
    {
     "name": "stdout",
     "output_type": "stream",
     "text": [
      "24/1000 train loss: 0.7376855313777924  val loss: 0.9198791186014811\n"
     ]
    },
    {
     "name": "stderr",
     "output_type": "stream",
     "text": [
      "Epoch 25/1000: 100%|█| 6/6 [00:05<00:00,  1.08batch/s, avg_loss=0.687, loss=0.82\n"
     ]
    },
    {
     "name": "stdout",
     "output_type": "stream",
     "text": [
      "25/1000 train loss: 0.6865181028842926  val loss: 0.7892962992191315\n"
     ]
    },
    {
     "name": "stderr",
     "output_type": "stream",
     "text": [
      "Epoch 26/1000: 100%|█| 6/6 [00:05<00:00,  1.07batch/s, avg_loss=0.784, loss=0.78\n"
     ]
    },
    {
     "name": "stdout",
     "output_type": "stream",
     "text": [
      "26/1000 train loss: 0.7843181788921356  val loss: 0.8663918475310007\n"
     ]
    },
    {
     "name": "stderr",
     "output_type": "stream",
     "text": [
      "Epoch 27/1000: 100%|█| 6/6 [00:05<00:00,  1.08batch/s, avg_loss=0.753, loss=0.54\n"
     ]
    },
    {
     "name": "stdout",
     "output_type": "stream",
     "text": [
      "27/1000 train loss: 0.7526932756106058  val loss: 0.8831988970438639\n"
     ]
    },
    {
     "name": "stderr",
     "output_type": "stream",
     "text": [
      "Epoch 28/1000: 100%|█| 6/6 [00:05<00:00,  1.08batch/s, avg_loss=0.734, loss=0.86\n"
     ]
    },
    {
     "name": "stdout",
     "output_type": "stream",
     "text": [
      "28/1000 train loss: 0.7338904937108358  val loss: 0.8785737355550131\n"
     ]
    },
    {
     "name": "stderr",
     "output_type": "stream",
     "text": [
      "Epoch 29/1000: 100%|█| 6/6 [00:05<00:00,  1.07batch/s, avg_loss=0.746, loss=0.70\n"
     ]
    },
    {
     "name": "stdout",
     "output_type": "stream",
     "text": [
      "29/1000 train loss: 0.7461125950018564  val loss: 0.894511342048645\n"
     ]
    },
    {
     "name": "stderr",
     "output_type": "stream",
     "text": [
      "Epoch 30/1000: 100%|█| 6/6 [00:05<00:00,  1.08batch/s, avg_loss=0.758, loss=0.76\n"
     ]
    },
    {
     "name": "stdout",
     "output_type": "stream",
     "text": [
      "30/1000 train loss: 0.7583692073822021  val loss: 0.8228632807731628\n"
     ]
    },
    {
     "name": "stderr",
     "output_type": "stream",
     "text": [
      "Epoch 31/1000: 100%|█| 6/6 [00:05<00:00,  1.07batch/s, avg_loss=0.717, loss=0.63\n"
     ]
    },
    {
     "name": "stdout",
     "output_type": "stream",
     "text": [
      "31/1000 train loss: 0.7165987690289816  val loss: 0.7299822270870209\n"
     ]
    },
    {
     "name": "stderr",
     "output_type": "stream",
     "text": [
      "Epoch 32/1000: 100%|█| 6/6 [00:05<00:00,  1.09batch/s, avg_loss=0.707, loss=0.66\n"
     ]
    },
    {
     "name": "stdout",
     "output_type": "stream",
     "text": [
      "32/1000 train loss: 0.7070393562316895  val loss: 0.7194237112998962\n"
     ]
    },
    {
     "name": "stderr",
     "output_type": "stream",
     "text": [
      "Epoch 33/1000: 100%|█| 6/6 [00:05<00:00,  1.09batch/s, avg_loss=0.699, loss=0.75\n"
     ]
    },
    {
     "name": "stdout",
     "output_type": "stream",
     "text": [
      "33/1000 train loss: 0.6987685859203339  val loss: 0.8488244016965231\n"
     ]
    },
    {
     "name": "stderr",
     "output_type": "stream",
     "text": [
      "Epoch 34/1000: 100%|█| 6/6 [00:05<00:00,  1.09batch/s, avg_loss=0.728, loss=0.71\n"
     ]
    },
    {
     "name": "stdout",
     "output_type": "stream",
     "text": [
      "34/1000 train loss: 0.7276193797588348  val loss: 0.8339137136936188\n"
     ]
    },
    {
     "name": "stderr",
     "output_type": "stream",
     "text": [
      "Epoch 35/1000: 100%|█| 6/6 [00:05<00:00,  1.09batch/s, avg_loss=0.702, loss=0.67\n"
     ]
    },
    {
     "name": "stdout",
     "output_type": "stream",
     "text": [
      "35/1000 train loss: 0.7024103403091431  val loss: 0.7889249920845032\n"
     ]
    },
    {
     "name": "stderr",
     "output_type": "stream",
     "text": [
      "Epoch 36/1000: 100%|█| 6/6 [00:05<00:00,  1.08batch/s, avg_loss=0.749, loss=0.65\n"
     ]
    },
    {
     "name": "stdout",
     "output_type": "stream",
     "text": [
      "36/1000 train loss: 0.7486244042714437  val loss: 0.8051214814186096\n"
     ]
    },
    {
     "name": "stderr",
     "output_type": "stream",
     "text": [
      "Epoch 37/1000: 100%|█| 6/6 [00:05<00:00,  1.10batch/s, avg_loss=0.701, loss=0.58\n"
     ]
    },
    {
     "name": "stdout",
     "output_type": "stream",
     "text": [
      "37/1000 train loss: 0.7008935411771139  val loss: 0.7593608498573303\n"
     ]
    },
    {
     "name": "stderr",
     "output_type": "stream",
     "text": [
      "Epoch 38/1000: 100%|█| 6/6 [00:05<00:00,  1.09batch/s, avg_loss=0.687, loss=0.63\n"
     ]
    },
    {
     "name": "stdout",
     "output_type": "stream",
     "text": [
      "38/1000 train loss: 0.6869765818119049  val loss: 0.7394621968269348\n"
     ]
    },
    {
     "name": "stderr",
     "output_type": "stream",
     "text": [
      "Epoch 39/1000: 100%|█| 6/6 [00:05<00:00,  1.09batch/s, avg_loss=0.716, loss=0.77\n"
     ]
    },
    {
     "name": "stdout",
     "output_type": "stream",
     "text": [
      "39/1000 train loss: 0.7164576252301534  val loss: 0.8713009158770243\n"
     ]
    },
    {
     "name": "stderr",
     "output_type": "stream",
     "text": [
      "Epoch 40/1000: 100%|█| 6/6 [00:05<00:00,  1.09batch/s, avg_loss=0.742, loss=0.87\n"
     ]
    },
    {
     "name": "stdout",
     "output_type": "stream",
     "text": [
      "40/1000 train loss: 0.7416799366474152  val loss: 0.8551421960194906\n"
     ]
    },
    {
     "name": "stderr",
     "output_type": "stream",
     "text": [
      "Epoch 41/1000: 100%|█| 6/6 [00:05<00:00,  1.10batch/s, avg_loss=0.726, loss=0.66\n"
     ]
    },
    {
     "name": "stdout",
     "output_type": "stream",
     "text": [
      "41/1000 train loss: 0.7264088094234467  val loss: 0.849263588587443\n"
     ]
    },
    {
     "name": "stderr",
     "output_type": "stream",
     "text": [
      "Epoch 42/1000: 100%|█| 6/6 [00:05<00:00,  1.10batch/s, avg_loss=0.744, loss=0.87\n"
     ]
    },
    {
     "name": "stdout",
     "output_type": "stream",
     "text": [
      "42/1000 train loss: 0.7435886760552725  val loss: 0.9117839137713114\n"
     ]
    },
    {
     "name": "stderr",
     "output_type": "stream",
     "text": [
      "Epoch 43/1000: 100%|█| 6/6 [00:05<00:00,  1.09batch/s, avg_loss=0.727, loss=0.76\n"
     ]
    },
    {
     "name": "stdout",
     "output_type": "stream",
     "text": [
      "43/1000 train loss: 0.7267349660396576  val loss: 0.8942216436068217\n"
     ]
    },
    {
     "name": "stderr",
     "output_type": "stream",
     "text": [
      "Epoch 44/1000: 100%|█| 6/6 [00:05<00:00,  1.10batch/s, avg_loss=0.696, loss=0.79\n"
     ]
    },
    {
     "name": "stdout",
     "output_type": "stream",
     "text": [
      "44/1000 train loss: 0.6964246233304342  val loss: 0.7162879904111227\n"
     ]
    },
    {
     "name": "stderr",
     "output_type": "stream",
     "text": [
      "Epoch 45/1000: 100%|█| 6/6 [00:05<00:00,  1.10batch/s, avg_loss=0.718, loss=0.57\n"
     ]
    },
    {
     "name": "stdout",
     "output_type": "stream",
     "text": [
      "45/1000 train loss: 0.7177877624829611  val loss: 0.7706912060578665\n"
     ]
    },
    {
     "name": "stderr",
     "output_type": "stream",
     "text": [
      "Epoch 46/1000: 100%|█| 6/6 [00:05<00:00,  1.10batch/s, avg_loss=0.74, loss=0.687\n"
     ]
    },
    {
     "name": "stdout",
     "output_type": "stream",
     "text": [
      "46/1000 train loss: 0.7399724821249644  val loss: 0.9144394000371298\n"
     ]
    },
    {
     "name": "stderr",
     "output_type": "stream",
     "text": [
      "Epoch 47/1000: 100%|█| 6/6 [00:05<00:00,  1.09batch/s, avg_loss=0.744, loss=0.77\n"
     ]
    },
    {
     "name": "stdout",
     "output_type": "stream",
     "text": [
      "47/1000 train loss: 0.7437374591827393  val loss: 0.9044319788614908\n"
     ]
    },
    {
     "name": "stderr",
     "output_type": "stream",
     "text": [
      "Epoch 48/1000: 100%|█| 6/6 [00:05<00:00,  1.09batch/s, avg_loss=0.691, loss=0.85\n"
     ]
    },
    {
     "name": "stdout",
     "output_type": "stream",
     "text": [
      "48/1000 train loss: 0.6913804610570272  val loss: 0.8834480941295624\n"
     ]
    },
    {
     "name": "stderr",
     "output_type": "stream",
     "text": [
      "Epoch 49/1000: 100%|█| 6/6 [00:05<00:00,  1.09batch/s, avg_loss=0.716, loss=0.64\n"
     ]
    },
    {
     "name": "stdout",
     "output_type": "stream",
     "text": [
      "49/1000 train loss: 0.7155187427997589  val loss: 0.878078560034434\n"
     ]
    },
    {
     "name": "stderr",
     "output_type": "stream",
     "text": [
      "Epoch 50/1000: 100%|█| 6/6 [00:05<00:00,  1.08batch/s, avg_loss=0.682, loss=0.70\n"
     ]
    },
    {
     "name": "stdout",
     "output_type": "stream",
     "text": [
      "50/1000 train loss: 0.6824886600176493  val loss: 0.9126174946626028\n"
     ]
    },
    {
     "name": "stderr",
     "output_type": "stream",
     "text": [
      "Epoch 51/1000: 100%|█| 6/6 [00:05<00:00,  1.09batch/s, avg_loss=0.751, loss=0.75\n"
     ]
    },
    {
     "name": "stdout",
     "output_type": "stream",
     "text": [
      "51/1000 train loss: 0.7505245208740234  val loss: 0.6376634041468302\n"
     ]
    },
    {
     "name": "stderr",
     "output_type": "stream",
     "text": [
      "Epoch 52/1000: 100%|█| 6/6 [00:05<00:00,  1.09batch/s, avg_loss=0.692, loss=0.52\n"
     ]
    },
    {
     "name": "stdout",
     "output_type": "stream",
     "text": [
      "52/1000 train loss: 0.6923697590827942  val loss: 0.7490599155426025\n"
     ]
    },
    {
     "name": "stderr",
     "output_type": "stream",
     "text": [
      "Epoch 53/1000: 100%|█| 6/6 [00:05<00:00,  1.10batch/s, avg_loss=0.689, loss=0.73\n"
     ]
    },
    {
     "name": "stdout",
     "output_type": "stream",
     "text": [
      "53/1000 train loss: 0.6890597343444824  val loss: 0.8615489403406779\n"
     ]
    },
    {
     "name": "stderr",
     "output_type": "stream",
     "text": [
      "Epoch 54/1000: 100%|█| 6/6 [00:05<00:00,  1.09batch/s, avg_loss=0.688, loss=0.79\n"
     ]
    },
    {
     "name": "stdout",
     "output_type": "stream",
     "text": [
      "54/1000 train loss: 0.6880218287309011  val loss: 0.8227494657039642\n"
     ]
    },
    {
     "name": "stderr",
     "output_type": "stream",
     "text": [
      "Epoch 55/1000: 100%|█| 6/6 [00:05<00:00,  1.10batch/s, avg_loss=0.712, loss=0.63\n"
     ]
    },
    {
     "name": "stdout",
     "output_type": "stream",
     "text": [
      "55/1000 train loss: 0.7117946247259775  val loss: 0.7586036721865336\n"
     ]
    },
    {
     "name": "stderr",
     "output_type": "stream",
     "text": [
      "Epoch 56/1000: 100%|█| 6/6 [00:05<00:00,  1.09batch/s, avg_loss=0.762, loss=0.49\n"
     ]
    },
    {
     "name": "stdout",
     "output_type": "stream",
     "text": [
      "56/1000 train loss: 0.761574000120163  val loss: 0.7847674588362376\n"
     ]
    },
    {
     "name": "stderr",
     "output_type": "stream",
     "text": [
      "Epoch 57/1000: 100%|█| 6/6 [00:05<00:00,  1.09batch/s, avg_loss=0.719, loss=0.66\n"
     ]
    },
    {
     "name": "stdout",
     "output_type": "stream",
     "text": [
      "57/1000 train loss: 0.7191835343837738  val loss: 0.7199835081895193\n"
     ]
    },
    {
     "name": "stderr",
     "output_type": "stream",
     "text": [
      "Epoch 58/1000: 100%|█| 6/6 [00:05<00:00,  1.10batch/s, avg_loss=0.689, loss=0.71\n"
     ]
    },
    {
     "name": "stdout",
     "output_type": "stream",
     "text": [
      "58/1000 train loss: 0.6885963976383209  val loss: 0.9000491201877594\n"
     ]
    },
    {
     "name": "stderr",
     "output_type": "stream",
     "text": [
      "Epoch 59/1000: 100%|█| 6/6 [00:05<00:00,  1.09batch/s, avg_loss=0.742, loss=0.71\n"
     ]
    },
    {
     "name": "stdout",
     "output_type": "stream",
     "text": [
      "59/1000 train loss: 0.7422444025675455  val loss: 0.881881316502889\n"
     ]
    },
    {
     "name": "stderr",
     "output_type": "stream",
     "text": [
      "Epoch 60/1000: 100%|█| 6/6 [00:05<00:00,  1.09batch/s, avg_loss=0.755, loss=0.83\n"
     ]
    },
    {
     "name": "stdout",
     "output_type": "stream",
     "text": [
      "60/1000 train loss: 0.7548548976580302  val loss: 0.8349278171857198\n"
     ]
    },
    {
     "name": "stderr",
     "output_type": "stream",
     "text": [
      "Epoch 61/1000: 100%|█| 6/6 [00:05<00:00,  1.09batch/s, avg_loss=0.719, loss=0.72\n"
     ]
    },
    {
     "name": "stdout",
     "output_type": "stream",
     "text": [
      "61/1000 train loss: 0.7190426886081696  val loss: 0.9113040268421173\n"
     ]
    },
    {
     "name": "stderr",
     "output_type": "stream",
     "text": [
      "Epoch 62/1000: 100%|█| 6/6 [00:05<00:00,  1.09batch/s, avg_loss=0.691, loss=0.50\n"
     ]
    },
    {
     "name": "stdout",
     "output_type": "stream",
     "text": [
      "62/1000 train loss: 0.6906775832176208  val loss: 0.9183040956656138\n"
     ]
    },
    {
     "name": "stderr",
     "output_type": "stream",
     "text": [
      "Epoch 63/1000: 100%|█| 6/6 [00:05<00:00,  1.09batch/s, avg_loss=0.718, loss=0.91\n"
     ]
    },
    {
     "name": "stdout",
     "output_type": "stream",
     "text": [
      "63/1000 train loss: 0.7182159423828125  val loss: 0.8847972949345907\n"
     ]
    },
    {
     "name": "stderr",
     "output_type": "stream",
     "text": [
      "Epoch 64/1000: 100%|█| 6/6 [00:05<00:00,  1.09batch/s, avg_loss=0.725, loss=0.67\n"
     ]
    },
    {
     "name": "stdout",
     "output_type": "stream",
     "text": [
      "64/1000 train loss: 0.7245640456676483  val loss: 0.9734797775745392\n"
     ]
    },
    {
     "name": "stderr",
     "output_type": "stream",
     "text": [
      "Epoch 65/1000: 100%|█| 6/6 [00:05<00:00,  1.09batch/s, avg_loss=0.708, loss=0.68\n"
     ]
    },
    {
     "name": "stdout",
     "output_type": "stream",
     "text": [
      "65/1000 train loss: 0.7080631057421366  val loss: 0.9569845894972483\n"
     ]
    },
    {
     "name": "stderr",
     "output_type": "stream",
     "text": [
      "Epoch 66/1000: 100%|█| 6/6 [00:05<00:00,  1.10batch/s, avg_loss=0.742, loss=0.87\n"
     ]
    },
    {
     "name": "stdout",
     "output_type": "stream",
     "text": [
      "66/1000 train loss: 0.7419109841187795  val loss: 0.8829809228579203\n"
     ]
    },
    {
     "name": "stderr",
     "output_type": "stream",
     "text": [
      "Epoch 67/1000: 100%|█| 6/6 [00:05<00:00,  1.09batch/s, avg_loss=0.679, loss=0.62\n"
     ]
    },
    {
     "name": "stdout",
     "output_type": "stream",
     "text": [
      "67/1000 train loss: 0.679071456193924  val loss: 0.9362310171127319\n"
     ]
    },
    {
     "name": "stderr",
     "output_type": "stream",
     "text": [
      "Epoch 68/1000: 100%|█| 6/6 [00:05<00:00,  1.09batch/s, avg_loss=0.714, loss=0.66\n"
     ]
    },
    {
     "name": "stdout",
     "output_type": "stream",
     "text": [
      "68/1000 train loss: 0.7136749029159546  val loss: 0.9020923177401224\n"
     ]
    },
    {
     "name": "stderr",
     "output_type": "stream",
     "text": [
      "Epoch 69/1000: 100%|█| 6/6 [00:05<00:00,  1.10batch/s, avg_loss=0.745, loss=0.59\n"
     ]
    },
    {
     "name": "stdout",
     "output_type": "stream",
     "text": [
      "69/1000 train loss: 0.7447900772094727  val loss: 0.853513091802597\n"
     ]
    },
    {
     "name": "stderr",
     "output_type": "stream",
     "text": [
      "Epoch 70/1000: 100%|█| 6/6 [00:05<00:00,  1.09batch/s, avg_loss=0.729, loss=0.77\n"
     ]
    },
    {
     "name": "stdout",
     "output_type": "stream",
     "text": [
      "70/1000 train loss: 0.7293192545572916  val loss: 0.8462536434332529\n"
     ]
    },
    {
     "name": "stderr",
     "output_type": "stream",
     "text": [
      "Epoch 71/1000: 100%|█| 6/6 [00:05<00:00,  1.09batch/s, avg_loss=0.723, loss=0.82\n"
     ]
    },
    {
     "name": "stdout",
     "output_type": "stream",
     "text": [
      "71/1000 train loss: 0.723384956518809  val loss: 0.8663699328899384\n"
     ]
    },
    {
     "name": "stderr",
     "output_type": "stream",
     "text": [
      "Epoch 72/1000: 100%|█| 6/6 [00:05<00:00,  1.09batch/s, avg_loss=0.705, loss=0.61\n"
     ]
    },
    {
     "name": "stdout",
     "output_type": "stream",
     "text": [
      "72/1000 train loss: 0.7052823404471079  val loss: 0.5527292887369791\n"
     ]
    },
    {
     "name": "stderr",
     "output_type": "stream",
     "text": [
      "Epoch 73/1000: 100%|█| 6/6 [00:05<00:00,  1.09batch/s, avg_loss=0.746, loss=0.82\n"
     ]
    },
    {
     "name": "stdout",
     "output_type": "stream",
     "text": [
      "73/1000 train loss: 0.7460804084936777  val loss: 0.63686936100324\n"
     ]
    },
    {
     "name": "stderr",
     "output_type": "stream",
     "text": [
      "Epoch 74/1000: 100%|█| 6/6 [00:05<00:00,  1.10batch/s, avg_loss=0.715, loss=0.73\n"
     ]
    },
    {
     "name": "stdout",
     "output_type": "stream",
     "text": [
      "74/1000 train loss: 0.7149014274279276  val loss: 0.8201090395450592\n"
     ]
    },
    {
     "name": "stderr",
     "output_type": "stream",
     "text": [
      "Epoch 75/1000: 100%|█| 6/6 [00:05<00:00,  1.09batch/s, avg_loss=0.738, loss=0.74\n"
     ]
    },
    {
     "name": "stdout",
     "output_type": "stream",
     "text": [
      "75/1000 train loss: 0.7382554014523824  val loss: 0.8017575045426687\n"
     ]
    },
    {
     "name": "stderr",
     "output_type": "stream",
     "text": [
      "Epoch 76/1000: 100%|█| 6/6 [00:05<00:00,  1.09batch/s, avg_loss=0.703, loss=0.56\n"
     ]
    },
    {
     "name": "stdout",
     "output_type": "stream",
     "text": [
      "76/1000 train loss: 0.702668160200119  val loss: 0.9451023936271667\n"
     ]
    },
    {
     "name": "stderr",
     "output_type": "stream",
     "text": [
      "Epoch 77/1000: 100%|█| 6/6 [00:05<00:00,  1.09batch/s, avg_loss=0.713, loss=0.72\n"
     ]
    },
    {
     "name": "stdout",
     "output_type": "stream",
     "text": [
      "77/1000 train loss: 0.7131200929482778  val loss: 0.8738265832265218\n"
     ]
    },
    {
     "name": "stderr",
     "output_type": "stream",
     "text": [
      "Epoch 78/1000: 100%|█| 6/6 [00:05<00:00,  1.10batch/s, avg_loss=0.723, loss=0.83\n"
     ]
    },
    {
     "name": "stdout",
     "output_type": "stream",
     "text": [
      "78/1000 train loss: 0.7234076162179311  val loss: 0.8687745829423269\n"
     ]
    },
    {
     "name": "stderr",
     "output_type": "stream",
     "text": [
      "Epoch 79/1000: 100%|█| 6/6 [00:05<00:00,  1.09batch/s, avg_loss=0.705, loss=0.76\n"
     ]
    },
    {
     "name": "stdout",
     "output_type": "stream",
     "text": [
      "79/1000 train loss: 0.7054324050744375  val loss: 0.9214946726957957\n"
     ]
    },
    {
     "name": "stderr",
     "output_type": "stream",
     "text": [
      "Epoch 80/1000: 100%|█| 6/6 [00:05<00:00,  1.09batch/s, avg_loss=0.689, loss=0.81\n"
     ]
    },
    {
     "name": "stdout",
     "output_type": "stream",
     "text": [
      "80/1000 train loss: 0.6890189250310262  val loss: 0.8088980317115784\n"
     ]
    },
    {
     "name": "stderr",
     "output_type": "stream",
     "text": [
      "Epoch 81/1000: 100%|█| 6/6 [00:05<00:00,  1.09batch/s, avg_loss=0.711, loss=0.78\n"
     ]
    },
    {
     "name": "stdout",
     "output_type": "stream",
     "text": [
      "81/1000 train loss: 0.7105690936247507  val loss: 0.7232969105243683\n"
     ]
    },
    {
     "name": "stderr",
     "output_type": "stream",
     "text": [
      "Epoch 82/1000: 100%|█| 6/6 [00:05<00:00,  1.09batch/s, avg_loss=0.679, loss=0.53\n"
     ]
    },
    {
     "name": "stdout",
     "output_type": "stream",
     "text": [
      "82/1000 train loss: 0.6791438857714335  val loss: 0.8044873575369517\n"
     ]
    },
    {
     "name": "stderr",
     "output_type": "stream",
     "text": [
      "Epoch 83/1000: 100%|█| 6/6 [00:05<00:00,  1.09batch/s, avg_loss=0.726, loss=0.87\n"
     ]
    },
    {
     "name": "stdout",
     "output_type": "stream",
     "text": [
      "83/1000 train loss: 0.7261585891246796  val loss: 0.8297363122304281\n"
     ]
    },
    {
     "name": "stderr",
     "output_type": "stream",
     "text": [
      "Epoch 84/1000: 100%|█| 6/6 [00:05<00:00,  1.10batch/s, avg_loss=0.718, loss=0.83\n"
     ]
    },
    {
     "name": "stdout",
     "output_type": "stream",
     "text": [
      "84/1000 train loss: 0.7179912626743317  val loss: 0.8971452613671621\n"
     ]
    },
    {
     "name": "stderr",
     "output_type": "stream",
     "text": [
      "Epoch 85/1000: 100%|█| 6/6 [00:05<00:00,  1.09batch/s, avg_loss=0.695, loss=0.72\n"
     ]
    },
    {
     "name": "stdout",
     "output_type": "stream",
     "text": [
      "85/1000 train loss: 0.6949366629123688  val loss: 0.64825572570165\n"
     ]
    },
    {
     "name": "stderr",
     "output_type": "stream",
     "text": [
      "Epoch 86/1000: 100%|█| 6/6 [00:05<00:00,  1.10batch/s, avg_loss=0.66, loss=0.629\n"
     ]
    },
    {
     "name": "stdout",
     "output_type": "stream",
     "text": [
      "86/1000 train loss: 0.6598098675409952  val loss: 0.5789923171202341\n"
     ]
    },
    {
     "name": "stderr",
     "output_type": "stream",
     "text": [
      "Epoch 87/1000: 100%|█| 6/6 [00:05<00:00,  1.08batch/s, avg_loss=0.717, loss=0.83\n"
     ]
    },
    {
     "name": "stdout",
     "output_type": "stream",
     "text": [
      "87/1000 train loss: 0.716625581185023  val loss: 0.7178563376267751\n"
     ]
    },
    {
     "name": "stderr",
     "output_type": "stream",
     "text": [
      "Epoch 88/1000: 100%|█| 6/6 [00:05<00:00,  1.09batch/s, avg_loss=0.693, loss=0.74\n"
     ]
    },
    {
     "name": "stdout",
     "output_type": "stream",
     "text": [
      "88/1000 train loss: 0.6932141184806824  val loss: 0.8903412818908691\n"
     ]
    },
    {
     "name": "stderr",
     "output_type": "stream",
     "text": [
      "Epoch 89/1000: 100%|█| 6/6 [00:05<00:00,  1.10batch/s, avg_loss=0.681, loss=0.71\n"
     ]
    },
    {
     "name": "stdout",
     "output_type": "stream",
     "text": [
      "89/1000 train loss: 0.680735299984614  val loss: 0.9112838904062907\n"
     ]
    },
    {
     "name": "stderr",
     "output_type": "stream",
     "text": [
      "Epoch 90/1000: 100%|█| 6/6 [00:05<00:00,  1.09batch/s, avg_loss=0.731, loss=0.83\n"
     ]
    },
    {
     "name": "stdout",
     "output_type": "stream",
     "text": [
      "90/1000 train loss: 0.7305337289969126  val loss: 0.6314452389876047\n"
     ]
    },
    {
     "name": "stderr",
     "output_type": "stream",
     "text": [
      "Epoch 91/1000: 100%|█| 6/6 [00:05<00:00,  1.10batch/s, avg_loss=0.694, loss=0.65\n"
     ]
    },
    {
     "name": "stdout",
     "output_type": "stream",
     "text": [
      "91/1000 train loss: 0.693559447924296  val loss: 0.8183892766634623\n"
     ]
    },
    {
     "name": "stderr",
     "output_type": "stream",
     "text": [
      "Epoch 92/1000: 100%|█| 6/6 [00:05<00:00,  1.09batch/s, avg_loss=0.724, loss=0.85\n"
     ]
    },
    {
     "name": "stdout",
     "output_type": "stream",
     "text": [
      "92/1000 train loss: 0.7235946953296661  val loss: 0.8939365347226461\n"
     ]
    },
    {
     "name": "stderr",
     "output_type": "stream",
     "text": [
      "Epoch 93/1000: 100%|█| 6/6 [00:05<00:00,  1.08batch/s, avg_loss=0.748, loss=0.86\n"
     ]
    },
    {
     "name": "stdout",
     "output_type": "stream",
     "text": [
      "93/1000 train loss: 0.7476505140463511  val loss: 0.9093716045220693\n"
     ]
    },
    {
     "name": "stderr",
     "output_type": "stream",
     "text": [
      "Epoch 94/1000: 100%|█| 6/6 [00:05<00:00,  1.09batch/s, avg_loss=0.711, loss=0.61\n"
     ]
    },
    {
     "name": "stdout",
     "output_type": "stream",
     "text": [
      "94/1000 train loss: 0.7107765078544617  val loss: 0.8334954182306925\n"
     ]
    },
    {
     "name": "stderr",
     "output_type": "stream",
     "text": [
      "Epoch 95/1000: 100%|█| 6/6 [00:05<00:00,  1.10batch/s, avg_loss=0.716, loss=0.72\n"
     ]
    },
    {
     "name": "stdout",
     "output_type": "stream",
     "text": [
      "95/1000 train loss: 0.7161235709985098  val loss: 0.7094849248727163\n"
     ]
    },
    {
     "name": "stderr",
     "output_type": "stream",
     "text": [
      "Epoch 96/1000: 100%|█| 6/6 [00:05<00:00,  1.09batch/s, avg_loss=0.684, loss=0.74\n"
     ]
    },
    {
     "name": "stdout",
     "output_type": "stream",
     "text": [
      "96/1000 train loss: 0.6841911375522614  val loss: 0.757880280415217\n"
     ]
    },
    {
     "name": "stderr",
     "output_type": "stream",
     "text": [
      "Epoch 97/1000: 100%|█| 6/6 [00:05<00:00,  1.09batch/s, avg_loss=0.719, loss=0.65\n"
     ]
    },
    {
     "name": "stdout",
     "output_type": "stream",
     "text": [
      "97/1000 train loss: 0.7194931507110596  val loss: 0.7222796082496643\n"
     ]
    },
    {
     "name": "stderr",
     "output_type": "stream",
     "text": [
      "Epoch 98/1000: 100%|█| 6/6 [00:05<00:00,  1.09batch/s, avg_loss=0.668, loss=0.63\n"
     ]
    },
    {
     "name": "stdout",
     "output_type": "stream",
     "text": [
      "98/1000 train loss: 0.6682536204655966  val loss: 0.8063945968945821\n"
     ]
    },
    {
     "name": "stderr",
     "output_type": "stream",
     "text": [
      "Epoch 99/1000: 100%|█| 6/6 [00:05<00:00,  1.09batch/s, avg_loss=0.693, loss=0.85\n"
     ]
    },
    {
     "name": "stdout",
     "output_type": "stream",
     "text": [
      "99/1000 train loss: 0.6927342514197031  val loss: 0.8272408048311869\n"
     ]
    },
    {
     "name": "stderr",
     "output_type": "stream",
     "text": [
      "Epoch 100/1000: 100%|█| 6/6 [00:05<00:00,  1.10batch/s, avg_loss=0.754, loss=0.6\n"
     ]
    },
    {
     "name": "stdout",
     "output_type": "stream",
     "text": [
      "100/1000 train loss: 0.7539044916629791  val loss: 0.7869338095188141\n"
     ]
    },
    {
     "name": "stderr",
     "output_type": "stream",
     "text": [
      "Epoch 101/1000: 100%|█| 6/6 [00:05<00:00,  1.10batch/s, avg_loss=0.702, loss=0.7\n"
     ]
    },
    {
     "name": "stdout",
     "output_type": "stream",
     "text": [
      "101/1000 train loss: 0.7021902898947397  val loss: 0.8109504381815592\n"
     ]
    },
    {
     "name": "stderr",
     "output_type": "stream",
     "text": [
      "Epoch 102/1000: 100%|█| 6/6 [00:05<00:00,  1.10batch/s, avg_loss=0.702, loss=0.7\n"
     ]
    },
    {
     "name": "stdout",
     "output_type": "stream",
     "text": [
      "102/1000 train loss: 0.7024338146050771  val loss: 0.694956918557485\n"
     ]
    },
    {
     "name": "stderr",
     "output_type": "stream",
     "text": [
      "Epoch 103/1000: 100%|█| 6/6 [00:05<00:00,  1.09batch/s, avg_loss=0.7, loss=0.738\n"
     ]
    },
    {
     "name": "stdout",
     "output_type": "stream",
     "text": [
      "103/1000 train loss: 0.699768195549647  val loss: 0.873517910639445\n"
     ]
    },
    {
     "name": "stderr",
     "output_type": "stream",
     "text": [
      "Epoch 104/1000: 100%|█| 6/6 [00:05<00:00,  1.09batch/s, avg_loss=0.744, loss=0.8\n"
     ]
    },
    {
     "name": "stdout",
     "output_type": "stream",
     "text": [
      "104/1000 train loss: 0.7436173955599467  val loss: 0.8180238604545593\n"
     ]
    },
    {
     "name": "stderr",
     "output_type": "stream",
     "text": [
      "Epoch 105/1000: 100%|█| 6/6 [00:05<00:00,  1.09batch/s, avg_loss=0.682, loss=0.8\n"
     ]
    },
    {
     "name": "stdout",
     "output_type": "stream",
     "text": [
      "105/1000 train loss: 0.6816724340120951  val loss: 0.8648558259010315\n"
     ]
    },
    {
     "name": "stderr",
     "output_type": "stream",
     "text": [
      "Epoch 106/1000: 100%|█| 6/6 [00:05<00:00,  1.07batch/s, avg_loss=0.696, loss=0.6\n"
     ]
    },
    {
     "name": "stdout",
     "output_type": "stream",
     "text": [
      "106/1000 train loss: 0.6961728036403656  val loss: 0.6815723975499471\n"
     ]
    },
    {
     "name": "stderr",
     "output_type": "stream",
     "text": [
      "Epoch 107/1000: 100%|█| 6/6 [00:05<00:00,  1.10batch/s, avg_loss=0.663, loss=0.7\n"
     ]
    },
    {
     "name": "stdout",
     "output_type": "stream",
     "text": [
      "107/1000 train loss: 0.6633646388848623  val loss: 0.6514536440372467\n"
     ]
    },
    {
     "name": "stderr",
     "output_type": "stream",
     "text": [
      "Epoch 108/1000: 100%|█| 6/6 [00:05<00:00,  1.09batch/s, avg_loss=0.689, loss=0.7\n"
     ]
    },
    {
     "name": "stdout",
     "output_type": "stream",
     "text": [
      "108/1000 train loss: 0.6885084311167399  val loss: 0.8992837965488434\n"
     ]
    },
    {
     "name": "stderr",
     "output_type": "stream",
     "text": [
      "Epoch 109/1000: 100%|█| 6/6 [00:05<00:00,  1.09batch/s, avg_loss=0.641, loss=0.6\n"
     ]
    },
    {
     "name": "stdout",
     "output_type": "stream",
     "text": [
      "109/1000 train loss: 0.6411077976226807  val loss: 0.8068641324838003\n"
     ]
    },
    {
     "name": "stderr",
     "output_type": "stream",
     "text": [
      "Epoch 110/1000: 100%|█| 6/6 [00:05<00:00,  1.09batch/s, avg_loss=0.711, loss=0.5\n"
     ]
    },
    {
     "name": "stdout",
     "output_type": "stream",
     "text": [
      "110/1000 train loss: 0.710722416639328  val loss: 0.805268406867981\n"
     ]
    },
    {
     "name": "stderr",
     "output_type": "stream",
     "text": [
      "Epoch 111/1000: 100%|█| 6/6 [00:05<00:00,  1.09batch/s, avg_loss=0.743, loss=0.6\n"
     ]
    },
    {
     "name": "stdout",
     "output_type": "stream",
     "text": [
      "111/1000 train loss: 0.7434006929397583  val loss: 0.7950578232606252\n"
     ]
    },
    {
     "name": "stderr",
     "output_type": "stream",
     "text": [
      "Epoch 112/1000: 100%|█| 6/6 [00:05<00:00,  1.09batch/s, avg_loss=0.761, loss=0.8\n"
     ]
    },
    {
     "name": "stdout",
     "output_type": "stream",
     "text": [
      "112/1000 train loss: 0.7612266937891642  val loss: 0.8838100135326385\n"
     ]
    },
    {
     "name": "stderr",
     "output_type": "stream",
     "text": [
      "Epoch 113/1000: 100%|█| 6/6 [00:05<00:00,  1.10batch/s, avg_loss=0.741, loss=0.7\n"
     ]
    },
    {
     "name": "stdout",
     "output_type": "stream",
     "text": [
      "113/1000 train loss: 0.7405374944210052  val loss: 0.926513155301412\n"
     ]
    },
    {
     "name": "stderr",
     "output_type": "stream",
     "text": [
      "Epoch 114/1000: 100%|█| 6/6 [00:05<00:00,  1.09batch/s, avg_loss=0.71, loss=0.83\n"
     ]
    },
    {
     "name": "stdout",
     "output_type": "stream",
     "text": [
      "114/1000 train loss: 0.7097345491250356  val loss: 0.9061976472536722\n"
     ]
    },
    {
     "name": "stderr",
     "output_type": "stream",
     "text": [
      "Epoch 115/1000: 100%|█| 6/6 [00:05<00:00,  1.09batch/s, avg_loss=0.688, loss=0.6\n"
     ]
    },
    {
     "name": "stdout",
     "output_type": "stream",
     "text": [
      "115/1000 train loss: 0.6884844402472178  val loss: 0.8734054565429688\n"
     ]
    },
    {
     "name": "stderr",
     "output_type": "stream",
     "text": [
      "Epoch 116/1000: 100%|█| 6/6 [00:05<00:00,  1.08batch/s, avg_loss=0.743, loss=0.6\n"
     ]
    },
    {
     "name": "stdout",
     "output_type": "stream",
     "text": [
      "116/1000 train loss: 0.742830753326416  val loss: 0.7349766194820404\n"
     ]
    },
    {
     "name": "stderr",
     "output_type": "stream",
     "text": [
      "Epoch 117/1000: 100%|█| 6/6 [00:05<00:00,  1.09batch/s, avg_loss=0.741, loss=0.8\n"
     ]
    },
    {
     "name": "stdout",
     "output_type": "stream",
     "text": [
      "117/1000 train loss: 0.7408467630545298  val loss: 0.8125229279200236\n"
     ]
    },
    {
     "name": "stderr",
     "output_type": "stream",
     "text": [
      "Epoch 118/1000: 100%|█| 6/6 [00:05<00:00,  1.09batch/s, avg_loss=0.685, loss=0.7\n"
     ]
    },
    {
     "name": "stdout",
     "output_type": "stream",
     "text": [
      "118/1000 train loss: 0.6852867404619852  val loss: 0.8259262144565582\n"
     ]
    },
    {
     "name": "stderr",
     "output_type": "stream",
     "text": [
      "Epoch 119/1000: 100%|█| 6/6 [00:05<00:00,  1.09batch/s, avg_loss=0.667, loss=0.7\n"
     ]
    },
    {
     "name": "stdout",
     "output_type": "stream",
     "text": [
      "119/1000 train loss: 0.6674991448720297  val loss: 0.7933861116568247\n"
     ]
    },
    {
     "name": "stderr",
     "output_type": "stream",
     "text": [
      "Epoch 120/1000: 100%|█| 6/6 [00:05<00:00,  1.10batch/s, avg_loss=0.744, loss=0.7\n"
     ]
    },
    {
     "name": "stdout",
     "output_type": "stream",
     "text": [
      "120/1000 train loss: 0.7437605857849121  val loss: 0.8297620316346487\n"
     ]
    },
    {
     "name": "stderr",
     "output_type": "stream",
     "text": [
      "Epoch 121/1000: 100%|█| 6/6 [00:05<00:00,  1.10batch/s, avg_loss=0.691, loss=0.6\n"
     ]
    },
    {
     "name": "stdout",
     "output_type": "stream",
     "text": [
      "121/1000 train loss: 0.6906326512495676  val loss: 0.8405674695968628\n"
     ]
    },
    {
     "name": "stderr",
     "output_type": "stream",
     "text": [
      "Epoch 122/1000: 100%|█| 6/6 [00:05<00:00,  1.10batch/s, avg_loss=0.701, loss=0.7\n"
     ]
    },
    {
     "name": "stdout",
     "output_type": "stream",
     "text": [
      "122/1000 train loss: 0.7011210719744364  val loss: 0.7799210548400879\n"
     ]
    },
    {
     "name": "stderr",
     "output_type": "stream",
     "text": [
      "Epoch 123/1000: 100%|█| 6/6 [00:05<00:00,  1.09batch/s, avg_loss=0.694, loss=0.6\n"
     ]
    },
    {
     "name": "stdout",
     "output_type": "stream",
     "text": [
      "123/1000 train loss: 0.6944866379102071  val loss: 0.9365013937155405\n"
     ]
    },
    {
     "name": "stderr",
     "output_type": "stream",
     "text": [
      "Epoch 124/1000: 100%|█| 6/6 [00:05<00:00,  1.08batch/s, avg_loss=0.687, loss=0.5\n"
     ]
    },
    {
     "name": "stdout",
     "output_type": "stream",
     "text": [
      "124/1000 train loss: 0.6868886550267538  val loss: 0.948276569445928\n"
     ]
    },
    {
     "name": "stderr",
     "output_type": "stream",
     "text": [
      "Epoch 125/1000: 100%|█| 6/6 [00:05<00:00,  1.09batch/s, avg_loss=0.664, loss=0.7\n"
     ]
    },
    {
     "name": "stdout",
     "output_type": "stream",
     "text": [
      "125/1000 train loss: 0.6641897261142731  val loss: 0.8982935051123301\n"
     ]
    },
    {
     "name": "stderr",
     "output_type": "stream",
     "text": [
      "Epoch 126/1000: 100%|█| 6/6 [00:05<00:00,  1.09batch/s, avg_loss=0.664, loss=0.8\n"
     ]
    },
    {
     "name": "stdout",
     "output_type": "stream",
     "text": [
      "126/1000 train loss: 0.664173553387324  val loss: 0.748713622490565\n"
     ]
    },
    {
     "name": "stderr",
     "output_type": "stream",
     "text": [
      "Epoch 127/1000: 100%|█| 6/6 [00:05<00:00,  1.09batch/s, avg_loss=0.662, loss=0.7\n"
     ]
    },
    {
     "name": "stdout",
     "output_type": "stream",
     "text": [
      "127/1000 train loss: 0.6618167658646902  val loss: 0.6263287862141927\n"
     ]
    },
    {
     "name": "stderr",
     "output_type": "stream",
     "text": [
      "Epoch 128/1000: 100%|█| 6/6 [00:05<00:00,  1.09batch/s, avg_loss=0.623, loss=0.7\n"
     ]
    },
    {
     "name": "stdout",
     "output_type": "stream",
     "text": [
      "128/1000 train loss: 0.622658242781957  val loss: 0.7887617548306783\n"
     ]
    },
    {
     "name": "stderr",
     "output_type": "stream",
     "text": [
      "Epoch 129/1000: 100%|█| 6/6 [00:05<00:00,  1.09batch/s, avg_loss=0.737, loss=0.6\n"
     ]
    },
    {
     "name": "stdout",
     "output_type": "stream",
     "text": [
      "129/1000 train loss: 0.7365972797075907  val loss: 0.7212073802947998\n"
     ]
    },
    {
     "name": "stderr",
     "output_type": "stream",
     "text": [
      "Epoch 130/1000: 100%|█| 6/6 [00:05<00:00,  1.10batch/s, avg_loss=0.696, loss=0.7\n"
     ]
    },
    {
     "name": "stdout",
     "output_type": "stream",
     "text": [
      "130/1000 train loss: 0.6964856882890066  val loss: 0.7991989056269327\n"
     ]
    },
    {
     "name": "stderr",
     "output_type": "stream",
     "text": [
      "Epoch 131/1000: 100%|█| 6/6 [00:05<00:00,  1.09batch/s, avg_loss=0.67, loss=0.6]\n"
     ]
    },
    {
     "name": "stdout",
     "output_type": "stream",
     "text": [
      "131/1000 train loss: 0.6699532469113668  val loss: 0.9079379538695017\n"
     ]
    },
    {
     "name": "stderr",
     "output_type": "stream",
     "text": [
      "Epoch 132/1000: 100%|█| 6/6 [00:05<00:00,  1.09batch/s, avg_loss=0.655, loss=0.7\n"
     ]
    },
    {
     "name": "stdout",
     "output_type": "stream",
     "text": [
      "132/1000 train loss: 0.6549755732218424  val loss: 0.8759108583132426\n"
     ]
    },
    {
     "name": "stderr",
     "output_type": "stream",
     "text": [
      "Epoch 133/1000: 100%|█| 6/6 [00:05<00:00,  1.09batch/s, avg_loss=0.761, loss=0.7\n"
     ]
    },
    {
     "name": "stdout",
     "output_type": "stream",
     "text": [
      "133/1000 train loss: 0.7614776790142059  val loss: 0.8840586443742117\n"
     ]
    },
    {
     "name": "stderr",
     "output_type": "stream",
     "text": [
      "Epoch 134/1000: 100%|█| 6/6 [00:05<00:00,  1.09batch/s, avg_loss=0.707, loss=0.7\n"
     ]
    },
    {
     "name": "stdout",
     "output_type": "stream",
     "text": [
      "134/1000 train loss: 0.7073964675267538  val loss: 0.7390455504258474\n"
     ]
    },
    {
     "name": "stderr",
     "output_type": "stream",
     "text": [
      "Epoch 135/1000: 100%|█| 6/6 [00:05<00:00,  1.09batch/s, avg_loss=0.721, loss=0.6\n"
     ]
    },
    {
     "name": "stdout",
     "output_type": "stream",
     "text": [
      "135/1000 train loss: 0.7209273080031077  val loss: 0.7717414100964864\n"
     ]
    },
    {
     "name": "stderr",
     "output_type": "stream",
     "text": [
      "Epoch 136/1000: 100%|█| 6/6 [00:05<00:00,  1.09batch/s, avg_loss=0.692, loss=0.5\n"
     ]
    },
    {
     "name": "stdout",
     "output_type": "stream",
     "text": [
      "136/1000 train loss: 0.6920716563860575  val loss: 0.7933451334635416\n"
     ]
    },
    {
     "name": "stderr",
     "output_type": "stream",
     "text": [
      "Epoch 137/1000: 100%|█| 6/6 [00:05<00:00,  1.10batch/s, avg_loss=0.648, loss=0.6\n"
     ]
    },
    {
     "name": "stdout",
     "output_type": "stream",
     "text": [
      "137/1000 train loss: 0.6484891871611277  val loss: 0.8610793948173523\n"
     ]
    },
    {
     "name": "stderr",
     "output_type": "stream",
     "text": [
      "Epoch 138/1000: 100%|█| 6/6 [00:05<00:00,  1.09batch/s, avg_loss=0.716, loss=0.5\n"
     ]
    },
    {
     "name": "stdout",
     "output_type": "stream",
     "text": [
      "138/1000 train loss: 0.7156177659829458  val loss: 0.6701935430367788\n"
     ]
    },
    {
     "name": "stderr",
     "output_type": "stream",
     "text": [
      "Epoch 139/1000: 100%|█| 6/6 [00:05<00:00,  1.09batch/s, avg_loss=0.736, loss=0.7\n"
     ]
    },
    {
     "name": "stdout",
     "output_type": "stream",
     "text": [
      "139/1000 train loss: 0.7364606261253357  val loss: 0.671761284271876\n"
     ]
    },
    {
     "name": "stderr",
     "output_type": "stream",
     "text": [
      "Epoch 140/1000: 100%|█| 6/6 [00:05<00:00,  1.09batch/s, avg_loss=0.692, loss=0.6\n"
     ]
    },
    {
     "name": "stdout",
     "output_type": "stream",
     "text": [
      "140/1000 train loss: 0.6920539538065592  val loss: 0.7508708337942759\n"
     ]
    },
    {
     "name": "stderr",
     "output_type": "stream",
     "text": [
      "Epoch 141/1000: 100%|█| 6/6 [00:05<00:00,  1.09batch/s, avg_loss=0.66, loss=0.82\n"
     ]
    },
    {
     "name": "stdout",
     "output_type": "stream",
     "text": [
      "141/1000 train loss: 0.6598373353481293  val loss: 0.8667850295702616\n"
     ]
    },
    {
     "name": "stderr",
     "output_type": "stream",
     "text": [
      "Epoch 142/1000: 100%|█| 6/6 [00:05<00:00,  1.09batch/s, avg_loss=0.655, loss=0.7\n"
     ]
    },
    {
     "name": "stdout",
     "output_type": "stream",
     "text": [
      "142/1000 train loss: 0.6554063359896342  val loss: 0.8720649977525076\n"
     ]
    },
    {
     "name": "stderr",
     "output_type": "stream",
     "text": [
      "Epoch 143/1000: 100%|█| 6/6 [00:05<00:00,  1.09batch/s, avg_loss=0.642, loss=0.5\n"
     ]
    },
    {
     "name": "stdout",
     "output_type": "stream",
     "text": [
      "143/1000 train loss: 0.6419431467851003  val loss: 0.855660637219747\n"
     ]
    },
    {
     "name": "stderr",
     "output_type": "stream",
     "text": [
      "Epoch 144/1000: 100%|█| 6/6 [00:05<00:00,  1.09batch/s, avg_loss=0.685, loss=0.6\n"
     ]
    },
    {
     "name": "stdout",
     "output_type": "stream",
     "text": [
      "144/1000 train loss: 0.6846260031064352  val loss: 0.6608710984388987\n"
     ]
    },
    {
     "name": "stderr",
     "output_type": "stream",
     "text": [
      "Epoch 145/1000: 100%|█| 6/6 [00:05<00:00,  1.09batch/s, avg_loss=0.644, loss=0.7\n"
     ]
    },
    {
     "name": "stdout",
     "output_type": "stream",
     "text": [
      "145/1000 train loss: 0.6444975237051646  val loss: 0.7231659889221191\n"
     ]
    },
    {
     "name": "stderr",
     "output_type": "stream",
     "text": [
      "Epoch 146/1000: 100%|█| 6/6 [00:05<00:00,  1.09batch/s, avg_loss=0.68, loss=0.62\n"
     ]
    },
    {
     "name": "stdout",
     "output_type": "stream",
     "text": [
      "146/1000 train loss: 0.6799688835938772  val loss: 0.7350285649299622\n"
     ]
    },
    {
     "name": "stderr",
     "output_type": "stream",
     "text": [
      "Epoch 147/1000: 100%|█| 6/6 [00:05<00:00,  1.10batch/s, avg_loss=0.67, loss=0.7]\n"
     ]
    },
    {
     "name": "stdout",
     "output_type": "stream",
     "text": [
      "147/1000 train loss: 0.6697206695874532  val loss: 0.8157731592655182\n"
     ]
    },
    {
     "name": "stderr",
     "output_type": "stream",
     "text": [
      "Epoch 148/1000: 100%|█| 6/6 [00:05<00:00,  1.09batch/s, avg_loss=0.709, loss=0.7\n"
     ]
    },
    {
     "name": "stdout",
     "output_type": "stream",
     "text": [
      "148/1000 train loss: 0.7093193133672079  val loss: 0.9202780425548553\n"
     ]
    },
    {
     "name": "stderr",
     "output_type": "stream",
     "text": [
      "Epoch 149/1000: 100%|█| 6/6 [00:05<00:00,  1.10batch/s, avg_loss=0.68, loss=0.82\n"
     ]
    },
    {
     "name": "stdout",
     "output_type": "stream",
     "text": [
      "149/1000 train loss: 0.6797466178735098  val loss: 0.9350895285606384\n"
     ]
    },
    {
     "name": "stderr",
     "output_type": "stream",
     "text": [
      "Epoch 150/1000: 100%|█| 6/6 [00:05<00:00,  1.09batch/s, avg_loss=0.679, loss=0.4\n"
     ]
    },
    {
     "name": "stdout",
     "output_type": "stream",
     "text": [
      "150/1000 train loss: 0.6792787810166677  val loss: 0.8920678397019705\n"
     ]
    },
    {
     "name": "stderr",
     "output_type": "stream",
     "text": [
      "Epoch 151/1000: 100%|█| 6/6 [00:05<00:00,  1.09batch/s, avg_loss=0.705, loss=0.6\n"
     ]
    },
    {
     "name": "stdout",
     "output_type": "stream",
     "text": [
      "151/1000 train loss: 0.7054257988929749  val loss: 0.7487265268961588\n"
     ]
    },
    {
     "name": "stderr",
     "output_type": "stream",
     "text": [
      "Epoch 152/1000: 100%|█| 6/6 [00:05<00:00,  1.09batch/s, avg_loss=0.662, loss=0.6\n"
     ]
    },
    {
     "name": "stdout",
     "output_type": "stream",
     "text": [
      "152/1000 train loss: 0.6622441112995148  val loss: 0.7376372416814169\n"
     ]
    },
    {
     "name": "stderr",
     "output_type": "stream",
     "text": [
      "Epoch 153/1000: 100%|█| 6/6 [00:05<00:00,  1.09batch/s, avg_loss=0.638, loss=0.4\n"
     ]
    },
    {
     "name": "stdout",
     "output_type": "stream",
     "text": [
      "153/1000 train loss: 0.6378488540649414  val loss: 0.7023835678895315\n"
     ]
    },
    {
     "name": "stderr",
     "output_type": "stream",
     "text": [
      "Epoch 154/1000: 100%|█| 6/6 [00:05<00:00,  1.09batch/s, avg_loss=0.683, loss=0.5\n"
     ]
    },
    {
     "name": "stdout",
     "output_type": "stream",
     "text": [
      "154/1000 train loss: 0.68337415655454  val loss: 0.7832731306552887\n"
     ]
    },
    {
     "name": "stderr",
     "output_type": "stream",
     "text": [
      "Epoch 155/1000: 100%|█| 6/6 [00:05<00:00,  1.10batch/s, avg_loss=0.678, loss=0.4\n"
     ]
    },
    {
     "name": "stdout",
     "output_type": "stream",
     "text": [
      "155/1000 train loss: 0.6779047548770905  val loss: 0.7769051988919576\n"
     ]
    },
    {
     "name": "stderr",
     "output_type": "stream",
     "text": [
      "Epoch 156/1000: 100%|█| 6/6 [00:05<00:00,  1.10batch/s, avg_loss=0.712, loss=0.6\n"
     ]
    },
    {
     "name": "stdout",
     "output_type": "stream",
     "text": [
      "156/1000 train loss: 0.7116677264372507  val loss: 0.7572415371735891\n"
     ]
    },
    {
     "name": "stderr",
     "output_type": "stream",
     "text": [
      "Epoch 157/1000: 100%|█| 6/6 [00:05<00:00,  1.09batch/s, avg_loss=0.656, loss=0.7\n"
     ]
    },
    {
     "name": "stdout",
     "output_type": "stream",
     "text": [
      "157/1000 train loss: 0.6564022302627563  val loss: 0.853742390871048\n"
     ]
    },
    {
     "name": "stderr",
     "output_type": "stream",
     "text": [
      "Epoch 158/1000: 100%|█| 6/6 [00:05<00:00,  1.09batch/s, avg_loss=0.678, loss=0.6\n"
     ]
    },
    {
     "name": "stdout",
     "output_type": "stream",
     "text": [
      "158/1000 train loss: 0.6777616739273071  val loss: 0.6831862131754557\n"
     ]
    },
    {
     "name": "stderr",
     "output_type": "stream",
     "text": [
      "Epoch 159/1000: 100%|█| 6/6 [00:05<00:00,  1.09batch/s, avg_loss=0.692, loss=0.6\n"
     ]
    },
    {
     "name": "stdout",
     "output_type": "stream",
     "text": [
      "159/1000 train loss: 0.6915657718976339  val loss: 0.7104317049185435\n"
     ]
    },
    {
     "name": "stderr",
     "output_type": "stream",
     "text": [
      "Epoch 160/1000: 100%|█| 6/6 [00:05<00:00,  1.10batch/s, avg_loss=0.653, loss=0.5\n"
     ]
    },
    {
     "name": "stdout",
     "output_type": "stream",
     "text": [
      "160/1000 train loss: 0.6534997820854187  val loss: 0.8056120872497559\n"
     ]
    },
    {
     "name": "stderr",
     "output_type": "stream",
     "text": [
      "Epoch 161/1000: 100%|█| 6/6 [00:05<00:00,  1.09batch/s, avg_loss=0.686, loss=0.7\n"
     ]
    },
    {
     "name": "stdout",
     "output_type": "stream",
     "text": [
      "161/1000 train loss: 0.6863117714722952  val loss: 0.8470269938309988\n"
     ]
    },
    {
     "name": "stderr",
     "output_type": "stream",
     "text": [
      "Epoch 162/1000: 100%|█| 6/6 [00:05<00:00,  1.10batch/s, avg_loss=0.728, loss=0.7\n"
     ]
    },
    {
     "name": "stdout",
     "output_type": "stream",
     "text": [
      "162/1000 train loss: 0.7279683351516724  val loss: 0.8008174101511637\n"
     ]
    },
    {
     "name": "stderr",
     "output_type": "stream",
     "text": [
      "Epoch 163/1000: 100%|█| 6/6 [00:05<00:00,  1.10batch/s, avg_loss=0.752, loss=0.8\n"
     ]
    },
    {
     "name": "stdout",
     "output_type": "stream",
     "text": [
      "163/1000 train loss: 0.7519857188065847  val loss: 0.7075937986373901\n"
     ]
    },
    {
     "name": "stderr",
     "output_type": "stream",
     "text": [
      "Epoch 164/1000: 100%|█| 6/6 [00:05<00:00,  1.09batch/s, avg_loss=0.7, loss=0.577\n"
     ]
    },
    {
     "name": "stdout",
     "output_type": "stream",
     "text": [
      "164/1000 train loss: 0.7003750105698904  val loss: 0.8535555899143219\n"
     ]
    },
    {
     "name": "stderr",
     "output_type": "stream",
     "text": [
      "Epoch 165/1000: 100%|█| 6/6 [00:05<00:00,  1.10batch/s, avg_loss=0.699, loss=0.6\n"
     ]
    },
    {
     "name": "stdout",
     "output_type": "stream",
     "text": [
      "165/1000 train loss: 0.6993718643983206  val loss: 0.9300083915392557\n"
     ]
    },
    {
     "name": "stderr",
     "output_type": "stream",
     "text": [
      "Epoch 166/1000: 100%|█| 6/6 [00:05<00:00,  1.09batch/s, avg_loss=0.698, loss=0.6\n"
     ]
    },
    {
     "name": "stdout",
     "output_type": "stream",
     "text": [
      "166/1000 train loss: 0.6976520121097565  val loss: 0.8533302247524261\n"
     ]
    },
    {
     "name": "stderr",
     "output_type": "stream",
     "text": [
      "Epoch 167/1000: 100%|█| 6/6 [00:05<00:00,  1.09batch/s, avg_loss=0.657, loss=0.6\n"
     ]
    },
    {
     "name": "stdout",
     "output_type": "stream",
     "text": [
      "167/1000 train loss: 0.6570707261562347  val loss: 0.8245412806669871\n"
     ]
    },
    {
     "name": "stderr",
     "output_type": "stream",
     "text": [
      "Epoch 168/1000: 100%|█| 6/6 [00:05<00:00,  1.09batch/s, avg_loss=0.661, loss=0.5\n"
     ]
    },
    {
     "name": "stdout",
     "output_type": "stream",
     "text": [
      "168/1000 train loss: 0.6605867942174276  val loss: 0.7453076839447021\n"
     ]
    },
    {
     "name": "stderr",
     "output_type": "stream",
     "text": [
      "Epoch 169/1000: 100%|█| 6/6 [00:05<00:00,  1.09batch/s, avg_loss=0.632, loss=0.7\n"
     ]
    },
    {
     "name": "stdout",
     "output_type": "stream",
     "text": [
      "169/1000 train loss: 0.6316998600959778  val loss: 0.6748692393302917\n"
     ]
    },
    {
     "name": "stderr",
     "output_type": "stream",
     "text": [
      "Epoch 170/1000: 100%|█| 6/6 [00:05<00:00,  1.10batch/s, avg_loss=0.671, loss=0.7\n"
     ]
    },
    {
     "name": "stdout",
     "output_type": "stream",
     "text": [
      "170/1000 train loss: 0.6712440152963003  val loss: 0.8255449732144674\n"
     ]
    },
    {
     "name": "stderr",
     "output_type": "stream",
     "text": [
      "Epoch 171/1000: 100%|█| 6/6 [00:05<00:00,  1.09batch/s, avg_loss=0.732, loss=0.7\n"
     ]
    },
    {
     "name": "stdout",
     "output_type": "stream",
     "text": [
      "171/1000 train loss: 0.7317552169164022  val loss: 0.7643861075242361\n"
     ]
    },
    {
     "name": "stderr",
     "output_type": "stream",
     "text": [
      "Epoch 172/1000: 100%|█| 6/6 [00:05<00:00,  1.09batch/s, avg_loss=0.726, loss=0.8\n"
     ]
    },
    {
     "name": "stdout",
     "output_type": "stream",
     "text": [
      "172/1000 train loss: 0.7262389063835144  val loss: 0.918909748395284\n"
     ]
    },
    {
     "name": "stderr",
     "output_type": "stream",
     "text": [
      "Epoch 173/1000: 100%|█| 6/6 [00:05<00:00,  1.10batch/s, avg_loss=0.69, loss=0.82\n"
     ]
    },
    {
     "name": "stdout",
     "output_type": "stream",
     "text": [
      "173/1000 train loss: 0.6897559265295664  val loss: 0.8032955825328827\n"
     ]
    },
    {
     "name": "stderr",
     "output_type": "stream",
     "text": [
      "Epoch 174/1000: 100%|█| 6/6 [00:05<00:00,  1.10batch/s, avg_loss=0.643, loss=0.7\n"
     ]
    },
    {
     "name": "stdout",
     "output_type": "stream",
     "text": [
      "174/1000 train loss: 0.6431357463200887  val loss: 0.7721508145332336\n"
     ]
    },
    {
     "name": "stderr",
     "output_type": "stream",
     "text": [
      "Epoch 175/1000: 100%|█| 6/6 [00:05<00:00,  1.10batch/s, avg_loss=0.71, loss=0.74\n"
     ]
    },
    {
     "name": "stdout",
     "output_type": "stream",
     "text": [
      "175/1000 train loss: 0.7096208333969116  val loss: 0.7397308945655823\n"
     ]
    },
    {
     "name": "stderr",
     "output_type": "stream",
     "text": [
      "Epoch 176/1000: 100%|█| 6/6 [00:05<00:00,  1.09batch/s, avg_loss=0.658, loss=0.5\n"
     ]
    },
    {
     "name": "stdout",
     "output_type": "stream",
     "text": [
      "176/1000 train loss: 0.6578682859738668  val loss: 0.766937126715978\n"
     ]
    },
    {
     "name": "stderr",
     "output_type": "stream",
     "text": [
      "Epoch 177/1000: 100%|█| 6/6 [00:05<00:00,  1.10batch/s, avg_loss=0.662, loss=0.5\n"
     ]
    },
    {
     "name": "stdout",
     "output_type": "stream",
     "text": [
      "177/1000 train loss: 0.6624055902163187  val loss: 0.7026953399181366\n"
     ]
    },
    {
     "name": "stderr",
     "output_type": "stream",
     "text": [
      "Epoch 178/1000: 100%|█| 6/6 [00:05<00:00,  1.10batch/s, avg_loss=0.7, loss=0.653\n"
     ]
    },
    {
     "name": "stdout",
     "output_type": "stream",
     "text": [
      "178/1000 train loss: 0.7003238797187805  val loss: 0.7675780157248179\n"
     ]
    },
    {
     "name": "stderr",
     "output_type": "stream",
     "text": [
      "Epoch 179/1000: 100%|█| 6/6 [00:05<00:00,  1.10batch/s, avg_loss=0.699, loss=0.7\n"
     ]
    },
    {
     "name": "stdout",
     "output_type": "stream",
     "text": [
      "179/1000 train loss: 0.6991257270177206  val loss: 0.7337743043899536\n"
     ]
    },
    {
     "name": "stderr",
     "output_type": "stream",
     "text": [
      "Epoch 180/1000: 100%|█| 6/6 [00:05<00:00,  1.09batch/s, avg_loss=0.667, loss=0.7\n"
     ]
    },
    {
     "name": "stdout",
     "output_type": "stream",
     "text": [
      "180/1000 train loss: 0.6669405400753021  val loss: 0.7014645536740621\n"
     ]
    },
    {
     "name": "stderr",
     "output_type": "stream",
     "text": [
      "Epoch 181/1000: 100%|█| 6/6 [00:05<00:00,  1.09batch/s, avg_loss=0.623, loss=0.5\n"
     ]
    },
    {
     "name": "stdout",
     "output_type": "stream",
     "text": [
      "181/1000 train loss: 0.6228761474291483  val loss: 0.683449904123942\n"
     ]
    },
    {
     "name": "stderr",
     "output_type": "stream",
     "text": [
      "Epoch 182/1000: 100%|█| 6/6 [00:05<00:00,  1.09batch/s, avg_loss=0.645, loss=0.5\n"
     ]
    },
    {
     "name": "stdout",
     "output_type": "stream",
     "text": [
      "182/1000 train loss: 0.6452760100364685  val loss: 0.7767337659994761\n"
     ]
    },
    {
     "name": "stderr",
     "output_type": "stream",
     "text": [
      "Epoch 183/1000: 100%|█| 6/6 [00:05<00:00,  1.09batch/s, avg_loss=0.716, loss=0.7\n"
     ]
    },
    {
     "name": "stdout",
     "output_type": "stream",
     "text": [
      "183/1000 train loss: 0.7157395978768667  val loss: 0.9086086849371592\n"
     ]
    },
    {
     "name": "stderr",
     "output_type": "stream",
     "text": [
      "Epoch 184/1000: 100%|█| 6/6 [00:05<00:00,  1.09batch/s, avg_loss=0.718, loss=0.8\n"
     ]
    },
    {
     "name": "stdout",
     "output_type": "stream",
     "text": [
      "184/1000 train loss: 0.7178721924622854  val loss: 0.8239401578903198\n"
     ]
    },
    {
     "name": "stderr",
     "output_type": "stream",
     "text": [
      "Epoch 185/1000: 100%|█| 6/6 [00:05<00:00,  1.09batch/s, avg_loss=0.726, loss=0.6\n"
     ]
    },
    {
     "name": "stdout",
     "output_type": "stream",
     "text": [
      "185/1000 train loss: 0.7255072891712189  val loss: 0.7355355223019918\n"
     ]
    },
    {
     "name": "stderr",
     "output_type": "stream",
     "text": [
      "Epoch 186/1000: 100%|█| 6/6 [00:05<00:00,  1.09batch/s, avg_loss=0.634, loss=0.8\n"
     ]
    },
    {
     "name": "stdout",
     "output_type": "stream",
     "text": [
      "186/1000 train loss: 0.633532295624415  val loss: 0.6122043430805206\n"
     ]
    },
    {
     "name": "stderr",
     "output_type": "stream",
     "text": [
      "Epoch 187/1000: 100%|█| 6/6 [00:05<00:00,  1.10batch/s, avg_loss=0.712, loss=0.7\n"
     ]
    },
    {
     "name": "stdout",
     "output_type": "stream",
     "text": [
      "187/1000 train loss: 0.7121144632498423  val loss: 0.855551153421402\n"
     ]
    },
    {
     "name": "stderr",
     "output_type": "stream",
     "text": [
      "Epoch 188/1000: 100%|█| 6/6 [00:05<00:00,  1.08batch/s, avg_loss=0.71, loss=0.75\n"
     ]
    },
    {
     "name": "stdout",
     "output_type": "stream",
     "text": [
      "188/1000 train loss: 0.7103322048981985  val loss: 0.7039270401000977\n"
     ]
    },
    {
     "name": "stderr",
     "output_type": "stream",
     "text": [
      "Epoch 189/1000: 100%|█| 6/6 [00:05<00:00,  1.09batch/s, avg_loss=0.682, loss=0.8\n"
     ]
    },
    {
     "name": "stdout",
     "output_type": "stream",
     "text": [
      "189/1000 train loss: 0.6823181013266245  val loss: 0.7625487943490347\n"
     ]
    },
    {
     "name": "stderr",
     "output_type": "stream",
     "text": [
      "Epoch 190/1000: 100%|█| 6/6 [00:05<00:00,  1.09batch/s, avg_loss=0.691, loss=0.4\n"
     ]
    },
    {
     "name": "stdout",
     "output_type": "stream",
     "text": [
      "190/1000 train loss: 0.6905059417088827  val loss: 0.8404728869597117\n"
     ]
    },
    {
     "name": "stderr",
     "output_type": "stream",
     "text": [
      "Epoch 191/1000: 100%|█| 6/6 [00:05<00:00,  1.09batch/s, avg_loss=0.666, loss=0.7\n"
     ]
    },
    {
     "name": "stdout",
     "output_type": "stream",
     "text": [
      "191/1000 train loss: 0.6661012570063273  val loss: 0.8373110195000967\n"
     ]
    },
    {
     "name": "stderr",
     "output_type": "stream",
     "text": [
      "Epoch 192/1000: 100%|█| 6/6 [00:05<00:00,  1.09batch/s, avg_loss=0.691, loss=0.7\n"
     ]
    },
    {
     "name": "stdout",
     "output_type": "stream",
     "text": [
      "192/1000 train loss: 0.6907007992267609  val loss: 0.8073621789614359\n"
     ]
    },
    {
     "name": "stderr",
     "output_type": "stream",
     "text": [
      "Epoch 193/1000: 100%|█| 6/6 [00:05<00:00,  1.10batch/s, avg_loss=0.675, loss=0.8\n"
     ]
    },
    {
     "name": "stdout",
     "output_type": "stream",
     "text": [
      "193/1000 train loss: 0.6746549407641093  val loss: 0.7042699257532755\n"
     ]
    },
    {
     "name": "stderr",
     "output_type": "stream",
     "text": [
      "Epoch 194/1000: 100%|█| 6/6 [00:05<00:00,  1.09batch/s, avg_loss=0.702, loss=0.8\n"
     ]
    },
    {
     "name": "stdout",
     "output_type": "stream",
     "text": [
      "194/1000 train loss: 0.701940913995107  val loss: 0.815468430519104\n"
     ]
    },
    {
     "name": "stderr",
     "output_type": "stream",
     "text": [
      "Epoch 195/1000: 100%|█| 6/6 [00:05<00:00,  1.10batch/s, avg_loss=0.729, loss=0.5\n"
     ]
    },
    {
     "name": "stdout",
     "output_type": "stream",
     "text": [
      "195/1000 train loss: 0.7289762298266093  val loss: 0.7557582755883535\n"
     ]
    },
    {
     "name": "stderr",
     "output_type": "stream",
     "text": [
      "Epoch 196/1000: 100%|█| 6/6 [00:05<00:00,  1.09batch/s, avg_loss=0.668, loss=0.8\n"
     ]
    },
    {
     "name": "stdout",
     "output_type": "stream",
     "text": [
      "196/1000 train loss: 0.6678918401400248  val loss: 0.8969113330046335\n"
     ]
    },
    {
     "name": "stderr",
     "output_type": "stream",
     "text": [
      "Epoch 197/1000: 100%|█| 6/6 [00:05<00:00,  1.09batch/s, avg_loss=0.691, loss=0.4\n"
     ]
    },
    {
     "name": "stdout",
     "output_type": "stream",
     "text": [
      "197/1000 train loss: 0.6906168162822723  val loss: 0.9658021032810211\n"
     ]
    },
    {
     "name": "stderr",
     "output_type": "stream",
     "text": [
      "Epoch 198/1000: 100%|█| 6/6 [00:05<00:00,  1.09batch/s, avg_loss=0.652, loss=0.7\n"
     ]
    },
    {
     "name": "stdout",
     "output_type": "stream",
     "text": [
      "198/1000 train loss: 0.6522101064523061  val loss: 0.7800288001696268\n"
     ]
    },
    {
     "name": "stderr",
     "output_type": "stream",
     "text": [
      "Epoch 199/1000: 100%|█| 6/6 [00:05<00:00,  1.09batch/s, avg_loss=0.649, loss=0.7\n"
     ]
    },
    {
     "name": "stdout",
     "output_type": "stream",
     "text": [
      "199/1000 train loss: 0.6489577492078146  val loss: 0.6672918299833933\n"
     ]
    },
    {
     "name": "stderr",
     "output_type": "stream",
     "text": [
      "Epoch 200/1000: 100%|█| 6/6 [00:05<00:00,  1.09batch/s, avg_loss=0.7, loss=0.673\n"
     ]
    },
    {
     "name": "stdout",
     "output_type": "stream",
     "text": [
      "200/1000 train loss: 0.6996927758057913  val loss: 0.6990078588326772\n"
     ]
    },
    {
     "name": "stderr",
     "output_type": "stream",
     "text": [
      "Epoch 201/1000: 100%|█| 6/6 [00:05<00:00,  1.09batch/s, avg_loss=0.645, loss=0.5\n"
     ]
    },
    {
     "name": "stdout",
     "output_type": "stream",
     "text": [
      "201/1000 train loss: 0.6451818843682607  val loss: 0.7814567387104034\n"
     ]
    },
    {
     "name": "stderr",
     "output_type": "stream",
     "text": [
      "Epoch 202/1000: 100%|█| 6/6 [00:05<00:00,  1.10batch/s, avg_loss=0.685, loss=0.6\n"
     ]
    },
    {
     "name": "stdout",
     "output_type": "stream",
     "text": [
      "202/1000 train loss: 0.6849946777025858  val loss: 0.6998665531476339\n"
     ]
    },
    {
     "name": "stderr",
     "output_type": "stream",
     "text": [
      "Epoch 203/1000: 100%|█| 6/6 [00:05<00:00,  1.10batch/s, avg_loss=0.67, loss=0.73\n"
     ]
    },
    {
     "name": "stdout",
     "output_type": "stream",
     "text": [
      "203/1000 train loss: 0.6698704262574514  val loss: 0.6749172210693359\n"
     ]
    },
    {
     "name": "stderr",
     "output_type": "stream",
     "text": [
      "Epoch 204/1000: 100%|█| 6/6 [00:05<00:00,  1.09batch/s, avg_loss=0.7, loss=0.524\n"
     ]
    },
    {
     "name": "stdout",
     "output_type": "stream",
     "text": [
      "204/1000 train loss: 0.6996996204058329  val loss: 0.8204552332560221\n"
     ]
    },
    {
     "name": "stderr",
     "output_type": "stream",
     "text": [
      "Epoch 205/1000: 100%|█| 6/6 [00:05<00:00,  1.09batch/s, avg_loss=0.704, loss=0.8\n"
     ]
    },
    {
     "name": "stdout",
     "output_type": "stream",
     "text": [
      "205/1000 train loss: 0.7040282686551412  val loss: 0.772416224082311\n"
     ]
    },
    {
     "name": "stderr",
     "output_type": "stream",
     "text": [
      "Epoch 206/1000: 100%|█| 6/6 [00:05<00:00,  1.09batch/s, avg_loss=0.658, loss=0.6\n"
     ]
    },
    {
     "name": "stdout",
     "output_type": "stream",
     "text": [
      "206/1000 train loss: 0.6580253938833872  val loss: 0.7112824122111002\n"
     ]
    },
    {
     "name": "stderr",
     "output_type": "stream",
     "text": [
      "Epoch 207/1000: 100%|█| 6/6 [00:05<00:00,  1.09batch/s, avg_loss=0.629, loss=0.8\n"
     ]
    },
    {
     "name": "stdout",
     "output_type": "stream",
     "text": [
      "207/1000 train loss: 0.6285279095172882  val loss: 0.7815380791823069\n"
     ]
    },
    {
     "name": "stderr",
     "output_type": "stream",
     "text": [
      "Epoch 208/1000: 100%|█| 6/6 [00:05<00:00,  1.09batch/s, avg_loss=0.667, loss=0.6\n"
     ]
    },
    {
     "name": "stdout",
     "output_type": "stream",
     "text": [
      "208/1000 train loss: 0.6672514875729879  val loss: 0.8326382040977478\n"
     ]
    },
    {
     "name": "stderr",
     "output_type": "stream",
     "text": [
      "Epoch 209/1000: 100%|█| 6/6 [00:05<00:00,  1.09batch/s, avg_loss=0.763, loss=0.8\n"
     ]
    },
    {
     "name": "stdout",
     "output_type": "stream",
     "text": [
      "209/1000 train loss: 0.7631193697452545  val loss: 0.651396910349528\n"
     ]
    },
    {
     "name": "stderr",
     "output_type": "stream",
     "text": [
      "Epoch 210/1000: 100%|█| 6/6 [00:05<00:00,  1.09batch/s, avg_loss=0.721, loss=0.8\n"
     ]
    },
    {
     "name": "stdout",
     "output_type": "stream",
     "text": [
      "210/1000 train loss: 0.7208318809668223  val loss: 0.8473809162775675\n"
     ]
    },
    {
     "name": "stderr",
     "output_type": "stream",
     "text": [
      "Epoch 211/1000: 100%|█| 6/6 [00:05<00:00,  1.10batch/s, avg_loss=0.738, loss=0.8\n"
     ]
    },
    {
     "name": "stdout",
     "output_type": "stream",
     "text": [
      "211/1000 train loss: 0.7377912600835165  val loss: 0.7210444112618765\n"
     ]
    },
    {
     "name": "stderr",
     "output_type": "stream",
     "text": [
      "Epoch 212/1000: 100%|█| 6/6 [00:05<00:00,  1.10batch/s, avg_loss=0.696, loss=0.5\n"
     ]
    },
    {
     "name": "stdout",
     "output_type": "stream",
     "text": [
      "212/1000 train loss: 0.6961411635080973  val loss: 0.8462664385636648\n"
     ]
    },
    {
     "name": "stderr",
     "output_type": "stream",
     "text": [
      "Epoch 213/1000: 100%|█| 6/6 [00:05<00:00,  1.09batch/s, avg_loss=0.687, loss=0.5\n"
     ]
    },
    {
     "name": "stdout",
     "output_type": "stream",
     "text": [
      "213/1000 train loss: 0.6873026390870413  val loss: 0.8619521160920461\n"
     ]
    },
    {
     "name": "stderr",
     "output_type": "stream",
     "text": [
      "Epoch 214/1000: 100%|█| 6/6 [00:05<00:00,  1.09batch/s, avg_loss=0.695, loss=0.8\n"
     ]
    },
    {
     "name": "stdout",
     "output_type": "stream",
     "text": [
      "214/1000 train loss: 0.6949528356393179  val loss: 0.7835242648919424\n"
     ]
    },
    {
     "name": "stderr",
     "output_type": "stream",
     "text": [
      "Epoch 215/1000: 100%|█| 6/6 [00:05<00:00,  1.10batch/s, avg_loss=0.674, loss=0.6\n"
     ]
    },
    {
     "name": "stdout",
     "output_type": "stream",
     "text": [
      "215/1000 train loss: 0.6740706562995911  val loss: 0.6835029721260071\n"
     ]
    },
    {
     "name": "stderr",
     "output_type": "stream",
     "text": [
      "Epoch 216/1000: 100%|█| 6/6 [00:05<00:00,  1.09batch/s, avg_loss=0.681, loss=0.7\n"
     ]
    },
    {
     "name": "stdout",
     "output_type": "stream",
     "text": [
      "216/1000 train loss: 0.681290994087855  val loss: 0.9078141351540884\n"
     ]
    },
    {
     "name": "stderr",
     "output_type": "stream",
     "text": [
      "Epoch 217/1000: 100%|█| 6/6 [00:05<00:00,  1.09batch/s, avg_loss=0.645, loss=0.6\n"
     ]
    },
    {
     "name": "stdout",
     "output_type": "stream",
     "text": [
      "217/1000 train loss: 0.6451997558275858  val loss: 0.7951667606830597\n"
     ]
    },
    {
     "name": "stderr",
     "output_type": "stream",
     "text": [
      "Epoch 218/1000: 100%|█| 6/6 [00:05<00:00,  1.09batch/s, avg_loss=0.661, loss=0.6\n"
     ]
    },
    {
     "name": "stdout",
     "output_type": "stream",
     "text": [
      "218/1000 train loss: 0.6607781747976939  val loss: 0.725263645251592\n"
     ]
    },
    {
     "name": "stderr",
     "output_type": "stream",
     "text": [
      "Epoch 219/1000: 100%|█| 6/6 [00:05<00:00,  1.10batch/s, avg_loss=0.699, loss=0.7\n"
     ]
    },
    {
     "name": "stdout",
     "output_type": "stream",
     "text": [
      "219/1000 train loss: 0.6991952160994211  val loss: 0.554944266875585\n"
     ]
    },
    {
     "name": "stderr",
     "output_type": "stream",
     "text": [
      "Epoch 220/1000: 100%|█| 6/6 [00:05<00:00,  1.09batch/s, avg_loss=0.662, loss=0.5\n"
     ]
    },
    {
     "name": "stdout",
     "output_type": "stream",
     "text": [
      "220/1000 train loss: 0.6618669827779134  val loss: 0.8042890230814616\n"
     ]
    },
    {
     "name": "stderr",
     "output_type": "stream",
     "text": [
      "Epoch 221/1000: 100%|█| 6/6 [00:05<00:00,  1.09batch/s, avg_loss=0.735, loss=0.6\n"
     ]
    },
    {
     "name": "stdout",
     "output_type": "stream",
     "text": [
      "221/1000 train loss: 0.7353781263033549  val loss: 0.6006149351596832\n"
     ]
    },
    {
     "name": "stderr",
     "output_type": "stream",
     "text": [
      "Epoch 222/1000: 100%|█| 6/6 [00:05<00:00,  1.09batch/s, avg_loss=0.722, loss=0.8\n"
     ]
    },
    {
     "name": "stdout",
     "output_type": "stream",
     "text": [
      "222/1000 train loss: 0.7222442527612051  val loss: 0.8338962395985922\n"
     ]
    },
    {
     "name": "stderr",
     "output_type": "stream",
     "text": [
      "Epoch 223/1000: 100%|█| 6/6 [00:05<00:00,  1.09batch/s, avg_loss=0.725, loss=0.8\n"
     ]
    },
    {
     "name": "stdout",
     "output_type": "stream",
     "text": [
      "223/1000 train loss: 0.7249534825483958  val loss: 0.7485136489073435\n"
     ]
    },
    {
     "name": "stderr",
     "output_type": "stream",
     "text": [
      "Epoch 224/1000: 100%|█| 6/6 [00:05<00:00,  1.09batch/s, avg_loss=0.647, loss=0.5\n"
     ]
    },
    {
     "name": "stdout",
     "output_type": "stream",
     "text": [
      "224/1000 train loss: 0.6466350555419922  val loss: 0.7880580822626749\n"
     ]
    },
    {
     "name": "stderr",
     "output_type": "stream",
     "text": [
      "Epoch 225/1000: 100%|█| 6/6 [00:05<00:00,  1.09batch/s, avg_loss=0.734, loss=0.8\n"
     ]
    },
    {
     "name": "stdout",
     "output_type": "stream",
     "text": [
      "225/1000 train loss: 0.7340531150499979  val loss: 0.7788082758585612\n"
     ]
    },
    {
     "name": "stderr",
     "output_type": "stream",
     "text": [
      "Epoch 226/1000: 100%|█| 6/6 [00:05<00:00,  1.09batch/s, avg_loss=0.675, loss=0.7\n"
     ]
    },
    {
     "name": "stdout",
     "output_type": "stream",
     "text": [
      "226/1000 train loss: 0.6753049790859222  val loss: 0.8384664754072825\n"
     ]
    },
    {
     "name": "stderr",
     "output_type": "stream",
     "text": [
      "Epoch 227/1000: 100%|█| 6/6 [00:05<00:00,  1.10batch/s, avg_loss=0.665, loss=0.6\n"
     ]
    },
    {
     "name": "stdout",
     "output_type": "stream",
     "text": [
      "227/1000 train loss: 0.6654836535453796  val loss: 0.6456829607486725\n"
     ]
    },
    {
     "name": "stderr",
     "output_type": "stream",
     "text": [
      "Epoch 228/1000: 100%|█| 6/6 [00:05<00:00,  1.09batch/s, avg_loss=0.653, loss=0.5\n"
     ]
    },
    {
     "name": "stdout",
     "output_type": "stream",
     "text": [
      "228/1000 train loss: 0.6527849733829498  val loss: 0.7335762480894724\n"
     ]
    },
    {
     "name": "stderr",
     "output_type": "stream",
     "text": [
      "Epoch 229/1000: 100%|█| 6/6 [00:05<00:00,  1.09batch/s, avg_loss=0.71, loss=0.63\n"
     ]
    },
    {
     "name": "stdout",
     "output_type": "stream",
     "text": [
      "229/1000 train loss: 0.7098116278648376  val loss: 0.818130632241567\n"
     ]
    },
    {
     "name": "stderr",
     "output_type": "stream",
     "text": [
      "Epoch 230/1000: 100%|█| 6/6 [00:05<00:00,  1.09batch/s, avg_loss=0.743, loss=0.6\n"
     ]
    },
    {
     "name": "stdout",
     "output_type": "stream",
     "text": [
      "230/1000 train loss: 0.7434636751810709  val loss: 0.8037245074907938\n"
     ]
    },
    {
     "name": "stderr",
     "output_type": "stream",
     "text": [
      "Epoch 231/1000: 100%|█| 6/6 [00:05<00:00,  1.10batch/s, avg_loss=0.66, loss=0.55\n"
     ]
    },
    {
     "name": "stdout",
     "output_type": "stream",
     "text": [
      "231/1000 train loss: 0.6599883238474528  val loss: 0.9259331425031027\n"
     ]
    },
    {
     "name": "stderr",
     "output_type": "stream",
     "text": [
      "Epoch 232/1000: 100%|█| 6/6 [00:05<00:00,  1.09batch/s, avg_loss=0.659, loss=0.8\n"
     ]
    },
    {
     "name": "stdout",
     "output_type": "stream",
     "text": [
      "232/1000 train loss: 0.6588575641314188  val loss: 0.8433573146661123\n"
     ]
    },
    {
     "name": "stderr",
     "output_type": "stream",
     "text": [
      "Epoch 233/1000: 100%|█| 6/6 [00:05<00:00,  1.09batch/s, avg_loss=0.657, loss=0.6\n"
     ]
    },
    {
     "name": "stdout",
     "output_type": "stream",
     "text": [
      "233/1000 train loss: 0.6566640834013621  val loss: 0.8662572701772054\n"
     ]
    },
    {
     "name": "stderr",
     "output_type": "stream",
     "text": [
      "Epoch 234/1000: 100%|█| 6/6 [00:05<00:00,  1.09batch/s, avg_loss=0.656, loss=0.5\n"
     ]
    },
    {
     "name": "stdout",
     "output_type": "stream",
     "text": [
      "234/1000 train loss: 0.6563284595807394  val loss: 0.8484752774238586\n"
     ]
    },
    {
     "name": "stderr",
     "output_type": "stream",
     "text": [
      "Epoch 235/1000: 100%|█| 6/6 [00:05<00:00,  1.09batch/s, avg_loss=0.723, loss=0.8\n"
     ]
    },
    {
     "name": "stdout",
     "output_type": "stream",
     "text": [
      "235/1000 train loss: 0.7230741282304128  val loss: 0.7672873536745707\n"
     ]
    },
    {
     "name": "stderr",
     "output_type": "stream",
     "text": [
      "Epoch 236/1000: 100%|█| 6/6 [00:05<00:00,  1.09batch/s, avg_loss=0.677, loss=0.7\n"
     ]
    },
    {
     "name": "stdout",
     "output_type": "stream",
     "text": [
      "236/1000 train loss: 0.6768699983755747  val loss: 0.6676346858342489\n"
     ]
    },
    {
     "name": "stderr",
     "output_type": "stream",
     "text": [
      "Epoch 237/1000: 100%|█| 6/6 [00:05<00:00,  1.10batch/s, avg_loss=0.647, loss=0.5\n"
     ]
    },
    {
     "name": "stdout",
     "output_type": "stream",
     "text": [
      "237/1000 train loss: 0.6466546654701233  val loss: 0.6607972880204519\n"
     ]
    },
    {
     "name": "stderr",
     "output_type": "stream",
     "text": [
      "Epoch 238/1000: 100%|█| 6/6 [00:05<00:00,  1.09batch/s, avg_loss=0.63, loss=0.60\n"
     ]
    },
    {
     "name": "stdout",
     "output_type": "stream",
     "text": [
      "238/1000 train loss: 0.6302999456723531  val loss: 0.7927084366480509\n"
     ]
    },
    {
     "name": "stderr",
     "output_type": "stream",
     "text": [
      "Epoch 239/1000: 100%|█| 6/6 [00:05<00:00,  1.09batch/s, avg_loss=0.695, loss=0.8\n"
     ]
    },
    {
     "name": "stdout",
     "output_type": "stream",
     "text": [
      "239/1000 train loss: 0.6953105429808298  val loss: 0.9353528916835785\n"
     ]
    },
    {
     "name": "stderr",
     "output_type": "stream",
     "text": [
      "Epoch 240/1000: 100%|█| 6/6 [00:05<00:00,  1.10batch/s, avg_loss=0.674, loss=0.7\n"
     ]
    },
    {
     "name": "stdout",
     "output_type": "stream",
     "text": [
      "240/1000 train loss: 0.6738744974136353  val loss: 0.8861480454603831\n"
     ]
    },
    {
     "name": "stderr",
     "output_type": "stream",
     "text": [
      "Epoch 241/1000: 100%|█| 6/6 [00:05<00:00,  1.09batch/s, avg_loss=0.69, loss=0.86\n"
     ]
    },
    {
     "name": "stdout",
     "output_type": "stream",
     "text": [
      "241/1000 train loss: 0.6904083689053854  val loss: 0.6745432019233704\n"
     ]
    },
    {
     "name": "stderr",
     "output_type": "stream",
     "text": [
      "Epoch 242/1000: 100%|█| 6/6 [00:05<00:00,  1.09batch/s, avg_loss=0.693, loss=0.6\n"
     ]
    },
    {
     "name": "stdout",
     "output_type": "stream",
     "text": [
      "242/1000 train loss: 0.6933584213256836  val loss: 0.8707882960637411\n"
     ]
    },
    {
     "name": "stderr",
     "output_type": "stream",
     "text": [
      "Epoch 243/1000: 100%|█| 6/6 [00:05<00:00,  1.09batch/s, avg_loss=0.676, loss=0.4\n"
     ]
    },
    {
     "name": "stdout",
     "output_type": "stream",
     "text": [
      "243/1000 train loss: 0.67631267507871  val loss: 0.825618733962377\n"
     ]
    },
    {
     "name": "stderr",
     "output_type": "stream",
     "text": [
      "Epoch 244/1000: 100%|█| 6/6 [00:05<00:00,  1.09batch/s, avg_loss=0.705, loss=0.7\n"
     ]
    },
    {
     "name": "stdout",
     "output_type": "stream",
     "text": [
      "244/1000 train loss: 0.7047902444998423  val loss: 0.8207512299219767\n"
     ]
    },
    {
     "name": "stderr",
     "output_type": "stream",
     "text": [
      "Epoch 245/1000: 100%|█| 6/6 [00:05<00:00,  1.09batch/s, avg_loss=0.709, loss=0.6\n"
     ]
    },
    {
     "name": "stdout",
     "output_type": "stream",
     "text": [
      "245/1000 train loss: 0.7088511983553568  val loss: 0.715744823217392\n"
     ]
    },
    {
     "name": "stderr",
     "output_type": "stream",
     "text": [
      "Epoch 246/1000: 100%|█| 6/6 [00:05<00:00,  1.09batch/s, avg_loss=0.67, loss=0.76\n"
     ]
    },
    {
     "name": "stdout",
     "output_type": "stream",
     "text": [
      "246/1000 train loss: 0.6698066890239716  val loss: 0.8113998274008433\n"
     ]
    },
    {
     "name": "stderr",
     "output_type": "stream",
     "text": [
      "Epoch 247/1000: 100%|█| 6/6 [00:05<00:00,  1.09batch/s, avg_loss=0.692, loss=0.5\n"
     ]
    },
    {
     "name": "stdout",
     "output_type": "stream",
     "text": [
      "247/1000 train loss: 0.6916594902674357  val loss: 0.7285017172495524\n"
     ]
    },
    {
     "name": "stderr",
     "output_type": "stream",
     "text": [
      "Epoch 248/1000: 100%|█| 6/6 [00:05<00:00,  1.09batch/s, avg_loss=0.657, loss=0.6\n"
     ]
    },
    {
     "name": "stdout",
     "output_type": "stream",
     "text": [
      "248/1000 train loss: 0.6565868755181631  val loss: 0.8523513277371725\n"
     ]
    },
    {
     "name": "stderr",
     "output_type": "stream",
     "text": [
      "Epoch 249/1000: 100%|█| 6/6 [00:05<00:00,  1.09batch/s, avg_loss=0.674, loss=0.5\n"
     ]
    },
    {
     "name": "stdout",
     "output_type": "stream",
     "text": [
      "249/1000 train loss: 0.6742703715960184  val loss: 0.8357985019683838\n"
     ]
    },
    {
     "name": "stderr",
     "output_type": "stream",
     "text": [
      "Epoch 250/1000: 100%|█| 6/6 [00:05<00:00,  1.09batch/s, avg_loss=0.674, loss=0.6\n"
     ]
    },
    {
     "name": "stdout",
     "output_type": "stream",
     "text": [
      "250/1000 train loss: 0.6742652952671051  val loss: 0.6504753828048706\n"
     ]
    },
    {
     "name": "stderr",
     "output_type": "stream",
     "text": [
      "Epoch 251/1000: 100%|█| 6/6 [00:05<00:00,  1.09batch/s, avg_loss=0.675, loss=0.5\n"
     ]
    },
    {
     "name": "stdout",
     "output_type": "stream",
     "text": [
      "251/1000 train loss: 0.6753045121828715  val loss: 0.9097645481427511\n"
     ]
    },
    {
     "name": "stderr",
     "output_type": "stream",
     "text": [
      "Epoch 252/1000: 100%|█| 6/6 [00:05<00:00,  1.10batch/s, avg_loss=0.67, loss=0.86\n"
     ]
    },
    {
     "name": "stdout",
     "output_type": "stream",
     "text": [
      "252/1000 train loss: 0.6696523527304331  val loss: 0.8774871329466502\n"
     ]
    },
    {
     "name": "stderr",
     "output_type": "stream",
     "text": [
      "Epoch 253/1000: 100%|█| 6/6 [00:05<00:00,  1.10batch/s, avg_loss=0.657, loss=0.6\n"
     ]
    },
    {
     "name": "stdout",
     "output_type": "stream",
     "text": [
      "253/1000 train loss: 0.6567263702551523  val loss: 0.7729257742563883\n"
     ]
    },
    {
     "name": "stderr",
     "output_type": "stream",
     "text": [
      "Epoch 254/1000: 100%|█| 6/6 [00:05<00:00,  1.09batch/s, avg_loss=0.69, loss=0.55\n"
     ]
    },
    {
     "name": "stdout",
     "output_type": "stream",
     "text": [
      "254/1000 train loss: 0.6902876595656077  val loss: 0.7445935308933258\n"
     ]
    },
    {
     "name": "stderr",
     "output_type": "stream",
     "text": [
      "Epoch 255/1000: 100%|█| 6/6 [00:05<00:00,  1.09batch/s, avg_loss=0.735, loss=0.5\n"
     ]
    },
    {
     "name": "stdout",
     "output_type": "stream",
     "text": [
      "255/1000 train loss: 0.7349762419859568  val loss: 0.5507301688194275\n"
     ]
    },
    {
     "name": "stderr",
     "output_type": "stream",
     "text": [
      "Epoch 256/1000: 100%|█| 6/6 [00:05<00:00,  1.09batch/s, avg_loss=0.668, loss=0.5\n"
     ]
    },
    {
     "name": "stdout",
     "output_type": "stream",
     "text": [
      "256/1000 train loss: 0.6684800088405609  val loss: 0.6673760612805685\n"
     ]
    },
    {
     "name": "stderr",
     "output_type": "stream",
     "text": [
      "Epoch 257/1000: 100%|█| 6/6 [00:05<00:00,  1.08batch/s, avg_loss=0.664, loss=0.5\n"
     ]
    },
    {
     "name": "stdout",
     "output_type": "stream",
     "text": [
      "257/1000 train loss: 0.6639814575513204  val loss: 0.7215806543827057\n"
     ]
    },
    {
     "name": "stderr",
     "output_type": "stream",
     "text": [
      "Epoch 258/1000: 100%|█| 6/6 [00:05<00:00,  1.10batch/s, avg_loss=0.653, loss=0.9\n"
     ]
    },
    {
     "name": "stdout",
     "output_type": "stream",
     "text": [
      "258/1000 train loss: 0.6526892681916555  val loss: 0.8775594830513\n"
     ]
    },
    {
     "name": "stderr",
     "output_type": "stream",
     "text": [
      "Epoch 259/1000: 100%|█| 6/6 [00:05<00:00,  1.09batch/s, avg_loss=0.694, loss=0.7\n"
     ]
    },
    {
     "name": "stdout",
     "output_type": "stream",
     "text": [
      "259/1000 train loss: 0.694379856189092  val loss: 0.8298296431700388\n"
     ]
    },
    {
     "name": "stderr",
     "output_type": "stream",
     "text": [
      "Epoch 260/1000: 100%|█| 6/6 [00:05<00:00,  1.10batch/s, avg_loss=0.762, loss=0.7\n"
     ]
    },
    {
     "name": "stdout",
     "output_type": "stream",
     "text": [
      "260/1000 train loss: 0.761508713165919  val loss: 0.8792415857315063\n"
     ]
    },
    {
     "name": "stderr",
     "output_type": "stream",
     "text": [
      "Epoch 261/1000: 100%|█| 6/6 [00:05<00:00,  1.10batch/s, avg_loss=0.652, loss=0.8\n"
     ]
    },
    {
     "name": "stdout",
     "output_type": "stream",
     "text": [
      "261/1000 train loss: 0.6516691744327545  val loss: 0.8352031111717224\n"
     ]
    },
    {
     "name": "stderr",
     "output_type": "stream",
     "text": [
      "Epoch 262/1000: 100%|█| 6/6 [00:05<00:00,  1.10batch/s, avg_loss=0.674, loss=0.6\n"
     ]
    },
    {
     "name": "stdout",
     "output_type": "stream",
     "text": [
      "262/1000 train loss: 0.6739326318105062  val loss: 0.7194130718708038\n"
     ]
    },
    {
     "name": "stderr",
     "output_type": "stream",
     "text": [
      "Epoch 263/1000: 100%|█| 6/6 [00:05<00:00,  1.09batch/s, avg_loss=0.65, loss=0.84\n"
     ]
    },
    {
     "name": "stdout",
     "output_type": "stream",
     "text": [
      "263/1000 train loss: 0.6498521765073141  val loss: 0.7716448903083801\n"
     ]
    },
    {
     "name": "stderr",
     "output_type": "stream",
     "text": [
      "Epoch 264/1000: 100%|█| 6/6 [00:05<00:00,  1.10batch/s, avg_loss=0.671, loss=0.8\n"
     ]
    },
    {
     "name": "stdout",
     "output_type": "stream",
     "text": [
      "264/1000 train loss: 0.6707922518253326  val loss: 0.692784438530604\n"
     ]
    },
    {
     "name": "stderr",
     "output_type": "stream",
     "text": [
      "Epoch 265/1000: 100%|█| 6/6 [00:05<00:00,  1.10batch/s, avg_loss=0.692, loss=0.5\n"
     ]
    },
    {
     "name": "stdout",
     "output_type": "stream",
     "text": [
      "265/1000 train loss: 0.6916164457798004  val loss: 0.8169278005758921\n"
     ]
    },
    {
     "name": "stderr",
     "output_type": "stream",
     "text": [
      "Epoch 266/1000: 100%|█| 6/6 [00:05<00:00,  1.10batch/s, avg_loss=0.694, loss=0.6\n"
     ]
    },
    {
     "name": "stdout",
     "output_type": "stream",
     "text": [
      "266/1000 train loss: 0.6937144796053568  val loss: 0.7356220185756683\n"
     ]
    },
    {
     "name": "stderr",
     "output_type": "stream",
     "text": [
      "Epoch 267/1000: 100%|█| 6/6 [00:05<00:00,  1.10batch/s, avg_loss=0.659, loss=0.6\n"
     ]
    },
    {
     "name": "stdout",
     "output_type": "stream",
     "text": [
      "267/1000 train loss: 0.6587469180425009  val loss: 0.6769115328788757\n"
     ]
    },
    {
     "name": "stderr",
     "output_type": "stream",
     "text": [
      "Epoch 268/1000: 100%|█| 6/6 [00:05<00:00,  1.10batch/s, avg_loss=0.658, loss=0.7\n"
     ]
    },
    {
     "name": "stdout",
     "output_type": "stream",
     "text": [
      "268/1000 train loss: 0.6584843993186951  val loss: 0.6102684338887533\n"
     ]
    },
    {
     "name": "stderr",
     "output_type": "stream",
     "text": [
      "Epoch 269/1000: 100%|█| 6/6 [00:05<00:00,  1.10batch/s, avg_loss=0.678, loss=0.7\n"
     ]
    },
    {
     "name": "stdout",
     "output_type": "stream",
     "text": [
      "269/1000 train loss: 0.6780420243740082  val loss: 0.8008941213289896\n"
     ]
    },
    {
     "name": "stderr",
     "output_type": "stream",
     "text": [
      "Epoch 270/1000: 100%|█| 6/6 [00:05<00:00,  1.10batch/s, avg_loss=0.678, loss=0.8\n"
     ]
    },
    {
     "name": "stdout",
     "output_type": "stream",
     "text": [
      "270/1000 train loss: 0.678446888923645  val loss: 0.6439565221468607\n"
     ]
    },
    {
     "name": "stderr",
     "output_type": "stream",
     "text": [
      "Epoch 271/1000: 100%|█| 6/6 [00:05<00:00,  1.09batch/s, avg_loss=0.679, loss=0.6\n"
     ]
    },
    {
     "name": "stdout",
     "output_type": "stream",
     "text": [
      "271/1000 train loss: 0.6794373293717703  val loss: 0.6913530727227529\n"
     ]
    },
    {
     "name": "stderr",
     "output_type": "stream",
     "text": [
      "Epoch 272/1000: 100%|█| 6/6 [00:05<00:00,  1.09batch/s, avg_loss=0.722, loss=0.6\n"
     ]
    },
    {
     "name": "stdout",
     "output_type": "stream",
     "text": [
      "272/1000 train loss: 0.7218801379203796  val loss: 0.7929869393507639\n"
     ]
    },
    {
     "name": "stderr",
     "output_type": "stream",
     "text": [
      "Epoch 273/1000: 100%|█| 6/6 [00:05<00:00,  1.10batch/s, avg_loss=0.668, loss=0.6\n"
     ]
    },
    {
     "name": "stdout",
     "output_type": "stream",
     "text": [
      "273/1000 train loss: 0.6684897144635519  val loss: 0.6917976339658102\n"
     ]
    },
    {
     "name": "stderr",
     "output_type": "stream",
     "text": [
      "Epoch 274/1000: 100%|█| 6/6 [00:05<00:00,  1.09batch/s, avg_loss=0.638, loss=0.7\n"
     ]
    },
    {
     "name": "stdout",
     "output_type": "stream",
     "text": [
      "274/1000 train loss: 0.6378212869167328  val loss: 0.6150026818116506\n"
     ]
    },
    {
     "name": "stderr",
     "output_type": "stream",
     "text": [
      "Epoch 275/1000: 100%|█| 6/6 [00:05<00:00,  1.09batch/s, avg_loss=0.699, loss=0.6\n"
     ]
    },
    {
     "name": "stdout",
     "output_type": "stream",
     "text": [
      "275/1000 train loss: 0.6991090575853983  val loss: 0.825161745150884\n"
     ]
    },
    {
     "name": "stderr",
     "output_type": "stream",
     "text": [
      "Epoch 276/1000: 100%|█| 6/6 [00:05<00:00,  1.10batch/s, avg_loss=0.649, loss=0.8\n"
     ]
    },
    {
     "name": "stdout",
     "output_type": "stream",
     "text": [
      "276/1000 train loss: 0.6491102278232574  val loss: 0.904837946097056\n"
     ]
    },
    {
     "name": "stderr",
     "output_type": "stream",
     "text": [
      "Epoch 277/1000: 100%|█| 6/6 [00:05<00:00,  1.09batch/s, avg_loss=0.644, loss=0.8\n"
     ]
    },
    {
     "name": "stdout",
     "output_type": "stream",
     "text": [
      "277/1000 train loss: 0.6442580819129944  val loss: 0.741368313630422\n"
     ]
    },
    {
     "name": "stderr",
     "output_type": "stream",
     "text": [
      "Epoch 278/1000: 100%|█| 6/6 [00:05<00:00,  1.08batch/s, avg_loss=0.696, loss=0.6\n"
     ]
    },
    {
     "name": "stdout",
     "output_type": "stream",
     "text": [
      "278/1000 train loss: 0.6957234144210815  val loss: 0.6580944061279297\n"
     ]
    },
    {
     "name": "stderr",
     "output_type": "stream",
     "text": [
      "Epoch 279/1000: 100%|█| 6/6 [00:05<00:00,  1.08batch/s, avg_loss=0.664, loss=0.6\n"
     ]
    },
    {
     "name": "stdout",
     "output_type": "stream",
     "text": [
      "279/1000 train loss: 0.6638399263223013  val loss: 0.8863171339035034\n"
     ]
    },
    {
     "name": "stderr",
     "output_type": "stream",
     "text": [
      "Epoch 280/1000: 100%|█| 6/6 [00:05<00:00,  1.10batch/s, avg_loss=0.64, loss=0.67\n"
     ]
    },
    {
     "name": "stdout",
     "output_type": "stream",
     "text": [
      "280/1000 train loss: 0.6404478450616201  val loss: 0.7174793084462484\n"
     ]
    },
    {
     "name": "stderr",
     "output_type": "stream",
     "text": [
      "Epoch 281/1000: 100%|█| 6/6 [00:05<00:00,  1.09batch/s, avg_loss=0.709, loss=0.5\n"
     ]
    },
    {
     "name": "stdout",
     "output_type": "stream",
     "text": [
      "281/1000 train loss: 0.708757479985555  val loss: 0.8169303933779398\n"
     ]
    },
    {
     "name": "stderr",
     "output_type": "stream",
     "text": [
      "Epoch 282/1000: 100%|█| 6/6 [00:05<00:00,  1.08batch/s, avg_loss=0.703, loss=0.8\n"
     ]
    },
    {
     "name": "stdout",
     "output_type": "stream",
     "text": [
      "282/1000 train loss: 0.7034902175267538  val loss: 0.7941554486751556\n"
     ]
    },
    {
     "name": "stderr",
     "output_type": "stream",
     "text": [
      "Epoch 283/1000: 100%|█| 6/6 [00:05<00:00,  1.09batch/s, avg_loss=0.653, loss=0.4\n"
     ]
    },
    {
     "name": "stdout",
     "output_type": "stream",
     "text": [
      "283/1000 train loss: 0.6531207859516144  val loss: 0.8054131666819254\n"
     ]
    },
    {
     "name": "stderr",
     "output_type": "stream",
     "text": [
      "Epoch 284/1000: 100%|█| 6/6 [00:05<00:00,  1.09batch/s, avg_loss=0.651, loss=0.8\n"
     ]
    },
    {
     "name": "stdout",
     "output_type": "stream",
     "text": [
      "284/1000 train loss: 0.6508375406265259  val loss: 0.6706119378407797\n"
     ]
    },
    {
     "name": "stderr",
     "output_type": "stream",
     "text": [
      "Epoch 285/1000: 100%|█| 6/6 [00:05<00:00,  1.10batch/s, avg_loss=0.702, loss=0.9\n"
     ]
    },
    {
     "name": "stdout",
     "output_type": "stream",
     "text": [
      "285/1000 train loss: 0.7016464571158091  val loss: 0.757993350426356\n"
     ]
    },
    {
     "name": "stderr",
     "output_type": "stream",
     "text": [
      "Epoch 286/1000: 100%|█| 6/6 [00:05<00:00,  1.10batch/s, avg_loss=0.687, loss=0.7\n"
     ]
    },
    {
     "name": "stdout",
     "output_type": "stream",
     "text": [
      "286/1000 train loss: 0.6870902876059214  val loss: 0.9249143302440643\n"
     ]
    },
    {
     "name": "stderr",
     "output_type": "stream",
     "text": [
      "Epoch 287/1000: 100%|█| 6/6 [00:05<00:00,  1.09batch/s, avg_loss=0.743, loss=0.5\n"
     ]
    },
    {
     "name": "stdout",
     "output_type": "stream",
     "text": [
      "287/1000 train loss: 0.7434219817320505  val loss: 0.820836216211319\n"
     ]
    },
    {
     "name": "stderr",
     "output_type": "stream",
     "text": [
      "Epoch 288/1000: 100%|█| 6/6 [00:05<00:00,  1.09batch/s, avg_loss=0.713, loss=0.8\n"
     ]
    },
    {
     "name": "stdout",
     "output_type": "stream",
     "text": [
      "288/1000 train loss: 0.7134206493695577  val loss: 0.83135254184405\n"
     ]
    },
    {
     "name": "stderr",
     "output_type": "stream",
     "text": [
      "Epoch 289/1000: 100%|█| 6/6 [00:05<00:00,  1.09batch/s, avg_loss=0.654, loss=0.6\n"
     ]
    },
    {
     "name": "stdout",
     "output_type": "stream",
     "text": [
      "289/1000 train loss: 0.6541043420632681  val loss: 0.8244672616322836\n"
     ]
    },
    {
     "name": "stderr",
     "output_type": "stream",
     "text": [
      "Epoch 290/1000: 100%|█| 6/6 [00:05<00:00,  1.09batch/s, avg_loss=0.717, loss=0.6\n"
     ]
    },
    {
     "name": "stdout",
     "output_type": "stream",
     "text": [
      "290/1000 train loss: 0.7166829407215118  val loss: 0.834997316201528\n"
     ]
    },
    {
     "name": "stderr",
     "output_type": "stream",
     "text": [
      "Epoch 291/1000: 100%|█| 6/6 [00:05<00:00,  1.09batch/s, avg_loss=0.667, loss=0.7\n"
     ]
    },
    {
     "name": "stdout",
     "output_type": "stream",
     "text": [
      "291/1000 train loss: 0.6670923431714376  val loss: 0.774029423793157\n"
     ]
    },
    {
     "name": "stderr",
     "output_type": "stream",
     "text": [
      "Epoch 292/1000: 100%|█| 6/6 [00:05<00:00,  1.10batch/s, avg_loss=0.719, loss=0.8\n"
     ]
    },
    {
     "name": "stdout",
     "output_type": "stream",
     "text": [
      "292/1000 train loss: 0.718511313199997  val loss: 0.7557616829872131\n"
     ]
    },
    {
     "name": "stderr",
     "output_type": "stream",
     "text": [
      "Epoch 293/1000: 100%|█| 6/6 [00:05<00:00,  1.10batch/s, avg_loss=0.633, loss=0.4\n"
     ]
    },
    {
     "name": "stdout",
     "output_type": "stream",
     "text": [
      "293/1000 train loss: 0.6332597434520721  val loss: 0.7622393170992533\n"
     ]
    },
    {
     "name": "stderr",
     "output_type": "stream",
     "text": [
      "Epoch 294/1000: 100%|█| 6/6 [00:05<00:00,  1.10batch/s, avg_loss=0.671, loss=0.5\n"
     ]
    },
    {
     "name": "stdout",
     "output_type": "stream",
     "text": [
      "294/1000 train loss: 0.6714497705300649  val loss: 0.6449742019176483\n"
     ]
    },
    {
     "name": "stderr",
     "output_type": "stream",
     "text": [
      "Epoch 295/1000: 100%|█| 6/6 [00:05<00:00,  1.09batch/s, avg_loss=0.621, loss=0.5\n"
     ]
    },
    {
     "name": "stdout",
     "output_type": "stream",
     "text": [
      "295/1000 train loss: 0.6211759646733602  val loss: 0.8239886363347372\n"
     ]
    },
    {
     "name": "stderr",
     "output_type": "stream",
     "text": [
      "Epoch 296/1000: 100%|█| 6/6 [00:05<00:00,  1.09batch/s, avg_loss=0.649, loss=0.7\n"
     ]
    },
    {
     "name": "stdout",
     "output_type": "stream",
     "text": [
      "296/1000 train loss: 0.6488787829875946  val loss: 0.6126436392466227\n"
     ]
    },
    {
     "name": "stderr",
     "output_type": "stream",
     "text": [
      "Epoch 297/1000: 100%|█| 6/6 [00:05<00:00,  1.09batch/s, avg_loss=0.642, loss=0.7\n"
     ]
    },
    {
     "name": "stdout",
     "output_type": "stream",
     "text": [
      "297/1000 train loss: 0.6420272688070933  val loss: 0.7056910991668701\n"
     ]
    },
    {
     "name": "stderr",
     "output_type": "stream",
     "text": [
      "Epoch 298/1000: 100%|█| 6/6 [00:05<00:00,  1.10batch/s, avg_loss=0.723, loss=0.6\n"
     ]
    },
    {
     "name": "stdout",
     "output_type": "stream",
     "text": [
      "298/1000 train loss: 0.7233493228753408  val loss: 0.8577098250389099\n"
     ]
    },
    {
     "name": "stderr",
     "output_type": "stream",
     "text": [
      "Epoch 299/1000: 100%|█| 6/6 [00:05<00:00,  1.09batch/s, avg_loss=0.706, loss=0.7\n"
     ]
    },
    {
     "name": "stdout",
     "output_type": "stream",
     "text": [
      "299/1000 train loss: 0.7063766022523245  val loss: 0.8184082011381785\n"
     ]
    },
    {
     "name": "stderr",
     "output_type": "stream",
     "text": [
      "Epoch 300/1000: 100%|█| 6/6 [00:05<00:00,  1.09batch/s, avg_loss=0.655, loss=0.5\n"
     ]
    },
    {
     "name": "stdout",
     "output_type": "stream",
     "text": [
      "300/1000 train loss: 0.6550088326136271  val loss: 0.791611244281133\n"
     ]
    },
    {
     "name": "stderr",
     "output_type": "stream",
     "text": [
      "Epoch 301/1000: 100%|█| 6/6 [00:05<00:00,  1.09batch/s, avg_loss=0.629, loss=0.6\n"
     ]
    },
    {
     "name": "stdout",
     "output_type": "stream",
     "text": [
      "301/1000 train loss: 0.6285101572672526  val loss: 0.7649633089701334\n"
     ]
    },
    {
     "name": "stderr",
     "output_type": "stream",
     "text": [
      "Epoch 302/1000: 100%|█| 6/6 [00:05<00:00,  1.09batch/s, avg_loss=0.721, loss=0.4\n"
     ]
    },
    {
     "name": "stdout",
     "output_type": "stream",
     "text": [
      "302/1000 train loss: 0.7206067740917206  val loss: 0.6823040942351023\n"
     ]
    },
    {
     "name": "stderr",
     "output_type": "stream",
     "text": [
      "Epoch 303/1000: 100%|█| 6/6 [00:05<00:00,  1.10batch/s, avg_loss=0.685, loss=0.8\n"
     ]
    },
    {
     "name": "stdout",
     "output_type": "stream",
     "text": [
      "303/1000 train loss: 0.685210257768631  val loss: 0.7716705401738485\n"
     ]
    },
    {
     "name": "stderr",
     "output_type": "stream",
     "text": [
      "Epoch 304/1000: 100%|█| 6/6 [00:05<00:00,  1.09batch/s, avg_loss=0.641, loss=0.7\n"
     ]
    },
    {
     "name": "stdout",
     "output_type": "stream",
     "text": [
      "304/1000 train loss: 0.641150544087092  val loss: 0.8862526714801788\n"
     ]
    },
    {
     "name": "stderr",
     "output_type": "stream",
     "text": [
      "Epoch 305/1000: 100%|█| 6/6 [00:05<00:00,  1.10batch/s, avg_loss=0.641, loss=0.6\n"
     ]
    },
    {
     "name": "stdout",
     "output_type": "stream",
     "text": [
      "305/1000 train loss: 0.6405054231484731  val loss: 0.7755082150300344\n"
     ]
    },
    {
     "name": "stderr",
     "output_type": "stream",
     "text": [
      "Epoch 306/1000: 100%|█| 6/6 [00:05<00:00,  1.09batch/s, avg_loss=0.68, loss=0.69\n"
     ]
    },
    {
     "name": "stdout",
     "output_type": "stream",
     "text": [
      "306/1000 train loss: 0.6802268028259277  val loss: 0.5938896636168162\n"
     ]
    },
    {
     "name": "stderr",
     "output_type": "stream",
     "text": [
      "Epoch 307/1000: 100%|█| 6/6 [00:05<00:00,  1.09batch/s, avg_loss=0.707, loss=0.7\n"
     ]
    },
    {
     "name": "stdout",
     "output_type": "stream",
     "text": [
      "307/1000 train loss: 0.7072095175584158  val loss: 0.711888462305069\n"
     ]
    },
    {
     "name": "stderr",
     "output_type": "stream",
     "text": [
      "Epoch 308/1000: 100%|█| 6/6 [00:05<00:00,  1.09batch/s, avg_loss=0.723, loss=0.8\n"
     ]
    },
    {
     "name": "stdout",
     "output_type": "stream",
     "text": [
      "308/1000 train loss: 0.7232039272785187  val loss: 0.6586952606836954\n"
     ]
    },
    {
     "name": "stderr",
     "output_type": "stream",
     "text": [
      "Epoch 309/1000: 100%|█| 6/6 [00:05<00:00,  1.09batch/s, avg_loss=0.697, loss=0.6\n"
     ]
    },
    {
     "name": "stdout",
     "output_type": "stream",
     "text": [
      "309/1000 train loss: 0.696815570195516  val loss: 0.6913047035535177\n"
     ]
    },
    {
     "name": "stderr",
     "output_type": "stream",
     "text": [
      "Epoch 310/1000: 100%|█| 6/6 [00:05<00:00,  1.09batch/s, avg_loss=0.735, loss=0.6\n"
     ]
    },
    {
     "name": "stdout",
     "output_type": "stream",
     "text": [
      "310/1000 train loss: 0.7346586485703787  val loss: 0.6323534647623698\n"
     ]
    },
    {
     "name": "stderr",
     "output_type": "stream",
     "text": [
      "Epoch 311/1000: 100%|█| 6/6 [00:05<00:00,  1.09batch/s, avg_loss=0.635, loss=0.6\n"
     ]
    },
    {
     "name": "stdout",
     "output_type": "stream",
     "text": [
      "311/1000 train loss: 0.6351357797781626  val loss: 0.7362350821495056\n"
     ]
    },
    {
     "name": "stderr",
     "output_type": "stream",
     "text": [
      "Epoch 312/1000: 100%|█| 6/6 [00:05<00:00,  1.09batch/s, avg_loss=0.667, loss=0.5\n"
     ]
    },
    {
     "name": "stdout",
     "output_type": "stream",
     "text": [
      "312/1000 train loss: 0.6672963003317515  val loss: 0.7624224225680033\n"
     ]
    },
    {
     "name": "stderr",
     "output_type": "stream",
     "text": [
      "Epoch 313/1000: 100%|█| 6/6 [00:05<00:00,  1.09batch/s, avg_loss=0.691, loss=0.5\n"
     ]
    },
    {
     "name": "stdout",
     "output_type": "stream",
     "text": [
      "313/1000 train loss: 0.6913519004980723  val loss: 0.8017283777395884\n"
     ]
    },
    {
     "name": "stderr",
     "output_type": "stream",
     "text": [
      "Epoch 314/1000: 100%|█| 6/6 [00:05<00:00,  1.10batch/s, avg_loss=0.643, loss=0.4\n"
     ]
    },
    {
     "name": "stdout",
     "output_type": "stream",
     "text": [
      "314/1000 train loss: 0.6430312792460123  val loss: 0.8961794277032217\n"
     ]
    },
    {
     "name": "stderr",
     "output_type": "stream",
     "text": [
      "Epoch 315/1000: 100%|█| 6/6 [00:05<00:00,  1.09batch/s, avg_loss=0.733, loss=0.5\n"
     ]
    },
    {
     "name": "stdout",
     "output_type": "stream",
     "text": [
      "315/1000 train loss: 0.7327876190344492  val loss: 0.7241379618644714\n"
     ]
    },
    {
     "name": "stderr",
     "output_type": "stream",
     "text": [
      "Epoch 316/1000: 100%|█| 6/6 [00:05<00:00,  1.09batch/s, avg_loss=0.652, loss=0.6\n"
     ]
    },
    {
     "name": "stdout",
     "output_type": "stream",
     "text": [
      "316/1000 train loss: 0.6522451937198639  val loss: 0.8310403029123942\n"
     ]
    },
    {
     "name": "stderr",
     "output_type": "stream",
     "text": [
      "Epoch 317/1000: 100%|█| 6/6 [00:05<00:00,  1.10batch/s, avg_loss=0.642, loss=0.6\n"
     ]
    },
    {
     "name": "stdout",
     "output_type": "stream",
     "text": [
      "317/1000 train loss: 0.6423984865347544  val loss: 0.6258662442366282\n"
     ]
    },
    {
     "name": "stderr",
     "output_type": "stream",
     "text": [
      "Epoch 318/1000: 100%|█| 6/6 [00:05<00:00,  1.10batch/s, avg_loss=0.674, loss=0.6\n"
     ]
    },
    {
     "name": "stdout",
     "output_type": "stream",
     "text": [
      "318/1000 train loss: 0.673821340004603  val loss: 0.6639979283014933\n"
     ]
    },
    {
     "name": "stderr",
     "output_type": "stream",
     "text": [
      "Epoch 319/1000: 100%|█| 6/6 [00:05<00:00,  1.10batch/s, avg_loss=0.714, loss=0.8\n"
     ]
    },
    {
     "name": "stdout",
     "output_type": "stream",
     "text": [
      "319/1000 train loss: 0.714015394449234  val loss: 0.7996522585550944\n"
     ]
    },
    {
     "name": "stderr",
     "output_type": "stream",
     "text": [
      "Epoch 320/1000: 100%|█| 6/6 [00:05<00:00,  1.09batch/s, avg_loss=0.627, loss=0.3\n"
     ]
    },
    {
     "name": "stdout",
     "output_type": "stream",
     "text": [
      "320/1000 train loss: 0.6274350086847941  val loss: 0.6806101004282633\n"
     ]
    },
    {
     "name": "stderr",
     "output_type": "stream",
     "text": [
      "Epoch 321/1000: 100%|█| 6/6 [00:05<00:00,  1.09batch/s, avg_loss=0.647, loss=0.7\n"
     ]
    },
    {
     "name": "stdout",
     "output_type": "stream",
     "text": [
      "321/1000 train loss: 0.6468704442183176  val loss: 0.7371083696683248\n"
     ]
    },
    {
     "name": "stderr",
     "output_type": "stream",
     "text": [
      "Epoch 322/1000: 100%|█| 6/6 [00:05<00:00,  1.10batch/s, avg_loss=0.637, loss=0.6\n"
     ]
    },
    {
     "name": "stdout",
     "output_type": "stream",
     "text": [
      "322/1000 train loss: 0.6371828317642212  val loss: 0.7431071897347769\n"
     ]
    },
    {
     "name": "stderr",
     "output_type": "stream",
     "text": [
      "Epoch 323/1000: 100%|█| 6/6 [00:05<00:00,  1.10batch/s, avg_loss=0.667, loss=0.7\n"
     ]
    },
    {
     "name": "stdout",
     "output_type": "stream",
     "text": [
      "323/1000 train loss: 0.6670035719871521  val loss: 0.8096305131912231\n"
     ]
    },
    {
     "name": "stderr",
     "output_type": "stream",
     "text": [
      "Epoch 324/1000: 100%|█| 6/6 [00:05<00:00,  1.10batch/s, avg_loss=0.735, loss=0.7\n"
     ]
    },
    {
     "name": "stdout",
     "output_type": "stream",
     "text": [
      "324/1000 train loss: 0.734679232041041  val loss: 0.7195998926957449\n"
     ]
    },
    {
     "name": "stderr",
     "output_type": "stream",
     "text": [
      "Epoch 325/1000: 100%|█| 6/6 [00:05<00:00,  1.09batch/s, avg_loss=0.716, loss=0.8\n"
     ]
    },
    {
     "name": "stdout",
     "output_type": "stream",
     "text": [
      "325/1000 train loss: 0.7155546347300211  val loss: 0.6277198195457458\n"
     ]
    },
    {
     "name": "stderr",
     "output_type": "stream",
     "text": [
      "Epoch 326/1000: 100%|█| 6/6 [00:05<00:00,  1.09batch/s, avg_loss=0.695, loss=0.7\n"
     ]
    },
    {
     "name": "stdout",
     "output_type": "stream",
     "text": [
      "326/1000 train loss: 0.6945871313412985  val loss: 0.6865525941054026\n"
     ]
    },
    {
     "name": "stderr",
     "output_type": "stream",
     "text": [
      "Epoch 327/1000: 100%|█| 6/6 [00:05<00:00,  1.10batch/s, avg_loss=0.691, loss=0.7\n"
     ]
    },
    {
     "name": "stdout",
     "output_type": "stream",
     "text": [
      "327/1000 train loss: 0.6914510726928711  val loss: 0.719785213470459\n"
     ]
    },
    {
     "name": "stderr",
     "output_type": "stream",
     "text": [
      "Epoch 328/1000: 100%|█| 6/6 [00:05<00:00,  1.09batch/s, avg_loss=0.661, loss=0.6\n"
     ]
    },
    {
     "name": "stdout",
     "output_type": "stream",
     "text": [
      "328/1000 train loss: 0.6607833107312521  val loss: 0.7845977346102396\n"
     ]
    },
    {
     "name": "stderr",
     "output_type": "stream",
     "text": [
      "Epoch 329/1000: 100%|█| 6/6 [00:05<00:00,  1.09batch/s, avg_loss=0.641, loss=0.7\n"
     ]
    },
    {
     "name": "stdout",
     "output_type": "stream",
     "text": [
      "329/1000 train loss: 0.6407300432523092  val loss: 0.8581459124883016\n"
     ]
    },
    {
     "name": "stderr",
     "output_type": "stream",
     "text": [
      "Epoch 330/1000: 100%|█| 6/6 [00:05<00:00,  1.09batch/s, avg_loss=0.645, loss=0.6\n"
     ]
    },
    {
     "name": "stdout",
     "output_type": "stream",
     "text": [
      "330/1000 train loss: 0.6453597247600555  val loss: 0.5914465288321177\n"
     ]
    },
    {
     "name": "stderr",
     "output_type": "stream",
     "text": [
      "Epoch 331/1000: 100%|█| 6/6 [00:05<00:00,  1.09batch/s, avg_loss=0.663, loss=0.7\n"
     ]
    },
    {
     "name": "stdout",
     "output_type": "stream",
     "text": [
      "331/1000 train loss: 0.6633129914601644  val loss: 0.8217962682247162\n"
     ]
    },
    {
     "name": "stderr",
     "output_type": "stream",
     "text": [
      "Epoch 332/1000: 100%|█| 6/6 [00:05<00:00,  1.09batch/s, avg_loss=0.689, loss=0.5\n"
     ]
    },
    {
     "name": "stdout",
     "output_type": "stream",
     "text": [
      "332/1000 train loss: 0.6889404455820719  val loss: 0.8358844121297201\n"
     ]
    },
    {
     "name": "stderr",
     "output_type": "stream",
     "text": [
      "Epoch 333/1000: 100%|█| 6/6 [00:05<00:00,  1.10batch/s, avg_loss=0.612, loss=0.5\n"
     ]
    },
    {
     "name": "stdout",
     "output_type": "stream",
     "text": [
      "333/1000 train loss: 0.611515482266744  val loss: 0.7365606327851614\n"
     ]
    },
    {
     "name": "stderr",
     "output_type": "stream",
     "text": [
      "Epoch 334/1000: 100%|█| 6/6 [00:05<00:00,  1.09batch/s, avg_loss=0.653, loss=0.4\n"
     ]
    },
    {
     "name": "stdout",
     "output_type": "stream",
     "text": [
      "334/1000 train loss: 0.6526113152503967  val loss: 0.8746786912282308\n"
     ]
    },
    {
     "name": "stderr",
     "output_type": "stream",
     "text": [
      "Epoch 335/1000: 100%|█| 6/6 [00:05<00:00,  1.09batch/s, avg_loss=0.624, loss=0.8\n"
     ]
    },
    {
     "name": "stdout",
     "output_type": "stream",
     "text": [
      "335/1000 train loss: 0.6244304180145264  val loss: 0.7902478675047556\n"
     ]
    },
    {
     "name": "stderr",
     "output_type": "stream",
     "text": [
      "Epoch 336/1000: 100%|█| 6/6 [00:05<00:00,  1.10batch/s, avg_loss=0.665, loss=0.7\n"
     ]
    },
    {
     "name": "stdout",
     "output_type": "stream",
     "text": [
      "336/1000 train loss: 0.6646439035733541  val loss: 0.7446493903795878\n"
     ]
    },
    {
     "name": "stderr",
     "output_type": "stream",
     "text": [
      "Epoch 337/1000: 100%|█| 6/6 [00:05<00:00,  1.09batch/s, avg_loss=0.64, loss=0.74\n"
     ]
    },
    {
     "name": "stdout",
     "output_type": "stream",
     "text": [
      "337/1000 train loss: 0.6395889023939768  val loss: 0.6765922407309214\n"
     ]
    },
    {
     "name": "stderr",
     "output_type": "stream",
     "text": [
      "Epoch 338/1000: 100%|█| 6/6 [00:05<00:00,  1.10batch/s, avg_loss=0.621, loss=0.6\n"
     ]
    },
    {
     "name": "stdout",
     "output_type": "stream",
     "text": [
      "338/1000 train loss: 0.6209420959154764  val loss: 0.8102712432543436\n"
     ]
    },
    {
     "name": "stderr",
     "output_type": "stream",
     "text": [
      "Epoch 339/1000: 100%|█| 6/6 [00:05<00:00,  1.08batch/s, avg_loss=0.657, loss=0.5\n"
     ]
    },
    {
     "name": "stdout",
     "output_type": "stream",
     "text": [
      "339/1000 train loss: 0.6574213604132334  val loss: 0.5037158032258352\n"
     ]
    },
    {
     "name": "stderr",
     "output_type": "stream",
     "text": [
      "Epoch 340/1000: 100%|█| 6/6 [00:05<00:00,  1.10batch/s, avg_loss=0.679, loss=0.7\n"
     ]
    },
    {
     "name": "stdout",
     "output_type": "stream",
     "text": [
      "340/1000 train loss: 0.6790227194627126  val loss: 0.5558017988999685\n"
     ]
    },
    {
     "name": "stderr",
     "output_type": "stream",
     "text": [
      "Epoch 341/1000: 100%|█| 6/6 [00:05<00:00,  1.09batch/s, avg_loss=0.658, loss=0.5\n"
     ]
    },
    {
     "name": "stdout",
     "output_type": "stream",
     "text": [
      "341/1000 train loss: 0.6578457554181417  val loss: 0.7953746517499288\n"
     ]
    },
    {
     "name": "stderr",
     "output_type": "stream",
     "text": [
      "Epoch 342/1000: 100%|█| 6/6 [00:05<00:00,  1.09batch/s, avg_loss=0.665, loss=0.6\n"
     ]
    },
    {
     "name": "stdout",
     "output_type": "stream",
     "text": [
      "342/1000 train loss: 0.6652468939622244  val loss: 0.8361832797527313\n"
     ]
    },
    {
     "name": "stderr",
     "output_type": "stream",
     "text": [
      "Epoch 343/1000: 100%|█| 6/6 [00:05<00:00,  1.09batch/s, avg_loss=0.669, loss=0.6\n"
     ]
    },
    {
     "name": "stdout",
     "output_type": "stream",
     "text": [
      "343/1000 train loss: 0.6685482064882914  val loss: 0.9205544690291086\n"
     ]
    },
    {
     "name": "stderr",
     "output_type": "stream",
     "text": [
      "Epoch 344/1000: 100%|█| 6/6 [00:05<00:00,  1.09batch/s, avg_loss=0.647, loss=0.6\n"
     ]
    },
    {
     "name": "stdout",
     "output_type": "stream",
     "text": [
      "344/1000 train loss: 0.6472897926966349  val loss: 0.6929237842559814\n"
     ]
    },
    {
     "name": "stderr",
     "output_type": "stream",
     "text": [
      "Epoch 345/1000: 100%|█| 6/6 [00:05<00:00,  1.09batch/s, avg_loss=0.701, loss=0.7\n"
     ]
    },
    {
     "name": "stdout",
     "output_type": "stream",
     "text": [
      "345/1000 train loss: 0.7009035348892212  val loss: 0.9361500342686971\n"
     ]
    },
    {
     "name": "stderr",
     "output_type": "stream",
     "text": [
      "Epoch 346/1000: 100%|█| 6/6 [00:05<00:00,  1.10batch/s, avg_loss=0.665, loss=0.7\n"
     ]
    },
    {
     "name": "stdout",
     "output_type": "stream",
     "text": [
      "346/1000 train loss: 0.6648319462935129  val loss: 0.8216025034586588\n"
     ]
    },
    {
     "name": "stderr",
     "output_type": "stream",
     "text": [
      "Epoch 347/1000: 100%|█| 6/6 [00:05<00:00,  1.09batch/s, avg_loss=0.728, loss=0.8\n"
     ]
    },
    {
     "name": "stdout",
     "output_type": "stream",
     "text": [
      "347/1000 train loss: 0.7275365591049194  val loss: 0.7304824888706207\n"
     ]
    },
    {
     "name": "stderr",
     "output_type": "stream",
     "text": [
      "Epoch 348/1000: 100%|█| 6/6 [00:05<00:00,  1.09batch/s, avg_loss=0.699, loss=0.6\n"
     ]
    },
    {
     "name": "stdout",
     "output_type": "stream",
     "text": [
      "348/1000 train loss: 0.6986834208170573  val loss: 0.7076817651589712\n"
     ]
    },
    {
     "name": "stderr",
     "output_type": "stream",
     "text": [
      "Epoch 349/1000: 100%|█| 6/6 [00:05<00:00,  1.09batch/s, avg_loss=0.721, loss=0.7\n"
     ]
    },
    {
     "name": "stdout",
     "output_type": "stream",
     "text": [
      "349/1000 train loss: 0.7209120591481527  val loss: 0.8416136006514231\n"
     ]
    },
    {
     "name": "stderr",
     "output_type": "stream",
     "text": [
      "Epoch 350/1000: 100%|█| 6/6 [00:05<00:00,  1.10batch/s, avg_loss=0.68, loss=0.60\n"
     ]
    },
    {
     "name": "stdout",
     "output_type": "stream",
     "text": [
      "350/1000 train loss: 0.6795593599478403  val loss: 0.8912491103013357\n"
     ]
    },
    {
     "name": "stderr",
     "output_type": "stream",
     "text": [
      "Epoch 351/1000: 100%|█| 6/6 [00:05<00:00,  1.09batch/s, avg_loss=0.666, loss=0.7\n"
     ]
    },
    {
     "name": "stdout",
     "output_type": "stream",
     "text": [
      "351/1000 train loss: 0.6663732826709747  val loss: 0.9140613476435343\n"
     ]
    },
    {
     "name": "stderr",
     "output_type": "stream",
     "text": [
      "Epoch 352/1000: 100%|█| 6/6 [00:05<00:00,  1.09batch/s, avg_loss=0.629, loss=0.5\n"
     ]
    },
    {
     "name": "stdout",
     "output_type": "stream",
     "text": [
      "352/1000 train loss: 0.6287746429443359  val loss: 0.8268019556999207\n"
     ]
    },
    {
     "name": "stderr",
     "output_type": "stream",
     "text": [
      "Epoch 353/1000: 100%|█| 6/6 [00:05<00:00,  1.09batch/s, avg_loss=0.719, loss=0.7\n"
     ]
    },
    {
     "name": "stdout",
     "output_type": "stream",
     "text": [
      "353/1000 train loss: 0.7194674015045166  val loss: 0.8639119565486908\n"
     ]
    },
    {
     "name": "stderr",
     "output_type": "stream",
     "text": [
      "Epoch 354/1000: 100%|█| 6/6 [00:05<00:00,  1.09batch/s, avg_loss=0.637, loss=0.8\n"
     ]
    },
    {
     "name": "stdout",
     "output_type": "stream",
     "text": [
      "354/1000 train loss: 0.6372449000676473  val loss: 0.8121992647647858\n"
     ]
    },
    {
     "name": "stderr",
     "output_type": "stream",
     "text": [
      "Epoch 355/1000: 100%|█| 6/6 [00:05<00:00,  1.09batch/s, avg_loss=0.688, loss=0.7\n"
     ]
    },
    {
     "name": "stdout",
     "output_type": "stream",
     "text": [
      "355/1000 train loss: 0.6876605451107025  val loss: 0.632724533478419\n"
     ]
    },
    {
     "name": "stderr",
     "output_type": "stream",
     "text": [
      "Epoch 356/1000: 100%|█| 6/6 [00:05<00:00,  1.09batch/s, avg_loss=0.681, loss=0.5\n"
     ]
    },
    {
     "name": "stdout",
     "output_type": "stream",
     "text": [
      "356/1000 train loss: 0.6814463337262472  val loss: 0.7181999484697977\n"
     ]
    },
    {
     "name": "stderr",
     "output_type": "stream",
     "text": [
      "Epoch 357/1000: 100%|█| 6/6 [00:05<00:00,  1.10batch/s, avg_loss=0.682, loss=0.6\n"
     ]
    },
    {
     "name": "stdout",
     "output_type": "stream",
     "text": [
      "357/1000 train loss: 0.6815773745377859  val loss: 0.793990562359492\n"
     ]
    },
    {
     "name": "stderr",
     "output_type": "stream",
     "text": [
      "Epoch 358/1000: 100%|█| 6/6 [00:05<00:00,  1.09batch/s, avg_loss=0.681, loss=0.8\n"
     ]
    },
    {
     "name": "stdout",
     "output_type": "stream",
     "text": [
      "358/1000 train loss: 0.6806280513604482  val loss: 0.7538852194945017\n"
     ]
    },
    {
     "name": "stderr",
     "output_type": "stream",
     "text": [
      "Epoch 359/1000: 100%|█| 6/6 [00:05<00:00,  1.09batch/s, avg_loss=0.656, loss=0.5\n"
     ]
    },
    {
     "name": "stdout",
     "output_type": "stream",
     "text": [
      "359/1000 train loss: 0.6560200651486715  val loss: 0.7747043470541636\n"
     ]
    },
    {
     "name": "stderr",
     "output_type": "stream",
     "text": [
      "Epoch 360/1000: 100%|█| 6/6 [00:05<00:00,  1.10batch/s, avg_loss=0.703, loss=0.7\n"
     ]
    },
    {
     "name": "stdout",
     "output_type": "stream",
     "text": [
      "360/1000 train loss: 0.7031378646691641  val loss: 0.7297751406828562\n"
     ]
    },
    {
     "name": "stderr",
     "output_type": "stream",
     "text": [
      "Epoch 361/1000: 100%|█| 6/6 [00:05<00:00,  1.09batch/s, avg_loss=0.646, loss=0.5\n"
     ]
    },
    {
     "name": "stdout",
     "output_type": "stream",
     "text": [
      "361/1000 train loss: 0.6456804772218069  val loss: 0.7872282862663269\n"
     ]
    },
    {
     "name": "stderr",
     "output_type": "stream",
     "text": [
      "Epoch 362/1000: 100%|█| 6/6 [00:05<00:00,  1.09batch/s, avg_loss=0.658, loss=0.5\n"
     ]
    },
    {
     "name": "stdout",
     "output_type": "stream",
     "text": [
      "362/1000 train loss: 0.6581144332885742  val loss: 0.5663048724333445\n"
     ]
    },
    {
     "name": "stderr",
     "output_type": "stream",
     "text": [
      "Epoch 363/1000: 100%|█| 6/6 [00:05<00:00,  1.10batch/s, avg_loss=0.644, loss=0.7\n"
     ]
    },
    {
     "name": "stdout",
     "output_type": "stream",
     "text": [
      "363/1000 train loss: 0.6441993117332458  val loss: 0.7567790448665619\n"
     ]
    },
    {
     "name": "stderr",
     "output_type": "stream",
     "text": [
      "Epoch 364/1000: 100%|█| 6/6 [00:05<00:00,  1.10batch/s, avg_loss=0.694, loss=0.7\n"
     ]
    },
    {
     "name": "stdout",
     "output_type": "stream",
     "text": [
      "364/1000 train loss: 0.6944060424963633  val loss: 0.8301584124565125\n"
     ]
    },
    {
     "name": "stderr",
     "output_type": "stream",
     "text": [
      "Epoch 365/1000: 100%|█| 6/6 [00:05<00:00,  1.09batch/s, avg_loss=0.621, loss=0.6\n"
     ]
    },
    {
     "name": "stdout",
     "output_type": "stream",
     "text": [
      "365/1000 train loss: 0.6211988925933838  val loss: 0.6074860394001007\n"
     ]
    },
    {
     "name": "stderr",
     "output_type": "stream",
     "text": [
      "Epoch 366/1000: 100%|█| 6/6 [00:05<00:00,  1.09batch/s, avg_loss=0.714, loss=0.6\n"
     ]
    },
    {
     "name": "stdout",
     "output_type": "stream",
     "text": [
      "366/1000 train loss: 0.7136606375376383  val loss: 0.6898816525936127\n"
     ]
    },
    {
     "name": "stderr",
     "output_type": "stream",
     "text": [
      "Epoch 367/1000: 100%|█| 6/6 [00:05<00:00,  1.09batch/s, avg_loss=0.65, loss=0.75\n"
     ]
    },
    {
     "name": "stdout",
     "output_type": "stream",
     "text": [
      "367/1000 train loss: 0.6496323744455973  val loss: 0.8278611997763315\n"
     ]
    },
    {
     "name": "stderr",
     "output_type": "stream",
     "text": [
      "Epoch 368/1000: 100%|█| 6/6 [00:05<00:00,  1.09batch/s, avg_loss=0.596, loss=0.6\n"
     ]
    },
    {
     "name": "stdout",
     "output_type": "stream",
     "text": [
      "368/1000 train loss: 0.5961401164531708  val loss: 0.6810111403465271\n"
     ]
    },
    {
     "name": "stderr",
     "output_type": "stream",
     "text": [
      "Epoch 369/1000: 100%|█| 6/6 [00:05<00:00,  1.10batch/s, avg_loss=0.663, loss=0.6\n"
     ]
    },
    {
     "name": "stdout",
     "output_type": "stream",
     "text": [
      "369/1000 train loss: 0.6627081036567688  val loss: 0.837867667277654\n"
     ]
    },
    {
     "name": "stderr",
     "output_type": "stream",
     "text": [
      "Epoch 370/1000: 100%|█| 6/6 [00:05<00:00,  1.10batch/s, avg_loss=0.669, loss=0.8\n"
     ]
    },
    {
     "name": "stdout",
     "output_type": "stream",
     "text": [
      "370/1000 train loss: 0.6687239905198415  val loss: 0.6620078881581625\n"
     ]
    },
    {
     "name": "stderr",
     "output_type": "stream",
     "text": [
      "Epoch 371/1000: 100%|█| 6/6 [00:05<00:00,  1.09batch/s, avg_loss=0.638, loss=0.6\n"
     ]
    },
    {
     "name": "stdout",
     "output_type": "stream",
     "text": [
      "371/1000 train loss: 0.6382990479469299  val loss: 0.7873197495937347\n"
     ]
    },
    {
     "name": "stderr",
     "output_type": "stream",
     "text": [
      "Epoch 372/1000: 100%|█| 6/6 [00:05<00:00,  1.09batch/s, avg_loss=0.63, loss=0.47\n"
     ]
    },
    {
     "name": "stdout",
     "output_type": "stream",
     "text": [
      "372/1000 train loss: 0.6303730309009552  val loss: 0.7979682286580404\n"
     ]
    },
    {
     "name": "stderr",
     "output_type": "stream",
     "text": [
      "Epoch 373/1000: 100%|█| 6/6 [00:05<00:00,  1.10batch/s, avg_loss=0.723, loss=0.5\n"
     ]
    },
    {
     "name": "stdout",
     "output_type": "stream",
     "text": [
      "373/1000 train loss: 0.7231825093428293  val loss: 0.5286403099695841\n"
     ]
    },
    {
     "name": "stderr",
     "output_type": "stream",
     "text": [
      "Epoch 374/1000: 100%|█| 6/6 [00:05<00:00,  1.09batch/s, avg_loss=0.656, loss=0.6\n"
     ]
    },
    {
     "name": "stdout",
     "output_type": "stream",
     "text": [
      "374/1000 train loss: 0.6561608910560608  val loss: 0.6755202015240988\n"
     ]
    },
    {
     "name": "stderr",
     "output_type": "stream",
     "text": [
      "Epoch 375/1000: 100%|█| 6/6 [00:05<00:00,  1.10batch/s, avg_loss=0.675, loss=0.7\n"
     ]
    },
    {
     "name": "stdout",
     "output_type": "stream",
     "text": [
      "375/1000 train loss: 0.6746009389559428  val loss: 0.7444447576999664\n"
     ]
    },
    {
     "name": "stderr",
     "output_type": "stream",
     "text": [
      "Epoch 376/1000: 100%|█| 6/6 [00:05<00:00,  1.10batch/s, avg_loss=0.739, loss=0.5\n"
     ]
    },
    {
     "name": "stdout",
     "output_type": "stream",
     "text": [
      "376/1000 train loss: 0.7390372852484385  val loss: 0.783800850311915\n"
     ]
    },
    {
     "name": "stderr",
     "output_type": "stream",
     "text": [
      "Epoch 377/1000: 100%|█| 6/6 [00:05<00:00,  1.09batch/s, avg_loss=0.636, loss=0.6\n"
     ]
    },
    {
     "name": "stdout",
     "output_type": "stream",
     "text": [
      "377/1000 train loss: 0.6363143225510915  val loss: 0.7022059659163157\n"
     ]
    },
    {
     "name": "stderr",
     "output_type": "stream",
     "text": [
      "Epoch 378/1000: 100%|█| 6/6 [00:05<00:00,  1.09batch/s, avg_loss=0.681, loss=0.7\n"
     ]
    },
    {
     "name": "stdout",
     "output_type": "stream",
     "text": [
      "378/1000 train loss: 0.6806114812692007  val loss: 0.7762028475602468\n"
     ]
    },
    {
     "name": "stderr",
     "output_type": "stream",
     "text": [
      "Epoch 379/1000: 100%|█| 6/6 [00:05<00:00,  1.09batch/s, avg_loss=0.634, loss=0.4\n"
     ]
    },
    {
     "name": "stdout",
     "output_type": "stream",
     "text": [
      "379/1000 train loss: 0.6338281134764353  val loss: 0.8424778481324514\n"
     ]
    },
    {
     "name": "stderr",
     "output_type": "stream",
     "text": [
      "Epoch 380/1000: 100%|█| 6/6 [00:05<00:00,  1.10batch/s, avg_loss=0.694, loss=0.5\n"
     ]
    },
    {
     "name": "stdout",
     "output_type": "stream",
     "text": [
      "380/1000 train loss: 0.694113552570343  val loss: 0.7537393669287363\n"
     ]
    },
    {
     "name": "stderr",
     "output_type": "stream",
     "text": [
      "Epoch 381/1000: 100%|█| 6/6 [00:05<00:00,  1.09batch/s, avg_loss=0.646, loss=0.6\n"
     ]
    },
    {
     "name": "stdout",
     "output_type": "stream",
     "text": [
      "381/1000 train loss: 0.6459735135237376  val loss: 0.8837355474630991\n"
     ]
    },
    {
     "name": "stderr",
     "output_type": "stream",
     "text": [
      "Epoch 382/1000: 100%|█| 6/6 [00:05<00:00,  1.10batch/s, avg_loss=0.67, loss=0.53\n"
     ]
    },
    {
     "name": "stdout",
     "output_type": "stream",
     "text": [
      "382/1000 train loss: 0.6703120470046997  val loss: 0.8058916727701823\n"
     ]
    },
    {
     "name": "stderr",
     "output_type": "stream",
     "text": [
      "Epoch 383/1000: 100%|█| 6/6 [00:05<00:00,  1.09batch/s, avg_loss=0.697, loss=0.8\n"
     ]
    },
    {
     "name": "stdout",
     "output_type": "stream",
     "text": [
      "383/1000 train loss: 0.6970956921577454  val loss: 0.6700102786223093\n"
     ]
    },
    {
     "name": "stderr",
     "output_type": "stream",
     "text": [
      "Epoch 384/1000: 100%|█| 6/6 [00:05<00:00,  1.10batch/s, avg_loss=0.719, loss=0.7\n"
     ]
    },
    {
     "name": "stdout",
     "output_type": "stream",
     "text": [
      "384/1000 train loss: 0.7194649577140808  val loss: 0.8327604035536448\n"
     ]
    },
    {
     "name": "stderr",
     "output_type": "stream",
     "text": [
      "Epoch 385/1000: 100%|█| 6/6 [00:05<00:00,  1.09batch/s, avg_loss=0.695, loss=0.7\n"
     ]
    },
    {
     "name": "stdout",
     "output_type": "stream",
     "text": [
      "385/1000 train loss: 0.6952675481637319  val loss: 0.8447782695293427\n"
     ]
    },
    {
     "name": "stderr",
     "output_type": "stream",
     "text": [
      "Epoch 386/1000: 100%|█| 6/6 [00:05<00:00,  1.09batch/s, avg_loss=0.656, loss=0.7\n"
     ]
    },
    {
     "name": "stdout",
     "output_type": "stream",
     "text": [
      "386/1000 train loss: 0.6555752555529276  val loss: 0.7744142611821493\n"
     ]
    },
    {
     "name": "stderr",
     "output_type": "stream",
     "text": [
      "Epoch 387/1000: 100%|█| 6/6 [00:05<00:00,  1.09batch/s, avg_loss=0.613, loss=0.5\n"
     ]
    },
    {
     "name": "stdout",
     "output_type": "stream",
     "text": [
      "387/1000 train loss: 0.6129378875096639  val loss: 0.8351634244124094\n"
     ]
    },
    {
     "name": "stderr",
     "output_type": "stream",
     "text": [
      "Epoch 388/1000: 100%|█| 6/6 [00:05<00:00,  1.09batch/s, avg_loss=0.63, loss=0.59\n"
     ]
    },
    {
     "name": "stdout",
     "output_type": "stream",
     "text": [
      "388/1000 train loss: 0.6304305295149485  val loss: 0.5682264963785807\n"
     ]
    },
    {
     "name": "stderr",
     "output_type": "stream",
     "text": [
      "Epoch 389/1000: 100%|█| 6/6 [00:05<00:00,  1.09batch/s, avg_loss=0.641, loss=0.7\n"
     ]
    },
    {
     "name": "stdout",
     "output_type": "stream",
     "text": [
      "389/1000 train loss: 0.6414671043554941  val loss: 0.7413723270098368\n"
     ]
    },
    {
     "name": "stderr",
     "output_type": "stream",
     "text": [
      "Epoch 390/1000: 100%|█| 6/6 [00:05<00:00,  1.08batch/s, avg_loss=0.719, loss=0.5\n"
     ]
    },
    {
     "name": "stdout",
     "output_type": "stream",
     "text": [
      "390/1000 train loss: 0.7188848654429117  val loss: 0.6869069139162699\n"
     ]
    },
    {
     "name": "stderr",
     "output_type": "stream",
     "text": [
      "Epoch 391/1000: 100%|█| 6/6 [00:05<00:00,  1.09batch/s, avg_loss=0.718, loss=0.8\n"
     ]
    },
    {
     "name": "stdout",
     "output_type": "stream",
     "text": [
      "391/1000 train loss: 0.7181313236554464  val loss: 0.6244456768035889\n"
     ]
    },
    {
     "name": "stderr",
     "output_type": "stream",
     "text": [
      "Epoch 392/1000: 100%|█| 6/6 [00:05<00:00,  1.10batch/s, avg_loss=0.646, loss=0.5\n"
     ]
    },
    {
     "name": "stdout",
     "output_type": "stream",
     "text": [
      "392/1000 train loss: 0.6458891332149506  val loss: 0.6783470014731089\n"
     ]
    },
    {
     "name": "stderr",
     "output_type": "stream",
     "text": [
      "Epoch 393/1000: 100%|█| 6/6 [00:05<00:00,  1.09batch/s, avg_loss=0.634, loss=0.9\n"
     ]
    },
    {
     "name": "stdout",
     "output_type": "stream",
     "text": [
      "393/1000 train loss: 0.6341690520445505  val loss: 0.6238438487052917\n"
     ]
    },
    {
     "name": "stderr",
     "output_type": "stream",
     "text": [
      "Epoch 394/1000: 100%|█| 6/6 [00:05<00:00,  1.09batch/s, avg_loss=0.651, loss=0.4\n"
     ]
    },
    {
     "name": "stdout",
     "output_type": "stream",
     "text": [
      "394/1000 train loss: 0.650725911060969  val loss: 0.6923351089159647\n"
     ]
    },
    {
     "name": "stderr",
     "output_type": "stream",
     "text": [
      "Epoch 395/1000: 100%|█| 6/6 [00:05<00:00,  1.09batch/s, avg_loss=0.703, loss=0.6\n"
     ]
    },
    {
     "name": "stdout",
     "output_type": "stream",
     "text": [
      "395/1000 train loss: 0.703409860531489  val loss: 0.6932135125001272\n"
     ]
    },
    {
     "name": "stderr",
     "output_type": "stream",
     "text": [
      "Epoch 396/1000: 100%|█| 6/6 [00:05<00:00,  1.08batch/s, avg_loss=0.716, loss=0.8\n"
     ]
    },
    {
     "name": "stdout",
     "output_type": "stream",
     "text": [
      "396/1000 train loss: 0.7160422503948212  val loss: 0.8793034752209982\n"
     ]
    },
    {
     "name": "stderr",
     "output_type": "stream",
     "text": [
      "Epoch 397/1000: 100%|█| 6/6 [00:05<00:00,  1.09batch/s, avg_loss=0.733, loss=0.7\n"
     ]
    },
    {
     "name": "stdout",
     "output_type": "stream",
     "text": [
      "397/1000 train loss: 0.7327771385510763  val loss: 0.7788827121257782\n"
     ]
    },
    {
     "name": "stderr",
     "output_type": "stream",
     "text": [
      "Epoch 398/1000: 100%|█| 6/6 [00:05<00:00,  1.10batch/s, avg_loss=0.648, loss=0.6\n"
     ]
    },
    {
     "name": "stdout",
     "output_type": "stream",
     "text": [
      "398/1000 train loss: 0.6478554805119833  val loss: 0.7986472547054291\n"
     ]
    },
    {
     "name": "stderr",
     "output_type": "stream",
     "text": [
      "Epoch 399/1000: 100%|█| 6/6 [00:05<00:00,  1.09batch/s, avg_loss=0.668, loss=0.8\n"
     ]
    },
    {
     "name": "stdout",
     "output_type": "stream",
     "text": [
      "399/1000 train loss: 0.6682449777921041  val loss: 0.79375026623408\n"
     ]
    },
    {
     "name": "stderr",
     "output_type": "stream",
     "text": [
      "Epoch 400/1000: 100%|█| 6/6 [00:05<00:00,  1.09batch/s, avg_loss=0.674, loss=0.8\n"
     ]
    },
    {
     "name": "stdout",
     "output_type": "stream",
     "text": [
      "400/1000 train loss: 0.6741616626580557  val loss: 0.7260792056719462\n"
     ]
    },
    {
     "name": "stderr",
     "output_type": "stream",
     "text": [
      "Epoch 401/1000: 100%|█| 6/6 [00:05<00:00,  1.09batch/s, avg_loss=0.651, loss=0.7\n"
     ]
    },
    {
     "name": "stdout",
     "output_type": "stream",
     "text": [
      "401/1000 train loss: 0.651420513788859  val loss: 0.6911511123180389\n"
     ]
    },
    {
     "name": "stderr",
     "output_type": "stream",
     "text": [
      "Epoch 402/1000: 100%|█| 6/6 [00:05<00:00,  1.09batch/s, avg_loss=0.667, loss=0.5\n"
     ]
    },
    {
     "name": "stdout",
     "output_type": "stream",
     "text": [
      "402/1000 train loss: 0.666820615530014  val loss: 0.8840125699838003\n"
     ]
    },
    {
     "name": "stderr",
     "output_type": "stream",
     "text": [
      "Epoch 403/1000: 100%|█| 6/6 [00:05<00:00,  1.10batch/s, avg_loss=0.7, loss=0.867\n"
     ]
    },
    {
     "name": "stdout",
     "output_type": "stream",
     "text": [
      "403/1000 train loss: 0.699552188316981  val loss: 0.6021438241004944\n"
     ]
    },
    {
     "name": "stderr",
     "output_type": "stream",
     "text": [
      "Epoch 404/1000: 100%|█| 6/6 [00:05<00:00,  1.09batch/s, avg_loss=0.615, loss=0.4\n"
     ]
    },
    {
     "name": "stdout",
     "output_type": "stream",
     "text": [
      "404/1000 train loss: 0.6147597233454386  val loss: 0.7716633379459381\n"
     ]
    },
    {
     "name": "stderr",
     "output_type": "stream",
     "text": [
      "Epoch 405/1000: 100%|█| 6/6 [00:05<00:00,  1.10batch/s, avg_loss=0.622, loss=0.6\n"
     ]
    },
    {
     "name": "stdout",
     "output_type": "stream",
     "text": [
      "405/1000 train loss: 0.6222048004468282  val loss: 0.6193076769510905\n"
     ]
    },
    {
     "name": "stderr",
     "output_type": "stream",
     "text": [
      "Epoch 406/1000: 100%|█| 6/6 [00:05<00:00,  1.10batch/s, avg_loss=0.656, loss=0.7\n"
     ]
    },
    {
     "name": "stdout",
     "output_type": "stream",
     "text": [
      "406/1000 train loss: 0.6559953490893046  val loss: 0.679986834526062\n"
     ]
    },
    {
     "name": "stderr",
     "output_type": "stream",
     "text": [
      "Epoch 407/1000: 100%|█| 6/6 [00:05<00:00,  1.09batch/s, avg_loss=0.66, loss=0.48\n"
     ]
    },
    {
     "name": "stdout",
     "output_type": "stream",
     "text": [
      "407/1000 train loss: 0.6603977183500925  val loss: 0.7663415869077047\n"
     ]
    },
    {
     "name": "stderr",
     "output_type": "stream",
     "text": [
      "Epoch 408/1000: 100%|█| 6/6 [00:05<00:00,  1.09batch/s, avg_loss=0.655, loss=0.7\n"
     ]
    },
    {
     "name": "stdout",
     "output_type": "stream",
     "text": [
      "408/1000 train loss: 0.6549806197484335  val loss: 0.8182072142759959\n"
     ]
    },
    {
     "name": "stderr",
     "output_type": "stream",
     "text": [
      "Epoch 409/1000: 100%|█| 6/6 [00:05<00:00,  1.09batch/s, avg_loss=0.68, loss=0.74\n"
     ]
    },
    {
     "name": "stdout",
     "output_type": "stream",
     "text": [
      "409/1000 train loss: 0.6800084312756857  val loss: 0.61775341629982\n"
     ]
    },
    {
     "name": "stderr",
     "output_type": "stream",
     "text": [
      "Epoch 410/1000: 100%|█| 6/6 [00:05<00:00,  1.10batch/s, avg_loss=0.701, loss=0.4\n"
     ]
    },
    {
     "name": "stdout",
     "output_type": "stream",
     "text": [
      "410/1000 train loss: 0.701275110244751  val loss: 0.9113949437936147\n"
     ]
    },
    {
     "name": "stderr",
     "output_type": "stream",
     "text": [
      "Epoch 411/1000: 100%|█| 6/6 [00:05<00:00,  1.10batch/s, avg_loss=0.712, loss=0.5\n"
     ]
    },
    {
     "name": "stdout",
     "output_type": "stream",
     "text": [
      "411/1000 train loss: 0.7123895883560181  val loss: 0.7504108647505442\n"
     ]
    },
    {
     "name": "stderr",
     "output_type": "stream",
     "text": [
      "Epoch 412/1000: 100%|█| 6/6 [00:05<00:00,  1.09batch/s, avg_loss=0.686, loss=0.7\n"
     ]
    },
    {
     "name": "stdout",
     "output_type": "stream",
     "text": [
      "412/1000 train loss: 0.6864014267921448  val loss: 0.7794651389122009\n"
     ]
    },
    {
     "name": "stderr",
     "output_type": "stream",
     "text": [
      "Epoch 413/1000: 100%|█| 6/6 [00:05<00:00,  1.09batch/s, avg_loss=0.717, loss=0.7\n"
     ]
    },
    {
     "name": "stdout",
     "output_type": "stream",
     "text": [
      "413/1000 train loss: 0.7167413830757141  val loss: 0.8711884717146555\n"
     ]
    },
    {
     "name": "stderr",
     "output_type": "stream",
     "text": [
      "Epoch 414/1000: 100%|█| 6/6 [00:05<00:00,  1.10batch/s, avg_loss=0.688, loss=0.7\n"
     ]
    },
    {
     "name": "stdout",
     "output_type": "stream",
     "text": [
      "414/1000 train loss: 0.687841514746348  val loss: 0.8332268496354421\n"
     ]
    },
    {
     "name": "stderr",
     "output_type": "stream",
     "text": [
      "Epoch 415/1000: 100%|█| 6/6 [00:05<00:00,  1.09batch/s, avg_loss=0.702, loss=0.7\n"
     ]
    },
    {
     "name": "stdout",
     "output_type": "stream",
     "text": [
      "415/1000 train loss: 0.7019250889619192  val loss: 0.8268894553184509\n"
     ]
    },
    {
     "name": "stderr",
     "output_type": "stream",
     "text": [
      "Epoch 416/1000: 100%|█| 6/6 [00:05<00:00,  1.09batch/s, avg_loss=0.689, loss=0.7\n"
     ]
    },
    {
     "name": "stdout",
     "output_type": "stream",
     "text": [
      "416/1000 train loss: 0.6892733673254648  val loss: 0.902322123448054\n"
     ]
    },
    {
     "name": "stderr",
     "output_type": "stream",
     "text": [
      "Epoch 417/1000: 100%|█| 6/6 [00:05<00:00,  1.09batch/s, avg_loss=0.678, loss=0.8\n"
     ]
    },
    {
     "name": "stdout",
     "output_type": "stream",
     "text": [
      "417/1000 train loss: 0.6784469981988271  val loss: 0.7484170099099478\n"
     ]
    },
    {
     "name": "stderr",
     "output_type": "stream",
     "text": [
      "Epoch 418/1000: 100%|█| 6/6 [00:05<00:00,  1.09batch/s, avg_loss=0.594, loss=0.5\n"
     ]
    },
    {
     "name": "stdout",
     "output_type": "stream",
     "text": [
      "418/1000 train loss: 0.5944329003492991  val loss: 0.6995746592680613\n"
     ]
    },
    {
     "name": "stderr",
     "output_type": "stream",
     "text": [
      "Epoch 419/1000: 100%|█| 6/6 [00:05<00:00,  1.09batch/s, avg_loss=0.666, loss=0.6\n"
     ]
    },
    {
     "name": "stdout",
     "output_type": "stream",
     "text": [
      "419/1000 train loss: 0.6659500499566396  val loss: 0.6958498954772949\n"
     ]
    },
    {
     "name": "stderr",
     "output_type": "stream",
     "text": [
      "Epoch 420/1000: 100%|█| 6/6 [00:05<00:00,  1.10batch/s, avg_loss=0.665, loss=0.6\n"
     ]
    },
    {
     "name": "stdout",
     "output_type": "stream",
     "text": [
      "420/1000 train loss: 0.664649893840154  val loss: 0.6975310444831848\n"
     ]
    },
    {
     "name": "stderr",
     "output_type": "stream",
     "text": [
      "Epoch 421/1000: 100%|█| 6/6 [00:05<00:00,  1.09batch/s, avg_loss=0.637, loss=0.7\n"
     ]
    },
    {
     "name": "stdout",
     "output_type": "stream",
     "text": [
      "421/1000 train loss: 0.6369159718354543  val loss: 0.7628466685612997\n"
     ]
    },
    {
     "name": "stderr",
     "output_type": "stream",
     "text": [
      "Epoch 422/1000: 100%|█| 6/6 [00:05<00:00,  1.10batch/s, avg_loss=0.668, loss=0.7\n"
     ]
    },
    {
     "name": "stdout",
     "output_type": "stream",
     "text": [
      "422/1000 train loss: 0.668383777141571  val loss: 0.7873299817244211\n"
     ]
    },
    {
     "name": "stderr",
     "output_type": "stream",
     "text": [
      "Epoch 423/1000: 100%|█| 6/6 [00:05<00:00,  1.09batch/s, avg_loss=0.692, loss=0.8\n"
     ]
    },
    {
     "name": "stdout",
     "output_type": "stream",
     "text": [
      "423/1000 train loss: 0.6920955379803976  val loss: 0.7341297467549642\n"
     ]
    },
    {
     "name": "stderr",
     "output_type": "stream",
     "text": [
      "Epoch 424/1000: 100%|█| 6/6 [00:05<00:00,  1.10batch/s, avg_loss=0.703, loss=0.8\n"
     ]
    },
    {
     "name": "stdout",
     "output_type": "stream",
     "text": [
      "424/1000 train loss: 0.7030270099639893  val loss: 0.782865951458613\n"
     ]
    },
    {
     "name": "stderr",
     "output_type": "stream",
     "text": [
      "Epoch 425/1000: 100%|█| 6/6 [00:05<00:00,  1.09batch/s, avg_loss=0.69, loss=0.57\n"
     ]
    },
    {
     "name": "stdout",
     "output_type": "stream",
     "text": [
      "425/1000 train loss: 0.6896210213502248  val loss: 0.6266976793607076\n"
     ]
    },
    {
     "name": "stderr",
     "output_type": "stream",
     "text": [
      "Epoch 426/1000: 100%|█| 6/6 [00:05<00:00,  1.09batch/s, avg_loss=0.596, loss=0.4\n"
     ]
    },
    {
     "name": "stdout",
     "output_type": "stream",
     "text": [
      "426/1000 train loss: 0.5956158141295115  val loss: 0.6028261780738831\n"
     ]
    },
    {
     "name": "stderr",
     "output_type": "stream",
     "text": [
      "Epoch 427/1000: 100%|█| 6/6 [00:05<00:00,  1.05batch/s, avg_loss=0.625, loss=0.6\n"
     ]
    },
    {
     "name": "stdout",
     "output_type": "stream",
     "text": [
      "427/1000 train loss: 0.6245062053203583  val loss: 0.7280324101448059\n"
     ]
    },
    {
     "name": "stderr",
     "output_type": "stream",
     "text": [
      "Epoch 428/1000: 100%|█| 6/6 [00:05<00:00,  1.08batch/s, avg_loss=0.685, loss=0.7\n"
     ]
    },
    {
     "name": "stdout",
     "output_type": "stream",
     "text": [
      "428/1000 train loss: 0.6848272581895193  val loss: 0.7133857607841492\n"
     ]
    },
    {
     "name": "stderr",
     "output_type": "stream",
     "text": [
      "Epoch 429/1000: 100%|█| 6/6 [00:05<00:00,  1.08batch/s, avg_loss=0.638, loss=0.6\n"
     ]
    },
    {
     "name": "stdout",
     "output_type": "stream",
     "text": [
      "429/1000 train loss: 0.6378037929534912  val loss: 0.6155479550361633\n"
     ]
    },
    {
     "name": "stderr",
     "output_type": "stream",
     "text": [
      "Epoch 430/1000: 100%|█| 6/6 [00:05<00:00,  1.09batch/s, avg_loss=0.669, loss=0.8\n"
     ]
    },
    {
     "name": "stdout",
     "output_type": "stream",
     "text": [
      "430/1000 train loss: 0.6691426237424215  val loss: 0.8419015407562256\n"
     ]
    },
    {
     "name": "stderr",
     "output_type": "stream",
     "text": [
      "Epoch 431/1000: 100%|█| 6/6 [00:05<00:00,  1.09batch/s, avg_loss=0.697, loss=0.5\n"
     ]
    },
    {
     "name": "stdout",
     "output_type": "stream",
     "text": [
      "431/1000 train loss: 0.6967958509922028  val loss: 0.9191910723845164\n"
     ]
    },
    {
     "name": "stderr",
     "output_type": "stream",
     "text": [
      "Epoch 432/1000: 100%|█| 6/6 [00:05<00:00,  1.08batch/s, avg_loss=0.619, loss=0.6\n"
     ]
    },
    {
     "name": "stdout",
     "output_type": "stream",
     "text": [
      "432/1000 train loss: 0.6194101373354594  val loss: 0.897211343050003\n"
     ]
    },
    {
     "name": "stderr",
     "output_type": "stream",
     "text": [
      "Epoch 433/1000: 100%|█| 6/6 [00:05<00:00,  1.10batch/s, avg_loss=0.694, loss=0.5\n"
     ]
    },
    {
     "name": "stdout",
     "output_type": "stream",
     "text": [
      "433/1000 train loss: 0.6941230197747549  val loss: 0.6791824400424957\n"
     ]
    },
    {
     "name": "stderr",
     "output_type": "stream",
     "text": [
      "Epoch 434/1000: 100%|█| 6/6 [00:05<00:00,  1.09batch/s, avg_loss=0.652, loss=0.6\n"
     ]
    },
    {
     "name": "stdout",
     "output_type": "stream",
     "text": [
      "434/1000 train loss: 0.6516867578029633  val loss: 0.6416485806306204\n"
     ]
    },
    {
     "name": "stderr",
     "output_type": "stream",
     "text": [
      "Epoch 435/1000: 100%|█| 6/6 [00:05<00:00,  1.08batch/s, avg_loss=0.611, loss=0.8\n"
     ]
    },
    {
     "name": "stdout",
     "output_type": "stream",
     "text": [
      "435/1000 train loss: 0.6105367640654246  val loss: 0.6674454510211945\n"
     ]
    },
    {
     "name": "stderr",
     "output_type": "stream",
     "text": [
      "Epoch 436/1000: 100%|█| 6/6 [00:05<00:00,  1.09batch/s, avg_loss=0.607, loss=0.8\n"
     ]
    },
    {
     "name": "stdout",
     "output_type": "stream",
     "text": [
      "436/1000 train loss: 0.6067364613215128  val loss: 0.7555593550205231\n"
     ]
    },
    {
     "name": "stderr",
     "output_type": "stream",
     "text": [
      "Epoch 437/1000: 100%|█| 6/6 [00:05<00:00,  1.09batch/s, avg_loss=0.674, loss=0.7\n"
     ]
    },
    {
     "name": "stdout",
     "output_type": "stream",
     "text": [
      "437/1000 train loss: 0.6741208632787069  val loss: 0.762426108121872\n"
     ]
    },
    {
     "name": "stderr",
     "output_type": "stream",
     "text": [
      "Epoch 438/1000: 100%|█| 6/6 [00:05<00:00,  1.09batch/s, avg_loss=0.666, loss=0.4\n"
     ]
    },
    {
     "name": "stdout",
     "output_type": "stream",
     "text": [
      "438/1000 train loss: 0.6657303074995676  val loss: 0.8513750632603964\n"
     ]
    },
    {
     "name": "stderr",
     "output_type": "stream",
     "text": [
      "Epoch 439/1000: 100%|█| 6/6 [00:05<00:00,  1.09batch/s, avg_loss=0.665, loss=0.8\n"
     ]
    },
    {
     "name": "stdout",
     "output_type": "stream",
     "text": [
      "439/1000 train loss: 0.6646105647087097  val loss: 0.7838659187157949\n"
     ]
    },
    {
     "name": "stderr",
     "output_type": "stream",
     "text": [
      "Epoch 440/1000: 100%|█| 6/6 [00:05<00:00,  1.09batch/s, avg_loss=0.647, loss=0.7\n"
     ]
    },
    {
     "name": "stdout",
     "output_type": "stream",
     "text": [
      "440/1000 train loss: 0.6473673184712728  val loss: 0.902137021223704\n"
     ]
    },
    {
     "name": "stderr",
     "output_type": "stream",
     "text": [
      "Epoch 441/1000: 100%|█| 6/6 [00:05<00:00,  1.09batch/s, avg_loss=0.657, loss=0.8\n"
     ]
    },
    {
     "name": "stdout",
     "output_type": "stream",
     "text": [
      "441/1000 train loss: 0.6571996808052063  val loss: 0.8259779115517935\n"
     ]
    },
    {
     "name": "stderr",
     "output_type": "stream",
     "text": [
      "Epoch 442/1000: 100%|█| 6/6 [00:05<00:00,  1.09batch/s, avg_loss=0.659, loss=0.6\n"
     ]
    },
    {
     "name": "stdout",
     "output_type": "stream",
     "text": [
      "442/1000 train loss: 0.6585939129193624  val loss: 0.6137321293354034\n"
     ]
    },
    {
     "name": "stderr",
     "output_type": "stream",
     "text": [
      "Epoch 443/1000: 100%|█| 6/6 [00:05<00:00,  1.09batch/s, avg_loss=0.697, loss=0.6\n"
     ]
    },
    {
     "name": "stdout",
     "output_type": "stream",
     "text": [
      "443/1000 train loss: 0.6974152823289236  val loss: 0.6416478355725607\n"
     ]
    },
    {
     "name": "stderr",
     "output_type": "stream",
     "text": [
      "Epoch 444/1000: 100%|█| 6/6 [00:05<00:00,  1.08batch/s, avg_loss=0.733, loss=0.7\n"
     ]
    },
    {
     "name": "stdout",
     "output_type": "stream",
     "text": [
      "444/1000 train loss: 0.7332416772842407  val loss: 0.718207319577535\n"
     ]
    },
    {
     "name": "stderr",
     "output_type": "stream",
     "text": [
      "Epoch 445/1000: 100%|█| 6/6 [00:05<00:00,  1.08batch/s, avg_loss=0.598, loss=0.4\n"
     ]
    },
    {
     "name": "stdout",
     "output_type": "stream",
     "text": [
      "445/1000 train loss: 0.5979711214701334  val loss: 0.6014685034751892\n"
     ]
    },
    {
     "name": "stderr",
     "output_type": "stream",
     "text": [
      "Epoch 446/1000: 100%|█| 6/6 [00:05<00:00,  1.09batch/s, avg_loss=0.659, loss=0.5\n"
     ]
    },
    {
     "name": "stdout",
     "output_type": "stream",
     "text": [
      "446/1000 train loss: 0.6585850914319357  val loss: 0.7219625413417816\n"
     ]
    },
    {
     "name": "stderr",
     "output_type": "stream",
     "text": [
      "Epoch 447/1000: 100%|█| 6/6 [00:05<00:00,  1.09batch/s, avg_loss=0.642, loss=0.5\n"
     ]
    },
    {
     "name": "stdout",
     "output_type": "stream",
     "text": [
      "447/1000 train loss: 0.6424943705399832  val loss: 0.6997560660044352\n"
     ]
    },
    {
     "name": "stderr",
     "output_type": "stream",
     "text": [
      "Epoch 448/1000: 100%|█| 6/6 [00:05<00:00,  1.09batch/s, avg_loss=0.687, loss=0.3\n"
     ]
    },
    {
     "name": "stdout",
     "output_type": "stream",
     "text": [
      "448/1000 train loss: 0.6865571637948354  val loss: 0.7077475090821584\n"
     ]
    },
    {
     "name": "stderr",
     "output_type": "stream",
     "text": [
      "Epoch 449/1000: 100%|█| 6/6 [00:05<00:00,  1.09batch/s, avg_loss=0.645, loss=0.5\n"
     ]
    },
    {
     "name": "stdout",
     "output_type": "stream",
     "text": [
      "449/1000 train loss: 0.6453722616036733  val loss: 0.7362444202105204\n"
     ]
    },
    {
     "name": "stderr",
     "output_type": "stream",
     "text": [
      "Epoch 450/1000: 100%|█| 6/6 [00:05<00:00,  1.08batch/s, avg_loss=0.647, loss=0.8\n"
     ]
    },
    {
     "name": "stdout",
     "output_type": "stream",
     "text": [
      "450/1000 train loss: 0.6471652984619141  val loss: 0.8352034787336985\n"
     ]
    },
    {
     "name": "stderr",
     "output_type": "stream",
     "text": [
      "Epoch 451/1000: 100%|█| 6/6 [00:05<00:00,  1.09batch/s, avg_loss=0.66, loss=0.50\n"
     ]
    },
    {
     "name": "stdout",
     "output_type": "stream",
     "text": [
      "451/1000 train loss: 0.6601863900820414  val loss: 0.7707931200663248\n"
     ]
    },
    {
     "name": "stderr",
     "output_type": "stream",
     "text": [
      "Epoch 452/1000: 100%|█| 6/6 [00:05<00:00,  1.09batch/s, avg_loss=0.663, loss=0.6\n"
     ]
    },
    {
     "name": "stdout",
     "output_type": "stream",
     "text": [
      "452/1000 train loss: 0.6631377041339874  val loss: 0.7582190036773682\n"
     ]
    },
    {
     "name": "stderr",
     "output_type": "stream",
     "text": [
      "Epoch 453/1000: 100%|█| 6/6 [00:05<00:00,  1.09batch/s, avg_loss=0.63, loss=0.55\n"
     ]
    },
    {
     "name": "stdout",
     "output_type": "stream",
     "text": [
      "453/1000 train loss: 0.6296237607796987  val loss: 0.6484319567680359\n"
     ]
    },
    {
     "name": "stderr",
     "output_type": "stream",
     "text": [
      "Epoch 454/1000: 100%|█| 6/6 [00:05<00:00,  1.09batch/s, avg_loss=0.693, loss=0.7\n"
     ]
    },
    {
     "name": "stdout",
     "output_type": "stream",
     "text": [
      "454/1000 train loss: 0.6932019690672556  val loss: 0.748050461212794\n"
     ]
    },
    {
     "name": "stderr",
     "output_type": "stream",
     "text": [
      "Epoch 455/1000: 100%|█| 6/6 [00:05<00:00,  1.09batch/s, avg_loss=0.681, loss=0.7\n"
     ]
    },
    {
     "name": "stdout",
     "output_type": "stream",
     "text": [
      "455/1000 train loss: 0.6807836989561716  val loss: 0.7508878807226816\n"
     ]
    },
    {
     "name": "stderr",
     "output_type": "stream",
     "text": [
      "Epoch 456/1000: 100%|█| 6/6 [00:05<00:00,  1.09batch/s, avg_loss=0.616, loss=0.6\n"
     ]
    },
    {
     "name": "stdout",
     "output_type": "stream",
     "text": [
      "456/1000 train loss: 0.6164757708708445  val loss: 0.7376663486162821\n"
     ]
    },
    {
     "name": "stderr",
     "output_type": "stream",
     "text": [
      "Epoch 457/1000: 100%|█| 6/6 [00:05<00:00,  1.08batch/s, avg_loss=0.728, loss=0.9\n"
     ]
    },
    {
     "name": "stdout",
     "output_type": "stream",
     "text": [
      "457/1000 train loss: 0.7277630666891733  val loss: 0.9411852657794952\n"
     ]
    },
    {
     "name": "stderr",
     "output_type": "stream",
     "text": [
      "Epoch 458/1000: 100%|█| 6/6 [00:05<00:00,  1.09batch/s, avg_loss=0.65, loss=0.80\n"
     ]
    },
    {
     "name": "stdout",
     "output_type": "stream",
     "text": [
      "458/1000 train loss: 0.6504564086596171  val loss: 0.8569389084974924\n"
     ]
    },
    {
     "name": "stderr",
     "output_type": "stream",
     "text": [
      "Epoch 459/1000: 100%|█| 6/6 [00:05<00:00,  1.08batch/s, avg_loss=0.655, loss=0.8\n"
     ]
    },
    {
     "name": "stdout",
     "output_type": "stream",
     "text": [
      "459/1000 train loss: 0.6550207336743673  val loss: 0.7099525034427643\n"
     ]
    },
    {
     "name": "stderr",
     "output_type": "stream",
     "text": [
      "Epoch 460/1000: 100%|█| 6/6 [00:05<00:00,  1.09batch/s, avg_loss=0.653, loss=0.6\n"
     ]
    },
    {
     "name": "stdout",
     "output_type": "stream",
     "text": [
      "460/1000 train loss: 0.6527235309282938  val loss: 0.7340425650278727\n"
     ]
    },
    {
     "name": "stderr",
     "output_type": "stream",
     "text": [
      "Epoch 461/1000: 100%|█| 6/6 [00:05<00:00,  1.08batch/s, avg_loss=0.671, loss=0.8\n"
     ]
    },
    {
     "name": "stdout",
     "output_type": "stream",
     "text": [
      "461/1000 train loss: 0.6705462634563446  val loss: 0.8084508776664734\n"
     ]
    },
    {
     "name": "stderr",
     "output_type": "stream",
     "text": [
      "Epoch 462/1000: 100%|█| 6/6 [00:05<00:00,  1.10batch/s, avg_loss=0.66, loss=0.55\n"
     ]
    },
    {
     "name": "stdout",
     "output_type": "stream",
     "text": [
      "462/1000 train loss: 0.6600857973098755  val loss: 0.628207137187322\n"
     ]
    },
    {
     "name": "stderr",
     "output_type": "stream",
     "text": [
      "Epoch 463/1000: 100%|█| 6/6 [00:05<00:00,  1.09batch/s, avg_loss=0.617, loss=0.5\n"
     ]
    },
    {
     "name": "stdout",
     "output_type": "stream",
     "text": [
      "463/1000 train loss: 0.6173376142978668  val loss: 0.5467694997787476\n"
     ]
    },
    {
     "name": "stderr",
     "output_type": "stream",
     "text": [
      "Epoch 464/1000: 100%|█| 6/6 [00:05<00:00,  1.08batch/s, avg_loss=0.667, loss=0.6\n"
     ]
    },
    {
     "name": "stdout",
     "output_type": "stream",
     "text": [
      "464/1000 train loss: 0.6667996148268381  val loss: 0.7298142313957214\n"
     ]
    },
    {
     "name": "stderr",
     "output_type": "stream",
     "text": [
      "Epoch 465/1000: 100%|█| 6/6 [00:05<00:00,  1.09batch/s, avg_loss=0.647, loss=0.5\n"
     ]
    },
    {
     "name": "stdout",
     "output_type": "stream",
     "text": [
      "465/1000 train loss: 0.6468814313411713  val loss: 0.7798925737539927\n"
     ]
    },
    {
     "name": "stderr",
     "output_type": "stream",
     "text": [
      "Epoch 466/1000: 100%|█| 6/6 [00:05<00:00,  1.09batch/s, avg_loss=0.639, loss=0.3\n"
     ]
    },
    {
     "name": "stdout",
     "output_type": "stream",
     "text": [
      "466/1000 train loss: 0.6385531028111776  val loss: 0.7159042457739512\n"
     ]
    },
    {
     "name": "stderr",
     "output_type": "stream",
     "text": [
      "Epoch 467/1000: 100%|█| 6/6 [00:05<00:00,  1.09batch/s, avg_loss=0.702, loss=0.8\n"
     ]
    },
    {
     "name": "stdout",
     "output_type": "stream",
     "text": [
      "467/1000 train loss: 0.7024413049221039  val loss: 0.5061020950476328\n"
     ]
    },
    {
     "name": "stderr",
     "output_type": "stream",
     "text": [
      "Epoch 468/1000: 100%|█| 6/6 [00:05<00:00,  1.09batch/s, avg_loss=0.69, loss=0.67\n"
     ]
    },
    {
     "name": "stdout",
     "output_type": "stream",
     "text": [
      "468/1000 train loss: 0.6901911993821462  val loss: 0.876049687465032\n"
     ]
    },
    {
     "name": "stderr",
     "output_type": "stream",
     "text": [
      "Epoch 469/1000: 100%|█| 6/6 [00:05<00:00,  1.09batch/s, avg_loss=0.637, loss=0.6\n"
     ]
    },
    {
     "name": "stdout",
     "output_type": "stream",
     "text": [
      "469/1000 train loss: 0.6367428203423818  val loss: 0.7355039715766907\n"
     ]
    },
    {
     "name": "stderr",
     "output_type": "stream",
     "text": [
      "Epoch 470/1000: 100%|█| 6/6 [00:05<00:00,  1.09batch/s, avg_loss=0.592, loss=0.3\n"
     ]
    },
    {
     "name": "stdout",
     "output_type": "stream",
     "text": [
      "470/1000 train loss: 0.5921140511830648  val loss: 0.58735191822052\n"
     ]
    },
    {
     "name": "stderr",
     "output_type": "stream",
     "text": [
      "Epoch 471/1000: 100%|█| 6/6 [00:05<00:00,  1.09batch/s, avg_loss=0.628, loss=0.5\n"
     ]
    },
    {
     "name": "stdout",
     "output_type": "stream",
     "text": [
      "471/1000 train loss: 0.6276401380697886  val loss: 0.5745911399523417\n"
     ]
    },
    {
     "name": "stderr",
     "output_type": "stream",
     "text": [
      "Epoch 472/1000: 100%|█| 6/6 [00:05<00:00,  1.08batch/s, avg_loss=0.64, loss=0.70\n"
     ]
    },
    {
     "name": "stdout",
     "output_type": "stream",
     "text": [
      "472/1000 train loss: 0.6397238473097483  val loss: 0.9012887477874756\n"
     ]
    },
    {
     "name": "stderr",
     "output_type": "stream",
     "text": [
      "Epoch 473/1000: 100%|█| 6/6 [00:05<00:00,  1.08batch/s, avg_loss=0.706, loss=0.4\n"
     ]
    },
    {
     "name": "stdout",
     "output_type": "stream",
     "text": [
      "473/1000 train loss: 0.7058479686578115  val loss: 0.8836292425791422\n"
     ]
    },
    {
     "name": "stderr",
     "output_type": "stream",
     "text": [
      "Epoch 474/1000: 100%|█| 6/6 [00:05<00:00,  1.09batch/s, avg_loss=0.628, loss=0.4\n"
     ]
    },
    {
     "name": "stdout",
     "output_type": "stream",
     "text": [
      "474/1000 train loss: 0.6280521949132284  val loss: 0.7989229162534078\n"
     ]
    },
    {
     "name": "stderr",
     "output_type": "stream",
     "text": [
      "Epoch 475/1000: 100%|█| 6/6 [00:05<00:00,  1.09batch/s, avg_loss=0.68, loss=0.37\n"
     ]
    },
    {
     "name": "stdout",
     "output_type": "stream",
     "text": [
      "475/1000 train loss: 0.6804194549719492  val loss: 0.912084142367045\n"
     ]
    },
    {
     "name": "stderr",
     "output_type": "stream",
     "text": [
      "Epoch 476/1000: 100%|█| 6/6 [00:05<00:00,  1.09batch/s, avg_loss=0.642, loss=0.4\n"
     ]
    },
    {
     "name": "stdout",
     "output_type": "stream",
     "text": [
      "476/1000 train loss: 0.6417328119277954  val loss: 0.6659080584843954\n"
     ]
    },
    {
     "name": "stderr",
     "output_type": "stream",
     "text": [
      "Epoch 477/1000: 100%|█| 6/6 [00:05<00:00,  1.09batch/s, avg_loss=0.64, loss=0.88\n"
     ]
    },
    {
     "name": "stdout",
     "output_type": "stream",
     "text": [
      "477/1000 train loss: 0.6396863559881846  val loss: 0.6794000665346781\n"
     ]
    },
    {
     "name": "stderr",
     "output_type": "stream",
     "text": [
      "Epoch 478/1000: 100%|█| 6/6 [00:05<00:00,  1.09batch/s, avg_loss=0.639, loss=0.6\n"
     ]
    },
    {
     "name": "stdout",
     "output_type": "stream",
     "text": [
      "478/1000 train loss: 0.6390341222286224  val loss: 0.6791398624579111\n"
     ]
    },
    {
     "name": "stderr",
     "output_type": "stream",
     "text": [
      "Epoch 479/1000: 100%|█| 6/6 [00:05<00:00,  1.09batch/s, avg_loss=0.624, loss=0.6\n"
     ]
    },
    {
     "name": "stdout",
     "output_type": "stream",
     "text": [
      "479/1000 train loss: 0.6241911550362905  val loss: 0.9049648741881052\n"
     ]
    },
    {
     "name": "stderr",
     "output_type": "stream",
     "text": [
      "Epoch 480/1000: 100%|█| 6/6 [00:05<00:00,  1.08batch/s, avg_loss=0.67, loss=0.76\n"
     ]
    },
    {
     "name": "stdout",
     "output_type": "stream",
     "text": [
      "480/1000 train loss: 0.6698007583618164  val loss: 0.6463708976904551\n"
     ]
    },
    {
     "name": "stderr",
     "output_type": "stream",
     "text": [
      "Epoch 481/1000: 100%|█| 6/6 [00:05<00:00,  1.10batch/s, avg_loss=0.642, loss=0.7\n"
     ]
    },
    {
     "name": "stdout",
     "output_type": "stream",
     "text": [
      "481/1000 train loss: 0.6416109800338745  val loss: 0.6504299143950144\n"
     ]
    },
    {
     "name": "stderr",
     "output_type": "stream",
     "text": [
      "Epoch 482/1000: 100%|█| 6/6 [00:05<00:00,  1.09batch/s, avg_loss=0.688, loss=0.5\n"
     ]
    },
    {
     "name": "stdout",
     "output_type": "stream",
     "text": [
      "482/1000 train loss: 0.6882372796535492  val loss: 0.745748907327652\n"
     ]
    },
    {
     "name": "stderr",
     "output_type": "stream",
     "text": [
      "Epoch 483/1000: 100%|█| 6/6 [00:05<00:00,  1.09batch/s, avg_loss=0.585, loss=0.5\n"
     ]
    },
    {
     "name": "stdout",
     "output_type": "stream",
     "text": [
      "483/1000 train loss: 0.585130492846171  val loss: 0.7472795148690542\n"
     ]
    },
    {
     "name": "stderr",
     "output_type": "stream",
     "text": [
      "Epoch 484/1000: 100%|█| 6/6 [00:05<00:00,  1.09batch/s, avg_loss=0.623, loss=0.5\n"
     ]
    },
    {
     "name": "stdout",
     "output_type": "stream",
     "text": [
      "484/1000 train loss: 0.6228208641211191  val loss: 0.6082317332426707\n"
     ]
    },
    {
     "name": "stderr",
     "output_type": "stream",
     "text": [
      "Epoch 485/1000: 100%|█| 6/6 [00:05<00:00,  1.09batch/s, avg_loss=0.641, loss=0.7\n"
     ]
    },
    {
     "name": "stdout",
     "output_type": "stream",
     "text": [
      "485/1000 train loss: 0.6410724620024363  val loss: 0.7631282905737559\n"
     ]
    },
    {
     "name": "stderr",
     "output_type": "stream",
     "text": [
      "Epoch 486/1000: 100%|█| 6/6 [00:05<00:00,  1.09batch/s, avg_loss=0.668, loss=0.7\n"
     ]
    },
    {
     "name": "stdout",
     "output_type": "stream",
     "text": [
      "486/1000 train loss: 0.6683761775493622  val loss: 0.8311833838621775\n"
     ]
    },
    {
     "name": "stderr",
     "output_type": "stream",
     "text": [
      "Epoch 487/1000: 100%|█| 6/6 [00:05<00:00,  1.09batch/s, avg_loss=0.652, loss=0.5\n"
     ]
    },
    {
     "name": "stdout",
     "output_type": "stream",
     "text": [
      "487/1000 train loss: 0.6515553196271261  val loss: 0.9137704074382782\n"
     ]
    },
    {
     "name": "stderr",
     "output_type": "stream",
     "text": [
      "Epoch 488/1000: 100%|█| 6/6 [00:05<00:00,  1.09batch/s, avg_loss=0.646, loss=0.7\n"
     ]
    },
    {
     "name": "stdout",
     "output_type": "stream",
     "text": [
      "488/1000 train loss: 0.6455570558706919  val loss: 0.6895873844623566\n"
     ]
    },
    {
     "name": "stderr",
     "output_type": "stream",
     "text": [
      "Epoch 489/1000: 100%|█| 6/6 [00:05<00:00,  1.10batch/s, avg_loss=0.711, loss=0.9\n"
     ]
    },
    {
     "name": "stdout",
     "output_type": "stream",
     "text": [
      "489/1000 train loss: 0.7113967637221018  val loss: 0.6169866422812144\n"
     ]
    },
    {
     "name": "stderr",
     "output_type": "stream",
     "text": [
      "Epoch 490/1000: 100%|█| 6/6 [00:05<00:00,  1.09batch/s, avg_loss=0.641, loss=0.6\n"
     ]
    },
    {
     "name": "stdout",
     "output_type": "stream",
     "text": [
      "490/1000 train loss: 0.6405766010284424  val loss: 0.6268179913361868\n"
     ]
    },
    {
     "name": "stderr",
     "output_type": "stream",
     "text": [
      "Epoch 491/1000: 100%|█| 6/6 [00:05<00:00,  1.07batch/s, avg_loss=0.689, loss=0.4\n"
     ]
    },
    {
     "name": "stdout",
     "output_type": "stream",
     "text": [
      "491/1000 train loss: 0.6892127096652985  val loss: 0.709357221921285\n"
     ]
    },
    {
     "name": "stderr",
     "output_type": "stream",
     "text": [
      "Epoch 492/1000: 100%|█| 6/6 [00:05<00:00,  1.08batch/s, avg_loss=0.601, loss=0.7\n"
     ]
    },
    {
     "name": "stdout",
     "output_type": "stream",
     "text": [
      "492/1000 train loss: 0.6010615527629852  val loss: 0.6823232670625051\n"
     ]
    },
    {
     "name": "stderr",
     "output_type": "stream",
     "text": [
      "Epoch 493/1000: 100%|█| 6/6 [00:05<00:00,  1.09batch/s, avg_loss=0.633, loss=0.7\n"
     ]
    },
    {
     "name": "stdout",
     "output_type": "stream",
     "text": [
      "493/1000 train loss: 0.6333030263582865  val loss: 0.6885083019733429\n"
     ]
    },
    {
     "name": "stderr",
     "output_type": "stream",
     "text": [
      "Epoch 494/1000: 100%|█| 6/6 [00:05<00:00,  1.09batch/s, avg_loss=0.606, loss=0.6\n"
     ]
    },
    {
     "name": "stdout",
     "output_type": "stream",
     "text": [
      "494/1000 train loss: 0.6056556502978007  val loss: 0.7289978961149851\n"
     ]
    },
    {
     "name": "stderr",
     "output_type": "stream",
     "text": [
      "Epoch 495/1000: 100%|█| 6/6 [00:05<00:00,  1.10batch/s, avg_loss=0.64, loss=0.67\n"
     ]
    },
    {
     "name": "stdout",
     "output_type": "stream",
     "text": [
      "495/1000 train loss: 0.6395616432030996  val loss: 0.6236765682697296\n"
     ]
    },
    {
     "name": "stderr",
     "output_type": "stream",
     "text": [
      "Epoch 496/1000: 100%|█| 6/6 [00:05<00:00,  1.09batch/s, avg_loss=0.647, loss=0.4\n"
     ]
    },
    {
     "name": "stdout",
     "output_type": "stream",
     "text": [
      "496/1000 train loss: 0.6469902495543162  val loss: 0.8974357148011526\n"
     ]
    },
    {
     "name": "stderr",
     "output_type": "stream",
     "text": [
      "Epoch 497/1000: 100%|█| 6/6 [00:05<00:00,  1.09batch/s, avg_loss=0.622, loss=0.4\n"
     ]
    },
    {
     "name": "stdout",
     "output_type": "stream",
     "text": [
      "497/1000 train loss: 0.621653288602829  val loss: 0.6456806759039561\n"
     ]
    },
    {
     "name": "stderr",
     "output_type": "stream",
     "text": [
      "Epoch 498/1000: 100%|█| 6/6 [00:05<00:00,  1.09batch/s, avg_loss=0.622, loss=0.7\n"
     ]
    },
    {
     "name": "stdout",
     "output_type": "stream",
     "text": [
      "498/1000 train loss: 0.6223573784033457  val loss: 0.7799700498580933\n"
     ]
    },
    {
     "name": "stderr",
     "output_type": "stream",
     "text": [
      "Epoch 499/1000: 100%|█| 6/6 [00:05<00:00,  1.10batch/s, avg_loss=0.628, loss=0.8\n"
     ]
    },
    {
     "name": "stdout",
     "output_type": "stream",
     "text": [
      "499/1000 train loss: 0.6279168228308359  val loss: 0.6425183216730753\n"
     ]
    },
    {
     "name": "stderr",
     "output_type": "stream",
     "text": [
      "Epoch 500/1000: 100%|█| 6/6 [00:05<00:00,  1.09batch/s, avg_loss=0.628, loss=0.4\n"
     ]
    },
    {
     "name": "stdout",
     "output_type": "stream",
     "text": [
      "500/1000 train loss: 0.6280283828576406  val loss: 0.7432655096054077\n"
     ]
    },
    {
     "name": "stderr",
     "output_type": "stream",
     "text": [
      "Epoch 501/1000: 100%|█| 6/6 [00:05<00:00,  1.09batch/s, avg_loss=0.619, loss=0.6\n"
     ]
    },
    {
     "name": "stdout",
     "output_type": "stream",
     "text": [
      "501/1000 train loss: 0.6186527411142985  val loss: 0.6978690028190613\n"
     ]
    },
    {
     "name": "stderr",
     "output_type": "stream",
     "text": [
      "Epoch 502/1000: 100%|█| 6/6 [00:05<00:00,  1.09batch/s, avg_loss=0.684, loss=0.7\n"
     ]
    },
    {
     "name": "stdout",
     "output_type": "stream",
     "text": [
      "502/1000 train loss: 0.6838319003582001  val loss: 0.8569336732228597\n"
     ]
    },
    {
     "name": "stderr",
     "output_type": "stream",
     "text": [
      "Epoch 503/1000: 100%|█| 6/6 [00:05<00:00,  1.09batch/s, avg_loss=0.644, loss=0.7\n"
     ]
    },
    {
     "name": "stdout",
     "output_type": "stream",
     "text": [
      "503/1000 train loss: 0.6440953811009725  val loss: 0.7593383391698202\n"
     ]
    },
    {
     "name": "stderr",
     "output_type": "stream",
     "text": [
      "Epoch 504/1000: 100%|█| 6/6 [00:05<00:00,  1.09batch/s, avg_loss=0.659, loss=0.9\n"
     ]
    },
    {
     "name": "stdout",
     "output_type": "stream",
     "text": [
      "504/1000 train loss: 0.6591196258862814  val loss: 0.6813674966494242\n"
     ]
    },
    {
     "name": "stderr",
     "output_type": "stream",
     "text": [
      "Epoch 505/1000: 100%|█| 6/6 [00:05<00:00,  1.10batch/s, avg_loss=0.67, loss=0.81\n"
     ]
    },
    {
     "name": "stdout",
     "output_type": "stream",
     "text": [
      "505/1000 train loss: 0.6697529753049215  val loss: 0.74873948097229\n"
     ]
    },
    {
     "name": "stderr",
     "output_type": "stream",
     "text": [
      "Epoch 506/1000: 100%|█| 6/6 [00:05<00:00,  1.09batch/s, avg_loss=0.65, loss=0.58\n"
     ]
    },
    {
     "name": "stdout",
     "output_type": "stream",
     "text": [
      "506/1000 train loss: 0.6497449080149332  val loss: 0.7073962986469269\n"
     ]
    },
    {
     "name": "stderr",
     "output_type": "stream",
     "text": [
      "Epoch 507/1000: 100%|█| 6/6 [00:05<00:00,  1.09batch/s, avg_loss=0.59, loss=0.76\n"
     ]
    },
    {
     "name": "stdout",
     "output_type": "stream",
     "text": [
      "507/1000 train loss: 0.5896723866462708  val loss: 0.6353941063086191\n"
     ]
    },
    {
     "name": "stderr",
     "output_type": "stream",
     "text": [
      "Epoch 508/1000: 100%|█| 6/6 [00:05<00:00,  1.09batch/s, avg_loss=0.623, loss=0.5\n"
     ]
    },
    {
     "name": "stdout",
     "output_type": "stream",
     "text": [
      "508/1000 train loss: 0.6234817902247111  val loss: 0.7180706063906351\n"
     ]
    },
    {
     "name": "stderr",
     "output_type": "stream",
     "text": [
      "Epoch 509/1000: 100%|█| 6/6 [00:05<00:00,  1.08batch/s, avg_loss=0.614, loss=0.5\n"
     ]
    },
    {
     "name": "stdout",
     "output_type": "stream",
     "text": [
      "509/1000 train loss: 0.6143271426359812  val loss: 0.8183570007483164\n"
     ]
    },
    {
     "name": "stderr",
     "output_type": "stream",
     "text": [
      "Epoch 510/1000: 100%|█| 6/6 [00:05<00:00,  1.09batch/s, avg_loss=0.582, loss=0.5\n"
     ]
    },
    {
     "name": "stdout",
     "output_type": "stream",
     "text": [
      "510/1000 train loss: 0.5815137128035227  val loss: 0.6329289774099985\n"
     ]
    },
    {
     "name": "stderr",
     "output_type": "stream",
     "text": [
      "Epoch 511/1000: 100%|█| 6/6 [00:05<00:00,  1.09batch/s, avg_loss=0.642, loss=0.5\n"
     ]
    },
    {
     "name": "stdout",
     "output_type": "stream",
     "text": [
      "511/1000 train loss: 0.6424466768900553  val loss: 0.8113173941771189\n"
     ]
    },
    {
     "name": "stderr",
     "output_type": "stream",
     "text": [
      "Epoch 512/1000: 100%|█| 6/6 [00:05<00:00,  1.09batch/s, avg_loss=0.645, loss=0.6\n"
     ]
    },
    {
     "name": "stdout",
     "output_type": "stream",
     "text": [
      "512/1000 train loss: 0.6446221768856049  val loss: 0.7327807346979777\n"
     ]
    },
    {
     "name": "stderr",
     "output_type": "stream",
     "text": [
      "Epoch 513/1000: 100%|█| 6/6 [00:05<00:00,  1.08batch/s, avg_loss=0.646, loss=0.5\n"
     ]
    },
    {
     "name": "stdout",
     "output_type": "stream",
     "text": [
      "513/1000 train loss: 0.6461097796758016  val loss: 0.7143996258576711\n"
     ]
    },
    {
     "name": "stderr",
     "output_type": "stream",
     "text": [
      "Epoch 514/1000: 100%|█| 6/6 [00:05<00:00,  1.09batch/s, avg_loss=0.618, loss=0.4\n"
     ]
    },
    {
     "name": "stdout",
     "output_type": "stream",
     "text": [
      "514/1000 train loss: 0.6183262467384338  val loss: 0.7869605322678884\n"
     ]
    },
    {
     "name": "stderr",
     "output_type": "stream",
     "text": [
      "Epoch 515/1000: 100%|█| 6/6 [00:05<00:00,  1.10batch/s, avg_loss=0.67, loss=0.55\n"
     ]
    },
    {
     "name": "stdout",
     "output_type": "stream",
     "text": [
      "515/1000 train loss: 0.6704007883866628  val loss: 0.7211250762144724\n"
     ]
    },
    {
     "name": "stderr",
     "output_type": "stream",
     "text": [
      "Epoch 516/1000: 100%|█| 6/6 [00:05<00:00,  1.09batch/s, avg_loss=0.646, loss=0.7\n"
     ]
    },
    {
     "name": "stdout",
     "output_type": "stream",
     "text": [
      "516/1000 train loss: 0.646336187918981  val loss: 0.6163801948229471\n"
     ]
    },
    {
     "name": "stderr",
     "output_type": "stream",
     "text": [
      "Epoch 517/1000: 100%|█| 6/6 [00:05<00:00,  1.09batch/s, avg_loss=0.612, loss=0.4\n"
     ]
    },
    {
     "name": "stdout",
     "output_type": "stream",
     "text": [
      "517/1000 train loss: 0.6115676164627075  val loss: 0.8134860694408417\n"
     ]
    },
    {
     "name": "stderr",
     "output_type": "stream",
     "text": [
      "Epoch 518/1000: 100%|█| 6/6 [00:05<00:00,  1.08batch/s, avg_loss=0.598, loss=0.4\n"
     ]
    },
    {
     "name": "stdout",
     "output_type": "stream",
     "text": [
      "518/1000 train loss: 0.598284383614858  val loss: 0.639841208855311\n"
     ]
    },
    {
     "name": "stderr",
     "output_type": "stream",
     "text": [
      "Epoch 519/1000: 100%|█| 6/6 [00:05<00:00,  1.09batch/s, avg_loss=0.592, loss=0.8\n"
     ]
    },
    {
     "name": "stdout",
     "output_type": "stream",
     "text": [
      "519/1000 train loss: 0.5923734505971273  val loss: 0.5374458730220795\n"
     ]
    },
    {
     "name": "stderr",
     "output_type": "stream",
     "text": [
      "Epoch 520/1000: 100%|█| 6/6 [00:05<00:00,  1.09batch/s, avg_loss=0.681, loss=0.6\n"
     ]
    },
    {
     "name": "stdout",
     "output_type": "stream",
     "text": [
      "520/1000 train loss: 0.6808849374453226  val loss: 0.729775587717692\n"
     ]
    },
    {
     "name": "stderr",
     "output_type": "stream",
     "text": [
      "Epoch 521/1000: 100%|█| 6/6 [00:05<00:00,  1.09batch/s, avg_loss=0.662, loss=0.7\n"
     ]
    },
    {
     "name": "stdout",
     "output_type": "stream",
     "text": [
      "521/1000 train loss: 0.6623172461986542  val loss: 0.811599483092626\n"
     ]
    },
    {
     "name": "stderr",
     "output_type": "stream",
     "text": [
      "Epoch 522/1000: 100%|█| 6/6 [00:05<00:00,  1.09batch/s, avg_loss=0.618, loss=0.6\n"
     ]
    },
    {
     "name": "stdout",
     "output_type": "stream",
     "text": [
      "522/1000 train loss: 0.6183057129383087  val loss: 0.6429792940616608\n"
     ]
    },
    {
     "name": "stderr",
     "output_type": "stream",
     "text": [
      "Epoch 523/1000: 100%|█| 6/6 [00:05<00:00,  1.08batch/s, avg_loss=0.677, loss=0.5\n"
     ]
    },
    {
     "name": "stdout",
     "output_type": "stream",
     "text": [
      "523/1000 train loss: 0.6772694289684296  val loss: 0.810003916422526\n"
     ]
    },
    {
     "name": "stderr",
     "output_type": "stream",
     "text": [
      "Epoch 524/1000: 100%|█| 6/6 [00:05<00:00,  1.08batch/s, avg_loss=0.686, loss=0.6\n"
     ]
    },
    {
     "name": "stdout",
     "output_type": "stream",
     "text": [
      "524/1000 train loss: 0.6858296891053518  val loss: 0.7384917239348093\n"
     ]
    },
    {
     "name": "stderr",
     "output_type": "stream",
     "text": [
      "Epoch 525/1000: 100%|█| 6/6 [00:05<00:00,  1.08batch/s, avg_loss=0.641, loss=0.7\n"
     ]
    },
    {
     "name": "stdout",
     "output_type": "stream",
     "text": [
      "525/1000 train loss: 0.6405765116214752  val loss: 0.7535083393255869\n"
     ]
    },
    {
     "name": "stderr",
     "output_type": "stream",
     "text": [
      "Epoch 526/1000: 100%|█| 6/6 [00:05<00:00,  1.08batch/s, avg_loss=0.649, loss=0.5\n"
     ]
    },
    {
     "name": "stdout",
     "output_type": "stream",
     "text": [
      "526/1000 train loss: 0.6486379007498423  val loss: 0.7026486098766327\n"
     ]
    },
    {
     "name": "stderr",
     "output_type": "stream",
     "text": [
      "Epoch 527/1000: 100%|█| 6/6 [00:05<00:00,  1.09batch/s, avg_loss=0.66, loss=0.48\n"
     ]
    },
    {
     "name": "stdout",
     "output_type": "stream",
     "text": [
      "527/1000 train loss: 0.659549335638682  val loss: 0.8237956762313843\n"
     ]
    },
    {
     "name": "stderr",
     "output_type": "stream",
     "text": [
      "Epoch 528/1000: 100%|█| 6/6 [00:05<00:00,  1.09batch/s, avg_loss=0.684, loss=0.8\n"
     ]
    },
    {
     "name": "stdout",
     "output_type": "stream",
     "text": [
      "528/1000 train loss: 0.6836129824320475  val loss: 0.5847006738185883\n"
     ]
    },
    {
     "name": "stderr",
     "output_type": "stream",
     "text": [
      "Epoch 529/1000: 100%|█| 6/6 [00:05<00:00,  1.08batch/s, avg_loss=0.687, loss=0.7\n"
     ]
    },
    {
     "name": "stdout",
     "output_type": "stream",
     "text": [
      "529/1000 train loss: 0.6867029865582784  val loss: 0.8479005297025045\n"
     ]
    },
    {
     "name": "stderr",
     "output_type": "stream",
     "text": [
      "Epoch 530/1000: 100%|█| 6/6 [00:05<00:00,  1.08batch/s, avg_loss=0.639, loss=0.7\n"
     ]
    },
    {
     "name": "stdout",
     "output_type": "stream",
     "text": [
      "530/1000 train loss: 0.6386239230632782  val loss: 0.8213996489842733\n"
     ]
    },
    {
     "name": "stderr",
     "output_type": "stream",
     "text": [
      "Epoch 531/1000: 100%|█| 6/6 [00:05<00:00,  1.09batch/s, avg_loss=0.661, loss=0.7\n"
     ]
    },
    {
     "name": "stdout",
     "output_type": "stream",
     "text": [
      "531/1000 train loss: 0.6610581576824188  val loss: 0.7179897328217825\n"
     ]
    },
    {
     "name": "stderr",
     "output_type": "stream",
     "text": [
      "Epoch 532/1000: 100%|█| 6/6 [00:05<00:00,  1.08batch/s, avg_loss=0.534, loss=0.4\n"
     ]
    },
    {
     "name": "stdout",
     "output_type": "stream",
     "text": [
      "532/1000 train loss: 0.5336534182230631  val loss: 0.7327261865139008\n"
     ]
    },
    {
     "name": "stderr",
     "output_type": "stream",
     "text": [
      "Epoch 533/1000: 100%|█| 6/6 [00:05<00:00,  1.09batch/s, avg_loss=0.634, loss=0.4\n"
     ]
    },
    {
     "name": "stdout",
     "output_type": "stream",
     "text": [
      "533/1000 train loss: 0.6338208119074503  val loss: 0.6776902079582214\n"
     ]
    },
    {
     "name": "stderr",
     "output_type": "stream",
     "text": [
      "Epoch 534/1000: 100%|█| 6/6 [00:05<00:00,  1.09batch/s, avg_loss=0.672, loss=0.7\n"
     ]
    },
    {
     "name": "stdout",
     "output_type": "stream",
     "text": [
      "534/1000 train loss: 0.6723090509573618  val loss: 0.8861021300156912\n"
     ]
    },
    {
     "name": "stderr",
     "output_type": "stream",
     "text": [
      "Epoch 535/1000: 100%|█| 6/6 [00:05<00:00,  1.09batch/s, avg_loss=0.671, loss=0.7\n"
     ]
    },
    {
     "name": "stdout",
     "output_type": "stream",
     "text": [
      "535/1000 train loss: 0.671080489953359  val loss: 0.6862276593844095\n"
     ]
    },
    {
     "name": "stderr",
     "output_type": "stream",
     "text": [
      "Epoch 536/1000: 100%|█| 6/6 [00:05<00:00,  1.09batch/s, avg_loss=0.732, loss=0.8\n"
     ]
    },
    {
     "name": "stdout",
     "output_type": "stream",
     "text": [
      "536/1000 train loss: 0.7322576145331064  val loss: 0.7747576733430227\n"
     ]
    },
    {
     "name": "stderr",
     "output_type": "stream",
     "text": [
      "Epoch 537/1000: 100%|█| 6/6 [00:05<00:00,  1.06batch/s, avg_loss=0.639, loss=0.6\n"
     ]
    },
    {
     "name": "stdout",
     "output_type": "stream",
     "text": [
      "537/1000 train loss: 0.6394657095273336  val loss: 0.691273421049118\n"
     ]
    },
    {
     "name": "stderr",
     "output_type": "stream",
     "text": [
      "Epoch 538/1000: 100%|█| 6/6 [00:05<00:00,  1.09batch/s, avg_loss=0.688, loss=0.6\n"
     ]
    },
    {
     "name": "stdout",
     "output_type": "stream",
     "text": [
      "538/1000 train loss: 0.6884672939777374  val loss: 0.8463684916496277\n"
     ]
    },
    {
     "name": "stderr",
     "output_type": "stream",
     "text": [
      "Epoch 539/1000: 100%|█| 6/6 [00:05<00:00,  1.09batch/s, avg_loss=0.659, loss=0.5\n"
     ]
    },
    {
     "name": "stdout",
     "output_type": "stream",
     "text": [
      "539/1000 train loss: 0.6587686538696289  val loss: 0.9038876295089722\n"
     ]
    },
    {
     "name": "stderr",
     "output_type": "stream",
     "text": [
      "Epoch 540/1000: 100%|█| 6/6 [00:05<00:00,  1.08batch/s, avg_loss=0.621, loss=0.5\n"
     ]
    },
    {
     "name": "stdout",
     "output_type": "stream",
     "text": [
      "540/1000 train loss: 0.6214970946311951  val loss: 0.83486541112264\n"
     ]
    },
    {
     "name": "stderr",
     "output_type": "stream",
     "text": [
      "Epoch 541/1000: 100%|█| 6/6 [00:05<00:00,  1.09batch/s, avg_loss=0.715, loss=0.7\n"
     ]
    },
    {
     "name": "stdout",
     "output_type": "stream",
     "text": [
      "541/1000 train loss: 0.7153187493483225  val loss: 0.8673549791177114\n"
     ]
    },
    {
     "name": "stderr",
     "output_type": "stream",
     "text": [
      "Epoch 542/1000: 100%|█| 6/6 [00:05<00:00,  1.09batch/s, avg_loss=0.732, loss=0.6\n"
     ]
    },
    {
     "name": "stdout",
     "output_type": "stream",
     "text": [
      "542/1000 train loss: 0.7324813405672709  val loss: 0.7454549074172974\n"
     ]
    },
    {
     "name": "stderr",
     "output_type": "stream",
     "text": [
      "Epoch 543/1000: 100%|█| 6/6 [00:05<00:00,  1.09batch/s, avg_loss=0.683, loss=0.6\n"
     ]
    },
    {
     "name": "stdout",
     "output_type": "stream",
     "text": [
      "543/1000 train loss: 0.6831927796204885  val loss: 0.8546719451745352\n"
     ]
    },
    {
     "name": "stderr",
     "output_type": "stream",
     "text": [
      "Epoch 544/1000: 100%|█| 6/6 [00:05<00:00,  1.09batch/s, avg_loss=0.684, loss=0.7\n"
     ]
    },
    {
     "name": "stdout",
     "output_type": "stream",
     "text": [
      "544/1000 train loss: 0.6844055553277334  val loss: 0.8320092459519705\n"
     ]
    },
    {
     "name": "stderr",
     "output_type": "stream",
     "text": [
      "Epoch 545/1000: 100%|█| 6/6 [00:05<00:00,  1.09batch/s, avg_loss=0.7, loss=0.929\n"
     ]
    },
    {
     "name": "stdout",
     "output_type": "stream",
     "text": [
      "545/1000 train loss: 0.7004028062025706  val loss: 0.5877727369467417\n"
     ]
    },
    {
     "name": "stderr",
     "output_type": "stream",
     "text": [
      "Epoch 546/1000: 100%|█| 6/6 [00:05<00:00,  1.10batch/s, avg_loss=0.698, loss=0.5\n"
     ]
    },
    {
     "name": "stdout",
     "output_type": "stream",
     "text": [
      "546/1000 train loss: 0.6983335316181183  val loss: 0.8359095354874929\n"
     ]
    },
    {
     "name": "stderr",
     "output_type": "stream",
     "text": [
      "Epoch 547/1000: 100%|█| 6/6 [00:05<00:00,  1.09batch/s, avg_loss=0.68, loss=0.86\n"
     ]
    },
    {
     "name": "stdout",
     "output_type": "stream",
     "text": [
      "547/1000 train loss: 0.6798434853553772  val loss: 0.6424012581507365\n"
     ]
    },
    {
     "name": "stderr",
     "output_type": "stream",
     "text": [
      "Epoch 548/1000: 100%|█| 6/6 [00:05<00:00,  1.08batch/s, avg_loss=0.699, loss=0.5\n"
     ]
    },
    {
     "name": "stdout",
     "output_type": "stream",
     "text": [
      "548/1000 train loss: 0.6988384823004404  val loss: 0.7273831069469452\n"
     ]
    },
    {
     "name": "stderr",
     "output_type": "stream",
     "text": [
      "Epoch 549/1000: 100%|█| 6/6 [00:05<00:00,  1.10batch/s, avg_loss=0.682, loss=0.6\n"
     ]
    },
    {
     "name": "stdout",
     "output_type": "stream",
     "text": [
      "549/1000 train loss: 0.6818725764751434  val loss: 0.771949976682663\n"
     ]
    },
    {
     "name": "stderr",
     "output_type": "stream",
     "text": [
      "Epoch 550/1000: 100%|█| 6/6 [00:05<00:00,  1.09batch/s, avg_loss=0.683, loss=0.7\n"
     ]
    },
    {
     "name": "stdout",
     "output_type": "stream",
     "text": [
      "550/1000 train loss: 0.6829808553059896  val loss: 0.7048048178354899\n"
     ]
    },
    {
     "name": "stderr",
     "output_type": "stream",
     "text": [
      "Epoch 551/1000: 100%|█| 6/6 [00:05<00:00,  1.09batch/s, avg_loss=0.687, loss=0.5\n"
     ]
    },
    {
     "name": "stdout",
     "output_type": "stream",
     "text": [
      "551/1000 train loss: 0.6866734425226847  val loss: 0.7228065629800161\n"
     ]
    },
    {
     "name": "stderr",
     "output_type": "stream",
     "text": [
      "Epoch 552/1000: 100%|█| 6/6 [00:05<00:00,  1.09batch/s, avg_loss=0.652, loss=0.5\n"
     ]
    },
    {
     "name": "stdout",
     "output_type": "stream",
     "text": [
      "552/1000 train loss: 0.6516265074412028  val loss: 0.786745697259903\n"
     ]
    },
    {
     "name": "stderr",
     "output_type": "stream",
     "text": [
      "Epoch 553/1000: 100%|█| 6/6 [00:05<00:00,  1.09batch/s, avg_loss=0.65, loss=0.68\n"
     ]
    },
    {
     "name": "stdout",
     "output_type": "stream",
     "text": [
      "553/1000 train loss: 0.6497403482596079  val loss: 0.905860185623169\n"
     ]
    },
    {
     "name": "stderr",
     "output_type": "stream",
     "text": [
      "Epoch 554/1000: 100%|█| 6/6 [00:05<00:00,  1.08batch/s, avg_loss=0.725, loss=0.9\n"
     ]
    },
    {
     "name": "stdout",
     "output_type": "stream",
     "text": [
      "554/1000 train loss: 0.7250944276650747  val loss: 0.6762542625268301\n"
     ]
    },
    {
     "name": "stderr",
     "output_type": "stream",
     "text": [
      "Epoch 555/1000: 100%|█| 6/6 [00:05<00:00,  1.09batch/s, avg_loss=0.629, loss=0.5\n"
     ]
    },
    {
     "name": "stdout",
     "output_type": "stream",
     "text": [
      "555/1000 train loss: 0.6291024287541708  val loss: 0.6749943792819977\n"
     ]
    },
    {
     "name": "stderr",
     "output_type": "stream",
     "text": [
      "Epoch 556/1000: 100%|█| 6/6 [00:05<00:00,  1.09batch/s, avg_loss=0.726, loss=0.6\n"
     ]
    },
    {
     "name": "stdout",
     "output_type": "stream",
     "text": [
      "556/1000 train loss: 0.725551595290502  val loss: 0.7213453054428101\n"
     ]
    },
    {
     "name": "stderr",
     "output_type": "stream",
     "text": [
      "Epoch 557/1000: 100%|█| 6/6 [00:05<00:00,  1.10batch/s, avg_loss=0.696, loss=0.8\n"
     ]
    },
    {
     "name": "stdout",
     "output_type": "stream",
     "text": [
      "557/1000 train loss: 0.6957257290681204  val loss: 0.6936033765474955\n"
     ]
    },
    {
     "name": "stderr",
     "output_type": "stream",
     "text": [
      "Epoch 558/1000: 100%|█| 6/6 [00:05<00:00,  1.10batch/s, avg_loss=0.62, loss=0.71\n"
     ]
    },
    {
     "name": "stdout",
     "output_type": "stream",
     "text": [
      "558/1000 train loss: 0.6196352740128835  val loss: 0.8429060677687327\n"
     ]
    },
    {
     "name": "stderr",
     "output_type": "stream",
     "text": [
      "Epoch 559/1000: 100%|█| 6/6 [00:05<00:00,  1.09batch/s, avg_loss=0.703, loss=0.6\n"
     ]
    },
    {
     "name": "stdout",
     "output_type": "stream",
     "text": [
      "559/1000 train loss: 0.7033961117267609  val loss: 0.8544289171695709\n"
     ]
    },
    {
     "name": "stderr",
     "output_type": "stream",
     "text": [
      "Epoch 560/1000: 100%|█| 6/6 [00:05<00:00,  1.09batch/s, avg_loss=0.646, loss=0.5\n"
     ]
    },
    {
     "name": "stdout",
     "output_type": "stream",
     "text": [
      "560/1000 train loss: 0.6458428204059601  val loss: 0.8369941115379333\n"
     ]
    },
    {
     "name": "stderr",
     "output_type": "stream",
     "text": [
      "Epoch 561/1000: 100%|█| 6/6 [00:05<00:00,  1.09batch/s, avg_loss=0.662, loss=0.7\n"
     ]
    },
    {
     "name": "stdout",
     "output_type": "stream",
     "text": [
      "561/1000 train loss: 0.6619638601938883  val loss: 0.7970325946807861\n"
     ]
    },
    {
     "name": "stderr",
     "output_type": "stream",
     "text": [
      "Epoch 562/1000: 100%|█| 6/6 [00:05<00:00,  1.09batch/s, avg_loss=0.67, loss=0.80\n"
     ]
    },
    {
     "name": "stdout",
     "output_type": "stream",
     "text": [
      "562/1000 train loss: 0.6699458062648773  val loss: 0.7538638214270273\n"
     ]
    },
    {
     "name": "stderr",
     "output_type": "stream",
     "text": [
      "Epoch 563/1000: 100%|█| 6/6 [00:05<00:00,  1.09batch/s, avg_loss=0.624, loss=0.6\n"
     ]
    },
    {
     "name": "stdout",
     "output_type": "stream",
     "text": [
      "563/1000 train loss: 0.6238833169142405  val loss: 0.7860623697439829\n"
     ]
    },
    {
     "name": "stderr",
     "output_type": "stream",
     "text": [
      "Epoch 564/1000: 100%|█| 6/6 [00:05<00:00,  1.07batch/s, avg_loss=0.675, loss=0.6\n"
     ]
    },
    {
     "name": "stdout",
     "output_type": "stream",
     "text": [
      "564/1000 train loss: 0.6745814184347788  val loss: 0.7839134136835734\n"
     ]
    },
    {
     "name": "stderr",
     "output_type": "stream",
     "text": [
      "Epoch 565/1000: 100%|█| 6/6 [00:05<00:00,  1.08batch/s, avg_loss=0.632, loss=0.8\n"
     ]
    },
    {
     "name": "stdout",
     "output_type": "stream",
     "text": [
      "565/1000 train loss: 0.6316498120625814  val loss: 0.730752557516098\n"
     ]
    },
    {
     "name": "stderr",
     "output_type": "stream",
     "text": [
      "Epoch 566/1000: 100%|█| 6/6 [00:05<00:00,  1.08batch/s, avg_loss=0.701, loss=0.9\n"
     ]
    },
    {
     "name": "stdout",
     "output_type": "stream",
     "text": [
      "566/1000 train loss: 0.7012443045775095  val loss: 0.651340385278066\n"
     ]
    },
    {
     "name": "stderr",
     "output_type": "stream",
     "text": [
      "Epoch 567/1000: 100%|█| 6/6 [00:05<00:00,  1.07batch/s, avg_loss=0.704, loss=0.6\n"
     ]
    },
    {
     "name": "stdout",
     "output_type": "stream",
     "text": [
      "567/1000 train loss: 0.7037522892157236  val loss: 0.7302617530028025\n"
     ]
    },
    {
     "name": "stderr",
     "output_type": "stream",
     "text": [
      "Epoch 568/1000: 100%|█| 6/6 [00:06<00:00,  1.00s/batch, avg_loss=0.664, loss=0.5\n"
     ]
    },
    {
     "name": "stdout",
     "output_type": "stream",
     "text": [
      "568/1000 train loss: 0.6640536189079285  val loss: 0.7351273993651072\n"
     ]
    },
    {
     "name": "stderr",
     "output_type": "stream",
     "text": [
      "Epoch 569/1000: 100%|█| 6/6 [00:05<00:00,  1.00batch/s, avg_loss=0.676, loss=0.7\n"
     ]
    },
    {
     "name": "stdout",
     "output_type": "stream",
     "text": [
      "569/1000 train loss: 0.6758902668952942  val loss: 0.8763779203097025\n"
     ]
    },
    {
     "name": "stderr",
     "output_type": "stream",
     "text": [
      "Epoch 570/1000: 100%|█| 6/6 [00:05<00:00,  1.03batch/s, avg_loss=0.625, loss=0.4\n"
     ]
    },
    {
     "name": "stdout",
     "output_type": "stream",
     "text": [
      "570/1000 train loss: 0.6246236364046732  val loss: 0.5170005758603414\n"
     ]
    },
    {
     "name": "stderr",
     "output_type": "stream",
     "text": [
      "Epoch 571/1000: 100%|█| 6/6 [00:05<00:00,  1.03batch/s, avg_loss=0.606, loss=0.4\n"
     ]
    },
    {
     "name": "stdout",
     "output_type": "stream",
     "text": [
      "571/1000 train loss: 0.6060315271218618  val loss: 0.7679539918899536\n"
     ]
    },
    {
     "name": "stderr",
     "output_type": "stream",
     "text": [
      "Epoch 572/1000: 100%|█| 6/6 [00:05<00:00,  1.02batch/s, avg_loss=0.663, loss=0.7\n"
     ]
    },
    {
     "name": "stdout",
     "output_type": "stream",
     "text": [
      "572/1000 train loss: 0.6629928251107534  val loss: 0.6849520007769266\n"
     ]
    },
    {
     "name": "stderr",
     "output_type": "stream",
     "text": [
      "Epoch 573/1000: 100%|█| 6/6 [00:05<00:00,  1.02batch/s, avg_loss=0.617, loss=0.5\n"
     ]
    },
    {
     "name": "stdout",
     "output_type": "stream",
     "text": [
      "573/1000 train loss: 0.6170893609523773  val loss: 0.7226238151391348\n"
     ]
    },
    {
     "name": "stderr",
     "output_type": "stream",
     "text": [
      "Epoch 574/1000: 100%|█| 6/6 [00:05<00:00,  1.05batch/s, avg_loss=0.658, loss=0.7\n"
     ]
    },
    {
     "name": "stdout",
     "output_type": "stream",
     "text": [
      "574/1000 train loss: 0.658266007900238  val loss: 0.6745998760064443\n"
     ]
    },
    {
     "name": "stderr",
     "output_type": "stream",
     "text": [
      "Epoch 575/1000: 100%|█| 6/6 [00:05<00:00,  1.03batch/s, avg_loss=0.648, loss=0.4\n"
     ]
    },
    {
     "name": "stdout",
     "output_type": "stream",
     "text": [
      "575/1000 train loss: 0.6480527619520823  val loss: 0.8084786335627238\n"
     ]
    },
    {
     "name": "stderr",
     "output_type": "stream",
     "text": [
      "Epoch 576/1000: 100%|█| 6/6 [00:05<00:00,  1.04batch/s, avg_loss=0.656, loss=0.7\n"
     ]
    },
    {
     "name": "stdout",
     "output_type": "stream",
     "text": [
      "576/1000 train loss: 0.6564350426197052  val loss: 0.6558454235394796\n"
     ]
    },
    {
     "name": "stderr",
     "output_type": "stream",
     "text": [
      "Epoch 577/1000: 100%|█| 6/6 [00:05<00:00,  1.03batch/s, avg_loss=0.599, loss=0.3\n"
     ]
    },
    {
     "name": "stdout",
     "output_type": "stream",
     "text": [
      "577/1000 train loss: 0.5991935630639394  val loss: 0.7266034881273905\n"
     ]
    },
    {
     "name": "stderr",
     "output_type": "stream",
     "text": [
      "Epoch 578/1000: 100%|█| 6/6 [00:05<00:00,  1.03batch/s, avg_loss=0.664, loss=0.8\n"
     ]
    },
    {
     "name": "stdout",
     "output_type": "stream",
     "text": [
      "578/1000 train loss: 0.6643074651559194  val loss: 0.6746948659420013\n"
     ]
    },
    {
     "name": "stderr",
     "output_type": "stream",
     "text": [
      "Epoch 579/1000: 100%|█| 6/6 [00:05<00:00,  1.08batch/s, avg_loss=0.589, loss=0.6\n"
     ]
    },
    {
     "name": "stdout",
     "output_type": "stream",
     "text": [
      "579/1000 train loss: 0.5885065793991089  val loss: 0.8881724377473196\n"
     ]
    },
    {
     "name": "stderr",
     "output_type": "stream",
     "text": [
      "Epoch 580/1000: 100%|█| 6/6 [00:05<00:00,  1.04batch/s, avg_loss=0.61, loss=0.56\n"
     ]
    },
    {
     "name": "stdout",
     "output_type": "stream",
     "text": [
      "580/1000 train loss: 0.6103001634279887  val loss: 0.7055098017056783\n"
     ]
    },
    {
     "name": "stderr",
     "output_type": "stream",
     "text": [
      "Epoch 581/1000: 100%|█| 6/6 [00:05<00:00,  1.01batch/s, avg_loss=0.623, loss=0.6\n"
     ]
    },
    {
     "name": "stdout",
     "output_type": "stream",
     "text": [
      "581/1000 train loss: 0.6231484810511271  val loss: 0.6076960663000742\n"
     ]
    },
    {
     "name": "stderr",
     "output_type": "stream",
     "text": [
      "Epoch 582/1000: 100%|█| 6/6 [00:05<00:00,  1.03batch/s, avg_loss=0.666, loss=0.8\n"
     ]
    },
    {
     "name": "stdout",
     "output_type": "stream",
     "text": [
      "582/1000 train loss: 0.6661070386568705  val loss: 0.6070604125658671\n"
     ]
    },
    {
     "name": "stderr",
     "output_type": "stream",
     "text": [
      "Epoch 583/1000: 100%|█| 6/6 [00:05<00:00,  1.03batch/s, avg_loss=0.667, loss=0.6\n"
     ]
    },
    {
     "name": "stdout",
     "output_type": "stream",
     "text": [
      "583/1000 train loss: 0.6672166486581167  val loss: 0.689085473616918\n"
     ]
    },
    {
     "name": "stderr",
     "output_type": "stream",
     "text": [
      "Epoch 584/1000: 100%|█| 6/6 [00:05<00:00,  1.01batch/s, avg_loss=0.624, loss=0.7\n"
     ]
    },
    {
     "name": "stdout",
     "output_type": "stream",
     "text": [
      "584/1000 train loss: 0.6244737009207407  val loss: 0.6940164665381113\n"
     ]
    },
    {
     "name": "stderr",
     "output_type": "stream",
     "text": [
      "Epoch 585/1000: 100%|█| 6/6 [00:05<00:00,  1.02batch/s, avg_loss=0.675, loss=0.7\n"
     ]
    },
    {
     "name": "stdout",
     "output_type": "stream",
     "text": [
      "585/1000 train loss: 0.6753643453121185  val loss: 0.7123201688130697\n"
     ]
    },
    {
     "name": "stderr",
     "output_type": "stream",
     "text": [
      "Epoch 586/1000: 100%|█| 6/6 [00:05<00:00,  1.06batch/s, avg_loss=0.647, loss=0.8\n"
     ]
    },
    {
     "name": "stdout",
     "output_type": "stream",
     "text": [
      "586/1000 train loss: 0.6470150351524353  val loss: 0.7704152365525564\n"
     ]
    },
    {
     "name": "stderr",
     "output_type": "stream",
     "text": [
      "Epoch 587/1000: 100%|█| 6/6 [00:05<00:00,  1.05batch/s, avg_loss=0.665, loss=0.7\n"
     ]
    },
    {
     "name": "stdout",
     "output_type": "stream",
     "text": [
      "587/1000 train loss: 0.6648272673288981  val loss: 0.8368011514345804\n"
     ]
    },
    {
     "name": "stderr",
     "output_type": "stream",
     "text": [
      "Epoch 588/1000: 100%|█| 6/6 [00:05<00:00,  1.02batch/s, avg_loss=0.633, loss=0.8\n"
     ]
    },
    {
     "name": "stdout",
     "output_type": "stream",
     "text": [
      "588/1000 train loss: 0.6334898074467977  val loss: 0.8451573153336843\n"
     ]
    },
    {
     "name": "stderr",
     "output_type": "stream",
     "text": [
      "Epoch 589/1000: 100%|█| 6/6 [00:05<00:00,  1.03batch/s, avg_loss=0.671, loss=0.4\n"
     ]
    },
    {
     "name": "stdout",
     "output_type": "stream",
     "text": [
      "589/1000 train loss: 0.6705054640769958  val loss: 0.6508302191893259\n"
     ]
    },
    {
     "name": "stderr",
     "output_type": "stream",
     "text": [
      "Epoch 590/1000: 100%|█| 6/6 [00:05<00:00,  1.05batch/s, avg_loss=0.66, loss=0.45\n"
     ]
    },
    {
     "name": "stdout",
     "output_type": "stream",
     "text": [
      "590/1000 train loss: 0.6595466732978821  val loss: 0.5707352757453918\n"
     ]
    },
    {
     "name": "stderr",
     "output_type": "stream",
     "text": [
      "Epoch 591/1000: 100%|█| 6/6 [00:05<00:00,  1.02batch/s, avg_loss=0.623, loss=0.8\n"
     ]
    },
    {
     "name": "stdout",
     "output_type": "stream",
     "text": [
      "591/1000 train loss: 0.6232438683509827  val loss: 0.77918741106987\n"
     ]
    },
    {
     "name": "stderr",
     "output_type": "stream",
     "text": [
      "Epoch 592/1000: 100%|█| 6/6 [00:05<00:00,  1.04batch/s, avg_loss=0.644, loss=0.8\n"
     ]
    },
    {
     "name": "stdout",
     "output_type": "stream",
     "text": [
      "592/1000 train loss: 0.6441494027773539  val loss: 0.8541478415330251\n"
     ]
    },
    {
     "name": "stderr",
     "output_type": "stream",
     "text": [
      "Epoch 593/1000: 100%|█| 6/6 [00:05<00:00,  1.03batch/s, avg_loss=0.711, loss=0.6\n"
     ]
    },
    {
     "name": "stdout",
     "output_type": "stream",
     "text": [
      "593/1000 train loss: 0.7107608616352081  val loss: 0.7401217321554819\n"
     ]
    },
    {
     "name": "stderr",
     "output_type": "stream",
     "text": [
      "Epoch 594/1000: 100%|█| 6/6 [00:05<00:00,  1.03batch/s, avg_loss=0.629, loss=0.7\n"
     ]
    },
    {
     "name": "stdout",
     "output_type": "stream",
     "text": [
      "594/1000 train loss: 0.6294883588949839  val loss: 0.6751855810483297\n"
     ]
    },
    {
     "name": "stderr",
     "output_type": "stream",
     "text": [
      "Epoch 595/1000: 100%|█| 6/6 [00:05<00:00,  1.04batch/s, avg_loss=0.637, loss=0.7\n"
     ]
    },
    {
     "name": "stdout",
     "output_type": "stream",
     "text": [
      "595/1000 train loss: 0.6366224487622579  val loss: 0.7603132923444113\n"
     ]
    },
    {
     "name": "stderr",
     "output_type": "stream",
     "text": [
      "Epoch 596/1000: 100%|█| 6/6 [00:05<00:00,  1.02batch/s, avg_loss=0.611, loss=0.9\n"
     ]
    },
    {
     "name": "stdout",
     "output_type": "stream",
     "text": [
      "596/1000 train loss: 0.611254076162974  val loss: 0.4761088291803996\n"
     ]
    },
    {
     "name": "stderr",
     "output_type": "stream",
     "text": [
      "Epoch 597/1000: 100%|█| 6/6 [00:05<00:00,  1.02batch/s, avg_loss=0.639, loss=0.4\n"
     ]
    },
    {
     "name": "stdout",
     "output_type": "stream",
     "text": [
      "597/1000 train loss: 0.6388018925984701  val loss: 0.7688524723052979\n"
     ]
    },
    {
     "name": "stderr",
     "output_type": "stream",
     "text": [
      "Epoch 598/1000: 100%|█| 6/6 [00:05<00:00,  1.04batch/s, avg_loss=0.677, loss=0.5\n"
     ]
    },
    {
     "name": "stdout",
     "output_type": "stream",
     "text": [
      "598/1000 train loss: 0.6773856778939565  val loss: 0.4906210998694102\n"
     ]
    },
    {
     "name": "stderr",
     "output_type": "stream",
     "text": [
      "Epoch 599/1000: 100%|█| 6/6 [00:05<00:00,  1.08batch/s, avg_loss=0.623, loss=0.4\n"
     ]
    },
    {
     "name": "stdout",
     "output_type": "stream",
     "text": [
      "599/1000 train loss: 0.6231640577316284  val loss: 0.6359928051630656\n"
     ]
    },
    {
     "name": "stderr",
     "output_type": "stream",
     "text": [
      "Epoch 600/1000: 100%|█| 6/6 [00:05<00:00,  1.04batch/s, avg_loss=0.608, loss=0.4\n"
     ]
    },
    {
     "name": "stdout",
     "output_type": "stream",
     "text": [
      "600/1000 train loss: 0.6083475053310394  val loss: 0.6822872559229533\n"
     ]
    },
    {
     "name": "stderr",
     "output_type": "stream",
     "text": [
      "Epoch 601/1000: 100%|█| 6/6 [00:05<00:00,  1.02batch/s, avg_loss=0.646, loss=0.6\n"
     ]
    },
    {
     "name": "stdout",
     "output_type": "stream",
     "text": [
      "601/1000 train loss: 0.6455639004707336  val loss: 0.8052200973033905\n"
     ]
    },
    {
     "name": "stderr",
     "output_type": "stream",
     "text": [
      "Epoch 602/1000: 100%|█| 6/6 [00:05<00:00,  1.08batch/s, avg_loss=0.647, loss=0.6\n"
     ]
    },
    {
     "name": "stdout",
     "output_type": "stream",
     "text": [
      "602/1000 train loss: 0.6473367909590403  val loss: 0.6412108441193899\n"
     ]
    },
    {
     "name": "stderr",
     "output_type": "stream",
     "text": [
      "Epoch 603/1000: 100%|█| 6/6 [00:05<00:00,  1.09batch/s, avg_loss=0.662, loss=0.8\n"
     ]
    },
    {
     "name": "stdout",
     "output_type": "stream",
     "text": [
      "603/1000 train loss: 0.6622449457645416  val loss: 0.7933303415775299\n"
     ]
    },
    {
     "name": "stderr",
     "output_type": "stream",
     "text": [
      "Epoch 604/1000: 100%|█| 6/6 [00:05<00:00,  1.02batch/s, avg_loss=0.679, loss=0.7\n"
     ]
    },
    {
     "name": "stdout",
     "output_type": "stream",
     "text": [
      "604/1000 train loss: 0.6786156992117564  val loss: 0.6747413178284963\n"
     ]
    },
    {
     "name": "stderr",
     "output_type": "stream",
     "text": [
      "Epoch 605/1000: 100%|█| 6/6 [00:05<00:00,  1.04batch/s, avg_loss=0.664, loss=0.4\n"
     ]
    },
    {
     "name": "stdout",
     "output_type": "stream",
     "text": [
      "605/1000 train loss: 0.6641845405101776  val loss: 0.7855263551076254\n"
     ]
    },
    {
     "name": "stderr",
     "output_type": "stream",
     "text": [
      "Epoch 606/1000: 100%|█| 6/6 [00:05<00:00,  1.09batch/s, avg_loss=0.67, loss=0.71\n"
     ]
    },
    {
     "name": "stdout",
     "output_type": "stream",
     "text": [
      "606/1000 train loss: 0.6701489090919495  val loss: 0.926295797030131\n"
     ]
    },
    {
     "name": "stderr",
     "output_type": "stream",
     "text": [
      "Epoch 607/1000: 100%|█| 6/6 [00:05<00:00,  1.08batch/s, avg_loss=0.654, loss=0.3\n"
     ]
    },
    {
     "name": "stdout",
     "output_type": "stream",
     "text": [
      "607/1000 train loss: 0.6537841955820719  val loss: 0.6394617855548859\n"
     ]
    },
    {
     "name": "stderr",
     "output_type": "stream",
     "text": [
      "Epoch 608/1000: 100%|█| 6/6 [00:05<00:00,  1.05batch/s, avg_loss=0.635, loss=0.4\n"
     ]
    },
    {
     "name": "stdout",
     "output_type": "stream",
     "text": [
      "608/1000 train loss: 0.6345453063646952  val loss: 0.7022622923056284\n"
     ]
    },
    {
     "name": "stderr",
     "output_type": "stream",
     "text": [
      "Epoch 609/1000: 100%|█| 6/6 [00:05<00:00,  1.04batch/s, avg_loss=0.668, loss=0.6\n"
     ]
    },
    {
     "name": "stdout",
     "output_type": "stream",
     "text": [
      "609/1000 train loss: 0.6677984793980917  val loss: 0.6433691680431366\n"
     ]
    },
    {
     "name": "stderr",
     "output_type": "stream",
     "text": [
      "Epoch 610/1000: 100%|█| 6/6 [00:05<00:00,  1.03batch/s, avg_loss=0.644, loss=0.7\n"
     ]
    },
    {
     "name": "stdout",
     "output_type": "stream",
     "text": [
      "610/1000 train loss: 0.6437126298745474  val loss: 0.7610751489798228\n"
     ]
    },
    {
     "name": "stderr",
     "output_type": "stream",
     "text": [
      "Epoch 611/1000: 100%|█| 6/6 [00:05<00:00,  1.06batch/s, avg_loss=0.662, loss=0.4\n"
     ]
    },
    {
     "name": "stdout",
     "output_type": "stream",
     "text": [
      "611/1000 train loss: 0.6623068551222483  val loss: 0.6418054103851318\n"
     ]
    },
    {
     "name": "stderr",
     "output_type": "stream",
     "text": [
      "Epoch 612/1000: 100%|█| 6/6 [00:05<00:00,  1.09batch/s, avg_loss=0.626, loss=0.6\n"
     ]
    },
    {
     "name": "stdout",
     "output_type": "stream",
     "text": [
      "612/1000 train loss: 0.6260767082373301  val loss: 0.7827742000420889\n"
     ]
    },
    {
     "name": "stderr",
     "output_type": "stream",
     "text": [
      "Epoch 613/1000: 100%|█| 6/6 [00:05<00:00,  1.09batch/s, avg_loss=0.677, loss=0.7\n"
     ]
    },
    {
     "name": "stdout",
     "output_type": "stream",
     "text": [
      "613/1000 train loss: 0.6769184370835623  val loss: 0.7546643416086832\n"
     ]
    },
    {
     "name": "stderr",
     "output_type": "stream",
     "text": [
      "Epoch 614/1000: 100%|█| 6/6 [00:05<00:00,  1.08batch/s, avg_loss=0.556, loss=0.5\n"
     ]
    },
    {
     "name": "stdout",
     "output_type": "stream",
     "text": [
      "614/1000 train loss: 0.5556047956148783  val loss: 0.7925684849421183\n"
     ]
    },
    {
     "name": "stderr",
     "output_type": "stream",
     "text": [
      "Epoch 615/1000: 100%|█| 6/6 [00:05<00:00,  1.09batch/s, avg_loss=0.625, loss=0.4\n"
     ]
    },
    {
     "name": "stdout",
     "output_type": "stream",
     "text": [
      "615/1000 train loss: 0.6254193882147471  val loss: 0.9421807825565338\n"
     ]
    },
    {
     "name": "stderr",
     "output_type": "stream",
     "text": [
      "Epoch 616/1000: 100%|█| 6/6 [00:05<00:00,  1.09batch/s, avg_loss=0.607, loss=0.7\n"
     ]
    },
    {
     "name": "stdout",
     "output_type": "stream",
     "text": [
      "616/1000 train loss: 0.6066709160804749  val loss: 0.7199302415053049\n"
     ]
    },
    {
     "name": "stderr",
     "output_type": "stream",
     "text": [
      "Epoch 617/1000: 100%|█| 6/6 [00:05<00:00,  1.09batch/s, avg_loss=0.748, loss=0.8\n"
     ]
    },
    {
     "name": "stdout",
     "output_type": "stream",
     "text": [
      "617/1000 train loss: 0.7476130823294321  val loss: 0.6135493516921997\n"
     ]
    },
    {
     "name": "stderr",
     "output_type": "stream",
     "text": [
      "Epoch 618/1000: 100%|█| 6/6 [00:05<00:00,  1.09batch/s, avg_loss=0.658, loss=0.8\n"
     ]
    },
    {
     "name": "stdout",
     "output_type": "stream",
     "text": [
      "618/1000 train loss: 0.6580998599529266  val loss: 0.5743569036324819\n"
     ]
    },
    {
     "name": "stderr",
     "output_type": "stream",
     "text": [
      "Epoch 619/1000: 100%|█| 6/6 [00:05<00:00,  1.09batch/s, avg_loss=0.699, loss=0.3\n"
     ]
    },
    {
     "name": "stdout",
     "output_type": "stream",
     "text": [
      "619/1000 train loss: 0.6985730727513632  val loss: 0.6366599500179291\n"
     ]
    },
    {
     "name": "stderr",
     "output_type": "stream",
     "text": [
      "Epoch 620/1000: 100%|█| 6/6 [00:05<00:00,  1.08batch/s, avg_loss=0.663, loss=0.7\n"
     ]
    },
    {
     "name": "stdout",
     "output_type": "stream",
     "text": [
      "620/1000 train loss: 0.6627976993719736  val loss: 0.6775829096635183\n"
     ]
    },
    {
     "name": "stderr",
     "output_type": "stream",
     "text": [
      "Epoch 621/1000: 100%|█| 6/6 [00:05<00:00,  1.04batch/s, avg_loss=0.645, loss=0.7\n"
     ]
    },
    {
     "name": "stdout",
     "output_type": "stream",
     "text": [
      "621/1000 train loss: 0.6445837318897247  val loss: 0.7265831331411997\n"
     ]
    },
    {
     "name": "stderr",
     "output_type": "stream",
     "text": [
      "Epoch 622/1000: 100%|█| 6/6 [00:05<00:00,  1.04batch/s, avg_loss=0.673, loss=0.7\n"
     ]
    },
    {
     "name": "stdout",
     "output_type": "stream",
     "text": [
      "622/1000 train loss: 0.6725942591826121  val loss: 0.4946743647257487\n"
     ]
    },
    {
     "name": "stderr",
     "output_type": "stream",
     "text": [
      "Epoch 623/1000: 100%|█| 6/6 [00:05<00:00,  1.03batch/s, avg_loss=0.685, loss=0.6\n"
     ]
    },
    {
     "name": "stdout",
     "output_type": "stream",
     "text": [
      "623/1000 train loss: 0.6847688853740692  val loss: 0.8031234443187714\n"
     ]
    },
    {
     "name": "stderr",
     "output_type": "stream",
     "text": [
      "Epoch 624/1000: 100%|█| 6/6 [00:05<00:00,  1.06batch/s, avg_loss=0.649, loss=0.5\n"
     ]
    },
    {
     "name": "stdout",
     "output_type": "stream",
     "text": [
      "624/1000 train loss: 0.6493149697780609  val loss: 0.9136188427607218\n"
     ]
    },
    {
     "name": "stderr",
     "output_type": "stream",
     "text": [
      "Epoch 625/1000: 100%|█| 6/6 [00:05<00:00,  1.09batch/s, avg_loss=0.6, loss=0.575\n"
     ]
    },
    {
     "name": "stdout",
     "output_type": "stream",
     "text": [
      "625/1000 train loss: 0.5996684034665426  val loss: 0.6260115802288055\n"
     ]
    },
    {
     "name": "stderr",
     "output_type": "stream",
     "text": [
      "Epoch 626/1000: 100%|█| 6/6 [00:05<00:00,  1.09batch/s, avg_loss=0.655, loss=0.7\n"
     ]
    },
    {
     "name": "stdout",
     "output_type": "stream",
     "text": [
      "626/1000 train loss: 0.6550327638785044  val loss: 0.8709474503993988\n"
     ]
    },
    {
     "name": "stderr",
     "output_type": "stream",
     "text": [
      "Epoch 627/1000: 100%|█| 6/6 [00:05<00:00,  1.09batch/s, avg_loss=0.68, loss=0.80\n"
     ]
    },
    {
     "name": "stdout",
     "output_type": "stream",
     "text": [
      "627/1000 train loss: 0.6796257595221201  val loss: 0.7415655056635538\n"
     ]
    },
    {
     "name": "stderr",
     "output_type": "stream",
     "text": [
      "Epoch 628/1000: 100%|█| 6/6 [00:05<00:00,  1.09batch/s, avg_loss=0.647, loss=0.7\n"
     ]
    },
    {
     "name": "stdout",
     "output_type": "stream",
     "text": [
      "628/1000 train loss: 0.6465918719768524  val loss: 0.9141182700792948\n"
     ]
    },
    {
     "name": "stderr",
     "output_type": "stream",
     "text": [
      "Epoch 629/1000: 100%|█| 6/6 [00:05<00:00,  1.09batch/s, avg_loss=0.652, loss=0.5\n"
     ]
    },
    {
     "name": "stdout",
     "output_type": "stream",
     "text": [
      "629/1000 train loss: 0.6515443523724874  val loss: 0.5404889285564423\n"
     ]
    },
    {
     "name": "stderr",
     "output_type": "stream",
     "text": [
      "Epoch 630/1000: 100%|█| 6/6 [00:05<00:00,  1.10batch/s, avg_loss=0.635, loss=0.7\n"
     ]
    },
    {
     "name": "stdout",
     "output_type": "stream",
     "text": [
      "630/1000 train loss: 0.6348419388135275  val loss: 0.5889779031276703\n"
     ]
    },
    {
     "name": "stderr",
     "output_type": "stream",
     "text": [
      "Epoch 631/1000: 100%|█| 6/6 [00:05<00:00,  1.10batch/s, avg_loss=0.586, loss=0.5\n"
     ]
    },
    {
     "name": "stdout",
     "output_type": "stream",
     "text": [
      "631/1000 train loss: 0.5861741801102957  val loss: 0.6871215601762136\n"
     ]
    },
    {
     "name": "stderr",
     "output_type": "stream",
     "text": [
      "Epoch 632/1000: 100%|█| 6/6 [00:05<00:00,  1.09batch/s, avg_loss=0.676, loss=0.4\n"
     ]
    },
    {
     "name": "stdout",
     "output_type": "stream",
     "text": [
      "632/1000 train loss: 0.6761277516682943  val loss: 0.6979294617970785\n"
     ]
    },
    {
     "name": "stderr",
     "output_type": "stream",
     "text": [
      "Epoch 633/1000: 100%|█| 6/6 [00:05<00:00,  1.07batch/s, avg_loss=0.64, loss=0.85\n"
     ]
    },
    {
     "name": "stdout",
     "output_type": "stream",
     "text": [
      "633/1000 train loss: 0.6400451958179474  val loss: 0.7382115721702576\n"
     ]
    },
    {
     "name": "stderr",
     "output_type": "stream",
     "text": [
      "Epoch 634/1000: 100%|█| 6/6 [00:05<00:00,  1.04batch/s, avg_loss=0.647, loss=0.6\n"
     ]
    },
    {
     "name": "stdout",
     "output_type": "stream",
     "text": [
      "634/1000 train loss: 0.6465847392876943  val loss: 0.7216922342777252\n"
     ]
    },
    {
     "name": "stderr",
     "output_type": "stream",
     "text": [
      "Epoch 635/1000: 100%|█| 6/6 [00:05<00:00,  1.04batch/s, avg_loss=0.614, loss=0.5\n"
     ]
    },
    {
     "name": "stdout",
     "output_type": "stream",
     "text": [
      "635/1000 train loss: 0.614309956630071  val loss: 0.8372661769390106\n"
     ]
    },
    {
     "name": "stderr",
     "output_type": "stream",
     "text": [
      "Epoch 636/1000: 100%|█| 6/6 [00:05<00:00,  1.04batch/s, avg_loss=0.62, loss=0.54\n"
     ]
    },
    {
     "name": "stdout",
     "output_type": "stream",
     "text": [
      "636/1000 train loss: 0.6196286280949911  val loss: 0.7082040111223856\n"
     ]
    },
    {
     "name": "stderr",
     "output_type": "stream",
     "text": [
      "Epoch 637/1000: 100%|█| 6/6 [00:05<00:00,  1.05batch/s, avg_loss=0.66, loss=0.72\n"
     ]
    },
    {
     "name": "stdout",
     "output_type": "stream",
     "text": [
      "637/1000 train loss: 0.6597716013590494  val loss: 0.7140146990617117\n"
     ]
    },
    {
     "name": "stderr",
     "output_type": "stream",
     "text": [
      "Epoch 638/1000: 100%|█| 6/6 [00:05<00:00,  1.09batch/s, avg_loss=0.637, loss=0.8\n"
     ]
    },
    {
     "name": "stdout",
     "output_type": "stream",
     "text": [
      "638/1000 train loss: 0.6373057067394257  val loss: 0.607528825600942\n"
     ]
    },
    {
     "name": "stderr",
     "output_type": "stream",
     "text": [
      "Epoch 639/1000: 100%|█| 6/6 [00:05<00:00,  1.07batch/s, avg_loss=0.65, loss=0.77\n"
     ]
    },
    {
     "name": "stdout",
     "output_type": "stream",
     "text": [
      "639/1000 train loss: 0.6497723360856374  val loss: 0.5880345006783804\n"
     ]
    },
    {
     "name": "stderr",
     "output_type": "stream",
     "text": [
      "Epoch 640/1000: 100%|█| 6/6 [00:05<00:00,  1.08batch/s, avg_loss=0.597, loss=0.3\n"
     ]
    },
    {
     "name": "stdout",
     "output_type": "stream",
     "text": [
      "640/1000 train loss: 0.5965986251831055  val loss: 0.7682283818721771\n"
     ]
    },
    {
     "name": "stderr",
     "output_type": "stream",
     "text": [
      "Epoch 641/1000: 100%|█| 6/6 [00:05<00:00,  1.08batch/s, avg_loss=0.627, loss=0.6\n"
     ]
    },
    {
     "name": "stdout",
     "output_type": "stream",
     "text": [
      "641/1000 train loss: 0.6265008747577667  val loss: 0.8081843356291453\n"
     ]
    },
    {
     "name": "stderr",
     "output_type": "stream",
     "text": [
      "Epoch 642/1000: 100%|█| 6/6 [00:05<00:00,  1.09batch/s, avg_loss=0.643, loss=0.5\n"
     ]
    },
    {
     "name": "stdout",
     "output_type": "stream",
     "text": [
      "642/1000 train loss: 0.6434192756811777  val loss: 0.737809975941976\n"
     ]
    },
    {
     "name": "stderr",
     "output_type": "stream",
     "text": [
      "Epoch 643/1000: 100%|█| 6/6 [00:05<00:00,  1.09batch/s, avg_loss=0.715, loss=0.8\n"
     ]
    },
    {
     "name": "stdout",
     "output_type": "stream",
     "text": [
      "643/1000 train loss: 0.7149075865745544  val loss: 0.9107924898465475\n"
     ]
    },
    {
     "name": "stderr",
     "output_type": "stream",
     "text": [
      "Epoch 644/1000: 100%|█| 6/6 [00:05<00:00,  1.09batch/s, avg_loss=0.648, loss=0.5\n"
     ]
    },
    {
     "name": "stdout",
     "output_type": "stream",
     "text": [
      "644/1000 train loss: 0.6483218570550283  val loss: 0.7212595442930857\n"
     ]
    },
    {
     "name": "stderr",
     "output_type": "stream",
     "text": [
      "Epoch 645/1000: 100%|█| 6/6 [00:05<00:00,  1.09batch/s, avg_loss=0.634, loss=0.7\n"
     ]
    },
    {
     "name": "stdout",
     "output_type": "stream",
     "text": [
      "645/1000 train loss: 0.6337606012821198  val loss: 0.7254685660203298\n"
     ]
    },
    {
     "name": "stderr",
     "output_type": "stream",
     "text": [
      "Epoch 646/1000: 100%|█| 6/6 [00:05<00:00,  1.07batch/s, avg_loss=0.669, loss=0.8\n"
     ]
    },
    {
     "name": "stdout",
     "output_type": "stream",
     "text": [
      "646/1000 train loss: 0.6690466304620107  val loss: 0.7540008723735809\n"
     ]
    },
    {
     "name": "stderr",
     "output_type": "stream",
     "text": [
      "Epoch 647/1000: 100%|█| 6/6 [00:05<00:00,  1.03batch/s, avg_loss=0.709, loss=0.5\n"
     ]
    },
    {
     "name": "stdout",
     "output_type": "stream",
     "text": [
      "647/1000 train loss: 0.7088028291861216  val loss: 0.7280720472335815\n"
     ]
    },
    {
     "name": "stderr",
     "output_type": "stream",
     "text": [
      "Epoch 648/1000: 100%|█| 6/6 [00:05<00:00,  1.03batch/s, avg_loss=0.654, loss=0.4\n"
     ]
    },
    {
     "name": "stdout",
     "output_type": "stream",
     "text": [
      "648/1000 train loss: 0.654294470945994  val loss: 0.6741669873396555\n"
     ]
    },
    {
     "name": "stderr",
     "output_type": "stream",
     "text": [
      "Epoch 649/1000: 100%|█| 6/6 [00:05<00:00,  1.04batch/s, avg_loss=0.617, loss=0.6\n"
     ]
    },
    {
     "name": "stdout",
     "output_type": "stream",
     "text": [
      "649/1000 train loss: 0.6168792049090067  val loss: 0.7024324138959249\n"
     ]
    },
    {
     "name": "stderr",
     "output_type": "stream",
     "text": [
      "Epoch 650/1000: 100%|█| 6/6 [00:05<00:00,  1.05batch/s, avg_loss=0.619, loss=0.6\n"
     ]
    },
    {
     "name": "stdout",
     "output_type": "stream",
     "text": [
      "650/1000 train loss: 0.6188672582308451  val loss: 0.7023856341838837\n"
     ]
    },
    {
     "name": "stderr",
     "output_type": "stream",
     "text": [
      "Epoch 651/1000: 100%|█| 6/6 [00:05<00:00,  1.08batch/s, avg_loss=0.65, loss=0.47\n"
     ]
    },
    {
     "name": "stdout",
     "output_type": "stream",
     "text": [
      "651/1000 train loss: 0.6503544946511587  val loss: 0.7771698534488678\n"
     ]
    },
    {
     "name": "stderr",
     "output_type": "stream",
     "text": [
      "Epoch 652/1000: 100%|█| 6/6 [00:05<00:00,  1.08batch/s, avg_loss=0.626, loss=0.4\n"
     ]
    },
    {
     "name": "stdout",
     "output_type": "stream",
     "text": [
      "652/1000 train loss: 0.6264986793200175  val loss: 0.6805346806844076\n"
     ]
    },
    {
     "name": "stderr",
     "output_type": "stream",
     "text": [
      "Epoch 653/1000: 100%|█| 6/6 [00:05<00:00,  1.03batch/s, avg_loss=0.597, loss=0.4\n"
     ]
    },
    {
     "name": "stdout",
     "output_type": "stream",
     "text": [
      "653/1000 train loss: 0.5968689223130544  val loss: 0.7437369426091512\n"
     ]
    },
    {
     "name": "stderr",
     "output_type": "stream",
     "text": [
      "Epoch 654/1000: 100%|█| 6/6 [00:05<00:00,  1.02batch/s, avg_loss=0.604, loss=0.5\n"
     ]
    },
    {
     "name": "stdout",
     "output_type": "stream",
     "text": [
      "654/1000 train loss: 0.6036906838417053  val loss: 0.6044595837593079\n"
     ]
    },
    {
     "name": "stderr",
     "output_type": "stream",
     "text": [
      "Epoch 655/1000: 100%|█| 6/6 [00:05<00:00,  1.03batch/s, avg_loss=0.621, loss=0.4\n"
     ]
    },
    {
     "name": "stdout",
     "output_type": "stream",
     "text": [
      "655/1000 train loss: 0.620674341917038  val loss: 0.5949683288733164\n"
     ]
    },
    {
     "name": "stderr",
     "output_type": "stream",
     "text": [
      "Epoch 656/1000: 100%|█| 6/6 [00:05<00:00,  1.05batch/s, avg_loss=0.674, loss=0.6\n"
     ]
    },
    {
     "name": "stdout",
     "output_type": "stream",
     "text": [
      "656/1000 train loss: 0.6736863454182943  val loss: 0.628482848405838\n"
     ]
    },
    {
     "name": "stderr",
     "output_type": "stream",
     "text": [
      "Epoch 657/1000: 100%|█| 6/6 [00:05<00:00,  1.03batch/s, avg_loss=0.691, loss=0.6\n"
     ]
    },
    {
     "name": "stdout",
     "output_type": "stream",
     "text": [
      "657/1000 train loss: 0.6908219556013743  val loss: 0.6529670854409536\n"
     ]
    },
    {
     "name": "stderr",
     "output_type": "stream",
     "text": [
      "Epoch 658/1000: 100%|█| 6/6 [00:05<00:00,  1.03batch/s, avg_loss=0.653, loss=0.4\n"
     ]
    },
    {
     "name": "stdout",
     "output_type": "stream",
     "text": [
      "658/1000 train loss: 0.6525573134422302  val loss: 0.8495429555575053\n"
     ]
    },
    {
     "name": "stderr",
     "output_type": "stream",
     "text": [
      "Epoch 659/1000: 100%|█| 6/6 [00:05<00:00,  1.07batch/s, avg_loss=0.603, loss=0.5\n"
     ]
    },
    {
     "name": "stdout",
     "output_type": "stream",
     "text": [
      "659/1000 train loss: 0.6032209197680155  val loss: 0.6375636955102285\n"
     ]
    },
    {
     "name": "stderr",
     "output_type": "stream",
     "text": [
      "Epoch 660/1000: 100%|█| 6/6 [00:05<00:00,  1.07batch/s, avg_loss=0.585, loss=0.6\n"
     ]
    },
    {
     "name": "stdout",
     "output_type": "stream",
     "text": [
      "660/1000 train loss: 0.5846704840660095  val loss: 0.8816233972708384\n"
     ]
    },
    {
     "name": "stderr",
     "output_type": "stream",
     "text": [
      "Epoch 661/1000: 100%|█| 6/6 [00:05<00:00,  1.03batch/s, avg_loss=0.635, loss=0.5\n"
     ]
    },
    {
     "name": "stdout",
     "output_type": "stream",
     "text": [
      "661/1000 train loss: 0.6347605486710867  val loss: 0.6119740009307861\n"
     ]
    },
    {
     "name": "stderr",
     "output_type": "stream",
     "text": [
      "Epoch 662/1000: 100%|█| 6/6 [00:05<00:00,  1.03batch/s, avg_loss=0.652, loss=0.7\n"
     ]
    },
    {
     "name": "stdout",
     "output_type": "stream",
     "text": [
      "662/1000 train loss: 0.6518107255299886  val loss: 0.7470561861991882\n"
     ]
    },
    {
     "name": "stderr",
     "output_type": "stream",
     "text": [
      "Epoch 663/1000: 100%|█| 6/6 [00:05<00:00,  1.04batch/s, avg_loss=0.663, loss=0.7\n"
     ]
    },
    {
     "name": "stdout",
     "output_type": "stream",
     "text": [
      "663/1000 train loss: 0.6634736955165863  val loss: 0.6617383857568105\n"
     ]
    },
    {
     "name": "stderr",
     "output_type": "stream",
     "text": [
      "Epoch 664/1000: 100%|█| 6/6 [00:05<00:00,  1.03batch/s, avg_loss=0.612, loss=0.6\n"
     ]
    },
    {
     "name": "stdout",
     "output_type": "stream",
     "text": [
      "664/1000 train loss: 0.6120369831720988  val loss: 0.6498126486937205\n"
     ]
    },
    {
     "name": "stderr",
     "output_type": "stream",
     "text": [
      "Epoch 665/1000: 100%|█| 6/6 [00:05<00:00,  1.02batch/s, avg_loss=0.654, loss=0.7\n"
     ]
    },
    {
     "name": "stdout",
     "output_type": "stream",
     "text": [
      "665/1000 train loss: 0.6540822883447012  val loss: 0.7915941377480825\n"
     ]
    },
    {
     "name": "stderr",
     "output_type": "stream",
     "text": [
      "Epoch 666/1000: 100%|█| 6/6 [00:05<00:00,  1.02batch/s, avg_loss=0.622, loss=0.4\n"
     ]
    },
    {
     "name": "stdout",
     "output_type": "stream",
     "text": [
      "666/1000 train loss: 0.6222696801026663  val loss: 0.6269184847672781\n"
     ]
    },
    {
     "name": "stderr",
     "output_type": "stream",
     "text": [
      "Epoch 667/1000: 100%|█| 6/6 [00:05<00:00,  1.04batch/s, avg_loss=0.595, loss=0.7\n"
     ]
    },
    {
     "name": "stdout",
     "output_type": "stream",
     "text": [
      "667/1000 train loss: 0.5948129693667094  val loss: 0.8524531622727712\n"
     ]
    },
    {
     "name": "stderr",
     "output_type": "stream",
     "text": [
      "Epoch 668/1000: 100%|█| 6/6 [00:05<00:00,  1.07batch/s, avg_loss=0.662, loss=0.6\n"
     ]
    },
    {
     "name": "stdout",
     "output_type": "stream",
     "text": [
      "668/1000 train loss: 0.6622056166330973  val loss: 0.8237508038679758\n"
     ]
    },
    {
     "name": "stderr",
     "output_type": "stream",
     "text": [
      "Epoch 669/1000: 100%|█| 6/6 [00:05<00:00,  1.02batch/s, avg_loss=0.562, loss=0.3\n"
     ]
    },
    {
     "name": "stdout",
     "output_type": "stream",
     "text": [
      "669/1000 train loss: 0.5615837772687277  val loss: 0.678783784310023\n"
     ]
    },
    {
     "name": "stderr",
     "output_type": "stream",
     "text": [
      "Epoch 670/1000: 100%|█| 6/6 [00:05<00:00,  1.03batch/s, avg_loss=0.632, loss=0.7\n"
     ]
    },
    {
     "name": "stdout",
     "output_type": "stream",
     "text": [
      "670/1000 train loss: 0.6320329209168752  val loss: 0.8206008871396383\n"
     ]
    },
    {
     "name": "stderr",
     "output_type": "stream",
     "text": [
      "Epoch 671/1000: 100%|█| 6/6 [00:05<00:00,  1.08batch/s, avg_loss=0.556, loss=0.4\n"
     ]
    },
    {
     "name": "stdout",
     "output_type": "stream",
     "text": [
      "671/1000 train loss: 0.5557005703449249  val loss: 0.7774264216423035\n"
     ]
    },
    {
     "name": "stderr",
     "output_type": "stream",
     "text": [
      "Epoch 672/1000: 100%|█| 6/6 [00:05<00:00,  1.06batch/s, avg_loss=0.634, loss=0.9\n"
     ]
    },
    {
     "name": "stdout",
     "output_type": "stream",
     "text": [
      "672/1000 train loss: 0.6344385047753652  val loss: 0.5844694375991821\n"
     ]
    },
    {
     "name": "stderr",
     "output_type": "stream",
     "text": [
      "Epoch 673/1000: 100%|█| 6/6 [00:05<00:00,  1.02batch/s, avg_loss=0.585, loss=0.3\n"
     ]
    },
    {
     "name": "stdout",
     "output_type": "stream",
     "text": [
      "673/1000 train loss: 0.5854222774505615  val loss: 0.7530578474203745\n"
     ]
    },
    {
     "name": "stderr",
     "output_type": "stream",
     "text": [
      "Epoch 674/1000: 100%|█| 6/6 [00:05<00:00,  1.04batch/s, avg_loss=0.607, loss=0.3\n"
     ]
    },
    {
     "name": "stdout",
     "output_type": "stream",
     "text": [
      "674/1000 train loss: 0.6072661777337393  val loss: 0.7199863096078237\n"
     ]
    },
    {
     "name": "stderr",
     "output_type": "stream",
     "text": [
      "Epoch 675/1000: 100%|█| 6/6 [00:05<00:00,  1.04batch/s, avg_loss=0.641, loss=0.7\n"
     ]
    },
    {
     "name": "stdout",
     "output_type": "stream",
     "text": [
      "675/1000 train loss: 0.6405605375766754  val loss: 0.8878584702809652\n"
     ]
    },
    {
     "name": "stderr",
     "output_type": "stream",
     "text": [
      "Epoch 676/1000: 100%|█| 6/6 [00:05<00:00,  1.01batch/s, avg_loss=0.637, loss=0.7\n"
     ]
    },
    {
     "name": "stdout",
     "output_type": "stream",
     "text": [
      "676/1000 train loss: 0.6374021271864573  val loss: 0.7369907001654307\n"
     ]
    },
    {
     "name": "stderr",
     "output_type": "stream",
     "text": [
      "Epoch 677/1000: 100%|█| 6/6 [00:05<00:00,  1.02batch/s, avg_loss=0.63, loss=0.67\n"
     ]
    },
    {
     "name": "stdout",
     "output_type": "stream",
     "text": [
      "677/1000 train loss: 0.6299606164296468  val loss: 0.8447803358236948\n"
     ]
    },
    {
     "name": "stderr",
     "output_type": "stream",
     "text": [
      "Epoch 678/1000: 100%|█| 6/6 [00:05<00:00,  1.03batch/s, avg_loss=0.606, loss=0.7\n"
     ]
    },
    {
     "name": "stdout",
     "output_type": "stream",
     "text": [
      "678/1000 train loss: 0.606394370396932  val loss: 0.6536931991577148\n"
     ]
    },
    {
     "name": "stderr",
     "output_type": "stream",
     "text": [
      "Epoch 679/1000: 100%|█| 6/6 [00:05<00:00,  1.05batch/s, avg_loss=0.611, loss=0.7\n"
     ]
    },
    {
     "name": "stdout",
     "output_type": "stream",
     "text": [
      "679/1000 train loss: 0.6114115913709005  val loss: 0.5885935425758362\n"
     ]
    },
    {
     "name": "stderr",
     "output_type": "stream",
     "text": [
      "Epoch 680/1000: 100%|█| 6/6 [00:05<00:00,  1.05batch/s, avg_loss=0.732, loss=0.8\n"
     ]
    },
    {
     "name": "stdout",
     "output_type": "stream",
     "text": [
      "680/1000 train loss: 0.7321841716766357  val loss: 0.5770145257314047\n"
     ]
    },
    {
     "name": "stderr",
     "output_type": "stream",
     "text": [
      "Epoch 681/1000: 100%|█| 6/6 [00:05<00:00,  1.03batch/s, avg_loss=0.607, loss=0.7\n"
     ]
    },
    {
     "name": "stdout",
     "output_type": "stream",
     "text": [
      "681/1000 train loss: 0.6074784795443217  val loss: 0.7520370980103811\n"
     ]
    },
    {
     "name": "stderr",
     "output_type": "stream",
     "text": [
      "Epoch 682/1000: 100%|█| 6/6 [00:05<00:00,  1.05batch/s, avg_loss=0.651, loss=0.7\n"
     ]
    },
    {
     "name": "stdout",
     "output_type": "stream",
     "text": [
      "682/1000 train loss: 0.6505190432071686  val loss: 0.7045309046904246\n"
     ]
    },
    {
     "name": "stderr",
     "output_type": "stream",
     "text": [
      "Epoch 683/1000: 100%|█| 6/6 [00:05<00:00,  1.07batch/s, avg_loss=0.616, loss=0.7\n"
     ]
    },
    {
     "name": "stdout",
     "output_type": "stream",
     "text": [
      "683/1000 train loss: 0.615866998831431  val loss: 0.7338674167792002\n"
     ]
    },
    {
     "name": "stderr",
     "output_type": "stream",
     "text": [
      "Epoch 684/1000: 100%|█| 6/6 [00:05<00:00,  1.04batch/s, avg_loss=0.577, loss=0.5\n"
     ]
    },
    {
     "name": "stdout",
     "output_type": "stream",
     "text": [
      "684/1000 train loss: 0.5772618353366852  val loss: 0.7896586259206136\n"
     ]
    },
    {
     "name": "stderr",
     "output_type": "stream",
     "text": [
      "Epoch 685/1000: 100%|█| 6/6 [00:05<00:00,  1.03batch/s, avg_loss=0.614, loss=0.5\n"
     ]
    },
    {
     "name": "stdout",
     "output_type": "stream",
     "text": [
      "685/1000 train loss: 0.6144442061583201  val loss: 0.5811255971590678\n"
     ]
    },
    {
     "name": "stderr",
     "output_type": "stream",
     "text": [
      "Epoch 686/1000: 100%|█| 6/6 [00:05<00:00,  1.03batch/s, avg_loss=0.61, loss=0.78\n"
     ]
    },
    {
     "name": "stdout",
     "output_type": "stream",
     "text": [
      "686/1000 train loss: 0.6098527908325195  val loss: 0.5636890927950541\n"
     ]
    },
    {
     "name": "stderr",
     "output_type": "stream",
     "text": [
      "Epoch 687/1000: 100%|█| 6/6 [00:05<00:00,  1.03batch/s, avg_loss=0.654, loss=0.4\n"
     ]
    },
    {
     "name": "stdout",
     "output_type": "stream",
     "text": [
      "687/1000 train loss: 0.6538165509700775  val loss: 0.7973683774471283\n"
     ]
    },
    {
     "name": "stderr",
     "output_type": "stream",
     "text": [
      "Epoch 688/1000: 100%|█| 6/6 [00:05<00:00,  1.03batch/s, avg_loss=0.61, loss=0.65\n"
     ]
    },
    {
     "name": "stdout",
     "output_type": "stream",
     "text": [
      "688/1000 train loss: 0.6102385620276133  val loss: 0.6404139598210653\n"
     ]
    },
    {
     "name": "stderr",
     "output_type": "stream",
     "text": [
      "Epoch 689/1000: 100%|█| 6/6 [00:05<00:00,  1.02batch/s, avg_loss=0.593, loss=0.6\n"
     ]
    },
    {
     "name": "stdout",
     "output_type": "stream",
     "text": [
      "689/1000 train loss: 0.5925049086411794  val loss: 0.6269543965657552\n"
     ]
    },
    {
     "name": "stderr",
     "output_type": "stream",
     "text": [
      "Epoch 690/1000: 100%|█| 6/6 [00:05<00:00,  1.03batch/s, avg_loss=0.692, loss=0.3\n"
     ]
    },
    {
     "name": "stdout",
     "output_type": "stream",
     "text": [
      "690/1000 train loss: 0.6916112800439199  val loss: 0.775425136089325\n"
     ]
    },
    {
     "name": "stderr",
     "output_type": "stream",
     "text": [
      "Epoch 691/1000: 100%|█| 6/6 [00:05<00:00,  1.03batch/s, avg_loss=0.667, loss=0.6\n"
     ]
    },
    {
     "name": "stdout",
     "output_type": "stream",
     "text": [
      "691/1000 train loss: 0.6674225330352783  val loss: 0.8652101655801138\n"
     ]
    },
    {
     "name": "stderr",
     "output_type": "stream",
     "text": [
      "Epoch 692/1000: 100%|█| 6/6 [00:05<00:00,  1.04batch/s, avg_loss=0.643, loss=0.8\n"
     ]
    },
    {
     "name": "stdout",
     "output_type": "stream",
     "text": [
      "692/1000 train loss: 0.6430980861186981  val loss: 0.7680293122927347\n"
     ]
    },
    {
     "name": "stderr",
     "output_type": "stream",
     "text": [
      "Epoch 693/1000: 100%|█| 6/6 [00:05<00:00,  1.09batch/s, avg_loss=0.657, loss=0.6\n"
     ]
    },
    {
     "name": "stdout",
     "output_type": "stream",
     "text": [
      "693/1000 train loss: 0.6567440629005432  val loss: 0.7648734450340271\n"
     ]
    },
    {
     "name": "stderr",
     "output_type": "stream",
     "text": [
      "Epoch 694/1000: 100%|█| 6/6 [00:05<00:00,  1.09batch/s, avg_loss=0.627, loss=0.7\n"
     ]
    },
    {
     "name": "stdout",
     "output_type": "stream",
     "text": [
      "694/1000 train loss: 0.6272977491219839  val loss: 0.6960157553354899\n"
     ]
    },
    {
     "name": "stderr",
     "output_type": "stream",
     "text": [
      "Epoch 695/1000: 100%|█| 6/6 [00:05<00:00,  1.09batch/s, avg_loss=0.672, loss=0.6\n"
     ]
    },
    {
     "name": "stdout",
     "output_type": "stream",
     "text": [
      "695/1000 train loss: 0.6723056038220724  val loss: 0.6314180592695872\n"
     ]
    },
    {
     "name": "stderr",
     "output_type": "stream",
     "text": [
      "Epoch 696/1000: 100%|█| 6/6 [00:05<00:00,  1.05batch/s, avg_loss=0.616, loss=0.6\n"
     ]
    },
    {
     "name": "stdout",
     "output_type": "stream",
     "text": [
      "696/1000 train loss: 0.6162214676539103  val loss: 0.7943549553553263\n"
     ]
    },
    {
     "name": "stderr",
     "output_type": "stream",
     "text": [
      "Epoch 697/1000: 100%|█| 6/6 [00:05<00:00,  1.04batch/s, avg_loss=0.659, loss=0.7\n"
     ]
    },
    {
     "name": "stdout",
     "output_type": "stream",
     "text": [
      "697/1000 train loss: 0.658543219168981  val loss: 0.6454468270142873\n"
     ]
    },
    {
     "name": "stderr",
     "output_type": "stream",
     "text": [
      "Epoch 698/1000: 100%|█| 6/6 [00:05<00:00,  1.04batch/s, avg_loss=0.653, loss=0.7\n"
     ]
    },
    {
     "name": "stdout",
     "output_type": "stream",
     "text": [
      "698/1000 train loss: 0.6533341407775879  val loss: 0.7223383784294128\n"
     ]
    },
    {
     "name": "stderr",
     "output_type": "stream",
     "text": [
      "Epoch 699/1000: 100%|█| 6/6 [00:05<00:00,  1.07batch/s, avg_loss=0.582, loss=0.4\n"
     ]
    },
    {
     "name": "stdout",
     "output_type": "stream",
     "text": [
      "699/1000 train loss: 0.5823557873566946  val loss: 0.6007525225480398\n"
     ]
    },
    {
     "name": "stderr",
     "output_type": "stream",
     "text": [
      "Epoch 700/1000: 100%|█| 6/6 [00:05<00:00,  1.09batch/s, avg_loss=0.569, loss=0.6\n"
     ]
    },
    {
     "name": "stdout",
     "output_type": "stream",
     "text": [
      "700/1000 train loss: 0.5689279139041901  val loss: 0.5851601560910543\n"
     ]
    },
    {
     "name": "stderr",
     "output_type": "stream",
     "text": [
      "Epoch 701/1000: 100%|█| 6/6 [00:05<00:00,  1.09batch/s, avg_loss=0.617, loss=0.6\n"
     ]
    },
    {
     "name": "stdout",
     "output_type": "stream",
     "text": [
      "701/1000 train loss: 0.6171590089797974  val loss: 0.7098296682039896\n"
     ]
    },
    {
     "name": "stderr",
     "output_type": "stream",
     "text": [
      "Epoch 702/1000: 100%|█| 6/6 [00:05<00:00,  1.08batch/s, avg_loss=0.647, loss=0.7\n"
     ]
    },
    {
     "name": "stdout",
     "output_type": "stream",
     "text": [
      "702/1000 train loss: 0.6469991107781728  val loss: 0.7000682155291239\n"
     ]
    },
    {
     "name": "stderr",
     "output_type": "stream",
     "text": [
      "Epoch 703/1000: 100%|█| 6/6 [00:05<00:00,  1.08batch/s, avg_loss=0.659, loss=0.4\n"
     ]
    },
    {
     "name": "stdout",
     "output_type": "stream",
     "text": [
      "703/1000 train loss: 0.6593966583410898  val loss: 0.6712688903013865\n"
     ]
    },
    {
     "name": "stderr",
     "output_type": "stream",
     "text": [
      "Epoch 704/1000: 100%|█| 6/6 [00:06<00:00,  1.10s/batch, avg_loss=0.653, loss=0.6\n"
     ]
    },
    {
     "name": "stdout",
     "output_type": "stream",
     "text": [
      "704/1000 train loss: 0.6529403130213419  val loss: 0.8393031855424246\n"
     ]
    },
    {
     "name": "stderr",
     "output_type": "stream",
     "text": [
      "Epoch 705/1000: 100%|█| 6/6 [00:05<00:00,  1.09batch/s, avg_loss=0.606, loss=0.7\n"
     ]
    },
    {
     "name": "stdout",
     "output_type": "stream",
     "text": [
      "705/1000 train loss: 0.6062543094158173  val loss: 0.7538562218348185\n"
     ]
    },
    {
     "name": "stderr",
     "output_type": "stream",
     "text": [
      "Epoch 706/1000: 100%|█| 6/6 [00:05<00:00,  1.07batch/s, avg_loss=0.677, loss=0.7\n"
     ]
    },
    {
     "name": "stdout",
     "output_type": "stream",
     "text": [
      "706/1000 train loss: 0.6771226425965627  val loss: 0.6462324361006418\n"
     ]
    },
    {
     "name": "stderr",
     "output_type": "stream",
     "text": [
      "Epoch 707/1000: 100%|█| 6/6 [00:05<00:00,  1.03batch/s, avg_loss=0.599, loss=0.6\n"
     ]
    },
    {
     "name": "stdout",
     "output_type": "stream",
     "text": [
      "707/1000 train loss: 0.598531057437261  val loss: 0.7923161586125692\n"
     ]
    },
    {
     "name": "stderr",
     "output_type": "stream",
     "text": [
      "Epoch 708/1000: 100%|█| 6/6 [00:05<00:00,  1.04batch/s, avg_loss=0.637, loss=0.8\n"
     ]
    },
    {
     "name": "stdout",
     "output_type": "stream",
     "text": [
      "708/1000 train loss: 0.6366242269674937  val loss: 0.7517176767190298\n"
     ]
    },
    {
     "name": "stderr",
     "output_type": "stream",
     "text": [
      "Epoch 709/1000: 100%|█| 6/6 [00:05<00:00,  1.05batch/s, avg_loss=0.64, loss=0.64\n"
     ]
    },
    {
     "name": "stdout",
     "output_type": "stream",
     "text": [
      "709/1000 train loss: 0.6398415863513947  val loss: 0.7801797290643057\n"
     ]
    },
    {
     "name": "stderr",
     "output_type": "stream",
     "text": [
      "Epoch 710/1000: 100%|█| 6/6 [00:05<00:00,  1.09batch/s, avg_loss=0.642, loss=0.5\n"
     ]
    },
    {
     "name": "stdout",
     "output_type": "stream",
     "text": [
      "710/1000 train loss: 0.6415719290574392  val loss: 0.7896053294340769\n"
     ]
    },
    {
     "name": "stderr",
     "output_type": "stream",
     "text": [
      "Epoch 711/1000: 100%|█| 6/6 [00:05<00:00,  1.08batch/s, avg_loss=0.606, loss=0.7\n"
     ]
    },
    {
     "name": "stdout",
     "output_type": "stream",
     "text": [
      "711/1000 train loss: 0.6057823499043783  val loss: 0.8760850727558136\n"
     ]
    },
    {
     "name": "stderr",
     "output_type": "stream",
     "text": [
      "Epoch 712/1000: 100%|█| 6/6 [00:05<00:00,  1.08batch/s, avg_loss=0.623, loss=0.6\n"
     ]
    },
    {
     "name": "stdout",
     "output_type": "stream",
     "text": [
      "712/1000 train loss: 0.6228200693925222  val loss: 0.8577828903992971\n"
     ]
    },
    {
     "name": "stderr",
     "output_type": "stream",
     "text": [
      "Epoch 713/1000: 100%|█| 6/6 [00:05<00:00,  1.08batch/s, avg_loss=0.651, loss=0.8\n"
     ]
    },
    {
     "name": "stdout",
     "output_type": "stream",
     "text": [
      "713/1000 train loss: 0.6511833171049753  val loss: 0.6790912648042043\n"
     ]
    },
    {
     "name": "stderr",
     "output_type": "stream",
     "text": [
      "Epoch 714/1000: 100%|█| 6/6 [00:05<00:00,  1.09batch/s, avg_loss=0.653, loss=0.6\n"
     ]
    },
    {
     "name": "stdout",
     "output_type": "stream",
     "text": [
      "714/1000 train loss: 0.6527052223682404  val loss: 0.7305975755055746\n"
     ]
    },
    {
     "name": "stderr",
     "output_type": "stream",
     "text": [
      "Epoch 715/1000: 100%|█| 6/6 [00:05<00:00,  1.09batch/s, avg_loss=0.634, loss=0.7\n"
     ]
    },
    {
     "name": "stdout",
     "output_type": "stream",
     "text": [
      "715/1000 train loss: 0.63375257452329  val loss: 0.6172368427117666\n"
     ]
    },
    {
     "name": "stderr",
     "output_type": "stream",
     "text": [
      "Epoch 716/1000: 100%|█| 6/6 [00:05<00:00,  1.05batch/s, avg_loss=0.672, loss=0.7\n"
     ]
    },
    {
     "name": "stdout",
     "output_type": "stream",
     "text": [
      "716/1000 train loss: 0.6720758378505707  val loss: 0.6040860414505005\n"
     ]
    },
    {
     "name": "stderr",
     "output_type": "stream",
     "text": [
      "Epoch 717/1000: 100%|█| 6/6 [00:05<00:00,  1.03batch/s, avg_loss=0.623, loss=0.8\n"
     ]
    },
    {
     "name": "stdout",
     "output_type": "stream",
     "text": [
      "717/1000 train loss: 0.623110294342041  val loss: 0.6369680464267731\n"
     ]
    },
    {
     "name": "stderr",
     "output_type": "stream",
     "text": [
      "Epoch 718/1000: 100%|█| 6/6 [00:05<00:00,  1.04batch/s, avg_loss=0.616, loss=0.4\n"
     ]
    },
    {
     "name": "stdout",
     "output_type": "stream",
     "text": [
      "718/1000 train loss: 0.6164867579936981  val loss: 0.7531770169734955\n"
     ]
    },
    {
     "name": "stderr",
     "output_type": "stream",
     "text": [
      "Epoch 719/1000: 100%|█| 6/6 [00:05<00:00,  1.06batch/s, avg_loss=0.622, loss=0.5\n"
     ]
    },
    {
     "name": "stdout",
     "output_type": "stream",
     "text": [
      "719/1000 train loss: 0.6216509441534678  val loss: 0.7620485325654348\n"
     ]
    },
    {
     "name": "stderr",
     "output_type": "stream",
     "text": [
      "Epoch 720/1000: 100%|█| 6/6 [00:05<00:00,  1.08batch/s, avg_loss=0.591, loss=0.5\n"
     ]
    },
    {
     "name": "stdout",
     "output_type": "stream",
     "text": [
      "720/1000 train loss: 0.5906983812650045  val loss: 0.6856394211451212\n"
     ]
    },
    {
     "name": "stderr",
     "output_type": "stream",
     "text": [
      "Epoch 721/1000: 100%|█| 6/6 [00:05<00:00,  1.10batch/s, avg_loss=0.608, loss=0.6\n"
     ]
    },
    {
     "name": "stdout",
     "output_type": "stream",
     "text": [
      "721/1000 train loss: 0.6083249549070994  val loss: 0.8142293095588684\n"
     ]
    },
    {
     "name": "stderr",
     "output_type": "stream",
     "text": [
      "Epoch 722/1000: 100%|█| 6/6 [00:05<00:00,  1.09batch/s, avg_loss=0.624, loss=0.5\n"
     ]
    },
    {
     "name": "stdout",
     "output_type": "stream",
     "text": [
      "722/1000 train loss: 0.6239315271377563  val loss: 0.7559771537780762\n"
     ]
    },
    {
     "name": "stderr",
     "output_type": "stream",
     "text": [
      "Epoch 723/1000: 100%|█| 6/6 [00:05<00:00,  1.09batch/s, avg_loss=0.622, loss=0.5\n"
     ]
    },
    {
     "name": "stdout",
     "output_type": "stream",
     "text": [
      "723/1000 train loss: 0.6215939323107401  val loss: 0.8191259801387787\n"
     ]
    },
    {
     "name": "stderr",
     "output_type": "stream",
     "text": [
      "Epoch 724/1000: 100%|█| 6/6 [00:05<00:00,  1.09batch/s, avg_loss=0.592, loss=0.5\n"
     ]
    },
    {
     "name": "stdout",
     "output_type": "stream",
     "text": [
      "724/1000 train loss: 0.5924599170684814  val loss: 0.7486426333586375\n"
     ]
    },
    {
     "name": "stderr",
     "output_type": "stream",
     "text": [
      "Epoch 725/1000: 100%|█| 6/6 [00:05<00:00,  1.10batch/s, avg_loss=0.57, loss=0.52\n"
     ]
    },
    {
     "name": "stdout",
     "output_type": "stream",
     "text": [
      "725/1000 train loss: 0.5702208975950877  val loss: 0.6805083254973093\n"
     ]
    },
    {
     "name": "stderr",
     "output_type": "stream",
     "text": [
      "Epoch 726/1000: 100%|█| 6/6 [00:05<00:00,  1.07batch/s, avg_loss=0.653, loss=0.5\n"
     ]
    },
    {
     "name": "stdout",
     "output_type": "stream",
     "text": [
      "726/1000 train loss: 0.6525278389453888  val loss: 0.8253899017969767\n"
     ]
    },
    {
     "name": "stderr",
     "output_type": "stream",
     "text": [
      "Epoch 727/1000: 100%|█| 6/6 [00:05<00:00,  1.04batch/s, avg_loss=0.619, loss=0.4\n"
     ]
    },
    {
     "name": "stdout",
     "output_type": "stream",
     "text": [
      "727/1000 train loss: 0.6188850998878479  val loss: 0.5316490431626638\n"
     ]
    },
    {
     "name": "stderr",
     "output_type": "stream",
     "text": [
      "Epoch 728/1000: 100%|█| 6/6 [00:05<00:00,  1.04batch/s, avg_loss=0.64, loss=0.52\n"
     ]
    },
    {
     "name": "stdout",
     "output_type": "stream",
     "text": [
      "728/1000 train loss: 0.6396475632985433  val loss: 0.6827081143856049\n"
     ]
    },
    {
     "name": "stderr",
     "output_type": "stream",
     "text": [
      "Epoch 729/1000: 100%|█| 6/6 [00:05<00:00,  1.05batch/s, avg_loss=0.637, loss=0.5\n"
     ]
    },
    {
     "name": "stdout",
     "output_type": "stream",
     "text": [
      "729/1000 train loss: 0.6373827854792277  val loss: 0.7339670757452647\n"
     ]
    },
    {
     "name": "stderr",
     "output_type": "stream",
     "text": [
      "Epoch 730/1000: 100%|█| 6/6 [00:05<00:00,  1.10batch/s, avg_loss=0.616, loss=0.3\n"
     ]
    },
    {
     "name": "stdout",
     "output_type": "stream",
     "text": [
      "730/1000 train loss: 0.6156166692574819  val loss: 0.7562691370646158\n"
     ]
    },
    {
     "name": "stderr",
     "output_type": "stream",
     "text": [
      "Epoch 731/1000: 100%|█| 6/6 [00:05<00:00,  1.09batch/s, avg_loss=0.641, loss=0.7\n"
     ]
    },
    {
     "name": "stdout",
     "output_type": "stream",
     "text": [
      "731/1000 train loss: 0.6405397454897562  val loss: 0.7985790371894836\n"
     ]
    },
    {
     "name": "stderr",
     "output_type": "stream",
     "text": [
      "Epoch 732/1000: 100%|█| 6/6 [00:05<00:00,  1.09batch/s, avg_loss=0.63, loss=0.7]\n"
     ]
    },
    {
     "name": "stdout",
     "output_type": "stream",
     "text": [
      "732/1000 train loss: 0.6299643814563751  val loss: 0.6699184477329254\n"
     ]
    },
    {
     "name": "stderr",
     "output_type": "stream",
     "text": [
      "Epoch 733/1000: 100%|█| 6/6 [00:05<00:00,  1.09batch/s, avg_loss=0.621, loss=0.4\n"
     ]
    },
    {
     "name": "stdout",
     "output_type": "stream",
     "text": [
      "733/1000 train loss: 0.6209315856297811  val loss: 0.6625235080718994\n"
     ]
    },
    {
     "name": "stderr",
     "output_type": "stream",
     "text": [
      "Epoch 734/1000: 100%|█| 6/6 [00:05<00:00,  1.09batch/s, avg_loss=0.604, loss=0.8\n"
     ]
    },
    {
     "name": "stdout",
     "output_type": "stream",
     "text": [
      "734/1000 train loss: 0.6037710805733999  val loss: 0.6936194002628326\n"
     ]
    },
    {
     "name": "stderr",
     "output_type": "stream",
     "text": [
      "Epoch 735/1000: 100%|█| 6/6 [00:05<00:00,  1.08batch/s, avg_loss=0.658, loss=0.7\n"
     ]
    },
    {
     "name": "stdout",
     "output_type": "stream",
     "text": [
      "735/1000 train loss: 0.6579460501670837  val loss: 0.7020885745684305\n"
     ]
    },
    {
     "name": "stderr",
     "output_type": "stream",
     "text": [
      "Epoch 736/1000: 100%|█| 6/6 [00:05<00:00,  1.04batch/s, avg_loss=0.615, loss=0.4\n"
     ]
    },
    {
     "name": "stdout",
     "output_type": "stream",
     "text": [
      "736/1000 train loss: 0.6151042878627777  val loss: 0.761536031961441\n"
     ]
    },
    {
     "name": "stderr",
     "output_type": "stream",
     "text": [
      "Epoch 737/1000: 100%|█| 6/6 [00:06<00:00,  1.00s/batch, avg_loss=0.612, loss=0.4\n"
     ]
    },
    {
     "name": "stdout",
     "output_type": "stream",
     "text": [
      "737/1000 train loss: 0.6118203997612  val loss: 0.6287567913532257\n"
     ]
    },
    {
     "name": "stderr",
     "output_type": "stream",
     "text": [
      "Epoch 738/1000: 100%|█| 6/6 [00:06<00:00,  1.00s/batch, avg_loss=0.593, loss=0.6\n"
     ]
    },
    {
     "name": "stdout",
     "output_type": "stream",
     "text": [
      "738/1000 train loss: 0.5925224721431732  val loss: 0.7747081518173218\n"
     ]
    },
    {
     "name": "stderr",
     "output_type": "stream",
     "text": [
      "Epoch 739/1000: 100%|█| 6/6 [00:05<00:00,  1.01batch/s, avg_loss=0.616, loss=0.7\n"
     ]
    },
    {
     "name": "stdout",
     "output_type": "stream",
     "text": [
      "739/1000 train loss: 0.6157037715117136  val loss: 0.7444350719451904\n"
     ]
    },
    {
     "name": "stderr",
     "output_type": "stream",
     "text": [
      "Epoch 740/1000: 100%|█| 6/6 [00:05<00:00,  1.03batch/s, avg_loss=0.567, loss=0.4\n"
     ]
    },
    {
     "name": "stdout",
     "output_type": "stream",
     "text": [
      "740/1000 train loss: 0.5668824911117554  val loss: 0.623277485370636\n"
     ]
    },
    {
     "name": "stderr",
     "output_type": "stream",
     "text": [
      "Epoch 741/1000: 100%|█| 6/6 [00:05<00:00,  1.04batch/s, avg_loss=0.658, loss=0.8\n"
     ]
    },
    {
     "name": "stdout",
     "output_type": "stream",
     "text": [
      "741/1000 train loss: 0.6576452155907949  val loss: 0.7370202044645945\n"
     ]
    },
    {
     "name": "stderr",
     "output_type": "stream",
     "text": [
      "Epoch 742/1000: 100%|█| 6/6 [00:05<00:00,  1.06batch/s, avg_loss=0.598, loss=0.6\n"
     ]
    },
    {
     "name": "stdout",
     "output_type": "stream",
     "text": [
      "742/1000 train loss: 0.5980729758739471  val loss: 0.6212489604949951\n"
     ]
    },
    {
     "name": "stderr",
     "output_type": "stream",
     "text": [
      "Epoch 743/1000: 100%|█| 6/6 [00:05<00:00,  1.05batch/s, avg_loss=0.584, loss=0.5\n"
     ]
    },
    {
     "name": "stdout",
     "output_type": "stream",
     "text": [
      "743/1000 train loss: 0.5836760898431143  val loss: 0.6949715514977773\n"
     ]
    },
    {
     "name": "stderr",
     "output_type": "stream",
     "text": [
      "Epoch 744/1000: 100%|█| 6/6 [00:05<00:00,  1.07batch/s, avg_loss=0.596, loss=0.7\n"
     ]
    },
    {
     "name": "stdout",
     "output_type": "stream",
     "text": [
      "744/1000 train loss: 0.5961021284262339  val loss: 0.5683590471744537\n"
     ]
    },
    {
     "name": "stderr",
     "output_type": "stream",
     "text": [
      "Epoch 745/1000: 100%|█| 6/6 [00:05<00:00,  1.06batch/s, avg_loss=0.594, loss=0.4\n"
     ]
    },
    {
     "name": "stdout",
     "output_type": "stream",
     "text": [
      "745/1000 train loss: 0.593790183464686  val loss: 0.6767857472101847\n"
     ]
    },
    {
     "name": "stderr",
     "output_type": "stream",
     "text": [
      "Epoch 746/1000: 100%|█| 6/6 [00:05<00:00,  1.06batch/s, avg_loss=0.563, loss=0.7\n"
     ]
    },
    {
     "name": "stdout",
     "output_type": "stream",
     "text": [
      "746/1000 train loss: 0.5626882513364156  val loss: 0.5255508124828339\n"
     ]
    },
    {
     "name": "stderr",
     "output_type": "stream",
     "text": [
      "Epoch 747/1000: 100%|█| 6/6 [00:05<00:00,  1.05batch/s, avg_loss=0.734, loss=0.5\n"
     ]
    },
    {
     "name": "stdout",
     "output_type": "stream",
     "text": [
      "747/1000 train loss: 0.7341671884059906  val loss: 0.709754099448522\n"
     ]
    },
    {
     "name": "stderr",
     "output_type": "stream",
     "text": [
      "Epoch 748/1000: 100%|█| 6/6 [00:05<00:00,  1.04batch/s, avg_loss=0.651, loss=0.6\n"
     ]
    },
    {
     "name": "stdout",
     "output_type": "stream",
     "text": [
      "748/1000 train loss: 0.6512644290924072  val loss: 0.5466300348440806\n"
     ]
    },
    {
     "name": "stderr",
     "output_type": "stream",
     "text": [
      "Epoch 749/1000: 100%|█| 6/6 [00:05<00:00,  1.04batch/s, avg_loss=0.645, loss=0.3\n"
     ]
    },
    {
     "name": "stdout",
     "output_type": "stream",
     "text": [
      "749/1000 train loss: 0.6449552575747172  val loss: 0.5132194856802622\n"
     ]
    },
    {
     "name": "stderr",
     "output_type": "stream",
     "text": [
      "Epoch 750/1000: 100%|█| 6/6 [00:05<00:00,  1.05batch/s, avg_loss=0.613, loss=0.4\n"
     ]
    },
    {
     "name": "stdout",
     "output_type": "stream",
     "text": [
      "750/1000 train loss: 0.6128840943177541  val loss: 0.7449710667133331\n"
     ]
    },
    {
     "name": "stderr",
     "output_type": "stream",
     "text": [
      "Epoch 751/1000: 100%|█| 6/6 [00:05<00:00,  1.03batch/s, avg_loss=0.621, loss=0.5\n"
     ]
    },
    {
     "name": "stdout",
     "output_type": "stream",
     "text": [
      "751/1000 train loss: 0.6210904022057852  val loss: 0.703776349623998\n"
     ]
    },
    {
     "name": "stderr",
     "output_type": "stream",
     "text": [
      "Epoch 752/1000: 100%|█| 6/6 [00:05<00:00,  1.03batch/s, avg_loss=0.631, loss=0.4\n"
     ]
    },
    {
     "name": "stdout",
     "output_type": "stream",
     "text": [
      "752/1000 train loss: 0.6314425269762675  val loss: 0.7110474109649658\n"
     ]
    },
    {
     "name": "stderr",
     "output_type": "stream",
     "text": [
      "Epoch 753/1000: 100%|█| 6/6 [00:05<00:00,  1.04batch/s, avg_loss=0.605, loss=0.4\n"
     ]
    },
    {
     "name": "stdout",
     "output_type": "stream",
     "text": [
      "753/1000 train loss: 0.6046093503634135  val loss: 0.6865931550661722\n"
     ]
    },
    {
     "name": "stderr",
     "output_type": "stream",
     "text": [
      "Epoch 754/1000: 100%|█| 6/6 [00:05<00:00,  1.03batch/s, avg_loss=0.576, loss=0.7\n"
     ]
    },
    {
     "name": "stdout",
     "output_type": "stream",
     "text": [
      "754/1000 train loss: 0.5760535597801208  val loss: 0.6698853472868601\n"
     ]
    },
    {
     "name": "stderr",
     "output_type": "stream",
     "text": [
      "Epoch 755/1000: 100%|█| 6/6 [00:05<00:00,  1.04batch/s, avg_loss=0.633, loss=0.6\n"
     ]
    },
    {
     "name": "stdout",
     "output_type": "stream",
     "text": [
      "755/1000 train loss: 0.6334030330181122  val loss: 0.7186109920342764\n"
     ]
    },
    {
     "name": "stderr",
     "output_type": "stream",
     "text": [
      "Epoch 756/1000: 100%|█| 6/6 [00:05<00:00,  1.04batch/s, avg_loss=0.582, loss=0.5\n"
     ]
    },
    {
     "name": "stdout",
     "output_type": "stream",
     "text": [
      "756/1000 train loss: 0.5823515156904856  val loss: 0.8338434298833212\n"
     ]
    },
    {
     "name": "stderr",
     "output_type": "stream",
     "text": [
      "Epoch 757/1000: 100%|█| 6/6 [00:05<00:00,  1.04batch/s, avg_loss=0.599, loss=0.6\n"
     ]
    },
    {
     "name": "stdout",
     "output_type": "stream",
     "text": [
      "757/1000 train loss: 0.5989843904972076  val loss: 0.7218203643957773\n"
     ]
    },
    {
     "name": "stderr",
     "output_type": "stream",
     "text": [
      "Epoch 758/1000: 100%|█| 6/6 [00:05<00:00,  1.05batch/s, avg_loss=0.637, loss=0.6\n"
     ]
    },
    {
     "name": "stdout",
     "output_type": "stream",
     "text": [
      "758/1000 train loss: 0.6365088820457458  val loss: 0.7268422146638235\n"
     ]
    },
    {
     "name": "stderr",
     "output_type": "stream",
     "text": [
      "Epoch 759/1000: 100%|█| 6/6 [00:05<00:00,  1.05batch/s, avg_loss=0.642, loss=0.5\n"
     ]
    },
    {
     "name": "stdout",
     "output_type": "stream",
     "text": [
      "759/1000 train loss: 0.6415574451287588  val loss: 0.8402775128682455\n"
     ]
    },
    {
     "name": "stderr",
     "output_type": "stream",
     "text": [
      "Epoch 760/1000: 100%|█| 6/6 [00:05<00:00,  1.08batch/s, avg_loss=0.613, loss=0.8\n"
     ]
    },
    {
     "name": "stdout",
     "output_type": "stream",
     "text": [
      "760/1000 train loss: 0.6131018300851186  val loss: 0.6045960088570913\n"
     ]
    },
    {
     "name": "stderr",
     "output_type": "stream",
     "text": [
      "Epoch 761/1000: 100%|█| 6/6 [00:05<00:00,  1.08batch/s, avg_loss=0.605, loss=0.4\n"
     ]
    },
    {
     "name": "stdout",
     "output_type": "stream",
     "text": [
      "761/1000 train loss: 0.6045306622982025  val loss: 0.80255260070165\n"
     ]
    },
    {
     "name": "stderr",
     "output_type": "stream",
     "text": [
      "Epoch 762/1000: 100%|█| 6/6 [00:05<00:00,  1.06batch/s, avg_loss=0.616, loss=0.3\n"
     ]
    },
    {
     "name": "stdout",
     "output_type": "stream",
     "text": [
      "762/1000 train loss: 0.6162177125612894  val loss: 0.8781034449736277\n"
     ]
    },
    {
     "name": "stderr",
     "output_type": "stream",
     "text": [
      "Epoch 763/1000: 100%|█| 6/6 [00:05<00:00,  1.04batch/s, avg_loss=0.591, loss=0.6\n"
     ]
    },
    {
     "name": "stdout",
     "output_type": "stream",
     "text": [
      "763/1000 train loss: 0.5907864073912302  val loss: 0.7710146903991699\n"
     ]
    },
    {
     "name": "stderr",
     "output_type": "stream",
     "text": [
      "Epoch 764/1000: 100%|█| 6/6 [00:05<00:00,  1.04batch/s, avg_loss=0.597, loss=0.5\n"
     ]
    },
    {
     "name": "stdout",
     "output_type": "stream",
     "text": [
      "764/1000 train loss: 0.5968684355417887  val loss: 0.8645957509676615\n"
     ]
    },
    {
     "name": "stderr",
     "output_type": "stream",
     "text": [
      "Epoch 765/1000: 100%|█| 6/6 [00:05<00:00,  1.04batch/s, avg_loss=0.674, loss=0.5\n"
     ]
    },
    {
     "name": "stdout",
     "output_type": "stream",
     "text": [
      "765/1000 train loss: 0.674283524354299  val loss: 0.8095552027225494\n"
     ]
    },
    {
     "name": "stderr",
     "output_type": "stream",
     "text": [
      "Epoch 766/1000: 100%|█| 6/6 [00:05<00:00,  1.06batch/s, avg_loss=0.648, loss=0.7\n"
     ]
    },
    {
     "name": "stdout",
     "output_type": "stream",
     "text": [
      "766/1000 train loss: 0.6475427945454916  val loss: 0.7849060595035553\n"
     ]
    },
    {
     "name": "stderr",
     "output_type": "stream",
     "text": [
      "Epoch 767/1000: 100%|█| 6/6 [00:05<00:00,  1.09batch/s, avg_loss=0.65, loss=0.62\n"
     ]
    },
    {
     "name": "stdout",
     "output_type": "stream",
     "text": [
      "767/1000 train loss: 0.6496146023273468  val loss: 0.7744246522585551\n"
     ]
    },
    {
     "name": "stderr",
     "output_type": "stream",
     "text": [
      "Epoch 768/1000: 100%|█| 6/6 [00:05<00:00,  1.07batch/s, avg_loss=0.575, loss=0.8\n"
     ]
    },
    {
     "name": "stdout",
     "output_type": "stream",
     "text": [
      "768/1000 train loss: 0.574582984050115  val loss: 0.6040875911712646\n"
     ]
    },
    {
     "name": "stderr",
     "output_type": "stream",
     "text": [
      "Epoch 769/1000: 100%|█| 6/6 [00:05<00:00,  1.04batch/s, avg_loss=0.606, loss=0.6\n"
     ]
    },
    {
     "name": "stdout",
     "output_type": "stream",
     "text": [
      "769/1000 train loss: 0.6055843333403269  val loss: 0.6279468238353729\n"
     ]
    },
    {
     "name": "stderr",
     "output_type": "stream",
     "text": [
      "Epoch 770/1000: 100%|█| 6/6 [00:05<00:00,  1.04batch/s, avg_loss=0.645, loss=0.6\n"
     ]
    },
    {
     "name": "stdout",
     "output_type": "stream",
     "text": [
      "770/1000 train loss: 0.6445564726988474  val loss: 0.7821004788080851\n"
     ]
    },
    {
     "name": "stderr",
     "output_type": "stream",
     "text": [
      "Epoch 771/1000: 100%|█| 6/6 [00:05<00:00,  1.05batch/s, avg_loss=0.608, loss=0.7\n"
     ]
    },
    {
     "name": "stdout",
     "output_type": "stream",
     "text": [
      "771/1000 train loss: 0.6078752875328064  val loss: 0.8417454659938812\n"
     ]
    },
    {
     "name": "stderr",
     "output_type": "stream",
     "text": [
      "Epoch 772/1000: 100%|█| 6/6 [00:05<00:00,  1.04batch/s, avg_loss=0.66, loss=0.70\n"
     ]
    },
    {
     "name": "stdout",
     "output_type": "stream",
     "text": [
      "772/1000 train loss: 0.660017212231954  val loss: 0.744893491268158\n"
     ]
    },
    {
     "name": "stderr",
     "output_type": "stream",
     "text": [
      "Epoch 773/1000: 100%|█| 6/6 [00:05<00:00,  1.04batch/s, avg_loss=0.6, loss=0.547\n"
     ]
    },
    {
     "name": "stdout",
     "output_type": "stream",
     "text": [
      "773/1000 train loss: 0.6002670228481293  val loss: 0.6647279858589172\n"
     ]
    },
    {
     "name": "stderr",
     "output_type": "stream",
     "text": [
      "Epoch 774/1000: 100%|█| 6/6 [00:05<00:00,  1.06batch/s, avg_loss=0.611, loss=0.6\n"
     ]
    },
    {
     "name": "stdout",
     "output_type": "stream",
     "text": [
      "774/1000 train loss: 0.6113900939623514  val loss: 0.6698592404524485\n"
     ]
    },
    {
     "name": "stderr",
     "output_type": "stream",
     "text": [
      "Epoch 775/1000: 100%|█| 6/6 [00:05<00:00,  1.05batch/s, avg_loss=0.641, loss=0.7\n"
     ]
    },
    {
     "name": "stdout",
     "output_type": "stream",
     "text": [
      "775/1000 train loss: 0.6405300498008728  val loss: 0.5606836279233297\n"
     ]
    },
    {
     "name": "stderr",
     "output_type": "stream",
     "text": [
      "Epoch 776/1000: 100%|█| 6/6 [00:05<00:00,  1.04batch/s, avg_loss=0.657, loss=0.6\n"
     ]
    },
    {
     "name": "stdout",
     "output_type": "stream",
     "text": [
      "776/1000 train loss: 0.6574603815873464  val loss: 0.7598414917786916\n"
     ]
    },
    {
     "name": "stderr",
     "output_type": "stream",
     "text": [
      "Epoch 777/1000: 100%|█| 6/6 [00:05<00:00,  1.04batch/s, avg_loss=0.625, loss=0.7\n"
     ]
    },
    {
     "name": "stdout",
     "output_type": "stream",
     "text": [
      "777/1000 train loss: 0.6248111426830292  val loss: 0.7308207949002584\n"
     ]
    },
    {
     "name": "stderr",
     "output_type": "stream",
     "text": [
      "Epoch 778/1000: 100%|█| 6/6 [00:05<00:00,  1.05batch/s, avg_loss=0.587, loss=0.6\n"
     ]
    },
    {
     "name": "stdout",
     "output_type": "stream",
     "text": [
      "778/1000 train loss: 0.5869598388671875  val loss: 0.6791564126809438\n"
     ]
    },
    {
     "name": "stderr",
     "output_type": "stream",
     "text": [
      "Epoch 779/1000: 100%|█| 6/6 [00:05<00:00,  1.05batch/s, avg_loss=0.653, loss=0.7\n"
     ]
    },
    {
     "name": "stdout",
     "output_type": "stream",
     "text": [
      "779/1000 train loss: 0.6529845496018728  val loss: 0.7466464936733246\n"
     ]
    },
    {
     "name": "stderr",
     "output_type": "stream",
     "text": [
      "Epoch 780/1000: 100%|█| 6/6 [00:05<00:00,  1.08batch/s, avg_loss=0.597, loss=0.4\n"
     ]
    },
    {
     "name": "stdout",
     "output_type": "stream",
     "text": [
      "780/1000 train loss: 0.5968223611513773  val loss: 0.6329603691895803\n"
     ]
    },
    {
     "name": "stderr",
     "output_type": "stream",
     "text": [
      "Epoch 781/1000: 100%|█| 6/6 [00:05<00:00,  1.09batch/s, avg_loss=0.634, loss=0.5\n"
     ]
    },
    {
     "name": "stdout",
     "output_type": "stream",
     "text": [
      "781/1000 train loss: 0.633765697479248  val loss: 0.6557000080744425\n"
     ]
    },
    {
     "name": "stderr",
     "output_type": "stream",
     "text": [
      "Epoch 782/1000: 100%|█| 6/6 [00:05<00:00,  1.09batch/s, avg_loss=0.58, loss=0.74\n"
     ]
    },
    {
     "name": "stdout",
     "output_type": "stream",
     "text": [
      "782/1000 train loss: 0.5804537435372671  val loss: 0.7930727700392405\n"
     ]
    },
    {
     "name": "stderr",
     "output_type": "stream",
     "text": [
      "Epoch 783/1000: 100%|█| 6/6 [00:05<00:00,  1.08batch/s, avg_loss=0.614, loss=0.6\n"
     ]
    },
    {
     "name": "stdout",
     "output_type": "stream",
     "text": [
      "783/1000 train loss: 0.6143639385700226  val loss: 0.7725342412789663\n"
     ]
    },
    {
     "name": "stderr",
     "output_type": "stream",
     "text": [
      "Epoch 784/1000: 100%|█| 6/6 [00:05<00:00,  1.06batch/s, avg_loss=0.585, loss=0.6\n"
     ]
    },
    {
     "name": "stdout",
     "output_type": "stream",
     "text": [
      "784/1000 train loss: 0.5845456520716349  val loss: 0.7407812376817068\n"
     ]
    },
    {
     "name": "stderr",
     "output_type": "stream",
     "text": [
      "Epoch 785/1000: 100%|█| 6/6 [00:05<00:00,  1.04batch/s, avg_loss=0.639, loss=0.7\n"
     ]
    },
    {
     "name": "stdout",
     "output_type": "stream",
     "text": [
      "785/1000 train loss: 0.6387637456258138  val loss: 0.8362385531266531\n"
     ]
    },
    {
     "name": "stderr",
     "output_type": "stream",
     "text": [
      "Epoch 786/1000: 100%|█| 6/6 [00:05<00:00,  1.03batch/s, avg_loss=0.541, loss=0.3\n"
     ]
    },
    {
     "name": "stdout",
     "output_type": "stream",
     "text": [
      "786/1000 train loss: 0.5414203604062399  val loss: 0.843063880999883\n"
     ]
    },
    {
     "name": "stderr",
     "output_type": "stream",
     "text": [
      "Epoch 787/1000: 100%|█| 6/6 [00:05<00:00,  1.03batch/s, avg_loss=0.607, loss=0.4\n"
     ]
    },
    {
     "name": "stdout",
     "output_type": "stream",
     "text": [
      "787/1000 train loss: 0.6069490611553192  val loss: 0.8125697374343872\n"
     ]
    },
    {
     "name": "stderr",
     "output_type": "stream",
     "text": [
      "Epoch 788/1000: 100%|█| 6/6 [00:05<00:00,  1.04batch/s, avg_loss=0.578, loss=0.4\n"
     ]
    },
    {
     "name": "stdout",
     "output_type": "stream",
     "text": [
      "788/1000 train loss: 0.5784658292929331  val loss: 0.6632278462251028\n"
     ]
    },
    {
     "name": "stderr",
     "output_type": "stream",
     "text": [
      "Epoch 789/1000: 100%|█| 6/6 [00:05<00:00,  1.03batch/s, avg_loss=0.601, loss=0.6\n"
     ]
    },
    {
     "name": "stdout",
     "output_type": "stream",
     "text": [
      "789/1000 train loss: 0.6014451583226522  val loss: 0.6776139736175537\n"
     ]
    },
    {
     "name": "stderr",
     "output_type": "stream",
     "text": [
      "Epoch 790/1000: 100%|█| 6/6 [00:05<00:00,  1.03batch/s, avg_loss=0.603, loss=0.5\n"
     ]
    },
    {
     "name": "stdout",
     "output_type": "stream",
     "text": [
      "790/1000 train loss: 0.6025292774041494  val loss: 0.8748506804307302\n"
     ]
    },
    {
     "name": "stderr",
     "output_type": "stream",
     "text": [
      "Epoch 791/1000: 100%|█| 6/6 [00:05<00:00,  1.05batch/s, avg_loss=0.637, loss=0.7\n"
     ]
    },
    {
     "name": "stdout",
     "output_type": "stream",
     "text": [
      "791/1000 train loss: 0.6368236442406973  val loss: 0.7057865957419077\n"
     ]
    },
    {
     "name": "stderr",
     "output_type": "stream",
     "text": [
      "Epoch 792/1000: 100%|█| 6/6 [00:05<00:00,  1.06batch/s, avg_loss=0.608, loss=0.8\n"
     ]
    },
    {
     "name": "stdout",
     "output_type": "stream",
     "text": [
      "792/1000 train loss: 0.6083311835924784  val loss: 0.7193905214468638\n"
     ]
    },
    {
     "name": "stderr",
     "output_type": "stream",
     "text": [
      "Epoch 793/1000: 100%|█| 6/6 [00:05<00:00,  1.08batch/s, avg_loss=0.625, loss=0.7\n"
     ]
    },
    {
     "name": "stdout",
     "output_type": "stream",
     "text": [
      "793/1000 train loss: 0.6246316830317179  val loss: 0.8172937134901682\n"
     ]
    },
    {
     "name": "stderr",
     "output_type": "stream",
     "text": [
      "Epoch 794/1000: 100%|█| 6/6 [00:05<00:00,  1.08batch/s, avg_loss=0.652, loss=0.8\n"
     ]
    },
    {
     "name": "stdout",
     "output_type": "stream",
     "text": [
      "794/1000 train loss: 0.6517354547977448  val loss: 0.7446059783299764\n"
     ]
    },
    {
     "name": "stderr",
     "output_type": "stream",
     "text": [
      "Epoch 795/1000: 100%|█| 6/6 [00:05<00:00,  1.08batch/s, avg_loss=0.68, loss=0.78\n"
     ]
    },
    {
     "name": "stdout",
     "output_type": "stream",
     "text": [
      "795/1000 train loss: 0.6795662840207418  val loss: 0.6949197550614675\n"
     ]
    },
    {
     "name": "stderr",
     "output_type": "stream",
     "text": [
      "Epoch 796/1000: 100%|█| 6/6 [00:05<00:00,  1.08batch/s, avg_loss=0.612, loss=0.6\n"
     ]
    },
    {
     "name": "stdout",
     "output_type": "stream",
     "text": [
      "796/1000 train loss: 0.612368106842041  val loss: 0.7946976323922476\n"
     ]
    },
    {
     "name": "stderr",
     "output_type": "stream",
     "text": [
      "Epoch 797/1000: 100%|█| 6/6 [00:05<00:00,  1.08batch/s, avg_loss=0.64, loss=0.63\n"
     ]
    },
    {
     "name": "stdout",
     "output_type": "stream",
     "text": [
      "797/1000 train loss: 0.6403487225373586  val loss: 0.7000511686007181\n"
     ]
    },
    {
     "name": "stderr",
     "output_type": "stream",
     "text": [
      "Epoch 798/1000: 100%|█| 6/6 [00:05<00:00,  1.08batch/s, avg_loss=0.647, loss=0.8\n"
     ]
    },
    {
     "name": "stdout",
     "output_type": "stream",
     "text": [
      "798/1000 train loss: 0.6466460029284159  val loss: 0.7707520425319672\n"
     ]
    },
    {
     "name": "stderr",
     "output_type": "stream",
     "text": [
      "Epoch 799/1000: 100%|█| 6/6 [00:05<00:00,  1.08batch/s, avg_loss=0.621, loss=0.4\n"
     ]
    },
    {
     "name": "stdout",
     "output_type": "stream",
     "text": [
      "799/1000 train loss: 0.6210487186908722  val loss: 0.7401853501796722\n"
     ]
    },
    {
     "name": "stderr",
     "output_type": "stream",
     "text": [
      "Epoch 800/1000: 100%|█| 6/6 [00:05<00:00,  1.04batch/s, avg_loss=0.58, loss=0.66\n"
     ]
    },
    {
     "name": "stdout",
     "output_type": "stream",
     "text": [
      "800/1000 train loss: 0.5799591739972433  val loss: 0.7430330117543539\n"
     ]
    },
    {
     "name": "stderr",
     "output_type": "stream",
     "text": [
      "Epoch 801/1000: 100%|█| 6/6 [00:05<00:00,  1.04batch/s, avg_loss=0.601, loss=0.5\n"
     ]
    },
    {
     "name": "stdout",
     "output_type": "stream",
     "text": [
      "801/1000 train loss: 0.6009242832660675  val loss: 0.6399126251538595\n"
     ]
    },
    {
     "name": "stderr",
     "output_type": "stream",
     "text": [
      "Epoch 802/1000: 100%|█| 6/6 [00:05<00:00,  1.01batch/s, avg_loss=0.676, loss=0.6\n"
     ]
    },
    {
     "name": "stdout",
     "output_type": "stream",
     "text": [
      "802/1000 train loss: 0.6762106617291769  val loss: 0.9139200150966644\n"
     ]
    },
    {
     "name": "stderr",
     "output_type": "stream",
     "text": [
      "Epoch 803/1000: 100%|█| 6/6 [00:06<00:00,  1.00s/batch, avg_loss=0.587, loss=0.6\n"
     ]
    },
    {
     "name": "stdout",
     "output_type": "stream",
     "text": [
      "803/1000 train loss: 0.5866952041784922  val loss: 0.8243338763713837\n"
     ]
    },
    {
     "name": "stderr",
     "output_type": "stream",
     "text": [
      "Epoch 804/1000: 100%|█| 6/6 [00:05<00:00,  1.03batch/s, avg_loss=0.685, loss=0.4\n"
     ]
    },
    {
     "name": "stdout",
     "output_type": "stream",
     "text": [
      "804/1000 train loss: 0.6845523317654928  val loss: 0.7617539266745249\n"
     ]
    },
    {
     "name": "stderr",
     "output_type": "stream",
     "text": [
      "Epoch 805/1000: 100%|█| 6/6 [00:05<00:00,  1.04batch/s, avg_loss=0.603, loss=0.5\n"
     ]
    },
    {
     "name": "stdout",
     "output_type": "stream",
     "text": [
      "805/1000 train loss: 0.6029936373233795  val loss: 0.8208079735438029\n"
     ]
    },
    {
     "name": "stderr",
     "output_type": "stream",
     "text": [
      "Epoch 806/1000: 100%|█| 6/6 [00:05<00:00,  1.04batch/s, avg_loss=0.582, loss=0.4\n"
     ]
    },
    {
     "name": "stdout",
     "output_type": "stream",
     "text": [
      "806/1000 train loss: 0.5815133055051168  val loss: 0.8418712417284647\n"
     ]
    },
    {
     "name": "stderr",
     "output_type": "stream",
     "text": [
      "Epoch 807/1000: 100%|█| 6/6 [00:05<00:00,  1.04batch/s, avg_loss=0.623, loss=0.4\n"
     ]
    },
    {
     "name": "stdout",
     "output_type": "stream",
     "text": [
      "807/1000 train loss: 0.6230031450589498  val loss: 0.689845492442449\n"
     ]
    },
    {
     "name": "stderr",
     "output_type": "stream",
     "text": [
      "Epoch 808/1000: 100%|█| 6/6 [00:05<00:00,  1.04batch/s, avg_loss=0.638, loss=0.7\n"
     ]
    },
    {
     "name": "stdout",
     "output_type": "stream",
     "text": [
      "808/1000 train loss: 0.6383371651172638  val loss: 0.8422541519006094\n"
     ]
    },
    {
     "name": "stderr",
     "output_type": "stream",
     "text": [
      "Epoch 809/1000: 100%|█| 6/6 [00:05<00:00,  1.04batch/s, avg_loss=0.639, loss=0.7\n"
     ]
    },
    {
     "name": "stdout",
     "output_type": "stream",
     "text": [
      "809/1000 train loss: 0.6394152442614237  val loss: 0.8042150139808655\n"
     ]
    },
    {
     "name": "stderr",
     "output_type": "stream",
     "text": [
      "Epoch 810/1000: 100%|█| 6/6 [00:05<00:00,  1.04batch/s, avg_loss=0.62, loss=0.49\n"
     ]
    },
    {
     "name": "stdout",
     "output_type": "stream",
     "text": [
      "810/1000 train loss: 0.6198968589305878  val loss: 0.7261127432187399\n"
     ]
    },
    {
     "name": "stderr",
     "output_type": "stream",
     "text": [
      "Epoch 811/1000: 100%|█| 6/6 [00:05<00:00,  1.03batch/s, avg_loss=0.636, loss=0.6\n"
     ]
    },
    {
     "name": "stdout",
     "output_type": "stream",
     "text": [
      "811/1000 train loss: 0.6358231504758199  val loss: 0.5651569068431854\n"
     ]
    },
    {
     "name": "stderr",
     "output_type": "stream",
     "text": [
      "Epoch 812/1000: 100%|█| 6/6 [00:05<00:00,  1.03batch/s, avg_loss=0.652, loss=0.4\n"
     ]
    },
    {
     "name": "stdout",
     "output_type": "stream",
     "text": [
      "812/1000 train loss: 0.6520006855328878  val loss: 0.5271775225798289\n"
     ]
    },
    {
     "name": "stderr",
     "output_type": "stream",
     "text": [
      "Epoch 813/1000: 100%|█| 6/6 [00:05<00:00,  1.03batch/s, avg_loss=0.611, loss=0.4\n"
     ]
    },
    {
     "name": "stdout",
     "output_type": "stream",
     "text": [
      "813/1000 train loss: 0.6110364198684692  val loss: 0.6214034458001455\n"
     ]
    },
    {
     "name": "stderr",
     "output_type": "stream",
     "text": [
      "Epoch 814/1000: 100%|█| 6/6 [00:05<00:00,  1.03batch/s, avg_loss=0.643, loss=0.5\n"
     ]
    },
    {
     "name": "stdout",
     "output_type": "stream",
     "text": [
      "814/1000 train loss: 0.6434855262438456  val loss: 0.6356527507305145\n"
     ]
    },
    {
     "name": "stderr",
     "output_type": "stream",
     "text": [
      "Epoch 815/1000: 100%|█| 6/6 [00:05<00:00,  1.04batch/s, avg_loss=0.582, loss=0.5\n"
     ]
    },
    {
     "name": "stdout",
     "output_type": "stream",
     "text": [
      "815/1000 train loss: 0.5822206238905588  val loss: 0.6727671424547831\n"
     ]
    },
    {
     "name": "stderr",
     "output_type": "stream",
     "text": [
      "Epoch 816/1000: 100%|█| 6/6 [00:06<00:00,  1.01s/batch, avg_loss=0.611, loss=0.8\n"
     ]
    },
    {
     "name": "stdout",
     "output_type": "stream",
     "text": [
      "816/1000 train loss: 0.6110302607218424  val loss: 0.7654710412025452\n"
     ]
    },
    {
     "name": "stderr",
     "output_type": "stream",
     "text": [
      "Epoch 817/1000: 100%|█| 6/6 [00:05<00:00,  1.02batch/s, avg_loss=0.586, loss=0.5\n"
     ]
    },
    {
     "name": "stdout",
     "output_type": "stream",
     "text": [
      "817/1000 train loss: 0.5855039358139038  val loss: 0.5681452055772146\n"
     ]
    },
    {
     "name": "stderr",
     "output_type": "stream",
     "text": [
      "Epoch 818/1000: 100%|█| 6/6 [00:05<00:00,  1.04batch/s, avg_loss=0.637, loss=0.4\n"
     ]
    },
    {
     "name": "stdout",
     "output_type": "stream",
     "text": [
      "818/1000 train loss: 0.6366017758846283  val loss: 0.5992430051167806\n"
     ]
    },
    {
     "name": "stderr",
     "output_type": "stream",
     "text": [
      "Epoch 819/1000: 100%|█| 6/6 [00:05<00:00,  1.04batch/s, avg_loss=0.64, loss=0.58\n"
     ]
    },
    {
     "name": "stdout",
     "output_type": "stream",
     "text": [
      "819/1000 train loss: 0.640486071507136  val loss: 0.6317445735136668\n"
     ]
    },
    {
     "name": "stderr",
     "output_type": "stream",
     "text": [
      "Epoch 820/1000: 100%|█| 6/6 [00:05<00:00,  1.03batch/s, avg_loss=0.615, loss=0.6\n"
     ]
    },
    {
     "name": "stdout",
     "output_type": "stream",
     "text": [
      "820/1000 train loss: 0.6145825485388438  val loss: 0.6164742608865103\n"
     ]
    },
    {
     "name": "stderr",
     "output_type": "stream",
     "text": [
      "Epoch 821/1000: 100%|█| 6/6 [00:05<00:00,  1.04batch/s, avg_loss=0.607, loss=0.4\n"
     ]
    },
    {
     "name": "stdout",
     "output_type": "stream",
     "text": [
      "821/1000 train loss: 0.6072976390520731  val loss: 0.6603714227676392\n"
     ]
    },
    {
     "name": "stderr",
     "output_type": "stream",
     "text": [
      "Epoch 822/1000: 100%|█| 6/6 [00:05<00:00,  1.04batch/s, avg_loss=0.644, loss=0.7\n"
     ]
    },
    {
     "name": "stdout",
     "output_type": "stream",
     "text": [
      "822/1000 train loss: 0.6436521808306376  val loss: 0.6975225706895193\n"
     ]
    },
    {
     "name": "stderr",
     "output_type": "stream",
     "text": [
      "Epoch 823/1000: 100%|█| 6/6 [00:05<00:00,  1.04batch/s, avg_loss=0.678, loss=0.5\n"
     ]
    },
    {
     "name": "stdout",
     "output_type": "stream",
     "text": [
      "823/1000 train loss: 0.6778430640697479  val loss: 0.7575948536396027\n"
     ]
    },
    {
     "name": "stderr",
     "output_type": "stream",
     "text": [
      "Epoch 824/1000: 100%|█| 6/6 [00:05<00:00,  1.04batch/s, avg_loss=0.585, loss=0.5\n"
     ]
    },
    {
     "name": "stdout",
     "output_type": "stream",
     "text": [
      "824/1000 train loss: 0.5846796929836273  val loss: 0.7717062930266062\n"
     ]
    },
    {
     "name": "stderr",
     "output_type": "stream",
     "text": [
      "Epoch 825/1000: 100%|█| 6/6 [00:05<00:00,  1.04batch/s, avg_loss=0.639, loss=0.3\n"
     ]
    },
    {
     "name": "stdout",
     "output_type": "stream",
     "text": [
      "825/1000 train loss: 0.638622889916102  val loss: 0.7090196311473846\n"
     ]
    },
    {
     "name": "stderr",
     "output_type": "stream",
     "text": [
      "Epoch 826/1000: 100%|█| 6/6 [00:05<00:00,  1.03batch/s, avg_loss=0.656, loss=0.9\n"
     ]
    },
    {
     "name": "stdout",
     "output_type": "stream",
     "text": [
      "826/1000 train loss: 0.6559496819972992  val loss: 0.7192281583944956\n"
     ]
    },
    {
     "name": "stderr",
     "output_type": "stream",
     "text": [
      "Epoch 827/1000: 100%|█| 6/6 [00:05<00:00,  1.03batch/s, avg_loss=0.674, loss=0.4\n"
     ]
    },
    {
     "name": "stdout",
     "output_type": "stream",
     "text": [
      "827/1000 train loss: 0.6737794180711111  val loss: 0.6933861474196116\n"
     ]
    },
    {
     "name": "stderr",
     "output_type": "stream",
     "text": [
      "Epoch 828/1000: 100%|█| 6/6 [00:05<00:00,  1.04batch/s, avg_loss=0.659, loss=0.7\n"
     ]
    },
    {
     "name": "stdout",
     "output_type": "stream",
     "text": [
      "828/1000 train loss: 0.6589559117952982  val loss: 0.6740276912848154\n"
     ]
    },
    {
     "name": "stderr",
     "output_type": "stream",
     "text": [
      "Epoch 829/1000: 100%|█| 6/6 [00:05<00:00,  1.04batch/s, avg_loss=0.626, loss=0.8\n"
     ]
    },
    {
     "name": "stdout",
     "output_type": "stream",
     "text": [
      "829/1000 train loss: 0.6264224549134573  val loss: 0.6442374388376871\n"
     ]
    },
    {
     "name": "stderr",
     "output_type": "stream",
     "text": [
      "Epoch 830/1000: 100%|█| 6/6 [00:05<00:00,  1.05batch/s, avg_loss=0.604, loss=0.6\n"
     ]
    },
    {
     "name": "stdout",
     "output_type": "stream",
     "text": [
      "830/1000 train loss: 0.6037057340145111  val loss: 0.7957483728726705\n"
     ]
    },
    {
     "name": "stderr",
     "output_type": "stream",
     "text": [
      "Epoch 831/1000: 100%|█| 6/6 [00:05<00:00,  1.05batch/s, avg_loss=0.627, loss=0.8\n"
     ]
    },
    {
     "name": "stdout",
     "output_type": "stream",
     "text": [
      "831/1000 train loss: 0.6265985071659088  val loss: 0.5810528794924418\n"
     ]
    },
    {
     "name": "stderr",
     "output_type": "stream",
     "text": [
      "Epoch 832/1000: 100%|█| 6/6 [00:05<00:00,  1.01batch/s, avg_loss=0.604, loss=0.7\n"
     ]
    },
    {
     "name": "stdout",
     "output_type": "stream",
     "text": [
      "832/1000 train loss: 0.6044395267963409  val loss: 0.6601717174053192\n"
     ]
    },
    {
     "name": "stderr",
     "output_type": "stream",
     "text": [
      "Epoch 833/1000: 100%|█| 6/6 [00:05<00:00,  1.04batch/s, avg_loss=0.603, loss=0.8\n"
     ]
    },
    {
     "name": "stdout",
     "output_type": "stream",
     "text": [
      "833/1000 train loss: 0.6031858722368876  val loss: 0.7386010189851125\n"
     ]
    },
    {
     "name": "stderr",
     "output_type": "stream",
     "text": [
      "Epoch 834/1000: 100%|█| 6/6 [00:05<00:00,  1.04batch/s, avg_loss=0.608, loss=0.5\n"
     ]
    },
    {
     "name": "stdout",
     "output_type": "stream",
     "text": [
      "834/1000 train loss: 0.6080714364846548  val loss: 0.6962193449338278\n"
     ]
    },
    {
     "name": "stderr",
     "output_type": "stream",
     "text": [
      "Epoch 835/1000: 100%|█| 6/6 [00:05<00:00,  1.04batch/s, avg_loss=0.549, loss=0.7\n"
     ]
    },
    {
     "name": "stdout",
     "output_type": "stream",
     "text": [
      "835/1000 train loss: 0.548594743013382  val loss: 0.7978845040003458\n"
     ]
    },
    {
     "name": "stderr",
     "output_type": "stream",
     "text": [
      "Epoch 836/1000: 100%|█| 6/6 [00:05<00:00,  1.03batch/s, avg_loss=0.642, loss=0.3\n"
     ]
    },
    {
     "name": "stdout",
     "output_type": "stream",
     "text": [
      "836/1000 train loss: 0.641895075639089  val loss: 0.6476416985193888\n"
     ]
    },
    {
     "name": "stderr",
     "output_type": "stream",
     "text": [
      "Epoch 837/1000: 100%|█| 6/6 [00:05<00:00,  1.03batch/s, avg_loss=0.648, loss=0.7\n"
     ]
    },
    {
     "name": "stdout",
     "output_type": "stream",
     "text": [
      "837/1000 train loss: 0.6475496391455332  val loss: 0.7501035829385122\n"
     ]
    },
    {
     "name": "stderr",
     "output_type": "stream",
     "text": [
      "Epoch 838/1000: 100%|█| 6/6 [00:05<00:00,  1.03batch/s, avg_loss=0.603, loss=0.5\n"
     ]
    },
    {
     "name": "stdout",
     "output_type": "stream",
     "text": [
      "838/1000 train loss: 0.6029019753138224  val loss: 0.7381144364674886\n"
     ]
    },
    {
     "name": "stderr",
     "output_type": "stream",
     "text": [
      "Epoch 839/1000: 100%|█| 6/6 [00:05<00:00,  1.05batch/s, avg_loss=0.638, loss=0.8\n"
     ]
    },
    {
     "name": "stdout",
     "output_type": "stream",
     "text": [
      "839/1000 train loss: 0.6382789313793182  val loss: 0.5233420034249624\n"
     ]
    },
    {
     "name": "stderr",
     "output_type": "stream",
     "text": [
      "Epoch 840/1000: 100%|█| 6/6 [00:05<00:00,  1.04batch/s, avg_loss=0.636, loss=0.6\n"
     ]
    },
    {
     "name": "stdout",
     "output_type": "stream",
     "text": [
      "840/1000 train loss: 0.6362486183643341  val loss: 0.6219596962134043\n"
     ]
    },
    {
     "name": "stderr",
     "output_type": "stream",
     "text": [
      "Epoch 841/1000: 100%|█| 6/6 [00:05<00:00,  1.05batch/s, avg_loss=0.656, loss=0.4\n"
     ]
    },
    {
     "name": "stdout",
     "output_type": "stream",
     "text": [
      "841/1000 train loss: 0.6555944283803304  val loss: 0.7227916419506073\n"
     ]
    },
    {
     "name": "stderr",
     "output_type": "stream",
     "text": [
      "Epoch 842/1000: 100%|█| 6/6 [00:05<00:00,  1.03batch/s, avg_loss=0.623, loss=0.6\n"
     ]
    },
    {
     "name": "stdout",
     "output_type": "stream",
     "text": [
      "842/1000 train loss: 0.6228403449058533  val loss: 0.7980395158131918\n"
     ]
    },
    {
     "name": "stderr",
     "output_type": "stream",
     "text": [
      "Epoch 843/1000: 100%|█| 6/6 [00:05<00:00,  1.05batch/s, avg_loss=0.59, loss=0.50\n"
     ]
    },
    {
     "name": "stdout",
     "output_type": "stream",
     "text": [
      "843/1000 train loss: 0.5904030601183573  val loss: 0.7282077968120575\n"
     ]
    },
    {
     "name": "stderr",
     "output_type": "stream",
     "text": [
      "Epoch 844/1000: 100%|█| 6/6 [00:05<00:00,  1.07batch/s, avg_loss=0.616, loss=0.7\n"
     ]
    },
    {
     "name": "stdout",
     "output_type": "stream",
     "text": [
      "844/1000 train loss: 0.6164216299851736  val loss: 0.5897296667098999\n"
     ]
    },
    {
     "name": "stderr",
     "output_type": "stream",
     "text": [
      "Epoch 845/1000: 100%|█| 6/6 [00:05<00:00,  1.09batch/s, avg_loss=0.607, loss=0.6\n"
     ]
    },
    {
     "name": "stdout",
     "output_type": "stream",
     "text": [
      "845/1000 train loss: 0.6069854001204172  val loss: 0.6621667742729187\n"
     ]
    },
    {
     "name": "stderr",
     "output_type": "stream",
     "text": [
      "Epoch 846/1000: 100%|█| 6/6 [00:05<00:00,  1.08batch/s, avg_loss=0.581, loss=0.6\n"
     ]
    },
    {
     "name": "stdout",
     "output_type": "stream",
     "text": [
      "846/1000 train loss: 0.5811160306135813  val loss: 0.8549063901106516\n"
     ]
    },
    {
     "name": "stderr",
     "output_type": "stream",
     "text": [
      "Epoch 847/1000: 100%|█| 6/6 [00:05<00:00,  1.07batch/s, avg_loss=0.622, loss=0.7\n"
     ]
    },
    {
     "name": "stdout",
     "output_type": "stream",
     "text": [
      "847/1000 train loss: 0.6222320894400278  val loss: 0.8245319426059723\n"
     ]
    },
    {
     "name": "stderr",
     "output_type": "stream",
     "text": [
      "Epoch 848/1000: 100%|█| 6/6 [00:05<00:00,  1.04batch/s, avg_loss=0.583, loss=0.6\n"
     ]
    },
    {
     "name": "stdout",
     "output_type": "stream",
     "text": [
      "848/1000 train loss: 0.5832703610261282  val loss: 0.6845032076040903\n"
     ]
    },
    {
     "name": "stderr",
     "output_type": "stream",
     "text": [
      "Epoch 849/1000: 100%|█| 6/6 [00:05<00:00,  1.03batch/s, avg_loss=0.614, loss=0.6\n"
     ]
    },
    {
     "name": "stdout",
     "output_type": "stream",
     "text": [
      "849/1000 train loss: 0.6136434276898702  val loss: 0.7779475351174673\n"
     ]
    },
    {
     "name": "stderr",
     "output_type": "stream",
     "text": [
      "Epoch 850/1000: 100%|█| 6/6 [00:05<00:00,  1.04batch/s, avg_loss=0.633, loss=0.5\n"
     ]
    },
    {
     "name": "stdout",
     "output_type": "stream",
     "text": [
      "850/1000 train loss: 0.6327613095442454  val loss: 0.6408255696296692\n"
     ]
    },
    {
     "name": "stderr",
     "output_type": "stream",
     "text": [
      "Epoch 851/1000: 100%|█| 6/6 [00:05<00:00,  1.04batch/s, avg_loss=0.555, loss=0.4\n"
     ]
    },
    {
     "name": "stdout",
     "output_type": "stream",
     "text": [
      "851/1000 train loss: 0.5545031428337097  val loss: 0.7187006076176962\n"
     ]
    },
    {
     "name": "stderr",
     "output_type": "stream",
     "text": [
      "Epoch 852/1000: 100%|█| 6/6 [00:05<00:00,  1.03batch/s, avg_loss=0.612, loss=0.4\n"
     ]
    },
    {
     "name": "stdout",
     "output_type": "stream",
     "text": [
      "852/1000 train loss: 0.6115391453107198  val loss: 0.7024785180886587\n"
     ]
    },
    {
     "name": "stderr",
     "output_type": "stream",
     "text": [
      "Epoch 853/1000: 100%|█| 6/6 [00:05<00:00,  1.03batch/s, avg_loss=0.621, loss=0.6\n"
     ]
    },
    {
     "name": "stdout",
     "output_type": "stream",
     "text": [
      "853/1000 train loss: 0.6209626197814941  val loss: 0.5722644031047821\n"
     ]
    },
    {
     "name": "stderr",
     "output_type": "stream",
     "text": [
      "Epoch 854/1000: 100%|█| 6/6 [00:05<00:00,  1.04batch/s, avg_loss=0.601, loss=0.7\n"
     ]
    },
    {
     "name": "stdout",
     "output_type": "stream",
     "text": [
      "854/1000 train loss: 0.6012536485989889  val loss: 0.6091301540533701\n"
     ]
    },
    {
     "name": "stderr",
     "output_type": "stream",
     "text": [
      "Epoch 855/1000: 100%|█| 6/6 [00:05<00:00,  1.04batch/s, avg_loss=0.613, loss=0.8\n"
     ]
    },
    {
     "name": "stdout",
     "output_type": "stream",
     "text": [
      "855/1000 train loss: 0.6127007007598877  val loss: 0.7014071941375732\n"
     ]
    },
    {
     "name": "stderr",
     "output_type": "stream",
     "text": [
      "Epoch 856/1000: 100%|█| 6/6 [00:05<00:00,  1.04batch/s, avg_loss=0.64, loss=0.40\n"
     ]
    },
    {
     "name": "stdout",
     "output_type": "stream",
     "text": [
      "856/1000 train loss: 0.63979239265124  val loss: 0.7689754565556844\n"
     ]
    },
    {
     "name": "stderr",
     "output_type": "stream",
     "text": [
      "Epoch 857/1000: 100%|█| 6/6 [00:05<00:00,  1.06batch/s, avg_loss=0.617, loss=0.4\n"
     ]
    },
    {
     "name": "stdout",
     "output_type": "stream",
     "text": [
      "857/1000 train loss: 0.6168667872746786  val loss: 0.7023601631323496\n"
     ]
    },
    {
     "name": "stderr",
     "output_type": "stream",
     "text": [
      "Epoch 858/1000: 100%|█| 6/6 [00:05<00:00,  1.08batch/s, avg_loss=0.595, loss=0.6\n"
     ]
    },
    {
     "name": "stdout",
     "output_type": "stream",
     "text": [
      "858/1000 train loss: 0.5948525567849478  val loss: 0.8317486743132273\n"
     ]
    },
    {
     "name": "stderr",
     "output_type": "stream",
     "text": [
      "Epoch 859/1000: 100%|█| 6/6 [00:05<00:00,  1.08batch/s, avg_loss=0.625, loss=0.7\n"
     ]
    },
    {
     "name": "stdout",
     "output_type": "stream",
     "text": [
      "859/1000 train loss: 0.6249109208583832  val loss: 0.7521929144859314\n"
     ]
    },
    {
     "name": "stderr",
     "output_type": "stream",
     "text": [
      "Epoch 860/1000: 100%|█| 6/6 [00:05<00:00,  1.08batch/s, avg_loss=0.582, loss=0.6\n"
     ]
    },
    {
     "name": "stdout",
     "output_type": "stream",
     "text": [
      "860/1000 train loss: 0.582457035779953  val loss: 0.8134490549564362\n"
     ]
    },
    {
     "name": "stderr",
     "output_type": "stream",
     "text": [
      "Epoch 861/1000: 100%|█| 6/6 [00:05<00:00,  1.09batch/s, avg_loss=0.589, loss=0.8\n"
     ]
    },
    {
     "name": "stdout",
     "output_type": "stream",
     "text": [
      "861/1000 train loss: 0.5887940227985382  val loss: 0.8022284011046091\n"
     ]
    },
    {
     "name": "stderr",
     "output_type": "stream",
     "text": [
      "Epoch 862/1000: 100%|█| 6/6 [00:05<00:00,  1.07batch/s, avg_loss=0.576, loss=0.3\n"
     ]
    },
    {
     "name": "stdout",
     "output_type": "stream",
     "text": [
      "862/1000 train loss: 0.5755613346894582  val loss: 0.5598128239313761\n"
     ]
    },
    {
     "name": "stderr",
     "output_type": "stream",
     "text": [
      "Epoch 863/1000: 100%|█| 6/6 [00:05<00:00,  1.07batch/s, avg_loss=0.595, loss=0.3\n"
     ]
    },
    {
     "name": "stdout",
     "output_type": "stream",
     "text": [
      "863/1000 train loss: 0.5953578054904938  val loss: 0.8039632638295492\n"
     ]
    },
    {
     "name": "stderr",
     "output_type": "stream",
     "text": [
      "Epoch 864/1000: 100%|█| 6/6 [00:05<00:00,  1.04batch/s, avg_loss=0.602, loss=0.5\n"
     ]
    },
    {
     "name": "stdout",
     "output_type": "stream",
     "text": [
      "864/1000 train loss: 0.6021682024002075  val loss: 0.7700598041216532\n"
     ]
    },
    {
     "name": "stderr",
     "output_type": "stream",
     "text": [
      "Epoch 865/1000: 100%|█| 6/6 [00:05<00:00,  1.02batch/s, avg_loss=0.57, loss=0.48\n"
     ]
    },
    {
     "name": "stdout",
     "output_type": "stream",
     "text": [
      "865/1000 train loss: 0.5703872243563334  val loss: 0.7862120270729065\n"
     ]
    },
    {
     "name": "stderr",
     "output_type": "stream",
     "text": [
      "Epoch 866/1000: 100%|█| 6/6 [00:05<00:00,  1.03batch/s, avg_loss=0.572, loss=0.7\n"
     ]
    },
    {
     "name": "stdout",
     "output_type": "stream",
     "text": [
      "866/1000 train loss: 0.5718313157558441  val loss: 0.6936221718788147\n"
     ]
    },
    {
     "name": "stderr",
     "output_type": "stream",
     "text": [
      "Epoch 867/1000: 100%|█| 6/6 [00:05<00:00,  1.04batch/s, avg_loss=0.564, loss=0.6\n"
     ]
    },
    {
     "name": "stdout",
     "output_type": "stream",
     "text": [
      "867/1000 train loss: 0.5637363394101461  val loss: 0.7671968440214793\n"
     ]
    },
    {
     "name": "stderr",
     "output_type": "stream",
     "text": [
      "Epoch 868/1000: 100%|█| 6/6 [00:05<00:00,  1.04batch/s, avg_loss=0.632, loss=0.4\n"
     ]
    },
    {
     "name": "stdout",
     "output_type": "stream",
     "text": [
      "868/1000 train loss: 0.6320681472619375  val loss: 0.6767261425654093\n"
     ]
    },
    {
     "name": "stderr",
     "output_type": "stream",
     "text": [
      "Epoch 869/1000: 100%|█| 6/6 [00:05<00:00,  1.05batch/s, avg_loss=0.664, loss=0.8\n"
     ]
    },
    {
     "name": "stdout",
     "output_type": "stream",
     "text": [
      "869/1000 train loss: 0.6642541686693827  val loss: 0.569060355424881\n"
     ]
    },
    {
     "name": "stderr",
     "output_type": "stream",
     "text": [
      "Epoch 870/1000: 100%|█| 6/6 [00:05<00:00,  1.06batch/s, avg_loss=0.63, loss=0.51\n"
     ]
    },
    {
     "name": "stdout",
     "output_type": "stream",
     "text": [
      "870/1000 train loss: 0.6298496027787527  val loss: 0.6326729953289032\n"
     ]
    },
    {
     "name": "stderr",
     "output_type": "stream",
     "text": [
      "Epoch 871/1000: 100%|█| 6/6 [00:05<00:00,  1.08batch/s, avg_loss=0.605, loss=0.5\n"
     ]
    },
    {
     "name": "stdout",
     "output_type": "stream",
     "text": [
      "871/1000 train loss: 0.6050367653369904  val loss: 0.781377762556076\n"
     ]
    },
    {
     "name": "stderr",
     "output_type": "stream",
     "text": [
      "Epoch 872/1000: 100%|█| 6/6 [00:05<00:00,  1.08batch/s, avg_loss=0.588, loss=0.7\n"
     ]
    },
    {
     "name": "stdout",
     "output_type": "stream",
     "text": [
      "872/1000 train loss: 0.5882595678170522  val loss: 0.7539419929186503\n"
     ]
    },
    {
     "name": "stderr",
     "output_type": "stream",
     "text": [
      "Epoch 873/1000: 100%|█| 6/6 [00:05<00:00,  1.08batch/s, avg_loss=0.582, loss=0.6\n"
     ]
    },
    {
     "name": "stdout",
     "output_type": "stream",
     "text": [
      "873/1000 train loss: 0.5823842187722524  val loss: 0.6780369679133097\n"
     ]
    },
    {
     "name": "stderr",
     "output_type": "stream",
     "text": [
      "Epoch 874/1000: 100%|█| 6/6 [00:05<00:00,  1.08batch/s, avg_loss=0.661, loss=0.8\n"
     ]
    },
    {
     "name": "stdout",
     "output_type": "stream",
     "text": [
      "874/1000 train loss: 0.6612463792165121  val loss: 0.8427968422571818\n"
     ]
    },
    {
     "name": "stderr",
     "output_type": "stream",
     "text": [
      "Epoch 875/1000: 100%|█| 6/6 [00:05<00:00,  1.08batch/s, avg_loss=0.601, loss=0.7\n"
     ]
    },
    {
     "name": "stdout",
     "output_type": "stream",
     "text": [
      "875/1000 train loss: 0.6012148757775625  val loss: 0.7537891566753387\n"
     ]
    },
    {
     "name": "stderr",
     "output_type": "stream",
     "text": [
      "Epoch 876/1000: 100%|█| 6/6 [00:05<00:00,  1.07batch/s, avg_loss=0.536, loss=0.5\n"
     ]
    },
    {
     "name": "stdout",
     "output_type": "stream",
     "text": [
      "876/1000 train loss: 0.5358287990093231  val loss: 0.6434690455595652\n"
     ]
    },
    {
     "name": "stderr",
     "output_type": "stream",
     "text": [
      "Epoch 877/1000: 100%|█| 6/6 [00:05<00:00,  1.08batch/s, avg_loss=0.606, loss=0.6\n"
     ]
    },
    {
     "name": "stdout",
     "output_type": "stream",
     "text": [
      "877/1000 train loss: 0.6059034665425619  val loss: 0.6419199407100677\n"
     ]
    },
    {
     "name": "stderr",
     "output_type": "stream",
     "text": [
      "Epoch 878/1000: 100%|█| 6/6 [00:05<00:00,  1.07batch/s, avg_loss=0.613, loss=0.7\n"
     ]
    },
    {
     "name": "stdout",
     "output_type": "stream",
     "text": [
      "878/1000 train loss: 0.613347719113032  val loss: 0.8021430373191833\n"
     ]
    },
    {
     "name": "stderr",
     "output_type": "stream",
     "text": [
      "Epoch 879/1000: 100%|█| 6/6 [00:05<00:00,  1.05batch/s, avg_loss=0.655, loss=0.7\n"
     ]
    },
    {
     "name": "stdout",
     "output_type": "stream",
     "text": [
      "879/1000 train loss: 0.6554095149040222  val loss: 0.7338484227657318\n"
     ]
    },
    {
     "name": "stderr",
     "output_type": "stream",
     "text": [
      "Epoch 880/1000: 100%|█| 6/6 [00:05<00:00,  1.04batch/s, avg_loss=0.628, loss=0.5\n"
     ]
    },
    {
     "name": "stdout",
     "output_type": "stream",
     "text": [
      "880/1000 train loss: 0.6275437076886495  val loss: 0.8651072482268015\n"
     ]
    },
    {
     "name": "stderr",
     "output_type": "stream",
     "text": [
      "Epoch 881/1000: 100%|█| 6/6 [00:05<00:00,  1.03batch/s, avg_loss=0.614, loss=0.6\n"
     ]
    },
    {
     "name": "stdout",
     "output_type": "stream",
     "text": [
      "881/1000 train loss: 0.6140444974104563  val loss: 0.8505237996578217\n"
     ]
    },
    {
     "name": "stderr",
     "output_type": "stream",
     "text": [
      "Epoch 882/1000: 100%|█| 6/6 [00:05<00:00,  1.05batch/s, avg_loss=0.556, loss=0.5\n"
     ]
    },
    {
     "name": "stdout",
     "output_type": "stream",
     "text": [
      "882/1000 train loss: 0.5557177166144053  val loss: 0.7771965066591898\n"
     ]
    },
    {
     "name": "stderr",
     "output_type": "stream",
     "text": [
      "Epoch 883/1000: 100%|█| 6/6 [00:05<00:00,  1.03batch/s, avg_loss=0.61, loss=0.54\n"
     ]
    },
    {
     "name": "stdout",
     "output_type": "stream",
     "text": [
      "883/1000 train loss: 0.6097018619378408  val loss: 0.7049622535705566\n"
     ]
    },
    {
     "name": "stderr",
     "output_type": "stream",
     "text": [
      "Epoch 884/1000: 100%|█| 6/6 [00:05<00:00,  1.05batch/s, avg_loss=0.543, loss=0.6\n"
     ]
    },
    {
     "name": "stdout",
     "output_type": "stream",
     "text": [
      "884/1000 train loss: 0.5434251228968302  val loss: 0.8496507306893667\n"
     ]
    },
    {
     "name": "stderr",
     "output_type": "stream",
     "text": [
      "Epoch 885/1000: 100%|█| 6/6 [00:05<00:00,  1.06batch/s, avg_loss=0.624, loss=0.8\n"
     ]
    },
    {
     "name": "stdout",
     "output_type": "stream",
     "text": [
      "885/1000 train loss: 0.6241817871729533  val loss: 0.7385284304618835\n"
     ]
    },
    {
     "name": "stderr",
     "output_type": "stream",
     "text": [
      "Epoch 886/1000: 100%|█| 6/6 [00:05<00:00,  1.08batch/s, avg_loss=0.595, loss=0.7\n"
     ]
    },
    {
     "name": "stdout",
     "output_type": "stream",
     "text": [
      "886/1000 train loss: 0.5950935284296671  val loss: 0.7652842700481415\n"
     ]
    },
    {
     "name": "stderr",
     "output_type": "stream",
     "text": [
      "Epoch 887/1000: 100%|█| 6/6 [00:05<00:00,  1.09batch/s, avg_loss=0.615, loss=0.6\n"
     ]
    },
    {
     "name": "stdout",
     "output_type": "stream",
     "text": [
      "887/1000 train loss: 0.6148421267668406  val loss: 0.7641279200712839\n"
     ]
    },
    {
     "name": "stderr",
     "output_type": "stream",
     "text": [
      "Epoch 888/1000: 100%|█| 6/6 [00:05<00:00,  1.06batch/s, avg_loss=0.615, loss=0.8\n"
     ]
    },
    {
     "name": "stdout",
     "output_type": "stream",
     "text": [
      "888/1000 train loss: 0.6150170266628265  val loss: 0.7957203686237335\n"
     ]
    },
    {
     "name": "stderr",
     "output_type": "stream",
     "text": [
      "Epoch 889/1000: 100%|█| 6/6 [00:05<00:00,  1.04batch/s, avg_loss=0.607, loss=0.6\n"
     ]
    },
    {
     "name": "stdout",
     "output_type": "stream",
     "text": [
      "889/1000 train loss: 0.6073093712329865  val loss: 0.7712586124738058\n"
     ]
    },
    {
     "name": "stderr",
     "output_type": "stream",
     "text": [
      "Epoch 890/1000: 100%|█| 6/6 [00:05<00:00,  1.04batch/s, avg_loss=0.622, loss=0.8\n"
     ]
    },
    {
     "name": "stdout",
     "output_type": "stream",
     "text": [
      "890/1000 train loss: 0.6221916178862253  val loss: 0.5949998597304026\n"
     ]
    },
    {
     "name": "stderr",
     "output_type": "stream",
     "text": [
      "Epoch 891/1000: 100%|█| 6/6 [00:05<00:00,  1.04batch/s, avg_loss=0.607, loss=0.5\n"
     ]
    },
    {
     "name": "stdout",
     "output_type": "stream",
     "text": [
      "891/1000 train loss: 0.6072282195091248  val loss: 0.6775267918904623\n"
     ]
    },
    {
     "name": "stderr",
     "output_type": "stream",
     "text": [
      "Epoch 892/1000: 100%|█| 6/6 [00:05<00:00,  1.04batch/s, avg_loss=0.597, loss=0.7\n"
     ]
    },
    {
     "name": "stdout",
     "output_type": "stream",
     "text": [
      "892/1000 train loss: 0.5968916912873586  val loss: 0.8944075504938761\n"
     ]
    },
    {
     "name": "stderr",
     "output_type": "stream",
     "text": [
      "Epoch 893/1000: 100%|█| 6/6 [00:05<00:00,  1.03batch/s, avg_loss=0.553, loss=0.4\n"
     ]
    },
    {
     "name": "stdout",
     "output_type": "stream",
     "text": [
      "893/1000 train loss: 0.5530939002831777  val loss: 0.6871428787708282\n"
     ]
    },
    {
     "name": "stderr",
     "output_type": "stream",
     "text": [
      "Epoch 894/1000: 100%|█| 6/6 [00:05<00:00,  1.03batch/s, avg_loss=0.549, loss=0.5\n"
     ]
    },
    {
     "name": "stdout",
     "output_type": "stream",
     "text": [
      "894/1000 train loss: 0.5493426124254862  val loss: 0.7101714213689169\n"
     ]
    },
    {
     "name": "stderr",
     "output_type": "stream",
     "text": [
      "Epoch 895/1000: 100%|█| 6/6 [00:05<00:00,  1.03batch/s, avg_loss=0.635, loss=0.9\n"
     ]
    },
    {
     "name": "stdout",
     "output_type": "stream",
     "text": [
      "895/1000 train loss: 0.634526530901591  val loss: 0.8339530726273855\n"
     ]
    },
    {
     "name": "stderr",
     "output_type": "stream",
     "text": [
      "Epoch 896/1000: 100%|█| 6/6 [00:05<00:00,  1.04batch/s, avg_loss=0.57, loss=0.63\n"
     ]
    },
    {
     "name": "stdout",
     "output_type": "stream",
     "text": [
      "896/1000 train loss: 0.5701965490976969  val loss: 0.6241762936115265\n"
     ]
    },
    {
     "name": "stderr",
     "output_type": "stream",
     "text": [
      "Epoch 897/1000: 100%|█| 6/6 [00:05<00:00,  1.04batch/s, avg_loss=0.571, loss=0.5\n"
     ]
    },
    {
     "name": "stdout",
     "output_type": "stream",
     "text": [
      "897/1000 train loss: 0.5712473193804423  val loss: 0.8730209171772003\n"
     ]
    },
    {
     "name": "stderr",
     "output_type": "stream",
     "text": [
      "Epoch 898/1000: 100%|█| 6/6 [00:05<00:00,  1.04batch/s, avg_loss=0.543, loss=0.7\n"
     ]
    },
    {
     "name": "stdout",
     "output_type": "stream",
     "text": [
      "898/1000 train loss: 0.5425609151522318  val loss: 0.667142649491628\n"
     ]
    },
    {
     "name": "stderr",
     "output_type": "stream",
     "text": [
      "Epoch 899/1000: 100%|█| 6/6 [00:05<00:00,  1.04batch/s, avg_loss=0.607, loss=0.6\n"
     ]
    },
    {
     "name": "stdout",
     "output_type": "stream",
     "text": [
      "899/1000 train loss: 0.6067485213279724  val loss: 0.6674298942089081\n"
     ]
    },
    {
     "name": "stderr",
     "output_type": "stream",
     "text": [
      "Epoch 900/1000: 100%|█| 6/6 [00:05<00:00,  1.03batch/s, avg_loss=0.608, loss=0.7\n"
     ]
    },
    {
     "name": "stdout",
     "output_type": "stream",
     "text": [
      "900/1000 train loss: 0.607751339673996  val loss: 0.7073973516623179\n"
     ]
    },
    {
     "name": "stderr",
     "output_type": "stream",
     "text": [
      "Epoch 901/1000: 100%|█| 6/6 [00:05<00:00,  1.04batch/s, avg_loss=0.643, loss=0.8\n"
     ]
    },
    {
     "name": "stdout",
     "output_type": "stream",
     "text": [
      "901/1000 train loss: 0.6434571146965027  val loss: 0.7365657687187195\n"
     ]
    },
    {
     "name": "stderr",
     "output_type": "stream",
     "text": [
      "Epoch 902/1000: 100%|█| 6/6 [00:05<00:00,  1.04batch/s, avg_loss=0.63, loss=0.93\n"
     ]
    },
    {
     "name": "stdout",
     "output_type": "stream",
     "text": [
      "902/1000 train loss: 0.6297223170598348  val loss: 0.8522338171799978\n"
     ]
    },
    {
     "name": "stderr",
     "output_type": "stream",
     "text": [
      "Epoch 903/1000: 100%|█| 6/6 [00:05<00:00,  1.04batch/s, avg_loss=0.599, loss=0.6\n"
     ]
    },
    {
     "name": "stdout",
     "output_type": "stream",
     "text": [
      "903/1000 train loss: 0.5989174246788025  val loss: 0.7175274689992269\n"
     ]
    },
    {
     "name": "stderr",
     "output_type": "stream",
     "text": [
      "Epoch 904/1000: 100%|█| 6/6 [00:05<00:00,  1.04batch/s, avg_loss=0.604, loss=0.6\n"
     ]
    },
    {
     "name": "stdout",
     "output_type": "stream",
     "text": [
      "904/1000 train loss: 0.6042002936204275  val loss: 0.7899856766064962\n"
     ]
    },
    {
     "name": "stderr",
     "output_type": "stream",
     "text": [
      "Epoch 905/1000: 100%|█| 6/6 [00:05<00:00,  1.04batch/s, avg_loss=0.593, loss=0.5\n"
     ]
    },
    {
     "name": "stdout",
     "output_type": "stream",
     "text": [
      "905/1000 train loss: 0.5925968587398529  val loss: 0.7868582606315613\n"
     ]
    },
    {
     "name": "stderr",
     "output_type": "stream",
     "text": [
      "Epoch 906/1000: 100%|█| 6/6 [00:05<00:00,  1.04batch/s, avg_loss=0.644, loss=0.3\n"
     ]
    },
    {
     "name": "stdout",
     "output_type": "stream",
     "text": [
      "906/1000 train loss: 0.6444899439811707  val loss: 0.7547819912433624\n"
     ]
    },
    {
     "name": "stderr",
     "output_type": "stream",
     "text": [
      "Epoch 907/1000: 100%|█| 6/6 [00:05<00:00,  1.04batch/s, avg_loss=0.624, loss=0.4\n"
     ]
    },
    {
     "name": "stdout",
     "output_type": "stream",
     "text": [
      "907/1000 train loss: 0.624234547217687  val loss: 0.8804381191730499\n"
     ]
    },
    {
     "name": "stderr",
     "output_type": "stream",
     "text": [
      "Epoch 908/1000: 100%|█| 6/6 [00:05<00:00,  1.03batch/s, avg_loss=0.626, loss=0.5\n"
     ]
    },
    {
     "name": "stdout",
     "output_type": "stream",
     "text": [
      "908/1000 train loss: 0.6262742280960083  val loss: 0.6369320452213287\n"
     ]
    },
    {
     "name": "stderr",
     "output_type": "stream",
     "text": [
      "Epoch 909/1000: 100%|█| 6/6 [00:05<00:00,  1.05batch/s, avg_loss=0.63, loss=0.68\n"
     ]
    },
    {
     "name": "stdout",
     "output_type": "stream",
     "text": [
      "909/1000 train loss: 0.62983638048172  val loss: 0.6992336312929789\n"
     ]
    },
    {
     "name": "stderr",
     "output_type": "stream",
     "text": [
      "Epoch 910/1000: 100%|█| 6/6 [00:05<00:00,  1.04batch/s, avg_loss=0.597, loss=0.6\n"
     ]
    },
    {
     "name": "stdout",
     "output_type": "stream",
     "text": [
      "910/1000 train loss: 0.5971902310848236  val loss: 0.7528388897577921\n"
     ]
    },
    {
     "name": "stderr",
     "output_type": "stream",
     "text": [
      "Epoch 911/1000: 100%|█| 6/6 [00:05<00:00,  1.03batch/s, avg_loss=0.6, loss=0.669\n"
     ]
    },
    {
     "name": "stdout",
     "output_type": "stream",
     "text": [
      "911/1000 train loss: 0.6003220677375793  val loss: 0.6121249794960022\n"
     ]
    },
    {
     "name": "stderr",
     "output_type": "stream",
     "text": [
      "Epoch 912/1000: 100%|█| 6/6 [00:05<00:00,  1.04batch/s, avg_loss=0.542, loss=0.5\n"
     ]
    },
    {
     "name": "stdout",
     "output_type": "stream",
     "text": [
      "912/1000 train loss: 0.5415795048077902  val loss: 0.6280447542667389\n"
     ]
    },
    {
     "name": "stderr",
     "output_type": "stream",
     "text": [
      "Epoch 913/1000: 100%|█| 6/6 [00:05<00:00,  1.03batch/s, avg_loss=0.575, loss=0.6\n"
     ]
    },
    {
     "name": "stdout",
     "output_type": "stream",
     "text": [
      "913/1000 train loss: 0.5747913618882498  val loss: 0.6040474971135458\n"
     ]
    },
    {
     "name": "stderr",
     "output_type": "stream",
     "text": [
      "Epoch 914/1000: 100%|█| 6/6 [00:05<00:00,  1.03batch/s, avg_loss=0.625, loss=0.5\n"
     ]
    },
    {
     "name": "stdout",
     "output_type": "stream",
     "text": [
      "914/1000 train loss: 0.625186949968338  val loss: 0.8447621166706085\n"
     ]
    },
    {
     "name": "stderr",
     "output_type": "stream",
     "text": [
      "Epoch 915/1000: 100%|█| 6/6 [00:05<00:00,  1.05batch/s, avg_loss=0.636, loss=0.4\n"
     ]
    },
    {
     "name": "stdout",
     "output_type": "stream",
     "text": [
      "915/1000 train loss: 0.6355250974496206  val loss: 0.8642791012922922\n"
     ]
    },
    {
     "name": "stderr",
     "output_type": "stream",
     "text": [
      "Epoch 916/1000: 100%|█| 6/6 [00:05<00:00,  1.05batch/s, avg_loss=0.557, loss=0.7\n"
     ]
    },
    {
     "name": "stdout",
     "output_type": "stream",
     "text": [
      "916/1000 train loss: 0.5567778646945953  val loss: 0.5443495313326517\n"
     ]
    },
    {
     "name": "stderr",
     "output_type": "stream",
     "text": [
      "Epoch 917/1000: 100%|█| 6/6 [00:05<00:00,  1.03batch/s, avg_loss=0.583, loss=0.7\n"
     ]
    },
    {
     "name": "stdout",
     "output_type": "stream",
     "text": [
      "917/1000 train loss: 0.5828723112742106  val loss: 0.7382612725098928\n"
     ]
    },
    {
     "name": "stderr",
     "output_type": "stream",
     "text": [
      "Epoch 918/1000: 100%|█| 6/6 [00:05<00:00,  1.03batch/s, avg_loss=0.586, loss=0.7\n"
     ]
    },
    {
     "name": "stdout",
     "output_type": "stream",
     "text": [
      "918/1000 train loss: 0.5858583450317383  val loss: 0.8175034721692404\n"
     ]
    },
    {
     "name": "stderr",
     "output_type": "stream",
     "text": [
      "Epoch 919/1000: 100%|█| 6/6 [00:05<00:00,  1.03batch/s, avg_loss=0.649, loss=0.9\n"
     ]
    },
    {
     "name": "stdout",
     "output_type": "stream",
     "text": [
      "919/1000 train loss: 0.6491524875164032  val loss: 0.806169182062149\n"
     ]
    },
    {
     "name": "stderr",
     "output_type": "stream",
     "text": [
      "Epoch 920/1000: 100%|█| 6/6 [00:05<00:00,  1.03batch/s, avg_loss=0.65, loss=0.75\n"
     ]
    },
    {
     "name": "stdout",
     "output_type": "stream",
     "text": [
      "920/1000 train loss: 0.6496854921181997  val loss: 0.8021613657474518\n"
     ]
    },
    {
     "name": "stderr",
     "output_type": "stream",
     "text": [
      "Epoch 921/1000: 100%|█| 6/6 [00:05<00:00,  1.04batch/s, avg_loss=0.651, loss=0.5\n"
     ]
    },
    {
     "name": "stdout",
     "output_type": "stream",
     "text": [
      "921/1000 train loss: 0.6513085265954336  val loss: 0.8500952621301016\n"
     ]
    },
    {
     "name": "stderr",
     "output_type": "stream",
     "text": [
      "Epoch 922/1000: 100%|█| 6/6 [00:05<00:00,  1.04batch/s, avg_loss=0.595, loss=0.6\n"
     ]
    },
    {
     "name": "stdout",
     "output_type": "stream",
     "text": [
      "922/1000 train loss: 0.5953940053780874  val loss: 0.7978142003218333\n"
     ]
    },
    {
     "name": "stderr",
     "output_type": "stream",
     "text": [
      "Epoch 923/1000: 100%|█| 6/6 [00:05<00:00,  1.05batch/s, avg_loss=0.648, loss=0.4\n"
     ]
    },
    {
     "name": "stdout",
     "output_type": "stream",
     "text": [
      "923/1000 train loss: 0.6480359435081482  val loss: 0.5931466917196909\n"
     ]
    },
    {
     "name": "stderr",
     "output_type": "stream",
     "text": [
      "Epoch 924/1000: 100%|█| 6/6 [00:05<00:00,  1.05batch/s, avg_loss=0.61, loss=0.51\n"
     ]
    },
    {
     "name": "stdout",
     "output_type": "stream",
     "text": [
      "924/1000 train loss: 0.6101302107175192  val loss: 0.6614000300566355\n"
     ]
    },
    {
     "name": "stderr",
     "output_type": "stream",
     "text": [
      "Epoch 925/1000: 100%|█| 6/6 [00:05<00:00,  1.06batch/s, avg_loss=0.598, loss=0.3\n"
     ]
    },
    {
     "name": "stdout",
     "output_type": "stream",
     "text": [
      "925/1000 train loss: 0.59775310754776  val loss: 0.683209111293157\n"
     ]
    },
    {
     "name": "stderr",
     "output_type": "stream",
     "text": [
      "Epoch 926/1000: 100%|█| 6/6 [00:05<00:00,  1.07batch/s, avg_loss=0.625, loss=0.6\n"
     ]
    },
    {
     "name": "stdout",
     "output_type": "stream",
     "text": [
      "926/1000 train loss: 0.6250643233458201  val loss: 0.748865932226181\n"
     ]
    },
    {
     "name": "stderr",
     "output_type": "stream",
     "text": [
      "Epoch 927/1000: 100%|█| 6/6 [00:05<00:00,  1.08batch/s, avg_loss=0.658, loss=0.6\n"
     ]
    },
    {
     "name": "stdout",
     "output_type": "stream",
     "text": [
      "927/1000 train loss: 0.6584896842638651  val loss: 0.5875479578971863\n"
     ]
    },
    {
     "name": "stderr",
     "output_type": "stream",
     "text": [
      "Epoch 928/1000: 100%|█| 6/6 [00:05<00:00,  1.06batch/s, avg_loss=0.616, loss=0.4\n"
     ]
    },
    {
     "name": "stdout",
     "output_type": "stream",
     "text": [
      "928/1000 train loss: 0.6162136197090149  val loss: 0.8119295636812845\n"
     ]
    },
    {
     "name": "stderr",
     "output_type": "stream",
     "text": [
      "Epoch 929/1000: 100%|█| 6/6 [00:05<00:00,  1.08batch/s, avg_loss=0.66, loss=0.71\n"
     ]
    },
    {
     "name": "stdout",
     "output_type": "stream",
     "text": [
      "929/1000 train loss: 0.6603641112645467  val loss: 0.8897974888483683\n"
     ]
    },
    {
     "name": "stderr",
     "output_type": "stream",
     "text": [
      "Epoch 930/1000: 100%|█| 6/6 [00:05<00:00,  1.08batch/s, avg_loss=0.553, loss=0.7\n"
     ]
    },
    {
     "name": "stdout",
     "output_type": "stream",
     "text": [
      "930/1000 train loss: 0.5529896020889282  val loss: 0.757131963968277\n"
     ]
    },
    {
     "name": "stderr",
     "output_type": "stream",
     "text": [
      "Epoch 931/1000: 100%|█| 6/6 [00:05<00:00,  1.04batch/s, avg_loss=0.597, loss=0.4\n"
     ]
    },
    {
     "name": "stdout",
     "output_type": "stream",
     "text": [
      "931/1000 train loss: 0.597122460603714  val loss: 0.6594431897004446\n"
     ]
    },
    {
     "name": "stderr",
     "output_type": "stream",
     "text": [
      "Epoch 932/1000: 100%|█| 6/6 [00:05<00:00,  1.03batch/s, avg_loss=0.628, loss=0.9\n"
     ]
    },
    {
     "name": "stdout",
     "output_type": "stream",
     "text": [
      "932/1000 train loss: 0.6277574698130289  val loss: 0.7796825766563416\n"
     ]
    },
    {
     "name": "stderr",
     "output_type": "stream",
     "text": [
      "Epoch 933/1000: 100%|█| 6/6 [00:05<00:00,  1.04batch/s, avg_loss=0.577, loss=0.6\n"
     ]
    },
    {
     "name": "stdout",
     "output_type": "stream",
     "text": [
      "933/1000 train loss: 0.5771963795026144  val loss: 0.5790488322575887\n"
     ]
    },
    {
     "name": "stderr",
     "output_type": "stream",
     "text": [
      "Epoch 934/1000: 100%|█| 6/6 [00:05<00:00,  1.04batch/s, avg_loss=0.626, loss=0.7\n"
     ]
    },
    {
     "name": "stdout",
     "output_type": "stream",
     "text": [
      "934/1000 train loss: 0.6261288821697235  val loss: 0.8322350184122721\n"
     ]
    },
    {
     "name": "stderr",
     "output_type": "stream",
     "text": [
      "Epoch 935/1000: 100%|█| 6/6 [00:05<00:00,  1.04batch/s, avg_loss=0.593, loss=0.5\n"
     ]
    },
    {
     "name": "stdout",
     "output_type": "stream",
     "text": [
      "935/1000 train loss: 0.5931774079799652  val loss: 0.7307673593362173\n"
     ]
    },
    {
     "name": "stderr",
     "output_type": "stream",
     "text": [
      "Epoch 936/1000: 100%|█| 6/6 [00:05<00:00,  1.05batch/s, avg_loss=0.581, loss=0.4\n"
     ]
    },
    {
     "name": "stdout",
     "output_type": "stream",
     "text": [
      "936/1000 train loss: 0.5806137522061666  val loss: 0.7791628440221151\n"
     ]
    },
    {
     "name": "stderr",
     "output_type": "stream",
     "text": [
      "Epoch 937/1000: 100%|█| 6/6 [00:05<00:00,  1.08batch/s, avg_loss=0.58, loss=0.48\n"
     ]
    },
    {
     "name": "stdout",
     "output_type": "stream",
     "text": [
      "937/1000 train loss: 0.580448567867279  val loss: 0.8098984658718109\n"
     ]
    },
    {
     "name": "stderr",
     "output_type": "stream",
     "text": [
      "Epoch 938/1000: 100%|█| 6/6 [00:05<00:00,  1.08batch/s, avg_loss=0.532, loss=0.6\n"
     ]
    },
    {
     "name": "stdout",
     "output_type": "stream",
     "text": [
      "938/1000 train loss: 0.5318257808685303  val loss: 0.8474890987078348\n"
     ]
    },
    {
     "name": "stderr",
     "output_type": "stream",
     "text": [
      "Epoch 939/1000: 100%|█| 6/6 [00:05<00:00,  1.08batch/s, avg_loss=0.599, loss=0.5\n"
     ]
    },
    {
     "name": "stdout",
     "output_type": "stream",
     "text": [
      "939/1000 train loss: 0.5986958046754202  val loss: 0.7959123651186625\n"
     ]
    },
    {
     "name": "stderr",
     "output_type": "stream",
     "text": [
      "Epoch 940/1000: 100%|█| 6/6 [00:05<00:00,  1.07batch/s, avg_loss=0.615, loss=0.7\n"
     ]
    },
    {
     "name": "stdout",
     "output_type": "stream",
     "text": [
      "940/1000 train loss: 0.6149935821692148  val loss: 0.8376714189847311\n"
     ]
    },
    {
     "name": "stderr",
     "output_type": "stream",
     "text": [
      "Epoch 941/1000: 100%|█| 6/6 [00:05<00:00,  1.07batch/s, avg_loss=0.562, loss=0.3\n"
     ]
    },
    {
     "name": "stdout",
     "output_type": "stream",
     "text": [
      "941/1000 train loss: 0.5624516109625498  val loss: 0.784973124663035\n"
     ]
    },
    {
     "name": "stderr",
     "output_type": "stream",
     "text": [
      "Epoch 942/1000: 100%|█| 6/6 [00:05<00:00,  1.06batch/s, avg_loss=0.585, loss=0.8\n"
     ]
    },
    {
     "name": "stdout",
     "output_type": "stream",
     "text": [
      "942/1000 train loss: 0.5848745306332906  val loss: 0.6954782009124756\n"
     ]
    },
    {
     "name": "stderr",
     "output_type": "stream",
     "text": [
      "Epoch 943/1000: 100%|█| 6/6 [00:05<00:00,  1.06batch/s, avg_loss=0.612, loss=0.7\n"
     ]
    },
    {
     "name": "stdout",
     "output_type": "stream",
     "text": [
      "943/1000 train loss: 0.6115070382754008  val loss: 0.7590159873167673\n"
     ]
    },
    {
     "name": "stderr",
     "output_type": "stream",
     "text": [
      "Epoch 944/1000: 100%|█| 6/6 [00:05<00:00,  1.07batch/s, avg_loss=0.613, loss=0.5\n"
     ]
    },
    {
     "name": "stdout",
     "output_type": "stream",
     "text": [
      "944/1000 train loss: 0.6126948098341624  val loss: 0.8649756014347076\n"
     ]
    },
    {
     "name": "stderr",
     "output_type": "stream",
     "text": [
      "Epoch 945/1000: 100%|█| 6/6 [00:05<00:00,  1.07batch/s, avg_loss=0.632, loss=0.6\n"
     ]
    },
    {
     "name": "stdout",
     "output_type": "stream",
     "text": [
      "945/1000 train loss: 0.631529817978541  val loss: 0.7375001112620035\n"
     ]
    },
    {
     "name": "stderr",
     "output_type": "stream",
     "text": [
      "Epoch 946/1000: 100%|█| 6/6 [00:05<00:00,  1.05batch/s, avg_loss=0.565, loss=0.4\n"
     ]
    },
    {
     "name": "stdout",
     "output_type": "stream",
     "text": [
      "946/1000 train loss: 0.5649473369121552  val loss: 0.8560732007026672\n"
     ]
    },
    {
     "name": "stderr",
     "output_type": "stream",
     "text": [
      "Epoch 947/1000: 100%|█| 6/6 [00:05<00:00,  1.03batch/s, avg_loss=0.562, loss=0.6\n"
     ]
    },
    {
     "name": "stdout",
     "output_type": "stream",
     "text": [
      "947/1000 train loss: 0.5618400772412618  val loss: 0.7716444333394369\n"
     ]
    },
    {
     "name": "stderr",
     "output_type": "stream",
     "text": [
      "Epoch 948/1000: 100%|█| 6/6 [00:05<00:00,  1.05batch/s, avg_loss=0.635, loss=0.4\n"
     ]
    },
    {
     "name": "stdout",
     "output_type": "stream",
     "text": [
      "948/1000 train loss: 0.6346074342727661  val loss: 0.6353829503059387\n"
     ]
    },
    {
     "name": "stderr",
     "output_type": "stream",
     "text": [
      "Epoch 949/1000: 100%|█| 6/6 [00:05<00:00,  1.04batch/s, avg_loss=0.575, loss=0.5\n"
     ]
    },
    {
     "name": "stdout",
     "output_type": "stream",
     "text": [
      "949/1000 train loss: 0.5750544965267181  val loss: 0.6626521746317545\n"
     ]
    },
    {
     "name": "stderr",
     "output_type": "stream",
     "text": [
      "Epoch 950/1000: 100%|█| 6/6 [00:05<00:00,  1.05batch/s, avg_loss=0.634, loss=0.4\n"
     ]
    },
    {
     "name": "stdout",
     "output_type": "stream",
     "text": [
      "950/1000 train loss: 0.6338529189427694  val loss: 0.8360799153645834\n"
     ]
    },
    {
     "name": "stderr",
     "output_type": "stream",
     "text": [
      "Epoch 951/1000: 100%|█| 6/6 [00:05<00:00,  1.06batch/s, avg_loss=0.596, loss=0.3\n"
     ]
    },
    {
     "name": "stdout",
     "output_type": "stream",
     "text": [
      "951/1000 train loss: 0.5963922739028931  val loss: 0.8052764733632406\n"
     ]
    },
    {
     "name": "stderr",
     "output_type": "stream",
     "text": [
      "Epoch 952/1000: 100%|█| 6/6 [00:05<00:00,  1.06batch/s, avg_loss=0.608, loss=0.7\n"
     ]
    },
    {
     "name": "stdout",
     "output_type": "stream",
     "text": [
      "952/1000 train loss: 0.6080605288346609  val loss: 0.7716691295305887\n"
     ]
    },
    {
     "name": "stderr",
     "output_type": "stream",
     "text": [
      "Epoch 953/1000: 100%|█| 6/6 [00:05<00:00,  1.07batch/s, avg_loss=0.654, loss=0.4\n"
     ]
    },
    {
     "name": "stdout",
     "output_type": "stream",
     "text": [
      "953/1000 train loss: 0.6537822683652242  val loss: 0.866108626127243\n"
     ]
    },
    {
     "name": "stderr",
     "output_type": "stream",
     "text": [
      "Epoch 954/1000: 100%|█| 6/6 [00:05<00:00,  1.06batch/s, avg_loss=0.575, loss=0.4\n"
     ]
    },
    {
     "name": "stdout",
     "output_type": "stream",
     "text": [
      "954/1000 train loss: 0.5748061835765839  val loss: 0.7461599012215933\n"
     ]
    },
    {
     "name": "stderr",
     "output_type": "stream",
     "text": [
      "Epoch 955/1000: 100%|█| 6/6 [00:05<00:00,  1.07batch/s, avg_loss=0.598, loss=0.7\n"
     ]
    },
    {
     "name": "stdout",
     "output_type": "stream",
     "text": [
      "955/1000 train loss: 0.598032553990682  val loss: 0.836586465438207\n"
     ]
    },
    {
     "name": "stderr",
     "output_type": "stream",
     "text": [
      "Epoch 956/1000: 100%|█| 6/6 [00:05<00:00,  1.07batch/s, avg_loss=0.596, loss=0.4\n"
     ]
    },
    {
     "name": "stdout",
     "output_type": "stream",
     "text": [
      "956/1000 train loss: 0.5964405735333761  val loss: 0.7591408590475718\n"
     ]
    },
    {
     "name": "stderr",
     "output_type": "stream",
     "text": [
      "Epoch 957/1000: 100%|█| 6/6 [00:05<00:00,  1.06batch/s, avg_loss=0.559, loss=0.6\n"
     ]
    },
    {
     "name": "stdout",
     "output_type": "stream",
     "text": [
      "957/1000 train loss: 0.5586145917574564  val loss: 0.7551724016666412\n"
     ]
    },
    {
     "name": "stderr",
     "output_type": "stream",
     "text": [
      "Epoch 958/1000: 100%|█| 6/6 [00:05<00:00,  1.07batch/s, avg_loss=0.632, loss=0.8\n"
     ]
    },
    {
     "name": "stdout",
     "output_type": "stream",
     "text": [
      "958/1000 train loss: 0.631948838631312  val loss: 0.8746452927589417\n"
     ]
    },
    {
     "name": "stderr",
     "output_type": "stream",
     "text": [
      "Epoch 959/1000: 100%|█| 6/6 [00:05<00:00,  1.06batch/s, avg_loss=0.579, loss=0.7\n"
     ]
    },
    {
     "name": "stdout",
     "output_type": "stream",
     "text": [
      "959/1000 train loss: 0.579414983590444  val loss: 0.6880916357040405\n"
     ]
    },
    {
     "name": "stderr",
     "output_type": "stream",
     "text": [
      "Epoch 960/1000: 100%|█| 6/6 [00:05<00:00,  1.07batch/s, avg_loss=0.588, loss=0.5\n"
     ]
    },
    {
     "name": "stdout",
     "output_type": "stream",
     "text": [
      "960/1000 train loss: 0.5880427757898966  val loss: 0.6153101623058319\n"
     ]
    },
    {
     "name": "stderr",
     "output_type": "stream",
     "text": [
      "Epoch 961/1000: 100%|█| 6/6 [00:05<00:00,  1.06batch/s, avg_loss=0.67, loss=0.82\n"
     ]
    },
    {
     "name": "stdout",
     "output_type": "stream",
     "text": [
      "961/1000 train loss: 0.6700406769911448  val loss: 0.6668639779090881\n"
     ]
    },
    {
     "name": "stderr",
     "output_type": "stream",
     "text": [
      "Epoch 962/1000: 100%|█| 6/6 [00:05<00:00,  1.06batch/s, avg_loss=0.663, loss=0.4\n"
     ]
    },
    {
     "name": "stdout",
     "output_type": "stream",
     "text": [
      "962/1000 train loss: 0.6630021631717682  val loss: 0.6665431161721548\n"
     ]
    },
    {
     "name": "stderr",
     "output_type": "stream",
     "text": [
      "Epoch 963/1000: 100%|█| 6/6 [00:05<00:00,  1.05batch/s, avg_loss=0.612, loss=0.5\n"
     ]
    },
    {
     "name": "stdout",
     "output_type": "stream",
     "text": [
      "963/1000 train loss: 0.6120971341927847  val loss: 0.7284199098745981\n"
     ]
    },
    {
     "name": "stderr",
     "output_type": "stream",
     "text": [
      "Epoch 964/1000: 100%|█| 6/6 [00:05<00:00,  1.05batch/s, avg_loss=0.603, loss=0.3\n"
     ]
    },
    {
     "name": "stdout",
     "output_type": "stream",
     "text": [
      "964/1000 train loss: 0.6027757426102957  val loss: 0.7897836665312449\n"
     ]
    },
    {
     "name": "stderr",
     "output_type": "stream",
     "text": [
      "Epoch 965/1000: 100%|█| 6/6 [00:05<00:00,  1.06batch/s, avg_loss=0.563, loss=0.7\n"
     ]
    },
    {
     "name": "stdout",
     "output_type": "stream",
     "text": [
      "965/1000 train loss: 0.5631694595019022  val loss: 0.8485361834367117\n"
     ]
    },
    {
     "name": "stderr",
     "output_type": "stream",
     "text": [
      "Epoch 966/1000: 100%|█| 6/6 [00:05<00:00,  1.06batch/s, avg_loss=0.578, loss=0.7\n"
     ]
    },
    {
     "name": "stdout",
     "output_type": "stream",
     "text": [
      "966/1000 train loss: 0.5782075921694437  val loss: 0.7901215255260468\n"
     ]
    },
    {
     "name": "stderr",
     "output_type": "stream",
     "text": [
      "Epoch 967/1000: 100%|█| 6/6 [00:05<00:00,  1.06batch/s, avg_loss=0.599, loss=0.4\n"
     ]
    },
    {
     "name": "stdout",
     "output_type": "stream",
     "text": [
      "967/1000 train loss: 0.5989974439144135  val loss: 0.68447145819664\n"
     ]
    },
    {
     "name": "stderr",
     "output_type": "stream",
     "text": [
      "Epoch 968/1000: 100%|█| 6/6 [00:05<00:00,  1.07batch/s, avg_loss=0.545, loss=0.5\n"
     ]
    },
    {
     "name": "stdout",
     "output_type": "stream",
     "text": [
      "968/1000 train loss: 0.5447038312753042  val loss: 0.6662220458189646\n"
     ]
    },
    {
     "name": "stderr",
     "output_type": "stream",
     "text": [
      "Epoch 969/1000: 100%|█| 6/6 [00:05<00:00,  1.06batch/s, avg_loss=0.64, loss=0.79\n"
     ]
    },
    {
     "name": "stdout",
     "output_type": "stream",
     "text": [
      "969/1000 train loss: 0.6404414574305216  val loss: 0.6013820072015127\n"
     ]
    },
    {
     "name": "stderr",
     "output_type": "stream",
     "text": [
      "Epoch 970/1000: 100%|█| 6/6 [00:05<00:00,  1.08batch/s, avg_loss=0.588, loss=0.7\n"
     ]
    },
    {
     "name": "stdout",
     "output_type": "stream",
     "text": [
      "970/1000 train loss: 0.5882377823193868  val loss: 0.7154175837834676\n"
     ]
    },
    {
     "name": "stderr",
     "output_type": "stream",
     "text": [
      "Epoch 971/1000: 100%|█| 6/6 [00:05<00:00,  1.05batch/s, avg_loss=0.571, loss=0.4\n"
     ]
    },
    {
     "name": "stdout",
     "output_type": "stream",
     "text": [
      "971/1000 train loss: 0.5707360009352366  val loss: 0.5869582096735636\n"
     ]
    },
    {
     "name": "stderr",
     "output_type": "stream",
     "text": [
      "Epoch 972/1000: 100%|█| 6/6 [00:05<00:00,  1.03batch/s, avg_loss=0.612, loss=0.4\n"
     ]
    },
    {
     "name": "stdout",
     "output_type": "stream",
     "text": [
      "972/1000 train loss: 0.6118206679821014  val loss: 0.7496328055858612\n"
     ]
    },
    {
     "name": "stderr",
     "output_type": "stream",
     "text": [
      "Epoch 973/1000: 100%|█| 6/6 [00:05<00:00,  1.04batch/s, avg_loss=0.609, loss=0.4\n"
     ]
    },
    {
     "name": "stdout",
     "output_type": "stream",
     "text": [
      "973/1000 train loss: 0.6093257665634155  val loss: 0.6726884146531423\n"
     ]
    },
    {
     "name": "stderr",
     "output_type": "stream",
     "text": [
      "Epoch 974/1000: 100%|█| 6/6 [00:05<00:00,  1.03batch/s, avg_loss=0.597, loss=0.6\n"
     ]
    },
    {
     "name": "stdout",
     "output_type": "stream",
     "text": [
      "974/1000 train loss: 0.5974564353624979  val loss: 0.7914211650689443\n"
     ]
    },
    {
     "name": "stderr",
     "output_type": "stream",
     "text": [
      "Epoch 975/1000: 100%|█| 6/6 [00:05<00:00,  1.04batch/s, avg_loss=0.592, loss=0.5\n"
     ]
    },
    {
     "name": "stdout",
     "output_type": "stream",
     "text": [
      "975/1000 train loss: 0.5923962990442911  val loss: 0.9130772948265076\n"
     ]
    },
    {
     "name": "stderr",
     "output_type": "stream",
     "text": [
      "Epoch 976/1000: 100%|█| 6/6 [00:05<00:00,  1.04batch/s, avg_loss=0.551, loss=0.4\n"
     ]
    },
    {
     "name": "stdout",
     "output_type": "stream",
     "text": [
      "976/1000 train loss: 0.5513844887415568  val loss: 0.6672704815864563\n"
     ]
    },
    {
     "name": "stderr",
     "output_type": "stream",
     "text": [
      "Epoch 977/1000: 100%|█| 6/6 [00:05<00:00,  1.04batch/s, avg_loss=0.575, loss=0.7\n"
     ]
    },
    {
     "name": "stdout",
     "output_type": "stream",
     "text": [
      "977/1000 train loss: 0.5753825207551321  val loss: 0.7191828091939291\n"
     ]
    },
    {
     "name": "stderr",
     "output_type": "stream",
     "text": [
      "Epoch 978/1000: 100%|█| 6/6 [00:05<00:00,  1.04batch/s, avg_loss=0.572, loss=0.6\n"
     ]
    },
    {
     "name": "stdout",
     "output_type": "stream",
     "text": [
      "978/1000 train loss: 0.5722210109233856  val loss: 0.7393332421779633\n"
     ]
    },
    {
     "name": "stderr",
     "output_type": "stream",
     "text": [
      "Epoch 979/1000: 100%|█| 6/6 [00:05<00:00,  1.02batch/s, avg_loss=0.544, loss=0.7\n"
     ]
    },
    {
     "name": "stdout",
     "output_type": "stream",
     "text": [
      "979/1000 train loss: 0.5437397062778473  val loss: 0.7445390621821085\n"
     ]
    },
    {
     "name": "stderr",
     "output_type": "stream",
     "text": [
      "Epoch 980/1000: 100%|█| 6/6 [00:05<00:00,  1.02batch/s, avg_loss=0.51, loss=0.69\n"
     ]
    },
    {
     "name": "stdout",
     "output_type": "stream",
     "text": [
      "980/1000 train loss: 0.5103774865468343  val loss: 0.6656097670396169\n"
     ]
    },
    {
     "name": "stderr",
     "output_type": "stream",
     "text": [
      "Epoch 981/1000: 100%|█| 6/6 [00:05<00:00,  1.03batch/s, avg_loss=0.562, loss=0.5\n"
     ]
    },
    {
     "name": "stdout",
     "output_type": "stream",
     "text": [
      "981/1000 train loss: 0.5615477561950684  val loss: 0.6926924188931783\n"
     ]
    },
    {
     "name": "stderr",
     "output_type": "stream",
     "text": [
      "Epoch 982/1000: 100%|█| 6/6 [00:05<00:00,  1.03batch/s, avg_loss=0.618, loss=0.4\n"
     ]
    },
    {
     "name": "stdout",
     "output_type": "stream",
     "text": [
      "982/1000 train loss: 0.6181383828322092  val loss: 0.9095312356948853\n"
     ]
    },
    {
     "name": "stderr",
     "output_type": "stream",
     "text": [
      "Epoch 983/1000: 100%|█| 6/6 [00:05<00:00,  1.03batch/s, avg_loss=0.558, loss=0.6\n"
     ]
    },
    {
     "name": "stdout",
     "output_type": "stream",
     "text": [
      "983/1000 train loss: 0.5582580268383026  val loss: 0.6868388454119364\n"
     ]
    },
    {
     "name": "stderr",
     "output_type": "stream",
     "text": [
      "Epoch 984/1000: 100%|█| 6/6 [00:05<00:00,  1.03batch/s, avg_loss=0.65, loss=0.48\n"
     ]
    },
    {
     "name": "stdout",
     "output_type": "stream",
     "text": [
      "984/1000 train loss: 0.650321880976359  val loss: 0.770188162724177\n"
     ]
    },
    {
     "name": "stderr",
     "output_type": "stream",
     "text": [
      "Epoch 985/1000: 100%|█| 6/6 [00:05<00:00,  1.03batch/s, avg_loss=0.606, loss=0.6\n"
     ]
    },
    {
     "name": "stdout",
     "output_type": "stream",
     "text": [
      "985/1000 train loss: 0.6060866912206014  val loss: 0.718770166238149\n"
     ]
    },
    {
     "name": "stderr",
     "output_type": "stream",
     "text": [
      "Epoch 986/1000: 100%|█| 6/6 [00:05<00:00,  1.03batch/s, avg_loss=0.601, loss=0.4\n"
     ]
    },
    {
     "name": "stdout",
     "output_type": "stream",
     "text": [
      "986/1000 train loss: 0.6012988189856211  val loss: 0.5972791810830435\n"
     ]
    },
    {
     "name": "stderr",
     "output_type": "stream",
     "text": [
      "Epoch 987/1000: 100%|█| 6/6 [00:05<00:00,  1.03batch/s, avg_loss=0.563, loss=0.2\n"
     ]
    },
    {
     "name": "stdout",
     "output_type": "stream",
     "text": [
      "987/1000 train loss: 0.5630317330360413  val loss: 0.6897357602914175\n"
     ]
    },
    {
     "name": "stderr",
     "output_type": "stream",
     "text": [
      "Epoch 988/1000: 100%|█| 6/6 [00:05<00:00,  1.02batch/s, avg_loss=0.586, loss=0.4\n"
     ]
    },
    {
     "name": "stdout",
     "output_type": "stream",
     "text": [
      "988/1000 train loss: 0.5863394935925802  val loss: 0.7727574904759725\n"
     ]
    },
    {
     "name": "stderr",
     "output_type": "stream",
     "text": [
      "Epoch 989/1000: 100%|█| 6/6 [00:05<00:00,  1.03batch/s, avg_loss=0.533, loss=0.6\n"
     ]
    },
    {
     "name": "stdout",
     "output_type": "stream",
     "text": [
      "989/1000 train loss: 0.5332040886084238  val loss: 0.6565100848674774\n"
     ]
    },
    {
     "name": "stderr",
     "output_type": "stream",
     "text": [
      "Epoch 990/1000: 100%|█| 6/6 [00:05<00:00,  1.04batch/s, avg_loss=0.623, loss=0.6\n"
     ]
    },
    {
     "name": "stdout",
     "output_type": "stream",
     "text": [
      "990/1000 train loss: 0.6225868066151937  val loss: 0.7959483861923218\n"
     ]
    },
    {
     "name": "stderr",
     "output_type": "stream",
     "text": [
      "Epoch 991/1000: 100%|█| 6/6 [00:05<00:00,  1.01batch/s, avg_loss=0.597, loss=0.4\n"
     ]
    },
    {
     "name": "stdout",
     "output_type": "stream",
     "text": [
      "991/1000 train loss: 0.596972644329071  val loss: 0.7072356740633646\n"
     ]
    },
    {
     "name": "stderr",
     "output_type": "stream",
     "text": [
      "Epoch 992/1000: 100%|█| 6/6 [00:05<00:00,  1.00batch/s, avg_loss=0.525, loss=0.5\n"
     ]
    },
    {
     "name": "stdout",
     "output_type": "stream",
     "text": [
      "992/1000 train loss: 0.5246746639410654  val loss: 0.7184016605218252\n"
     ]
    },
    {
     "name": "stderr",
     "output_type": "stream",
     "text": [
      "Epoch 993/1000: 100%|█| 6/6 [00:05<00:00,  1.03batch/s, avg_loss=0.611, loss=0.7\n"
     ]
    },
    {
     "name": "stdout",
     "output_type": "stream",
     "text": [
      "993/1000 train loss: 0.6112860242525736  val loss: 0.7761548260847727\n"
     ]
    },
    {
     "name": "stderr",
     "output_type": "stream",
     "text": [
      "Epoch 994/1000: 100%|█| 6/6 [00:05<00:00,  1.03batch/s, avg_loss=0.615, loss=0.7\n"
     ]
    },
    {
     "name": "stdout",
     "output_type": "stream",
     "text": [
      "994/1000 train loss: 0.6154020627339681  val loss: 0.9044285317262014\n"
     ]
    },
    {
     "name": "stderr",
     "output_type": "stream",
     "text": [
      "Epoch 995/1000: 100%|█| 6/6 [00:05<00:00,  1.02batch/s, avg_loss=0.577, loss=0.5\n"
     ]
    },
    {
     "name": "stdout",
     "output_type": "stream",
     "text": [
      "995/1000 train loss: 0.5768983761469523  val loss: 0.7508668601512909\n"
     ]
    },
    {
     "name": "stderr",
     "output_type": "stream",
     "text": [
      "Epoch 996/1000: 100%|█| 6/6 [00:05<00:00,  1.01batch/s, avg_loss=0.61, loss=0.72\n"
     ]
    },
    {
     "name": "stdout",
     "output_type": "stream",
     "text": [
      "996/1000 train loss: 0.6096288661162058  val loss: 0.7786636352539062\n"
     ]
    },
    {
     "name": "stderr",
     "output_type": "stream",
     "text": [
      "Epoch 997/1000: 100%|█| 6/6 [00:05<00:00,  1.01batch/s, avg_loss=0.652, loss=0.7\n"
     ]
    },
    {
     "name": "stdout",
     "output_type": "stream",
     "text": [
      "997/1000 train loss: 0.6520800888538361  val loss: 0.7284629146258036\n"
     ]
    },
    {
     "name": "stderr",
     "output_type": "stream",
     "text": [
      "Epoch 998/1000: 100%|█| 6/6 [00:05<00:00,  1.04batch/s, avg_loss=0.598, loss=0.7\n"
     ]
    },
    {
     "name": "stdout",
     "output_type": "stream",
     "text": [
      "998/1000 train loss: 0.5978120565414429  val loss: 0.5482129255930582\n"
     ]
    },
    {
     "name": "stderr",
     "output_type": "stream",
     "text": [
      "Epoch 999/1000: 100%|█| 6/6 [00:05<00:00,  1.03batch/s, avg_loss=0.573, loss=0.4\n"
     ]
    },
    {
     "name": "stdout",
     "output_type": "stream",
     "text": [
      "999/1000 train loss: 0.5732827583948771  val loss: 0.8271821935971578\n"
     ]
    },
    {
     "name": "stderr",
     "output_type": "stream",
     "text": [
      "Epoch 1000/1000: 100%|█| 6/6 [00:05<00:00,  1.02batch/s, avg_loss=0.529, loss=0.\n"
     ]
    },
    {
     "name": "stdout",
     "output_type": "stream",
     "text": [
      "1000/1000 train loss: 0.5290567676226298  val loss: 0.7726606329282125\n",
      "Training Complete\n"
     ]
    }
   ],
   "source": [
    "experiment.train(train_loader, test_loader, epochs=995)"
   ]
  },
  {
   "cell_type": "code",
   "execution_count": 15,
   "metadata": {},
   "outputs": [],
   "source": [
    "import os\n",
    "weights_dir = \"/projectnb/dunlop/chrisdc/gva_senior_design/image_processing/weights/\"\n",
    "name = '3-29-24_epochs1000'\n",
    "weights_path = os.path.join(weights_dir, name + '.pkl')\n",
    "experiment.save_experiment(weights_path)"
   ]
  },
  {
   "cell_type": "code",
   "execution_count": null,
   "metadata": {},
   "outputs": [
    {
     "name": "stderr",
     "output_type": "stream",
     "text": [
      "Epoch 1001/2000: 100%|█| 6/6 [00:05<00:00,  1.03batch/s, avg_loss=0.637, loss=0.\n"
     ]
    },
    {
     "name": "stdout",
     "output_type": "stream",
     "text": [
      "1001/2000 train loss: 0.636970450480779  val loss: 0.8218806982040405\n"
     ]
    },
    {
     "name": "stderr",
     "output_type": "stream",
     "text": [
      "Epoch 1002/2000: 100%|█| 6/6 [00:05<00:00,  1.05batch/s, avg_loss=0.579, loss=0.\n"
     ]
    },
    {
     "name": "stdout",
     "output_type": "stream",
     "text": [
      "1002/2000 train loss: 0.578954150279363  val loss: 0.7202867070833842\n"
     ]
    },
    {
     "name": "stderr",
     "output_type": "stream",
     "text": [
      "Epoch 1003/2000: 100%|█| 6/6 [00:05<00:00,  1.04batch/s, avg_loss=0.65, loss=0.7\n"
     ]
    },
    {
     "name": "stdout",
     "output_type": "stream",
     "text": [
      "1003/2000 train loss: 0.6497026781241099  val loss: 0.7497137387593588\n"
     ]
    },
    {
     "name": "stderr",
     "output_type": "stream",
     "text": [
      "Epoch 1004/2000: 100%|█| 6/6 [00:05<00:00,  1.02batch/s, avg_loss=0.627, loss=0.\n"
     ]
    },
    {
     "name": "stdout",
     "output_type": "stream",
     "text": [
      "1004/2000 train loss: 0.6270608603954315  val loss: 0.7991572022438049\n"
     ]
    },
    {
     "name": "stderr",
     "output_type": "stream",
     "text": [
      "Epoch 1005/2000: 100%|█| 6/6 [00:05<00:00,  1.03batch/s, avg_loss=0.591, loss=0.\n"
     ]
    },
    {
     "name": "stdout",
     "output_type": "stream",
     "text": [
      "1005/2000 train loss: 0.590971569220225  val loss: 0.7277966638406118\n"
     ]
    },
    {
     "name": "stderr",
     "output_type": "stream",
     "text": [
      "Epoch 1006/2000: 100%|█| 6/6 [00:05<00:00,  1.03batch/s, avg_loss=0.534, loss=0.\n"
     ]
    },
    {
     "name": "stdout",
     "output_type": "stream",
     "text": [
      "1006/2000 train loss: 0.5339502990245819  val loss: 0.7108982801437378\n"
     ]
    },
    {
     "name": "stderr",
     "output_type": "stream",
     "text": [
      "Epoch 1007/2000: 100%|█| 6/6 [00:05<00:00,  1.03batch/s, avg_loss=0.643, loss=0.\n"
     ]
    },
    {
     "name": "stdout",
     "output_type": "stream",
     "text": [
      "1007/2000 train loss: 0.6427661180496216  val loss: 0.8406102557977041\n"
     ]
    },
    {
     "name": "stderr",
     "output_type": "stream",
     "text": [
      "Epoch 1008/2000: 100%|█| 6/6 [00:05<00:00,  1.04batch/s, avg_loss=0.547, loss=0.\n"
     ]
    },
    {
     "name": "stdout",
     "output_type": "stream",
     "text": [
      "1008/2000 train loss: 0.5472496350606283  val loss: 0.7510361274083456\n"
     ]
    },
    {
     "name": "stderr",
     "output_type": "stream",
     "text": [
      "Epoch 1009/2000: 100%|█| 6/6 [00:05<00:00,  1.04batch/s, avg_loss=0.588, loss=0.\n"
     ]
    },
    {
     "name": "stdout",
     "output_type": "stream",
     "text": [
      "1009/2000 train loss: 0.5884844263394674  val loss: 0.6774937013785044\n"
     ]
    },
    {
     "name": "stderr",
     "output_type": "stream",
     "text": [
      "Epoch 1010/2000: 100%|█| 6/6 [00:05<00:00,  1.02batch/s, avg_loss=0.559, loss=0.\n"
     ]
    },
    {
     "name": "stdout",
     "output_type": "stream",
     "text": [
      "1010/2000 train loss: 0.5586799383163452  val loss: 0.651615709066391\n"
     ]
    },
    {
     "name": "stderr",
     "output_type": "stream",
     "text": [
      "Epoch 1011/2000: 100%|█| 6/6 [00:05<00:00,  1.03batch/s, avg_loss=0.55, loss=0.4\n"
     ]
    },
    {
     "name": "stdout",
     "output_type": "stream",
     "text": [
      "1011/2000 train loss: 0.5499466756979624  val loss: 0.824609766403834\n"
     ]
    },
    {
     "name": "stderr",
     "output_type": "stream",
     "text": [
      "Epoch 1012/2000: 100%|█| 6/6 [00:05<00:00,  1.03batch/s, avg_loss=0.596, loss=0.\n"
     ]
    },
    {
     "name": "stdout",
     "output_type": "stream",
     "text": [
      "1012/2000 train loss: 0.595994790395101  val loss: 0.6776971717675527\n"
     ]
    },
    {
     "name": "stderr",
     "output_type": "stream",
     "text": [
      "Epoch 1013/2000: 100%|█| 6/6 [00:05<00:00,  1.04batch/s, avg_loss=0.569, loss=0.\n"
     ]
    },
    {
     "name": "stdout",
     "output_type": "stream",
     "text": [
      "1013/2000 train loss: 0.5689589480559031  val loss: 0.7255087991555532\n"
     ]
    },
    {
     "name": "stderr",
     "output_type": "stream",
     "text": [
      "Epoch 1014/2000: 100%|█| 6/6 [00:05<00:00,  1.03batch/s, avg_loss=0.594, loss=0.\n"
     ]
    },
    {
     "name": "stdout",
     "output_type": "stream",
     "text": [
      "1014/2000 train loss: 0.5942999720573425  val loss: 0.7797548671563467\n"
     ]
    },
    {
     "name": "stderr",
     "output_type": "stream",
     "text": [
      "Epoch 1015/2000: 100%|█| 6/6 [00:05<00:00,  1.03batch/s, avg_loss=0.554, loss=0.\n"
     ]
    },
    {
     "name": "stdout",
     "output_type": "stream",
     "text": [
      "1015/2000 train loss: 0.5541789730389913  val loss: 0.7586187223593394\n"
     ]
    },
    {
     "name": "stderr",
     "output_type": "stream",
     "text": [
      "Epoch 1016/2000: 100%|█| 6/6 [00:05<00:00,  1.07batch/s, avg_loss=0.566, loss=0.\n"
     ]
    },
    {
     "name": "stdout",
     "output_type": "stream",
     "text": [
      "1016/2000 train loss: 0.5658025542894999  val loss: 0.7931642532348633\n"
     ]
    },
    {
     "name": "stderr",
     "output_type": "stream",
     "text": [
      "Epoch 1017/2000: 100%|█| 6/6 [00:05<00:00,  1.08batch/s, avg_loss=0.528, loss=0.\n"
     ]
    },
    {
     "name": "stdout",
     "output_type": "stream",
     "text": [
      "1017/2000 train loss: 0.5277696251869202  val loss: 0.8240250845750173\n"
     ]
    },
    {
     "name": "stderr",
     "output_type": "stream",
     "text": [
      "Epoch 1018/2000: 100%|█| 6/6 [00:05<00:00,  1.08batch/s, avg_loss=0.501, loss=0.\n"
     ]
    },
    {
     "name": "stdout",
     "output_type": "stream",
     "text": [
      "1018/2000 train loss: 0.5007408956686655  val loss: 0.826978067557017\n"
     ]
    },
    {
     "name": "stderr",
     "output_type": "stream",
     "text": [
      "Epoch 1019/2000: 100%|█| 6/6 [00:05<00:00,  1.07batch/s, avg_loss=0.654, loss=0.\n"
     ]
    },
    {
     "name": "stdout",
     "output_type": "stream",
     "text": [
      "1019/2000 train loss: 0.654215415318807  val loss: 0.7629143297672272\n"
     ]
    },
    {
     "name": "stderr",
     "output_type": "stream",
     "text": [
      "Epoch 1020/2000: 100%|█| 6/6 [00:05<00:00,  1.08batch/s, avg_loss=0.587, loss=0.\n"
     ]
    },
    {
     "name": "stdout",
     "output_type": "stream",
     "text": [
      "1020/2000 train loss: 0.587197333574295  val loss: 0.5963110625743866\n"
     ]
    },
    {
     "name": "stderr",
     "output_type": "stream",
     "text": [
      "Epoch 1021/2000: 100%|█| 6/6 [00:05<00:00,  1.07batch/s, avg_loss=0.583, loss=0.\n"
     ]
    },
    {
     "name": "stdout",
     "output_type": "stream",
     "text": [
      "1021/2000 train loss: 0.5828381379445394  val loss: 0.6507619917392731\n"
     ]
    },
    {
     "name": "stderr",
     "output_type": "stream",
     "text": [
      "Epoch 1022/2000: 100%|█| 6/6 [00:05<00:00,  1.08batch/s, avg_loss=0.617, loss=0.\n"
     ]
    },
    {
     "name": "stdout",
     "output_type": "stream",
     "text": [
      "1022/2000 train loss: 0.6172519425551096  val loss: 0.531056692202886\n"
     ]
    },
    {
     "name": "stderr",
     "output_type": "stream",
     "text": [
      "Epoch 1023/2000: 100%|█| 6/6 [00:05<00:00,  1.08batch/s, avg_loss=0.57, loss=0.8\n"
     ]
    },
    {
     "name": "stdout",
     "output_type": "stream",
     "text": [
      "1023/2000 train loss: 0.5696746011575063  val loss: 0.8615465462207794\n"
     ]
    },
    {
     "name": "stderr",
     "output_type": "stream",
     "text": [
      "Epoch 1024/2000: 100%|█| 6/6 [00:05<00:00,  1.06batch/s, avg_loss=0.65, loss=0.3\n"
     ]
    },
    {
     "name": "stdout",
     "output_type": "stream",
     "text": [
      "1024/2000 train loss: 0.6498087247212728  val loss: 0.7600854535897573\n"
     ]
    },
    {
     "name": "stderr",
     "output_type": "stream",
     "text": [
      "Epoch 1025/2000: 100%|█| 6/6 [00:05<00:00,  1.04batch/s, avg_loss=0.597, loss=0.\n"
     ]
    },
    {
     "name": "stdout",
     "output_type": "stream",
     "text": [
      "1025/2000 train loss: 0.5973048110802969  val loss: 0.7601153155167898\n"
     ]
    },
    {
     "name": "stderr",
     "output_type": "stream",
     "text": [
      "Epoch 1026/2000: 100%|█| 6/6 [00:05<00:00,  1.04batch/s, avg_loss=0.658, loss=0.\n"
     ]
    },
    {
     "name": "stdout",
     "output_type": "stream",
     "text": [
      "1026/2000 train loss: 0.6584629714488983  val loss: 0.7074800431728363\n"
     ]
    },
    {
     "name": "stderr",
     "output_type": "stream",
     "text": [
      "Epoch 1027/2000: 100%|█| 6/6 [00:05<00:00,  1.04batch/s, avg_loss=0.553, loss=0.\n"
     ]
    },
    {
     "name": "stdout",
     "output_type": "stream",
     "text": [
      "1027/2000 train loss: 0.5526504516601562  val loss: 0.8529345591862997\n"
     ]
    },
    {
     "name": "stderr",
     "output_type": "stream",
     "text": [
      "Epoch 1028/2000: 100%|█| 6/6 [00:05<00:00,  1.03batch/s, avg_loss=0.55, loss=0.4\n"
     ]
    },
    {
     "name": "stdout",
     "output_type": "stream",
     "text": [
      "1028/2000 train loss: 0.5499321719010671  val loss: 0.7453364133834839\n"
     ]
    },
    {
     "name": "stderr",
     "output_type": "stream",
     "text": [
      "Epoch 1029/2000: 100%|█| 6/6 [00:05<00:00,  1.04batch/s, avg_loss=0.592, loss=0.\n"
     ]
    },
    {
     "name": "stdout",
     "output_type": "stream",
     "text": [
      "1029/2000 train loss: 0.5919641156991323  val loss: 0.7967768609523773\n"
     ]
    },
    {
     "name": "stderr",
     "output_type": "stream",
     "text": [
      "Epoch 1030/2000: 100%|█| 6/6 [00:05<00:00,  1.05batch/s, avg_loss=0.563, loss=0.\n"
     ]
    },
    {
     "name": "stdout",
     "output_type": "stream",
     "text": [
      "1030/2000 train loss: 0.562621017297109  val loss: 0.6271200676759084\n"
     ]
    },
    {
     "name": "stderr",
     "output_type": "stream",
     "text": [
      "Epoch 1031/2000: 100%|█| 6/6 [00:05<00:00,  1.08batch/s, avg_loss=0.566, loss=0.\n"
     ]
    },
    {
     "name": "stdout",
     "output_type": "stream",
     "text": [
      "1031/2000 train loss: 0.566403865814209  val loss: 0.6237714687983195\n"
     ]
    },
    {
     "name": "stderr",
     "output_type": "stream",
     "text": [
      "Epoch 1032/2000: 100%|█| 6/6 [00:05<00:00,  1.08batch/s, avg_loss=0.563, loss=0.\n"
     ]
    },
    {
     "name": "stdout",
     "output_type": "stream",
     "text": [
      "1032/2000 train loss: 0.5626496275266012  val loss: 0.7890256643295288\n"
     ]
    },
    {
     "name": "stderr",
     "output_type": "stream",
     "text": [
      "Epoch 1033/2000: 100%|█| 6/6 [00:05<00:00,  1.07batch/s, avg_loss=0.513, loss=0.\n"
     ]
    },
    {
     "name": "stdout",
     "output_type": "stream",
     "text": [
      "1033/2000 train loss: 0.5132261315981547  val loss: 0.8765448729197184\n"
     ]
    },
    {
     "name": "stderr",
     "output_type": "stream",
     "text": [
      "Epoch 1034/2000: 100%|█| 6/6 [00:05<00:00,  1.08batch/s, avg_loss=0.578, loss=0.\n"
     ]
    },
    {
     "name": "stdout",
     "output_type": "stream",
     "text": [
      "1034/2000 train loss: 0.5784199933211008  val loss: 0.6752864221731821\n"
     ]
    },
    {
     "name": "stderr",
     "output_type": "stream",
     "text": [
      "Epoch 1035/2000: 100%|█| 6/6 [00:05<00:00,  1.08batch/s, avg_loss=0.584, loss=0.\n"
     ]
    },
    {
     "name": "stdout",
     "output_type": "stream",
     "text": [
      "1035/2000 train loss: 0.5844394067923228  val loss: 0.7883138557275137\n"
     ]
    },
    {
     "name": "stderr",
     "output_type": "stream",
     "text": [
      "Epoch 1036/2000: 100%|█| 6/6 [00:05<00:00,  1.07batch/s, avg_loss=0.597, loss=0.\n"
     ]
    },
    {
     "name": "stdout",
     "output_type": "stream",
     "text": [
      "1036/2000 train loss: 0.5968640446662903  val loss: 0.8613709708054861\n"
     ]
    },
    {
     "name": "stderr",
     "output_type": "stream",
     "text": [
      "Epoch 1037/2000: 100%|█| 6/6 [00:05<00:00,  1.08batch/s, avg_loss=0.583, loss=0.\n"
     ]
    },
    {
     "name": "stdout",
     "output_type": "stream",
     "text": [
      "1037/2000 train loss: 0.582993080218633  val loss: 0.6788588066895803\n"
     ]
    },
    {
     "name": "stderr",
     "output_type": "stream",
     "text": [
      "Epoch 1038/2000: 100%|█| 6/6 [00:05<00:00,  1.09batch/s, avg_loss=0.562, loss=0.\n"
     ]
    },
    {
     "name": "stdout",
     "output_type": "stream",
     "text": [
      "1038/2000 train loss: 0.5615976552168528  val loss: 0.7508806784947714\n"
     ]
    },
    {
     "name": "stderr",
     "output_type": "stream",
     "text": [
      "Epoch 1039/2000: 100%|█| 6/6 [00:05<00:00,  1.07batch/s, avg_loss=0.592, loss=0.\n"
     ]
    },
    {
     "name": "stdout",
     "output_type": "stream",
     "text": [
      "1039/2000 train loss: 0.5918826858202616  val loss: 0.6626600424448649\n"
     ]
    },
    {
     "name": "stderr",
     "output_type": "stream",
     "text": [
      "Epoch 1040/2000: 100%|█| 6/6 [00:05<00:00,  1.08batch/s, avg_loss=0.591, loss=0.\n"
     ]
    },
    {
     "name": "stdout",
     "output_type": "stream",
     "text": [
      "1040/2000 train loss: 0.5907771488030752  val loss: 0.6546610991160074\n"
     ]
    },
    {
     "name": "stderr",
     "output_type": "stream",
     "text": [
      "Epoch 1041/2000: 100%|█| 6/6 [00:05<00:00,  1.07batch/s, avg_loss=0.566, loss=0.\n"
     ]
    },
    {
     "name": "stdout",
     "output_type": "stream",
     "text": [
      "1041/2000 train loss: 0.5664260387420654  val loss: 0.8278521100680033\n"
     ]
    },
    {
     "name": "stderr",
     "output_type": "stream",
     "text": [
      "Epoch 1042/2000: 100%|█| 6/6 [00:05<00:00,  1.06batch/s, avg_loss=0.547, loss=0.\n"
     ]
    },
    {
     "name": "stdout",
     "output_type": "stream",
     "text": [
      "1042/2000 train loss: 0.5465571383635203  val loss: 0.7871249715487162\n"
     ]
    },
    {
     "name": "stderr",
     "output_type": "stream",
     "text": [
      "Epoch 1043/2000: 100%|█| 6/6 [00:05<00:00,  1.08batch/s, avg_loss=0.483, loss=0.\n"
     ]
    },
    {
     "name": "stdout",
     "output_type": "stream",
     "text": [
      "1043/2000 train loss: 0.4829835494359334  val loss: 0.6478305160999298\n"
     ]
    },
    {
     "name": "stderr",
     "output_type": "stream",
     "text": [
      "Epoch 1044/2000: 100%|█| 6/6 [00:05<00:00,  1.07batch/s, avg_loss=0.58, loss=0.4\n"
     ]
    },
    {
     "name": "stdout",
     "output_type": "stream",
     "text": [
      "1044/2000 train loss: 0.5799142519632975  val loss: 0.6800843775272369\n"
     ]
    },
    {
     "name": "stderr",
     "output_type": "stream",
     "text": [
      "Epoch 1045/2000: 100%|█| 6/6 [00:05<00:00,  1.08batch/s, avg_loss=0.586, loss=0.\n"
     ]
    },
    {
     "name": "stdout",
     "output_type": "stream",
     "text": [
      "1045/2000 train loss: 0.5857159892717997  val loss: 0.5430971483389536\n"
     ]
    },
    {
     "name": "stderr",
     "output_type": "stream",
     "text": [
      "Epoch 1046/2000: 100%|█| 6/6 [00:05<00:00,  1.07batch/s, avg_loss=0.624, loss=0.\n"
     ]
    },
    {
     "name": "stdout",
     "output_type": "stream",
     "text": [
      "1046/2000 train loss: 0.6242406268914541  val loss: 0.5994529525438944\n"
     ]
    },
    {
     "name": "stderr",
     "output_type": "stream",
     "text": [
      "Epoch 1047/2000: 100%|█| 6/6 [00:05<00:00,  1.07batch/s, avg_loss=0.617, loss=0.\n"
     ]
    },
    {
     "name": "stdout",
     "output_type": "stream",
     "text": [
      "1047/2000 train loss: 0.6173476775487264  val loss: 0.7185124258200327\n"
     ]
    },
    {
     "name": "stderr",
     "output_type": "stream",
     "text": [
      "Epoch 1048/2000: 100%|█| 6/6 [00:05<00:00,  1.08batch/s, avg_loss=0.578, loss=0.\n"
     ]
    },
    {
     "name": "stdout",
     "output_type": "stream",
     "text": [
      "1048/2000 train loss: 0.5779901246229807  val loss: 0.8457171022891998\n"
     ]
    },
    {
     "name": "stderr",
     "output_type": "stream",
     "text": [
      "Epoch 1049/2000: 100%|█| 6/6 [00:05<00:00,  1.08batch/s, avg_loss=0.553, loss=0.\n"
     ]
    },
    {
     "name": "stdout",
     "output_type": "stream",
     "text": [
      "1049/2000 train loss: 0.552797923485438  val loss: 0.8323119382063547\n"
     ]
    },
    {
     "name": "stderr",
     "output_type": "stream",
     "text": [
      "Epoch 1050/2000: 100%|█| 6/6 [00:05<00:00,  1.08batch/s, avg_loss=0.61, loss=0.5\n"
     ]
    },
    {
     "name": "stdout",
     "output_type": "stream",
     "text": [
      "1050/2000 train loss: 0.6098586817582449  val loss: 0.7019057869911194\n"
     ]
    },
    {
     "name": "stderr",
     "output_type": "stream",
     "text": [
      "Epoch 1051/2000: 100%|█| 6/6 [00:05<00:00,  1.07batch/s, avg_loss=0.609, loss=0.\n"
     ]
    },
    {
     "name": "stdout",
     "output_type": "stream",
     "text": [
      "1051/2000 train loss: 0.6094731092453003  val loss: 0.846947431564331\n"
     ]
    },
    {
     "name": "stderr",
     "output_type": "stream",
     "text": [
      "Epoch 1052/2000: 100%|█| 6/6 [00:05<00:00,  1.05batch/s, avg_loss=0.524, loss=0.\n"
     ]
    },
    {
     "name": "stdout",
     "output_type": "stream",
     "text": [
      "1052/2000 train loss: 0.5241084297498068  val loss: 0.8115976055463155\n"
     ]
    },
    {
     "name": "stderr",
     "output_type": "stream",
     "text": [
      "Epoch 1053/2000: 100%|█| 6/6 [00:05<00:00,  1.04batch/s, avg_loss=0.597, loss=0.\n"
     ]
    },
    {
     "name": "stdout",
     "output_type": "stream",
     "text": [
      "1053/2000 train loss: 0.5971786081790924  val loss: 0.7960189978281657\n"
     ]
    },
    {
     "name": "stderr",
     "output_type": "stream",
     "text": [
      "Epoch 1054/2000: 100%|█| 6/6 [00:05<00:00,  1.03batch/s, avg_loss=0.622, loss=0.\n"
     ]
    },
    {
     "name": "stdout",
     "output_type": "stream",
     "text": [
      "1054/2000 train loss: 0.6222023367881775  val loss: 0.6383432845274607\n"
     ]
    },
    {
     "name": "stderr",
     "output_type": "stream",
     "text": [
      "Epoch 1055/2000: 100%|█| 6/6 [00:05<00:00,  1.03batch/s, avg_loss=0.561, loss=0.\n"
     ]
    },
    {
     "name": "stdout",
     "output_type": "stream",
     "text": [
      "1055/2000 train loss: 0.5614653627077738  val loss: 0.6790794630845388\n"
     ]
    },
    {
     "name": "stderr",
     "output_type": "stream",
     "text": [
      "Epoch 1056/2000: 100%|█| 6/6 [00:05<00:00,  1.03batch/s, avg_loss=0.597, loss=0.\n"
     ]
    },
    {
     "name": "stdout",
     "output_type": "stream",
     "text": [
      "1056/2000 train loss: 0.5969185928503672  val loss: 0.7006007929642996\n"
     ]
    },
    {
     "name": "stderr",
     "output_type": "stream",
     "text": [
      "Epoch 1057/2000: 100%|█| 6/6 [00:05<00:00,  1.04batch/s, avg_loss=0.556, loss=0.\n"
     ]
    },
    {
     "name": "stdout",
     "output_type": "stream",
     "text": [
      "1057/2000 train loss: 0.5559137463569641  val loss: 0.6960468689600626\n"
     ]
    },
    {
     "name": "stderr",
     "output_type": "stream",
     "text": [
      "Epoch 1058/2000: 100%|█| 6/6 [00:05<00:00,  1.04batch/s, avg_loss=0.554, loss=0.\n"
     ]
    },
    {
     "name": "stdout",
     "output_type": "stream",
     "text": [
      "1058/2000 train loss: 0.5535796781380972  val loss: 0.648538867632548\n"
     ]
    },
    {
     "name": "stderr",
     "output_type": "stream",
     "text": [
      "Epoch 1059/2000: 100%|█| 6/6 [00:05<00:00,  1.04batch/s, avg_loss=0.597, loss=0.\n"
     ]
    },
    {
     "name": "stdout",
     "output_type": "stream",
     "text": [
      "1059/2000 train loss: 0.5966465671857198  val loss: 0.6753833194573721\n"
     ]
    },
    {
     "name": "stderr",
     "output_type": "stream",
     "text": [
      "Epoch 1060/2000: 100%|█| 6/6 [00:05<00:00,  1.03batch/s, avg_loss=0.583, loss=0.\n"
     ]
    },
    {
     "name": "stdout",
     "output_type": "stream",
     "text": [
      "1060/2000 train loss: 0.5827055871486664  val loss: 0.6149928371111552\n"
     ]
    },
    {
     "name": "stderr",
     "output_type": "stream",
     "text": [
      "Epoch 1061/2000: 100%|█| 6/6 [00:05<00:00,  1.03batch/s, avg_loss=0.541, loss=0.\n"
     ]
    },
    {
     "name": "stdout",
     "output_type": "stream",
     "text": [
      "1061/2000 train loss: 0.5412298838297526  val loss: 0.7329659461975098\n"
     ]
    },
    {
     "name": "stderr",
     "output_type": "stream",
     "text": [
      "Epoch 1062/2000: 100%|█| 6/6 [00:05<00:00,  1.03batch/s, avg_loss=0.563, loss=0.\n"
     ]
    },
    {
     "name": "stdout",
     "output_type": "stream",
     "text": [
      "1062/2000 train loss: 0.563106894493103  val loss: 0.8026646375656128\n"
     ]
    },
    {
     "name": "stderr",
     "output_type": "stream",
     "text": [
      "Epoch 1063/2000: 100%|█| 6/6 [00:05<00:00,  1.04batch/s, avg_loss=0.576, loss=0.\n"
     ]
    },
    {
     "name": "stdout",
     "output_type": "stream",
     "text": [
      "1063/2000 train loss: 0.5759175916512808  val loss: 0.7973765333493551\n"
     ]
    },
    {
     "name": "stderr",
     "output_type": "stream",
     "text": [
      "Epoch 1064/2000: 100%|█| 6/6 [00:05<00:00,  1.03batch/s, avg_loss=0.572, loss=0.\n"
     ]
    },
    {
     "name": "stdout",
     "output_type": "stream",
     "text": [
      "1064/2000 train loss: 0.5723515152931213  val loss: 0.7750032643477122\n"
     ]
    },
    {
     "name": "stderr",
     "output_type": "stream",
     "text": [
      "Epoch 1065/2000: 100%|█| 6/6 [00:05<00:00,  1.04batch/s, avg_loss=0.562, loss=0.\n"
     ]
    },
    {
     "name": "stdout",
     "output_type": "stream",
     "text": [
      "1065/2000 train loss: 0.5624412496884664  val loss: 0.8722494045893351\n"
     ]
    },
    {
     "name": "stderr",
     "output_type": "stream",
     "text": [
      "Epoch 1066/2000: 100%|█| 6/6 [00:05<00:00,  1.03batch/s, avg_loss=0.543, loss=0.\n"
     ]
    },
    {
     "name": "stdout",
     "output_type": "stream",
     "text": [
      "1066/2000 train loss: 0.5430389444033304  val loss: 0.8274136185646057\n"
     ]
    },
    {
     "name": "stderr",
     "output_type": "stream",
     "text": [
      "Epoch 1067/2000: 100%|█| 6/6 [00:05<00:00,  1.03batch/s, avg_loss=0.54, loss=0.6\n"
     ]
    },
    {
     "name": "stdout",
     "output_type": "stream",
     "text": [
      "1067/2000 train loss: 0.5403002401192983  val loss: 0.6302842994530996\n"
     ]
    },
    {
     "name": "stderr",
     "output_type": "stream",
     "text": [
      "Epoch 1068/2000: 100%|█| 6/6 [00:05<00:00,  1.02batch/s, avg_loss=0.548, loss=0.\n"
     ]
    },
    {
     "name": "stdout",
     "output_type": "stream",
     "text": [
      "1068/2000 train loss: 0.5480979979038239  val loss: 0.8753114541371664\n"
     ]
    },
    {
     "name": "stderr",
     "output_type": "stream",
     "text": [
      "Epoch 1069/2000: 100%|█| 6/6 [00:05<00:00,  1.04batch/s, avg_loss=0.525, loss=0.\n"
     ]
    },
    {
     "name": "stdout",
     "output_type": "stream",
     "text": [
      "1069/2000 train loss: 0.5250576138496399  val loss: 0.751880039771398\n"
     ]
    },
    {
     "name": "stderr",
     "output_type": "stream",
     "text": [
      "Epoch 1070/2000: 100%|█| 6/6 [00:05<00:00,  1.04batch/s, avg_loss=0.532, loss=0.\n"
     ]
    },
    {
     "name": "stdout",
     "output_type": "stream",
     "text": [
      "1070/2000 train loss: 0.532274474700292  val loss: 0.7346978982289633\n"
     ]
    },
    {
     "name": "stderr",
     "output_type": "stream",
     "text": [
      "Epoch 1071/2000: 100%|█| 6/6 [00:05<00:00,  1.04batch/s, avg_loss=0.566, loss=0.\n"
     ]
    },
    {
     "name": "stdout",
     "output_type": "stream",
     "text": [
      "1071/2000 train loss: 0.5655498603979746  val loss: 0.7360926767190298\n"
     ]
    },
    {
     "name": "stderr",
     "output_type": "stream",
     "text": [
      "Epoch 1072/2000: 100%|█| 6/6 [00:05<00:00,  1.04batch/s, avg_loss=0.608, loss=0.\n"
     ]
    },
    {
     "name": "stdout",
     "output_type": "stream",
     "text": [
      "1072/2000 train loss: 0.6082706054051717  val loss: 0.5305576920509338\n"
     ]
    },
    {
     "name": "stderr",
     "output_type": "stream",
     "text": [
      "Epoch 1073/2000: 100%|█| 6/6 [00:05<00:00,  1.04batch/s, avg_loss=0.604, loss=0.\n"
     ]
    },
    {
     "name": "stdout",
     "output_type": "stream",
     "text": [
      "1073/2000 train loss: 0.6035917202631632  val loss: 0.5228883524735769\n"
     ]
    },
    {
     "name": "stderr",
     "output_type": "stream",
     "text": [
      "Epoch 1074/2000: 100%|█| 6/6 [00:05<00:00,  1.04batch/s, avg_loss=0.568, loss=0.\n"
     ]
    },
    {
     "name": "stdout",
     "output_type": "stream",
     "text": [
      "1074/2000 train loss: 0.5678349733352661  val loss: 0.6537181039651235\n"
     ]
    },
    {
     "name": "stderr",
     "output_type": "stream",
     "text": [
      "Epoch 1075/2000: 100%|█| 6/6 [00:05<00:00,  1.01batch/s, avg_loss=0.564, loss=0.\n"
     ]
    },
    {
     "name": "stdout",
     "output_type": "stream",
     "text": [
      "1075/2000 train loss: 0.5639771123727163  val loss: 0.6985965470472971\n"
     ]
    },
    {
     "name": "stderr",
     "output_type": "stream",
     "text": [
      "Epoch 1076/2000: 100%|█| 6/6 [00:06<00:00,  1.00s/batch, avg_loss=0.538, loss=0.\n"
     ]
    },
    {
     "name": "stdout",
     "output_type": "stream",
     "text": [
      "1076/2000 train loss: 0.5383171240488688  val loss: 0.7871114214261373\n"
     ]
    },
    {
     "name": "stderr",
     "output_type": "stream",
     "text": [
      "Epoch 1077/2000: 100%|█| 6/6 [00:06<00:00,  1.00s/batch, avg_loss=0.59, loss=0.8\n"
     ]
    },
    {
     "name": "stdout",
     "output_type": "stream",
     "text": [
      "1077/2000 train loss: 0.5899344980716705  val loss: 0.7502540449301401\n"
     ]
    },
    {
     "name": "stderr",
     "output_type": "stream",
     "text": [
      "Epoch 1078/2000: 100%|█| 6/6 [00:05<00:00,  1.02batch/s, avg_loss=0.577, loss=0.\n"
     ]
    },
    {
     "name": "stdout",
     "output_type": "stream",
     "text": [
      "1078/2000 train loss: 0.5770401159922282  val loss: 0.6501152813434601\n"
     ]
    },
    {
     "name": "stderr",
     "output_type": "stream",
     "text": [
      "Epoch 1079/2000: 100%|█| 6/6 [00:05<00:00,  1.02batch/s, avg_loss=0.613, loss=0.\n"
     ]
    },
    {
     "name": "stdout",
     "output_type": "stream",
     "text": [
      "1079/2000 train loss: 0.6129475732644399  val loss: 0.7647841473420461\n"
     ]
    },
    {
     "name": "stderr",
     "output_type": "stream",
     "text": [
      "Epoch 1080/2000: 100%|█| 6/6 [00:05<00:00,  1.03batch/s, avg_loss=0.592, loss=0.\n"
     ]
    },
    {
     "name": "stdout",
     "output_type": "stream",
     "text": [
      "1080/2000 train loss: 0.591912180185318  val loss: 0.6821635464827219\n"
     ]
    },
    {
     "name": "stderr",
     "output_type": "stream",
     "text": [
      "Epoch 1081/2000: 100%|█| 6/6 [00:05<00:00,  1.03batch/s, avg_loss=0.541, loss=0.\n"
     ]
    },
    {
     "name": "stdout",
     "output_type": "stream",
     "text": [
      "1081/2000 train loss: 0.5411534706751505  val loss: 0.7301885286966959\n"
     ]
    },
    {
     "name": "stderr",
     "output_type": "stream",
     "text": [
      "Epoch 1082/2000: 100%|█| 6/6 [00:05<00:00,  1.04batch/s, avg_loss=0.564, loss=0.\n"
     ]
    },
    {
     "name": "stdout",
     "output_type": "stream",
     "text": [
      "1082/2000 train loss: 0.5640704035758972  val loss: 0.6051757236321768\n"
     ]
    },
    {
     "name": "stderr",
     "output_type": "stream",
     "text": [
      "Epoch 1083/2000: 100%|█| 6/6 [00:05<00:00,  1.05batch/s, avg_loss=0.594, loss=0.\n"
     ]
    },
    {
     "name": "stdout",
     "output_type": "stream",
     "text": [
      "1083/2000 train loss: 0.5942529042561849  val loss: 0.8269831736882528\n"
     ]
    },
    {
     "name": "stderr",
     "output_type": "stream",
     "text": [
      "Epoch 1084/2000: 100%|█| 6/6 [00:05<00:00,  1.05batch/s, avg_loss=0.536, loss=0.\n"
     ]
    },
    {
     "name": "stdout",
     "output_type": "stream",
     "text": [
      "1084/2000 train loss: 0.535680502653122  val loss: 0.6283062795797983\n"
     ]
    },
    {
     "name": "stderr",
     "output_type": "stream",
     "text": [
      "Epoch 1085/2000: 100%|█| 6/6 [00:05<00:00,  1.05batch/s, avg_loss=0.595, loss=0.\n"
     ]
    },
    {
     "name": "stdout",
     "output_type": "stream",
     "text": [
      "1085/2000 train loss: 0.5952839851379395  val loss: 0.6981888016064962\n"
     ]
    },
    {
     "name": "stderr",
     "output_type": "stream",
     "text": [
      "Epoch 1086/2000: 100%|█| 6/6 [00:05<00:00,  1.05batch/s, avg_loss=0.622, loss=0.\n"
     ]
    },
    {
     "name": "stdout",
     "output_type": "stream",
     "text": [
      "1086/2000 train loss: 0.6219007869561514  val loss: 0.8740494946638743\n"
     ]
    },
    {
     "name": "stderr",
     "output_type": "stream",
     "text": [
      "Epoch 1087/2000: 100%|█| 6/6 [00:05<00:00,  1.05batch/s, avg_loss=0.543, loss=0.\n"
     ]
    },
    {
     "name": "stdout",
     "output_type": "stream",
     "text": [
      "1087/2000 train loss: 0.5430183410644531  val loss: 0.7387284437815348\n"
     ]
    },
    {
     "name": "stderr",
     "output_type": "stream",
     "text": [
      "Epoch 1088/2000: 100%|█| 6/6 [00:05<00:00,  1.05batch/s, avg_loss=0.554, loss=0.\n"
     ]
    },
    {
     "name": "stdout",
     "output_type": "stream",
     "text": [
      "1088/2000 train loss: 0.5538068016370138  val loss: 0.807484914859136\n"
     ]
    },
    {
     "name": "stderr",
     "output_type": "stream",
     "text": [
      "Epoch 1089/2000: 100%|█| 6/6 [00:05<00:00,  1.06batch/s, avg_loss=0.546, loss=0.\n"
     ]
    },
    {
     "name": "stdout",
     "output_type": "stream",
     "text": [
      "1089/2000 train loss: 0.5463105042775472  val loss: 0.7203624844551086\n"
     ]
    },
    {
     "name": "stderr",
     "output_type": "stream",
     "text": [
      "Epoch 1090/2000: 100%|█| 6/6 [00:05<00:00,  1.03batch/s, avg_loss=0.514, loss=0.\n"
     ]
    },
    {
     "name": "stdout",
     "output_type": "stream",
     "text": [
      "1090/2000 train loss: 0.5144425531228384  val loss: 0.8549187481403351\n"
     ]
    },
    {
     "name": "stderr",
     "output_type": "stream",
     "text": [
      "Epoch 1091/2000: 100%|█| 6/6 [00:05<00:00,  1.03batch/s, avg_loss=0.553, loss=0.\n"
     ]
    },
    {
     "name": "stdout",
     "output_type": "stream",
     "text": [
      "1091/2000 train loss: 0.553335835536321  val loss: 0.8181601365407308\n"
     ]
    },
    {
     "name": "stderr",
     "output_type": "stream",
     "text": [
      "Epoch 1092/2000: 100%|█| 6/6 [00:05<00:00,  1.03batch/s, avg_loss=0.639, loss=0.\n"
     ]
    },
    {
     "name": "stdout",
     "output_type": "stream",
     "text": [
      "1092/2000 train loss: 0.6386823157469431  val loss: 0.8633293310801188\n"
     ]
    },
    {
     "name": "stderr",
     "output_type": "stream",
     "text": [
      "Epoch 1093/2000: 100%|█| 6/6 [00:05<00:00,  1.04batch/s, avg_loss=0.589, loss=0.\n"
     ]
    },
    {
     "name": "stdout",
     "output_type": "stream",
     "text": [
      "1093/2000 train loss: 0.5889680286248525  val loss: 0.7597408394018809\n"
     ]
    },
    {
     "name": "stderr",
     "output_type": "stream",
     "text": [
      "Epoch 1094/2000: 100%|█| 6/6 [00:05<00:00,  1.09batch/s, avg_loss=0.565, loss=0.\n"
     ]
    },
    {
     "name": "stdout",
     "output_type": "stream",
     "text": [
      "1094/2000 train loss: 0.5652416050434113  val loss: 0.8241393466790518\n"
     ]
    },
    {
     "name": "stderr",
     "output_type": "stream",
     "text": [
      "Epoch 1095/2000: 100%|█| 6/6 [00:05<00:00,  1.08batch/s, avg_loss=0.578, loss=0.\n"
     ]
    },
    {
     "name": "stdout",
     "output_type": "stream",
     "text": [
      "1095/2000 train loss: 0.5777134299278259  val loss: 0.6475277046362559\n"
     ]
    },
    {
     "name": "stderr",
     "output_type": "stream",
     "text": [
      "Epoch 1096/2000: 100%|█| 6/6 [00:05<00:00,  1.08batch/s, avg_loss=0.521, loss=0.\n"
     ]
    },
    {
     "name": "stdout",
     "output_type": "stream",
     "text": [
      "1096/2000 train loss: 0.5213958124319712  val loss: 0.7767548660437266\n"
     ]
    },
    {
     "name": "stderr",
     "output_type": "stream",
     "text": [
      "Epoch 1097/2000: 100%|█| 6/6 [00:05<00:00,  1.09batch/s, avg_loss=0.522, loss=0.\n"
     ]
    },
    {
     "name": "stdout",
     "output_type": "stream",
     "text": [
      "1097/2000 train loss: 0.5215524733066559  val loss: 0.9074779649575552\n"
     ]
    },
    {
     "name": "stderr",
     "output_type": "stream",
     "text": [
      "Epoch 1098/2000: 100%|█| 6/6 [00:05<00:00,  1.09batch/s, avg_loss=0.506, loss=0.\n"
     ]
    },
    {
     "name": "stdout",
     "output_type": "stream",
     "text": [
      "1098/2000 train loss: 0.5061079859733582  val loss: 0.8562761048475901\n"
     ]
    },
    {
     "name": "stderr",
     "output_type": "stream",
     "text": [
      "Epoch 1099/2000: 100%|█| 6/6 [00:05<00:00,  1.09batch/s, avg_loss=0.574, loss=0.\n"
     ]
    },
    {
     "name": "stdout",
     "output_type": "stream",
     "text": [
      "1099/2000 train loss: 0.5739773909250895  val loss: 0.8191947142283121\n"
     ]
    },
    {
     "name": "stderr",
     "output_type": "stream",
     "text": [
      "Epoch 1100/2000: 100%|█| 6/6 [00:05<00:00,  1.09batch/s, avg_loss=0.53, loss=0.5\n"
     ]
    },
    {
     "name": "stdout",
     "output_type": "stream",
     "text": [
      "1100/2000 train loss: 0.5296093225479126  val loss: 0.8482357660929362\n"
     ]
    },
    {
     "name": "stderr",
     "output_type": "stream",
     "text": [
      "Epoch 1101/2000: 100%|█| 6/6 [00:05<00:00,  1.08batch/s, avg_loss=0.545, loss=0.\n"
     ]
    },
    {
     "name": "stdout",
     "output_type": "stream",
     "text": [
      "1101/2000 train loss: 0.5449057817459106  val loss: 0.5938986043135325\n"
     ]
    },
    {
     "name": "stderr",
     "output_type": "stream",
     "text": [
      "Epoch 1102/2000: 100%|█| 6/6 [00:05<00:00,  1.08batch/s, avg_loss=0.56, loss=0.3\n"
     ]
    },
    {
     "name": "stdout",
     "output_type": "stream",
     "text": [
      "1102/2000 train loss: 0.5604159633318583  val loss: 0.8401911656061808\n"
     ]
    },
    {
     "name": "stderr",
     "output_type": "stream",
     "text": [
      "Epoch 1103/2000: 100%|█| 6/6 [00:05<00:00,  1.08batch/s, avg_loss=0.559, loss=0.\n"
     ]
    },
    {
     "name": "stdout",
     "output_type": "stream",
     "text": [
      "1103/2000 train loss: 0.5588699082533518  val loss: 0.603884776433309\n"
     ]
    },
    {
     "name": "stderr",
     "output_type": "stream",
     "text": [
      "Epoch 1104/2000: 100%|█| 6/6 [00:05<00:00,  1.07batch/s, avg_loss=0.585, loss=0.\n"
     ]
    },
    {
     "name": "stdout",
     "output_type": "stream",
     "text": [
      "1104/2000 train loss: 0.5851496458053589  val loss: 0.655502070983251\n"
     ]
    },
    {
     "name": "stderr",
     "output_type": "stream",
     "text": [
      "Epoch 1105/2000: 100%|█| 6/6 [00:05<00:00,  1.04batch/s, avg_loss=0.575, loss=0.\n"
     ]
    },
    {
     "name": "stdout",
     "output_type": "stream",
     "text": [
      "1105/2000 train loss: 0.5747597018877665  val loss: 0.6835644443829855\n"
     ]
    },
    {
     "name": "stderr",
     "output_type": "stream",
     "text": [
      "Epoch 1106/2000: 100%|█| 6/6 [00:05<00:00,  1.04batch/s, avg_loss=0.544, loss=0.\n"
     ]
    },
    {
     "name": "stdout",
     "output_type": "stream",
     "text": [
      "1106/2000 train loss: 0.5438664257526398  val loss: 0.7599559227625529\n"
     ]
    },
    {
     "name": "stderr",
     "output_type": "stream",
     "text": [
      "Epoch 1107/2000: 100%|█| 6/6 [00:05<00:00,  1.04batch/s, avg_loss=0.501, loss=0.\n"
     ]
    },
    {
     "name": "stdout",
     "output_type": "stream",
     "text": [
      "1107/2000 train loss: 0.5012028415997823  val loss: 0.8388661444187164\n"
     ]
    },
    {
     "name": "stderr",
     "output_type": "stream",
     "text": [
      "Epoch 1108/2000: 100%|█| 6/6 [00:05<00:00,  1.04batch/s, avg_loss=0.575, loss=0.\n"
     ]
    },
    {
     "name": "stdout",
     "output_type": "stream",
     "text": [
      "1108/2000 train loss: 0.5754383007685343  val loss: 0.6689668496449789\n"
     ]
    },
    {
     "name": "stderr",
     "output_type": "stream",
     "text": [
      "Epoch 1109/2000: 100%|█| 6/6 [00:05<00:00,  1.07batch/s, avg_loss=0.499, loss=0.\n"
     ]
    },
    {
     "name": "stdout",
     "output_type": "stream",
     "text": [
      "1109/2000 train loss: 0.4994782706101735  val loss: 0.6745236317316691\n"
     ]
    },
    {
     "name": "stderr",
     "output_type": "stream",
     "text": [
      "Epoch 1110/2000: 100%|█| 6/6 [00:05<00:00,  1.08batch/s, avg_loss=0.635, loss=0.\n"
     ]
    },
    {
     "name": "stdout",
     "output_type": "stream",
     "text": [
      "1110/2000 train loss: 0.6347446242968241  val loss: 0.7489825884501139\n"
     ]
    },
    {
     "name": "stderr",
     "output_type": "stream",
     "text": [
      "Epoch 1111/2000: 100%|█| 6/6 [00:05<00:00,  1.09batch/s, avg_loss=0.57, loss=0.5\n"
     ]
    },
    {
     "name": "stdout",
     "output_type": "stream",
     "text": [
      "1111/2000 train loss: 0.5703175365924835  val loss: 0.7675088544686636\n"
     ]
    },
    {
     "name": "stderr",
     "output_type": "stream",
     "text": [
      "Epoch 1112/2000: 100%|█| 6/6 [00:05<00:00,  1.08batch/s, avg_loss=0.587, loss=0.\n"
     ]
    },
    {
     "name": "stdout",
     "output_type": "stream",
     "text": [
      "1112/2000 train loss: 0.587092270453771  val loss: 0.7250965535640717\n"
     ]
    },
    {
     "name": "stderr",
     "output_type": "stream",
     "text": [
      "Epoch 1113/2000: 100%|█| 6/6 [00:05<00:00,  1.10batch/s, avg_loss=0.584, loss=0.\n"
     ]
    },
    {
     "name": "stdout",
     "output_type": "stream",
     "text": [
      "1113/2000 train loss: 0.5841586192448934  val loss: 0.7889262437820435\n"
     ]
    },
    {
     "name": "stderr",
     "output_type": "stream",
     "text": [
      "Epoch 1114/2000: 100%|█| 6/6 [00:05<00:00,  1.09batch/s, avg_loss=0.538, loss=0.\n"
     ]
    },
    {
     "name": "stdout",
     "output_type": "stream",
     "text": [
      "1114/2000 train loss: 0.5379241903622946  val loss: 0.8543983697891235\n"
     ]
    },
    {
     "name": "stderr",
     "output_type": "stream",
     "text": [
      "Epoch 1115/2000: 100%|█| 6/6 [00:05<00:00,  1.09batch/s, avg_loss=0.605, loss=0.\n"
     ]
    },
    {
     "name": "stdout",
     "output_type": "stream",
     "text": [
      "1115/2000 train loss: 0.6054473519325256  val loss: 0.7842810253302256\n"
     ]
    },
    {
     "name": "stderr",
     "output_type": "stream",
     "text": [
      "Epoch 1116/2000: 100%|█| 6/6 [00:05<00:00,  1.09batch/s, avg_loss=0.566, loss=0.\n"
     ]
    },
    {
     "name": "stdout",
     "output_type": "stream",
     "text": [
      "1116/2000 train loss: 0.5660709043343862  val loss: 0.7758590380350748\n"
     ]
    },
    {
     "name": "stderr",
     "output_type": "stream",
     "text": [
      "Epoch 1117/2000: 100%|█| 6/6 [00:05<00:00,  1.09batch/s, avg_loss=0.548, loss=0.\n"
     ]
    },
    {
     "name": "stdout",
     "output_type": "stream",
     "text": [
      "1117/2000 train loss: 0.5476371546586355  val loss: 0.7397132913271586\n"
     ]
    },
    {
     "name": "stderr",
     "output_type": "stream",
     "text": [
      "Epoch 1118/2000: 100%|█| 6/6 [00:05<00:00,  1.09batch/s, avg_loss=0.501, loss=0.\n"
     ]
    },
    {
     "name": "stdout",
     "output_type": "stream",
     "text": [
      "1118/2000 train loss: 0.5008565485477448  val loss: 0.8016473253568014\n"
     ]
    },
    {
     "name": "stderr",
     "output_type": "stream",
     "text": [
      "Epoch 1119/2000: 100%|█| 6/6 [00:05<00:00,  1.08batch/s, avg_loss=0.572, loss=0.\n"
     ]
    },
    {
     "name": "stdout",
     "output_type": "stream",
     "text": [
      "1119/2000 train loss: 0.5722538034121195  val loss: 0.7731342514355978\n"
     ]
    },
    {
     "name": "stderr",
     "output_type": "stream",
     "text": [
      "Epoch 1120/2000: 100%|█| 6/6 [00:05<00:00,  1.05batch/s, avg_loss=0.565, loss=0.\n"
     ]
    },
    {
     "name": "stdout",
     "output_type": "stream",
     "text": [
      "1120/2000 train loss: 0.5653434693813324  val loss: 0.9234192073345184\n"
     ]
    },
    {
     "name": "stderr",
     "output_type": "stream",
     "text": [
      "Epoch 1121/2000: 100%|█| 6/6 [00:05<00:00,  1.03batch/s, avg_loss=0.592, loss=0.\n"
     ]
    },
    {
     "name": "stdout",
     "output_type": "stream",
     "text": [
      "1121/2000 train loss: 0.5923524300257365  val loss: 0.7701927820841471\n"
     ]
    },
    {
     "name": "stderr",
     "output_type": "stream",
     "text": [
      "Epoch 1122/2000: 100%|█| 6/6 [00:05<00:00,  1.02batch/s, avg_loss=0.678, loss=0.\n"
     ]
    },
    {
     "name": "stdout",
     "output_type": "stream",
     "text": [
      "1122/2000 train loss: 0.6780330240726471  val loss: 0.8167115449905396\n"
     ]
    },
    {
     "name": "stderr",
     "output_type": "stream",
     "text": [
      "Epoch 1123/2000: 100%|█| 6/6 [00:05<00:00,  1.03batch/s, avg_loss=0.611, loss=0.\n"
     ]
    },
    {
     "name": "stdout",
     "output_type": "stream",
     "text": [
      "1123/2000 train loss: 0.6107132434844971  val loss: 0.7812882661819458\n"
     ]
    },
    {
     "name": "stderr",
     "output_type": "stream",
     "text": [
      "Epoch 1124/2000: 100%|█| 6/6 [00:05<00:00,  1.04batch/s, avg_loss=0.643, loss=0.\n"
     ]
    },
    {
     "name": "stdout",
     "output_type": "stream",
     "text": [
      "1124/2000 train loss: 0.6428179939587911  val loss: 0.7305405040582021\n"
     ]
    },
    {
     "name": "stderr",
     "output_type": "stream",
     "text": [
      "Epoch 1125/2000: 100%|█| 6/6 [00:05<00:00,  1.04batch/s, avg_loss=0.533, loss=0.\n"
     ]
    },
    {
     "name": "stdout",
     "output_type": "stream",
     "text": [
      "1125/2000 train loss: 0.5334358910719553  val loss: 0.7713979184627533\n"
     ]
    },
    {
     "name": "stderr",
     "output_type": "stream",
     "text": [
      "Epoch 1126/2000: 100%|█| 6/6 [00:05<00:00,  1.04batch/s, avg_loss=0.543, loss=0.\n"
     ]
    },
    {
     "name": "stdout",
     "output_type": "stream",
     "text": [
      "1126/2000 train loss: 0.5431570609410604  val loss: 0.7574991484483083\n"
     ]
    },
    {
     "name": "stderr",
     "output_type": "stream",
     "text": [
      "Epoch 1127/2000: 100%|█| 6/6 [00:05<00:00,  1.04batch/s, avg_loss=0.567, loss=0.\n"
     ]
    },
    {
     "name": "stdout",
     "output_type": "stream",
     "text": [
      "1127/2000 train loss: 0.5668573578198751  val loss: 0.796890527009964\n"
     ]
    },
    {
     "name": "stderr",
     "output_type": "stream",
     "text": [
      "Epoch 1128/2000: 100%|█| 6/6 [00:05<00:00,  1.04batch/s, avg_loss=0.568, loss=0.\n"
     ]
    },
    {
     "name": "stdout",
     "output_type": "stream",
     "text": [
      "1128/2000 train loss: 0.5683882931868235  val loss: 0.7180293997128805\n"
     ]
    },
    {
     "name": "stderr",
     "output_type": "stream",
     "text": [
      "Epoch 1129/2000: 100%|█| 6/6 [00:05<00:00,  1.04batch/s, avg_loss=0.535, loss=0.\n"
     ]
    },
    {
     "name": "stdout",
     "output_type": "stream",
     "text": [
      "1129/2000 train loss: 0.5347978274027506  val loss: 0.8208346168200175\n"
     ]
    },
    {
     "name": "stderr",
     "output_type": "stream",
     "text": [
      "Epoch 1130/2000: 100%|█| 6/6 [00:05<00:00,  1.04batch/s, avg_loss=0.558, loss=0.\n"
     ]
    },
    {
     "name": "stdout",
     "output_type": "stream",
     "text": [
      "1130/2000 train loss: 0.5579913953940073  val loss: 0.6373755633831024\n"
     ]
    },
    {
     "name": "stderr",
     "output_type": "stream",
     "text": [
      "Epoch 1131/2000: 100%|█| 6/6 [00:05<00:00,  1.04batch/s, avg_loss=0.608, loss=0.\n"
     ]
    },
    {
     "name": "stdout",
     "output_type": "stream",
     "text": [
      "1131/2000 train loss: 0.6081997056802114  val loss: 0.7602183024088541\n"
     ]
    },
    {
     "name": "stderr",
     "output_type": "stream",
     "text": [
      "Epoch 1132/2000: 100%|█| 6/6 [00:05<00:00,  1.04batch/s, avg_loss=0.554, loss=0.\n"
     ]
    },
    {
     "name": "stdout",
     "output_type": "stream",
     "text": [
      "1132/2000 train loss: 0.553976317246755  val loss: 0.8790839115778605\n"
     ]
    },
    {
     "name": "stderr",
     "output_type": "stream",
     "text": [
      "Epoch 1133/2000: 100%|█| 6/6 [00:05<00:00,  1.03batch/s, avg_loss=0.554, loss=0.\n"
     ]
    },
    {
     "name": "stdout",
     "output_type": "stream",
     "text": [
      "1133/2000 train loss: 0.5544004937012991  val loss: 0.887369304895401\n"
     ]
    },
    {
     "name": "stderr",
     "output_type": "stream",
     "text": [
      "Epoch 1134/2000: 100%|█| 6/6 [00:05<00:00,  1.02batch/s, avg_loss=0.572, loss=0.\n"
     ]
    },
    {
     "name": "stdout",
     "output_type": "stream",
     "text": [
      "1134/2000 train loss: 0.5724476873874664  val loss: 0.6828069190184275\n"
     ]
    },
    {
     "name": "stderr",
     "output_type": "stream",
     "text": [
      "Epoch 1135/2000: 100%|█| 6/6 [00:05<00:00,  1.02batch/s, avg_loss=0.538, loss=0.\n"
     ]
    },
    {
     "name": "stdout",
     "output_type": "stream",
     "text": [
      "1135/2000 train loss: 0.5375469326972961  val loss: 0.7104894618193308\n"
     ]
    },
    {
     "name": "stderr",
     "output_type": "stream",
     "text": [
      "Epoch 1136/2000: 100%|█| 6/6 [00:05<00:00,  1.03batch/s, avg_loss=0.578, loss=0.\n"
     ]
    },
    {
     "name": "stdout",
     "output_type": "stream",
     "text": [
      "1136/2000 train loss: 0.5775327980518341  val loss: 0.8291246096293131\n"
     ]
    },
    {
     "name": "stderr",
     "output_type": "stream",
     "text": [
      "Epoch 1137/2000: 100%|█| 6/6 [00:05<00:00,  1.03batch/s, avg_loss=0.62, loss=0.7\n"
     ]
    },
    {
     "name": "stdout",
     "output_type": "stream",
     "text": [
      "1137/2000 train loss: 0.6202023426691691  val loss: 0.7840108573436737\n"
     ]
    },
    {
     "name": "stderr",
     "output_type": "stream",
     "text": [
      "Epoch 1138/2000: 100%|█| 6/6 [00:05<00:00,  1.03batch/s, avg_loss=0.589, loss=0.\n"
     ]
    },
    {
     "name": "stdout",
     "output_type": "stream",
     "text": [
      "1138/2000 train loss: 0.5890707969665527  val loss: 0.7718108296394348\n"
     ]
    },
    {
     "name": "stderr",
     "output_type": "stream",
     "text": [
      "Epoch 1139/2000: 100%|█| 6/6 [00:05<00:00,  1.03batch/s, avg_loss=0.539, loss=0.\n"
     ]
    },
    {
     "name": "stdout",
     "output_type": "stream",
     "text": [
      "1139/2000 train loss: 0.5385900735855103  val loss: 0.9260956843694051\n"
     ]
    },
    {
     "name": "stderr",
     "output_type": "stream",
     "text": [
      "Epoch 1140/2000: 100%|█| 6/6 [00:05<00:00,  1.04batch/s, avg_loss=0.538, loss=0.\n"
     ]
    },
    {
     "name": "stdout",
     "output_type": "stream",
     "text": [
      "1140/2000 train loss: 0.538291315237681  val loss: 0.7403005162874857\n"
     ]
    },
    {
     "name": "stderr",
     "output_type": "stream",
     "text": [
      "Epoch 1141/2000: 100%|█| 6/6 [00:05<00:00,  1.04batch/s, avg_loss=0.592, loss=0.\n"
     ]
    },
    {
     "name": "stdout",
     "output_type": "stream",
     "text": [
      "1141/2000 train loss: 0.5924566785494486  val loss: 0.7308432658513387\n"
     ]
    },
    {
     "name": "stderr",
     "output_type": "stream",
     "text": [
      "Epoch 1142/2000: 100%|█| 6/6 [00:05<00:00,  1.03batch/s, avg_loss=0.444, loss=0.\n"
     ]
    },
    {
     "name": "stdout",
     "output_type": "stream",
     "text": [
      "1142/2000 train loss: 0.44447946548461914  val loss: 0.6338684062163035\n"
     ]
    },
    {
     "name": "stderr",
     "output_type": "stream",
     "text": [
      "Epoch 1143/2000: 100%|█| 6/6 [00:05<00:00,  1.05batch/s, avg_loss=0.603, loss=0.\n"
     ]
    },
    {
     "name": "stdout",
     "output_type": "stream",
     "text": [
      "1143/2000 train loss: 0.6032008330027262  val loss: 0.649050364891688\n"
     ]
    },
    {
     "name": "stderr",
     "output_type": "stream",
     "text": [
      "Epoch 1144/2000: 100%|█| 6/6 [00:05<00:00,  1.04batch/s, avg_loss=0.527, loss=0.\n"
     ]
    },
    {
     "name": "stdout",
     "output_type": "stream",
     "text": [
      "1144/2000 train loss: 0.5266888538996378  val loss: 0.853776752948761\n"
     ]
    },
    {
     "name": "stderr",
     "output_type": "stream",
     "text": [
      "Epoch 1145/2000: 100%|█| 6/6 [00:05<00:00,  1.02batch/s, avg_loss=0.524, loss=0.\n"
     ]
    },
    {
     "name": "stdout",
     "output_type": "stream",
     "text": [
      "1145/2000 train loss: 0.5235428810119629  val loss: 0.696049302816391\n"
     ]
    },
    {
     "name": "stderr",
     "output_type": "stream",
     "text": [
      "Epoch 1146/2000: 100%|█| 6/6 [00:05<00:00,  1.04batch/s, avg_loss=0.543, loss=0.\n"
     ]
    },
    {
     "name": "stdout",
     "output_type": "stream",
     "text": [
      "1146/2000 train loss: 0.5433677534262339  val loss: 0.8229595224062601\n"
     ]
    },
    {
     "name": "stderr",
     "output_type": "stream",
     "text": [
      "Epoch 1147/2000: 100%|█| 6/6 [00:05<00:00,  1.04batch/s, avg_loss=0.495, loss=0.\n"
     ]
    },
    {
     "name": "stdout",
     "output_type": "stream",
     "text": [
      "1147/2000 train loss: 0.4952539304892222  val loss: 0.8738089998563131\n"
     ]
    },
    {
     "name": "stderr",
     "output_type": "stream",
     "text": [
      "Epoch 1148/2000: 100%|█| 6/6 [00:05<00:00,  1.03batch/s, avg_loss=0.523, loss=0.\n"
     ]
    },
    {
     "name": "stdout",
     "output_type": "stream",
     "text": [
      "1148/2000 train loss: 0.5234916508197784  val loss: 0.6174278755982717\n"
     ]
    },
    {
     "name": "stderr",
     "output_type": "stream",
     "text": [
      "Epoch 1149/2000: 100%|█| 6/6 [00:05<00:00,  1.03batch/s, avg_loss=0.51, loss=0.4\n"
     ]
    },
    {
     "name": "stdout",
     "output_type": "stream",
     "text": [
      "1149/2000 train loss: 0.5104780296484629  val loss: 0.8759008745352427\n"
     ]
    },
    {
     "name": "stderr",
     "output_type": "stream",
     "text": [
      "Epoch 1150/2000: 100%|█| 6/6 [00:05<00:00,  1.01batch/s, avg_loss=0.553, loss=0.\n"
     ]
    },
    {
     "name": "stdout",
     "output_type": "stream",
     "text": [
      "1150/2000 train loss: 0.5528906285762787  val loss: 0.7111489772796631\n"
     ]
    },
    {
     "name": "stderr",
     "output_type": "stream",
     "text": [
      "Epoch 1151/2000: 100%|█| 6/6 [00:06<00:00,  1.02s/batch, avg_loss=0.563, loss=0.\n"
     ]
    },
    {
     "name": "stdout",
     "output_type": "stream",
     "text": [
      "1151/2000 train loss: 0.5633494754632314  val loss: 0.7950903574625651\n"
     ]
    },
    {
     "name": "stderr",
     "output_type": "stream",
     "text": [
      "Epoch 1152/2000: 100%|█| 6/6 [00:06<00:00,  1.03s/batch, avg_loss=0.529, loss=0.\n"
     ]
    },
    {
     "name": "stdout",
     "output_type": "stream",
     "text": [
      "1152/2000 train loss: 0.528840591510137  val loss: 0.709753175576528\n"
     ]
    },
    {
     "name": "stderr",
     "output_type": "stream",
     "text": [
      "Epoch 1153/2000: 100%|█| 6/6 [00:06<00:00,  1.02s/batch, avg_loss=0.534, loss=0.\n"
     ]
    },
    {
     "name": "stdout",
     "output_type": "stream",
     "text": [
      "1153/2000 train loss: 0.5335945983727773  val loss: 0.7820993959903717\n"
     ]
    },
    {
     "name": "stderr",
     "output_type": "stream",
     "text": [
      "Epoch 1154/2000: 100%|█| 6/6 [00:05<00:00,  1.02batch/s, avg_loss=0.604, loss=0.\n"
     ]
    },
    {
     "name": "stdout",
     "output_type": "stream",
     "text": [
      "1154/2000 train loss: 0.6039192875226339  val loss: 0.8330929080645243\n"
     ]
    },
    {
     "name": "stderr",
     "output_type": "stream",
     "text": [
      "Epoch 1155/2000: 100%|█| 6/6 [00:05<00:00,  1.02batch/s, avg_loss=0.508, loss=0.\n"
     ]
    },
    {
     "name": "stdout",
     "output_type": "stream",
     "text": [
      "1155/2000 train loss: 0.5079915026823679  val loss: 0.7348796923955282\n"
     ]
    },
    {
     "name": "stderr",
     "output_type": "stream",
     "text": [
      "Epoch 1156/2000: 100%|█| 6/6 [00:05<00:00,  1.04batch/s, avg_loss=0.548, loss=0.\n"
     ]
    },
    {
     "name": "stdout",
     "output_type": "stream",
     "text": [
      "1156/2000 train loss: 0.5483700633049011  val loss: 0.7847767472267151\n"
     ]
    },
    {
     "name": "stderr",
     "output_type": "stream",
     "text": [
      "Epoch 1157/2000: 100%|█| 6/6 [00:05<00:00,  1.04batch/s, avg_loss=0.518, loss=0.\n"
     ]
    },
    {
     "name": "stdout",
     "output_type": "stream",
     "text": [
      "1157/2000 train loss: 0.5183329085508982  val loss: 0.8958624502023061\n"
     ]
    },
    {
     "name": "stderr",
     "output_type": "stream",
     "text": [
      "Epoch 1158/2000: 100%|█| 6/6 [00:05<00:00,  1.03batch/s, avg_loss=0.572, loss=0.\n"
     ]
    },
    {
     "name": "stdout",
     "output_type": "stream",
     "text": [
      "1158/2000 train loss: 0.5724853674570719  val loss: 0.763684868812561\n"
     ]
    },
    {
     "name": "stderr",
     "output_type": "stream",
     "text": [
      "Epoch 1159/2000: 100%|█| 6/6 [00:05<00:00,  1.04batch/s, avg_loss=0.537, loss=0.\n"
     ]
    },
    {
     "name": "stdout",
     "output_type": "stream",
     "text": [
      "1159/2000 train loss: 0.5365824202696482  val loss: 0.6308746735254923\n"
     ]
    },
    {
     "name": "stderr",
     "output_type": "stream",
     "text": [
      "Epoch 1160/2000: 100%|█| 6/6 [00:05<00:00,  1.04batch/s, avg_loss=0.542, loss=0.\n"
     ]
    },
    {
     "name": "stdout",
     "output_type": "stream",
     "text": [
      "1160/2000 train loss: 0.5421296954154968  val loss: 0.6711604495843252\n"
     ]
    },
    {
     "name": "stderr",
     "output_type": "stream",
     "text": [
      "Epoch 1161/2000: 100%|█| 6/6 [00:05<00:00,  1.05batch/s, avg_loss=0.526, loss=0.\n"
     ]
    },
    {
     "name": "stdout",
     "output_type": "stream",
     "text": [
      "1161/2000 train loss: 0.5258539219697317  val loss: 0.83436851700147\n"
     ]
    },
    {
     "name": "stderr",
     "output_type": "stream",
     "text": [
      "Epoch 1162/2000: 100%|█| 6/6 [00:05<00:00,  1.04batch/s, avg_loss=0.475, loss=0.\n"
     ]
    },
    {
     "name": "stdout",
     "output_type": "stream",
     "text": [
      "1162/2000 train loss: 0.47518129150072735  val loss: 0.7477784256140391\n"
     ]
    },
    {
     "name": "stderr",
     "output_type": "stream",
     "text": [
      "Epoch 1163/2000: 100%|█| 6/6 [00:05<00:00,  1.03batch/s, avg_loss=0.562, loss=0.\n"
     ]
    },
    {
     "name": "stdout",
     "output_type": "stream",
     "text": [
      "1163/2000 train loss: 0.5624759892622629  val loss: 0.794285923242569\n"
     ]
    },
    {
     "name": "stderr",
     "output_type": "stream",
     "text": [
      "Epoch 1164/2000: 100%|█| 6/6 [00:05<00:00,  1.03batch/s, avg_loss=0.574, loss=0.\n"
     ]
    },
    {
     "name": "stdout",
     "output_type": "stream",
     "text": [
      "1164/2000 train loss: 0.5737753113110861  val loss: 0.6824330389499664\n"
     ]
    },
    {
     "name": "stderr",
     "output_type": "stream",
     "text": [
      "Epoch 1165/2000: 100%|█| 6/6 [00:05<00:00,  1.02batch/s, avg_loss=0.501, loss=0.\n"
     ]
    },
    {
     "name": "stdout",
     "output_type": "stream",
     "text": [
      "1165/2000 train loss: 0.5014555156230927  val loss: 0.7461541295051575\n"
     ]
    },
    {
     "name": "stderr",
     "output_type": "stream",
     "text": [
      "Epoch 1166/2000: 100%|█| 6/6 [00:06<00:00,  1.01s/batch, avg_loss=0.525, loss=0.\n"
     ]
    },
    {
     "name": "stdout",
     "output_type": "stream",
     "text": [
      "1166/2000 train loss: 0.5248318811257681  val loss: 0.7261643807093302\n"
     ]
    },
    {
     "name": "stderr",
     "output_type": "stream",
     "text": [
      "Epoch 1167/2000: 100%|█| 6/6 [00:05<00:00,  1.03batch/s, avg_loss=0.562, loss=0.\n"
     ]
    },
    {
     "name": "stdout",
     "output_type": "stream",
     "text": [
      "1167/2000 train loss: 0.5618362029393514  val loss: 0.6950230399767557\n"
     ]
    },
    {
     "name": "stderr",
     "output_type": "stream",
     "text": [
      "Epoch 1168/2000: 100%|█| 6/6 [00:05<00:00,  1.05batch/s, avg_loss=0.518, loss=0.\n"
     ]
    },
    {
     "name": "stdout",
     "output_type": "stream",
     "text": [
      "1168/2000 train loss: 0.5181430578231812  val loss: 0.7455225388209025\n"
     ]
    },
    {
     "name": "stderr",
     "output_type": "stream",
     "text": [
      "Epoch 1169/2000: 100%|█| 6/6 [00:05<00:00,  1.04batch/s, avg_loss=0.55, loss=0.5\n"
     ]
    },
    {
     "name": "stdout",
     "output_type": "stream",
     "text": [
      "1169/2000 train loss: 0.549856036901474  val loss: 0.8131669064362844\n"
     ]
    },
    {
     "name": "stderr",
     "output_type": "stream",
     "text": [
      "Epoch 1170/2000: 100%|█| 6/6 [00:05<00:00,  1.04batch/s, avg_loss=0.5, loss=0.62\n"
     ]
    },
    {
     "name": "stdout",
     "output_type": "stream",
     "text": [
      "1170/2000 train loss: 0.49956385294596356  val loss: 0.6483124295870463\n"
     ]
    },
    {
     "name": "stderr",
     "output_type": "stream",
     "text": [
      "Epoch 1171/2000: 100%|█| 6/6 [00:05<00:00,  1.05batch/s, avg_loss=0.545, loss=0.\n"
     ]
    },
    {
     "name": "stdout",
     "output_type": "stream",
     "text": [
      "1171/2000 train loss: 0.5448028246561686  val loss: 0.7359127004941305\n"
     ]
    },
    {
     "name": "stderr",
     "output_type": "stream",
     "text": [
      "Epoch 1172/2000: 100%|█| 6/6 [00:05<00:00,  1.05batch/s, avg_loss=0.568, loss=0.\n"
     ]
    },
    {
     "name": "stdout",
     "output_type": "stream",
     "text": [
      "1172/2000 train loss: 0.568329393863678  val loss: 0.7844623525937399\n"
     ]
    },
    {
     "name": "stderr",
     "output_type": "stream",
     "text": [
      "Epoch 1173/2000: 100%|█| 6/6 [00:05<00:00,  1.05batch/s, avg_loss=0.549, loss=0.\n"
     ]
    },
    {
     "name": "stdout",
     "output_type": "stream",
     "text": [
      "1173/2000 train loss: 0.5485831300417582  val loss: 0.8729754288991293\n"
     ]
    },
    {
     "name": "stderr",
     "output_type": "stream",
     "text": [
      "Epoch 1174/2000: 100%|█| 6/6 [00:05<00:00,  1.05batch/s, avg_loss=0.51, loss=0.3\n"
     ]
    },
    {
     "name": "stdout",
     "output_type": "stream",
     "text": [
      "1174/2000 train loss: 0.5098583400249481  val loss: 0.8720185160636902\n"
     ]
    },
    {
     "name": "stderr",
     "output_type": "stream",
     "text": [
      "Epoch 1175/2000: 100%|█| 6/6 [00:05<00:00,  1.06batch/s, avg_loss=0.517, loss=0.\n"
     ]
    },
    {
     "name": "stdout",
     "output_type": "stream",
     "text": [
      "1175/2000 train loss: 0.5168671409289042  val loss: 0.6282661259174347\n"
     ]
    },
    {
     "name": "stderr",
     "output_type": "stream",
     "text": [
      "Epoch 1176/2000: 100%|█| 6/6 [00:05<00:00,  1.05batch/s, avg_loss=0.47, loss=0.4\n"
     ]
    },
    {
     "name": "stdout",
     "output_type": "stream",
     "text": [
      "1176/2000 train loss: 0.46968211730321247  val loss: 0.6770853300889333\n"
     ]
    },
    {
     "name": "stderr",
     "output_type": "stream",
     "text": [
      "Epoch 1177/2000: 100%|█| 6/6 [00:05<00:00,  1.05batch/s, avg_loss=0.568, loss=0.\n"
     ]
    },
    {
     "name": "stdout",
     "output_type": "stream",
     "text": [
      "1177/2000 train loss: 0.5679136017958323  val loss: 0.8130213717619578\n"
     ]
    },
    {
     "name": "stderr",
     "output_type": "stream",
     "text": [
      "Epoch 1178/2000: 100%|█| 6/6 [00:05<00:00,  1.06batch/s, avg_loss=0.481, loss=0.\n"
     ]
    },
    {
     "name": "stdout",
     "output_type": "stream",
     "text": [
      "1178/2000 train loss: 0.4808936317761739  val loss: 0.8000018298625946\n"
     ]
    },
    {
     "name": "stderr",
     "output_type": "stream",
     "text": [
      "Epoch 1179/2000: 100%|█| 6/6 [00:05<00:00,  1.07batch/s, avg_loss=0.585, loss=0.\n"
     ]
    },
    {
     "name": "stdout",
     "output_type": "stream",
     "text": [
      "1179/2000 train loss: 0.5853362381458282  val loss: 0.8519571920235952\n"
     ]
    },
    {
     "name": "stderr",
     "output_type": "stream",
     "text": [
      "Epoch 1180/2000: 100%|█| 6/6 [00:05<00:00,  1.07batch/s, avg_loss=0.615, loss=0.\n"
     ]
    },
    {
     "name": "stdout",
     "output_type": "stream",
     "text": [
      "1180/2000 train loss: 0.6154466271400452  val loss: 0.6913367708524069\n"
     ]
    },
    {
     "name": "stderr",
     "output_type": "stream",
     "text": [
      "Epoch 1181/2000: 100%|█| 6/6 [00:05<00:00,  1.06batch/s, avg_loss=0.506, loss=0.\n"
     ]
    },
    {
     "name": "stdout",
     "output_type": "stream",
     "text": [
      "1181/2000 train loss: 0.5056892534097036  val loss: 0.8737891912460327\n"
     ]
    },
    {
     "name": "stderr",
     "output_type": "stream",
     "text": [
      "Epoch 1182/2000: 100%|█| 6/6 [00:05<00:00,  1.05batch/s, avg_loss=0.509, loss=0.\n"
     ]
    },
    {
     "name": "stdout",
     "output_type": "stream",
     "text": [
      "1182/2000 train loss: 0.5093594988187155  val loss: 0.7959042688210806\n"
     ]
    },
    {
     "name": "stderr",
     "output_type": "stream",
     "text": [
      "Epoch 1183/2000: 100%|█| 6/6 [00:05<00:00,  1.05batch/s, avg_loss=0.569, loss=0.\n"
     ]
    },
    {
     "name": "stdout",
     "output_type": "stream",
     "text": [
      "1183/2000 train loss: 0.5694457093874613  val loss: 0.714654415845871\n"
     ]
    },
    {
     "name": "stderr",
     "output_type": "stream",
     "text": [
      "Epoch 1184/2000: 100%|█| 6/6 [00:05<00:00,  1.04batch/s, avg_loss=0.505, loss=0.\n"
     ]
    },
    {
     "name": "stdout",
     "output_type": "stream",
     "text": [
      "1184/2000 train loss: 0.5052370627721151  val loss: 0.6356707016626993\n"
     ]
    },
    {
     "name": "stderr",
     "output_type": "stream",
     "text": [
      "Epoch 1185/2000: 100%|█| 6/6 [00:05<00:00,  1.05batch/s, avg_loss=0.572, loss=0.\n"
     ]
    },
    {
     "name": "stdout",
     "output_type": "stream",
     "text": [
      "1185/2000 train loss: 0.5722190936406454  val loss: 0.794256587823232\n"
     ]
    },
    {
     "name": "stderr",
     "output_type": "stream",
     "text": [
      "Epoch 1186/2000: 100%|█| 6/6 [00:05<00:00,  1.07batch/s, avg_loss=0.531, loss=0.\n"
     ]
    },
    {
     "name": "stdout",
     "output_type": "stream",
     "text": [
      "1186/2000 train loss: 0.5311910510063171  val loss: 0.625683069229126\n"
     ]
    },
    {
     "name": "stderr",
     "output_type": "stream",
     "text": [
      "Epoch 1187/2000: 100%|█| 6/6 [00:05<00:00,  1.08batch/s, avg_loss=0.514, loss=0.\n"
     ]
    },
    {
     "name": "stdout",
     "output_type": "stream",
     "text": [
      "1187/2000 train loss: 0.5143092175324758  val loss: 0.7312928438186646\n"
     ]
    },
    {
     "name": "stderr",
     "output_type": "stream",
     "text": [
      "Epoch 1188/2000: 100%|█| 6/6 [00:05<00:00,  1.09batch/s, avg_loss=0.51, loss=0.5\n"
     ]
    },
    {
     "name": "stdout",
     "output_type": "stream",
     "text": [
      "1188/2000 train loss: 0.509550154209137  val loss: 0.8099684516588846\n"
     ]
    },
    {
     "name": "stderr",
     "output_type": "stream",
     "text": [
      "Epoch 1189/2000: 100%|█| 6/6 [00:05<00:00,  1.08batch/s, avg_loss=0.571, loss=0.\n"
     ]
    },
    {
     "name": "stdout",
     "output_type": "stream",
     "text": [
      "1189/2000 train loss: 0.5712372064590454  val loss: 0.6408955057462057\n"
     ]
    },
    {
     "name": "stderr",
     "output_type": "stream",
     "text": [
      "Epoch 1190/2000: 100%|█| 6/6 [00:05<00:00,  1.08batch/s, avg_loss=0.521, loss=0.\n"
     ]
    },
    {
     "name": "stdout",
     "output_type": "stream",
     "text": [
      "1190/2000 train loss: 0.5214626491069794  val loss: 0.77742600440979\n"
     ]
    },
    {
     "name": "stderr",
     "output_type": "stream",
     "text": [
      "Epoch 1191/2000: 100%|█| 6/6 [00:05<00:00,  1.09batch/s, avg_loss=0.529, loss=0.\n"
     ]
    },
    {
     "name": "stdout",
     "output_type": "stream",
     "text": [
      "1191/2000 train loss: 0.52918940782547  val loss: 0.6335277060667673\n"
     ]
    },
    {
     "name": "stderr",
     "output_type": "stream",
     "text": [
      "Epoch 1192/2000: 100%|█| 6/6 [00:05<00:00,  1.08batch/s, avg_loss=0.51, loss=0.5\n"
     ]
    },
    {
     "name": "stdout",
     "output_type": "stream",
     "text": [
      "1192/2000 train loss: 0.5098734299341837  val loss: 0.7919445137182871\n"
     ]
    },
    {
     "name": "stderr",
     "output_type": "stream",
     "text": [
      "Epoch 1193/2000: 100%|█| 6/6 [00:05<00:00,  1.08batch/s, avg_loss=0.524, loss=0.\n"
     ]
    },
    {
     "name": "stdout",
     "output_type": "stream",
     "text": [
      "1193/2000 train loss: 0.5235682924588522  val loss: 0.6507150332132975\n"
     ]
    },
    {
     "name": "stderr",
     "output_type": "stream",
     "text": [
      "Epoch 1194/2000: 100%|█| 6/6 [00:05<00:00,  1.08batch/s, avg_loss=0.572, loss=0.\n"
     ]
    },
    {
     "name": "stdout",
     "output_type": "stream",
     "text": [
      "1194/2000 train loss: 0.5719113846619924  val loss: 0.7951180537541708\n"
     ]
    },
    {
     "name": "stderr",
     "output_type": "stream",
     "text": [
      "Epoch 1195/2000: 100%|█| 6/6 [00:05<00:00,  1.05batch/s, avg_loss=0.615, loss=0.\n"
     ]
    },
    {
     "name": "stdout",
     "output_type": "stream",
     "text": [
      "1195/2000 train loss: 0.6153117120265961  val loss: 0.8713887731234232\n"
     ]
    },
    {
     "name": "stderr",
     "output_type": "stream",
     "text": [
      "Epoch 1196/2000: 100%|█| 6/6 [00:05<00:00,  1.05batch/s, avg_loss=0.532, loss=0.\n"
     ]
    },
    {
     "name": "stdout",
     "output_type": "stream",
     "text": [
      "1196/2000 train loss: 0.5321688850720724  val loss: 0.9174903134504954\n"
     ]
    },
    {
     "name": "stderr",
     "output_type": "stream",
     "text": [
      "Epoch 1197/2000: 100%|█| 6/6 [00:05<00:00,  1.04batch/s, avg_loss=0.556, loss=0.\n"
     ]
    },
    {
     "name": "stdout",
     "output_type": "stream",
     "text": [
      "1197/2000 train loss: 0.5563388069470724  val loss: 0.787736713886261\n"
     ]
    },
    {
     "name": "stderr",
     "output_type": "stream",
     "text": [
      "Epoch 1198/2000: 100%|█| 6/6 [00:05<00:00,  1.05batch/s, avg_loss=0.557, loss=0.\n"
     ]
    },
    {
     "name": "stdout",
     "output_type": "stream",
     "text": [
      "1198/2000 train loss: 0.5566761096318563  val loss: 0.760447750488917\n"
     ]
    },
    {
     "name": "stderr",
     "output_type": "stream",
     "text": [
      "Epoch 1199/2000: 100%|█| 6/6 [00:05<00:00,  1.07batch/s, avg_loss=0.576, loss=0.\n"
     ]
    },
    {
     "name": "stdout",
     "output_type": "stream",
     "text": [
      "1199/2000 train loss: 0.5758968492348989  val loss: 0.7494184374809265\n"
     ]
    },
    {
     "name": "stderr",
     "output_type": "stream",
     "text": [
      "Epoch 1200/2000: 100%|█| 6/6 [00:05<00:00,  1.07batch/s, avg_loss=0.514, loss=0.\n"
     ]
    },
    {
     "name": "stdout",
     "output_type": "stream",
     "text": [
      "1200/2000 train loss: 0.5144409537315369  val loss: 0.7332580784956614\n"
     ]
    },
    {
     "name": "stderr",
     "output_type": "stream",
     "text": [
      "Epoch 1201/2000: 100%|█| 6/6 [00:05<00:00,  1.07batch/s, avg_loss=0.527, loss=0.\n"
     ]
    },
    {
     "name": "stdout",
     "output_type": "stream",
     "text": [
      "1201/2000 train loss: 0.52690722544988  val loss: 0.6901211043198904\n"
     ]
    },
    {
     "name": "stderr",
     "output_type": "stream",
     "text": [
      "Epoch 1202/2000: 100%|█| 6/6 [00:05<00:00,  1.06batch/s, avg_loss=0.559, loss=0.\n"
     ]
    },
    {
     "name": "stdout",
     "output_type": "stream",
     "text": [
      "1202/2000 train loss: 0.5594951311747233  val loss: 0.8167037467161814\n"
     ]
    },
    {
     "name": "stderr",
     "output_type": "stream",
     "text": [
      "Epoch 1203/2000: 100%|█| 6/6 [00:05<00:00,  1.07batch/s, avg_loss=0.473, loss=0.\n"
     ]
    },
    {
     "name": "stdout",
     "output_type": "stream",
     "text": [
      "1203/2000 train loss: 0.47334060072898865  val loss: 0.7087633113066355\n"
     ]
    },
    {
     "name": "stderr",
     "output_type": "stream",
     "text": [
      "Epoch 1204/2000: 100%|█| 6/6 [00:05<00:00,  1.08batch/s, avg_loss=0.482, loss=0.\n"
     ]
    },
    {
     "name": "stdout",
     "output_type": "stream",
     "text": [
      "1204/2000 train loss: 0.4818359613418579  val loss: 0.7279858191808065\n"
     ]
    },
    {
     "name": "stderr",
     "output_type": "stream",
     "text": [
      "Epoch 1205/2000: 100%|█| 6/6 [00:05<00:00,  1.08batch/s, avg_loss=0.522, loss=0.\n"
     ]
    },
    {
     "name": "stdout",
     "output_type": "stream",
     "text": [
      "1205/2000 train loss: 0.522403210401535  val loss: 0.7336964905261993\n"
     ]
    },
    {
     "name": "stderr",
     "output_type": "stream",
     "text": [
      "Epoch 1206/2000: 100%|█| 6/6 [00:05<00:00,  1.08batch/s, avg_loss=0.561, loss=0.\n"
     ]
    },
    {
     "name": "stdout",
     "output_type": "stream",
     "text": [
      "1206/2000 train loss: 0.560513307650884  val loss: 0.8556487460931143\n"
     ]
    },
    {
     "name": "stderr",
     "output_type": "stream",
     "text": [
      "Epoch 1207/2000: 100%|█| 6/6 [00:05<00:00,  1.07batch/s, avg_loss=0.493, loss=0.\n"
     ]
    },
    {
     "name": "stdout",
     "output_type": "stream",
     "text": [
      "1207/2000 train loss: 0.49251307050387066  val loss: 0.7057725588480631\n"
     ]
    },
    {
     "name": "stderr",
     "output_type": "stream",
     "text": [
      "Epoch 1208/2000: 100%|█| 6/6 [00:05<00:00,  1.07batch/s, avg_loss=0.517, loss=0.\n"
     ]
    },
    {
     "name": "stdout",
     "output_type": "stream",
     "text": [
      "1208/2000 train loss: 0.5173025627930959  val loss: 0.7249441742897034\n"
     ]
    },
    {
     "name": "stderr",
     "output_type": "stream",
     "text": [
      "Epoch 1209/2000: 100%|█| 6/6 [00:05<00:00,  1.06batch/s, avg_loss=0.562, loss=0.\n"
     ]
    },
    {
     "name": "stdout",
     "output_type": "stream",
     "text": [
      "1209/2000 train loss: 0.5623679657777151  val loss: 0.886597623427709\n"
     ]
    },
    {
     "name": "stderr",
     "output_type": "stream",
     "text": [
      "Epoch 1210/2000: 100%|█| 6/6 [00:05<00:00,  1.07batch/s, avg_loss=0.481, loss=0.\n"
     ]
    },
    {
     "name": "stdout",
     "output_type": "stream",
     "text": [
      "1210/2000 train loss: 0.4808536767959595  val loss: 0.6568500300248464\n"
     ]
    },
    {
     "name": "stderr",
     "output_type": "stream",
     "text": [
      "Epoch 1211/2000: 100%|█| 6/6 [00:05<00:00,  1.07batch/s, avg_loss=0.527, loss=0.\n"
     ]
    },
    {
     "name": "stdout",
     "output_type": "stream",
     "text": [
      "1211/2000 train loss: 0.5273178021113077  val loss: 0.7138998111089071\n"
     ]
    },
    {
     "name": "stderr",
     "output_type": "stream",
     "text": [
      "Epoch 1212/2000: 100%|█| 6/6 [00:05<00:00,  1.08batch/s, avg_loss=0.52, loss=0.3\n"
     ]
    },
    {
     "name": "stdout",
     "output_type": "stream",
     "text": [
      "1212/2000 train loss: 0.519908587137858  val loss: 0.652642567952474\n"
     ]
    },
    {
     "name": "stderr",
     "output_type": "stream",
     "text": [
      "Epoch 1213/2000: 100%|█| 6/6 [00:05<00:00,  1.07batch/s, avg_loss=0.542, loss=0.\n"
     ]
    },
    {
     "name": "stdout",
     "output_type": "stream",
     "text": [
      "1213/2000 train loss: 0.5424327254295349  val loss: 0.7759714126586914\n"
     ]
    },
    {
     "name": "stderr",
     "output_type": "stream",
     "text": [
      "Epoch 1214/2000: 100%|█| 6/6 [00:05<00:00,  1.08batch/s, avg_loss=0.543, loss=0.\n"
     ]
    },
    {
     "name": "stdout",
     "output_type": "stream",
     "text": [
      "1214/2000 train loss: 0.5428686738014221  val loss: 0.8479879200458527\n"
     ]
    },
    {
     "name": "stderr",
     "output_type": "stream",
     "text": [
      "Epoch 1215/2000: 100%|█| 6/6 [00:05<00:00,  1.07batch/s, avg_loss=0.512, loss=0.\n"
     ]
    },
    {
     "name": "stdout",
     "output_type": "stream",
     "text": [
      "1215/2000 train loss: 0.5123513042926788  val loss: 0.7083300550778707\n"
     ]
    },
    {
     "name": "stderr",
     "output_type": "stream",
     "text": [
      "Epoch 1216/2000: 100%|█| 6/6 [00:05<00:00,  1.07batch/s, avg_loss=0.576, loss=0.\n"
     ]
    },
    {
     "name": "stdout",
     "output_type": "stream",
     "text": [
      "1216/2000 train loss: 0.5757369498411814  val loss: 0.7550026873747507\n"
     ]
    },
    {
     "name": "stderr",
     "output_type": "stream",
     "text": [
      "Epoch 1217/2000: 100%|█| 6/6 [00:05<00:00,  1.07batch/s, avg_loss=0.548, loss=0.\n"
     ]
    },
    {
     "name": "stdout",
     "output_type": "stream",
     "text": [
      "1217/2000 train loss: 0.5479397277037302  val loss: 0.8329305748144785\n"
     ]
    },
    {
     "name": "stderr",
     "output_type": "stream",
     "text": [
      "Epoch 1218/2000: 100%|█| 6/6 [00:05<00:00,  1.07batch/s, avg_loss=0.506, loss=0.\n"
     ]
    },
    {
     "name": "stdout",
     "output_type": "stream",
     "text": [
      "1218/2000 train loss: 0.505600760380427  val loss: 0.7181088229020437\n"
     ]
    },
    {
     "name": "stderr",
     "output_type": "stream",
     "text": [
      "Epoch 1219/2000: 100%|█| 6/6 [00:05<00:00,  1.08batch/s, avg_loss=0.558, loss=0.\n"
     ]
    },
    {
     "name": "stdout",
     "output_type": "stream",
     "text": [
      "1219/2000 train loss: 0.5575670798619589  val loss: 0.7880339125792185\n"
     ]
    },
    {
     "name": "stderr",
     "output_type": "stream",
     "text": [
      "Epoch 1220/2000: 100%|█| 6/6 [00:05<00:00,  1.07batch/s, avg_loss=0.512, loss=0.\n"
     ]
    },
    {
     "name": "stdout",
     "output_type": "stream",
     "text": [
      "1220/2000 train loss: 0.512031485637029  val loss: 0.7273936569690704\n"
     ]
    },
    {
     "name": "stderr",
     "output_type": "stream",
     "text": [
      "Epoch 1221/2000: 100%|█| 6/6 [00:05<00:00,  1.08batch/s, avg_loss=0.505, loss=0.\n"
     ]
    },
    {
     "name": "stdout",
     "output_type": "stream",
     "text": [
      "1221/2000 train loss: 0.5050080219904581  val loss: 0.883311003446579\n"
     ]
    },
    {
     "name": "stderr",
     "output_type": "stream",
     "text": [
      "Epoch 1222/2000: 100%|█| 6/6 [00:05<00:00,  1.08batch/s, avg_loss=0.524, loss=0.\n"
     ]
    },
    {
     "name": "stdout",
     "output_type": "stream",
     "text": [
      "1222/2000 train loss: 0.5239625970522562  val loss: 0.7798621455828348\n"
     ]
    },
    {
     "name": "stderr",
     "output_type": "stream",
     "text": [
      "Epoch 1223/2000: 100%|█| 6/6 [00:05<00:00,  1.07batch/s, avg_loss=0.541, loss=0.\n"
     ]
    },
    {
     "name": "stdout",
     "output_type": "stream",
     "text": [
      "1223/2000 train loss: 0.5409026741981506  val loss: 0.6960263649622599\n"
     ]
    },
    {
     "name": "stderr",
     "output_type": "stream",
     "text": [
      "Epoch 1224/2000: 100%|█| 6/6 [00:05<00:00,  1.06batch/s, avg_loss=0.597, loss=0.\n"
     ]
    },
    {
     "name": "stdout",
     "output_type": "stream",
     "text": [
      "1224/2000 train loss: 0.5966391066710154  val loss: 0.8184586862723032\n"
     ]
    },
    {
     "name": "stderr",
     "output_type": "stream",
     "text": [
      "Epoch 1225/2000: 100%|█| 6/6 [00:05<00:00,  1.07batch/s, avg_loss=0.6, loss=0.80\n"
     ]
    },
    {
     "name": "stdout",
     "output_type": "stream",
     "text": [
      "1225/2000 train loss: 0.6002696951230367  val loss: 0.5524809956550598\n"
     ]
    },
    {
     "name": "stderr",
     "output_type": "stream",
     "text": [
      "Epoch 1226/2000: 100%|█| 6/6 [00:05<00:00,  1.07batch/s, avg_loss=0.593, loss=0.\n"
     ]
    },
    {
     "name": "stdout",
     "output_type": "stream",
     "text": [
      "1226/2000 train loss: 0.5928527017434438  val loss: 0.8392442762851715\n"
     ]
    },
    {
     "name": "stderr",
     "output_type": "stream",
     "text": [
      "Epoch 1227/2000: 100%|█| 6/6 [00:05<00:00,  1.04batch/s, avg_loss=0.489, loss=0.\n"
     ]
    },
    {
     "name": "stdout",
     "output_type": "stream",
     "text": [
      "1227/2000 train loss: 0.4891835153102875  val loss: 0.8155986368656158\n"
     ]
    },
    {
     "name": "stderr",
     "output_type": "stream",
     "text": [
      "Epoch 1228/2000: 100%|█| 6/6 [00:05<00:00,  1.03batch/s, avg_loss=0.519, loss=0.\n"
     ]
    },
    {
     "name": "stdout",
     "output_type": "stream",
     "text": [
      "1228/2000 train loss: 0.5186853607495626  val loss: 0.7777664164702097\n"
     ]
    },
    {
     "name": "stderr",
     "output_type": "stream",
     "text": [
      "Epoch 1229/2000: 100%|█| 6/6 [00:05<00:00,  1.05batch/s, avg_loss=0.516, loss=0.\n"
     ]
    },
    {
     "name": "stdout",
     "output_type": "stream",
     "text": [
      "1229/2000 train loss: 0.5164974530537924  val loss: 0.7850465973218282\n"
     ]
    },
    {
     "name": "stderr",
     "output_type": "stream",
     "text": [
      "Epoch 1230/2000: 100%|█| 6/6 [00:05<00:00,  1.04batch/s, avg_loss=0.516, loss=0.\n"
     ]
    },
    {
     "name": "stdout",
     "output_type": "stream",
     "text": [
      "1230/2000 train loss: 0.5157758096853892  val loss: 0.7535203993320465\n"
     ]
    },
    {
     "name": "stderr",
     "output_type": "stream",
     "text": [
      "Epoch 1231/2000: 100%|█| 6/6 [00:05<00:00,  1.05batch/s, avg_loss=0.557, loss=0.\n"
     ]
    },
    {
     "name": "stdout",
     "output_type": "stream",
     "text": [
      "1231/2000 train loss: 0.5566983719666799  val loss: 0.7593459188938141\n"
     ]
    },
    {
     "name": "stderr",
     "output_type": "stream",
     "text": [
      "Epoch 1232/2000: 100%|█| 6/6 [00:05<00:00,  1.04batch/s, avg_loss=0.498, loss=0.\n"
     ]
    },
    {
     "name": "stdout",
     "output_type": "stream",
     "text": [
      "1232/2000 train loss: 0.49770792325337726  val loss: 0.7750395238399506\n"
     ]
    },
    {
     "name": "stderr",
     "output_type": "stream",
     "text": [
      "Epoch 1233/2000: 100%|█| 6/6 [00:05<00:00,  1.05batch/s, avg_loss=0.532, loss=0.\n"
     ]
    },
    {
     "name": "stdout",
     "output_type": "stream",
     "text": [
      "1233/2000 train loss: 0.5323951244354248  val loss: 0.6411550045013428\n"
     ]
    },
    {
     "name": "stderr",
     "output_type": "stream",
     "text": [
      "Epoch 1234/2000: 100%|█| 6/6 [00:05<00:00,  1.05batch/s, avg_loss=0.504, loss=0.\n"
     ]
    },
    {
     "name": "stdout",
     "output_type": "stream",
     "text": [
      "1234/2000 train loss: 0.5044905145963033  val loss: 0.5975842674573263\n"
     ]
    },
    {
     "name": "stderr",
     "output_type": "stream",
     "text": [
      "Epoch 1235/2000: 100%|█| 6/6 [00:05<00:00,  1.05batch/s, avg_loss=0.51, loss=0.4\n"
     ]
    },
    {
     "name": "stdout",
     "output_type": "stream",
     "text": [
      "1235/2000 train loss: 0.509707103172938  val loss: 0.7149206002553304\n"
     ]
    },
    {
     "name": "stderr",
     "output_type": "stream",
     "text": [
      "Epoch 1236/2000: 100%|█| 6/6 [00:05<00:00,  1.06batch/s, avg_loss=0.524, loss=0.\n"
     ]
    },
    {
     "name": "stdout",
     "output_type": "stream",
     "text": [
      "1236/2000 train loss: 0.5238050421079  val loss: 0.7398674984773\n"
     ]
    },
    {
     "name": "stderr",
     "output_type": "stream",
     "text": [
      "Epoch 1237/2000: 100%|█| 6/6 [00:05<00:00,  1.05batch/s, avg_loss=0.489, loss=0.\n"
     ]
    },
    {
     "name": "stdout",
     "output_type": "stream",
     "text": [
      "1237/2000 train loss: 0.4887041648228963  val loss: 0.7215438485145569\n"
     ]
    },
    {
     "name": "stderr",
     "output_type": "stream",
     "text": [
      "Epoch 1238/2000: 100%|█| 6/6 [00:05<00:00,  1.03batch/s, avg_loss=0.503, loss=0.\n"
     ]
    },
    {
     "name": "stdout",
     "output_type": "stream",
     "text": [
      "1238/2000 train loss: 0.5033185482025146  val loss: 0.7245866159598032\n"
     ]
    },
    {
     "name": "stderr",
     "output_type": "stream",
     "text": [
      "Epoch 1239/2000: 100%|█| 6/6 [00:05<00:00,  1.03batch/s, avg_loss=0.525, loss=0.\n"
     ]
    },
    {
     "name": "stdout",
     "output_type": "stream",
     "text": [
      "1239/2000 train loss: 0.5248503883679708  val loss: 0.7012375990549723\n"
     ]
    },
    {
     "name": "stderr",
     "output_type": "stream",
     "text": [
      "Epoch 1240/2000: 100%|█| 6/6 [00:05<00:00,  1.03batch/s, avg_loss=0.504, loss=0.\n"
     ]
    },
    {
     "name": "stdout",
     "output_type": "stream",
     "text": [
      "1240/2000 train loss: 0.5036551356315613  val loss: 0.8436342279116312\n"
     ]
    },
    {
     "name": "stderr",
     "output_type": "stream",
     "text": [
      "Epoch 1241/2000: 100%|█| 6/6 [00:05<00:00,  1.04batch/s, avg_loss=0.521, loss=0.\n"
     ]
    },
    {
     "name": "stdout",
     "output_type": "stream",
     "text": [
      "1241/2000 train loss: 0.5205915669600168  val loss: 0.7204252580801646\n"
     ]
    },
    {
     "name": "stderr",
     "output_type": "stream",
     "text": [
      "Epoch 1242/2000: 100%|█| 6/6 [00:05<00:00,  1.04batch/s, avg_loss=0.544, loss=0.\n"
     ]
    },
    {
     "name": "stdout",
     "output_type": "stream",
     "text": [
      "1242/2000 train loss: 0.5444329480330149  val loss: 0.7255938251813253\n"
     ]
    },
    {
     "name": "stderr",
     "output_type": "stream",
     "text": [
      "Epoch 1243/2000: 100%|█| 6/6 [00:05<00:00,  1.04batch/s, avg_loss=0.487, loss=0.\n"
     ]
    },
    {
     "name": "stdout",
     "output_type": "stream",
     "text": [
      "1243/2000 train loss: 0.4868330955505371  val loss: 0.776384194691976\n"
     ]
    },
    {
     "name": "stderr",
     "output_type": "stream",
     "text": [
      "Epoch 1244/2000: 100%|█| 6/6 [00:05<00:00,  1.06batch/s, avg_loss=0.482, loss=0.\n"
     ]
    },
    {
     "name": "stdout",
     "output_type": "stream",
     "text": [
      "1244/2000 train loss: 0.48235708475112915  val loss: 0.7496304015318552\n"
     ]
    },
    {
     "name": "stderr",
     "output_type": "stream",
     "text": [
      "Epoch 1245/2000: 100%|█| 6/6 [00:05<00:00,  1.05batch/s, avg_loss=0.596, loss=0.\n"
     ]
    },
    {
     "name": "stdout",
     "output_type": "stream",
     "text": [
      "1245/2000 train loss: 0.5959968666235606  val loss: 0.6591638227303823\n"
     ]
    },
    {
     "name": "stderr",
     "output_type": "stream",
     "text": [
      "Epoch 1246/2000: 100%|█| 6/6 [00:05<00:00,  1.05batch/s, avg_loss=0.512, loss=0.\n"
     ]
    },
    {
     "name": "stdout",
     "output_type": "stream",
     "text": [
      "1246/2000 train loss: 0.5115975936253866  val loss: 0.8952675859133402\n"
     ]
    },
    {
     "name": "stderr",
     "output_type": "stream",
     "text": [
      "Epoch 1247/2000: 100%|█| 6/6 [00:05<00:00,  1.05batch/s, avg_loss=0.521, loss=0.\n"
     ]
    },
    {
     "name": "stdout",
     "output_type": "stream",
     "text": [
      "1247/2000 train loss: 0.5205175777276357  val loss: 0.8842164178689321\n"
     ]
    },
    {
     "name": "stderr",
     "output_type": "stream",
     "text": [
      "Epoch 1248/2000: 100%|█| 6/6 [00:05<00:00,  1.04batch/s, avg_loss=0.494, loss=0.\n"
     ]
    },
    {
     "name": "stdout",
     "output_type": "stream",
     "text": [
      "1248/2000 train loss: 0.49395569165547687  val loss: 0.64261195063591\n"
     ]
    },
    {
     "name": "stderr",
     "output_type": "stream",
     "text": [
      "Epoch 1249/2000: 100%|█| 6/6 [00:05<00:00,  1.05batch/s, avg_loss=0.513, loss=0.\n"
     ]
    },
    {
     "name": "stdout",
     "output_type": "stream",
     "text": [
      "1249/2000 train loss: 0.5133432745933533  val loss: 0.8224942882855734\n"
     ]
    },
    {
     "name": "stderr",
     "output_type": "stream",
     "text": [
      "Epoch 1250/2000: 100%|█| 6/6 [00:05<00:00,  1.04batch/s, avg_loss=0.516, loss=0.\n"
     ]
    },
    {
     "name": "stdout",
     "output_type": "stream",
     "text": [
      "1250/2000 train loss: 0.516139974196752  val loss: 0.6831009984016418\n"
     ]
    },
    {
     "name": "stderr",
     "output_type": "stream",
     "text": [
      "Epoch 1251/2000: 100%|█| 6/6 [00:05<00:00,  1.05batch/s, avg_loss=0.516, loss=0.\n"
     ]
    },
    {
     "name": "stdout",
     "output_type": "stream",
     "text": [
      "1251/2000 train loss: 0.5157114863395691  val loss: 0.7391947706540426\n"
     ]
    },
    {
     "name": "stderr",
     "output_type": "stream",
     "text": [
      "Epoch 1252/2000: 100%|█| 6/6 [00:05<00:00,  1.05batch/s, avg_loss=0.521, loss=0.\n"
     ]
    },
    {
     "name": "stdout",
     "output_type": "stream",
     "text": [
      "1252/2000 train loss: 0.5207938154538473  val loss: 0.8805385828018188\n"
     ]
    },
    {
     "name": "stderr",
     "output_type": "stream",
     "text": [
      "Epoch 1253/2000: 100%|█| 6/6 [00:05<00:00,  1.04batch/s, avg_loss=0.538, loss=0.\n"
     ]
    },
    {
     "name": "stdout",
     "output_type": "stream",
     "text": [
      "1253/2000 train loss: 0.5381703575452169  val loss: 0.7251534561316172\n"
     ]
    },
    {
     "name": "stderr",
     "output_type": "stream",
     "text": [
      "Epoch 1254/2000: 100%|█| 6/6 [00:05<00:00,  1.04batch/s, avg_loss=0.473, loss=0.\n"
     ]
    },
    {
     "name": "stdout",
     "output_type": "stream",
     "text": [
      "1254/2000 train loss: 0.4728586475054423  val loss: 0.6753996014595032\n"
     ]
    },
    {
     "name": "stderr",
     "output_type": "stream",
     "text": [
      "Epoch 1255/2000: 100%|█| 6/6 [00:05<00:00,  1.04batch/s, avg_loss=0.504, loss=0.\n"
     ]
    },
    {
     "name": "stdout",
     "output_type": "stream",
     "text": [
      "1255/2000 train loss: 0.5035639007886251  val loss: 0.7276221613089243\n"
     ]
    },
    {
     "name": "stderr",
     "output_type": "stream",
     "text": [
      "Epoch 1256/2000: 100%|█| 6/6 [00:05<00:00,  1.05batch/s, avg_loss=0.569, loss=0.\n"
     ]
    },
    {
     "name": "stdout",
     "output_type": "stream",
     "text": [
      "1256/2000 train loss: 0.5693126420180002  val loss: 0.6680956681569418\n"
     ]
    },
    {
     "name": "stderr",
     "output_type": "stream",
     "text": [
      "Epoch 1257/2000: 100%|█| 6/6 [00:05<00:00,  1.05batch/s, avg_loss=0.523, loss=0.\n"
     ]
    },
    {
     "name": "stdout",
     "output_type": "stream",
     "text": [
      "1257/2000 train loss: 0.5233456691106161  val loss: 0.8083286285400391\n"
     ]
    },
    {
     "name": "stderr",
     "output_type": "stream",
     "text": [
      "Epoch 1258/2000: 100%|█| 6/6 [00:05<00:00,  1.05batch/s, avg_loss=0.504, loss=0.\n"
     ]
    },
    {
     "name": "stdout",
     "output_type": "stream",
     "text": [
      "1258/2000 train loss: 0.5042286515235901  val loss: 0.8413462241490682\n"
     ]
    },
    {
     "name": "stderr",
     "output_type": "stream",
     "text": [
      "Epoch 1259/2000: 100%|█| 6/6 [00:05<00:00,  1.05batch/s, avg_loss=0.513, loss=0.\n"
     ]
    },
    {
     "name": "stdout",
     "output_type": "stream",
     "text": [
      "1259/2000 train loss: 0.5130667785803477  val loss: 0.8699084520339966\n"
     ]
    },
    {
     "name": "stderr",
     "output_type": "stream",
     "text": [
      "Epoch 1260/2000: 100%|█| 6/6 [00:05<00:00,  1.05batch/s, avg_loss=0.543, loss=0.\n"
     ]
    },
    {
     "name": "stdout",
     "output_type": "stream",
     "text": [
      "1260/2000 train loss: 0.5432247122128805  val loss: 0.8097139994303385\n"
     ]
    },
    {
     "name": "stderr",
     "output_type": "stream",
     "text": [
      "Epoch 1261/2000: 100%|█| 6/6 [00:05<00:00,  1.05batch/s, avg_loss=0.452, loss=0.\n"
     ]
    },
    {
     "name": "stdout",
     "output_type": "stream",
     "text": [
      "1261/2000 train loss: 0.45193344354629517  val loss: 0.7481250663598379\n"
     ]
    },
    {
     "name": "stderr",
     "output_type": "stream",
     "text": [
      "Epoch 1262/2000: 100%|█| 6/6 [00:05<00:00,  1.05batch/s, avg_loss=0.498, loss=0.\n"
     ]
    },
    {
     "name": "stdout",
     "output_type": "stream",
     "text": [
      "1262/2000 train loss: 0.49826614061991376  val loss: 0.839875191450119\n"
     ]
    },
    {
     "name": "stderr",
     "output_type": "stream",
     "text": [
      "Epoch 1263/2000: 100%|█| 6/6 [00:05<00:00,  1.05batch/s, avg_loss=0.56, loss=0.3\n"
     ]
    },
    {
     "name": "stdout",
     "output_type": "stream",
     "text": [
      "1263/2000 train loss: 0.5595855812231699  val loss: 0.7837072710196177\n"
     ]
    },
    {
     "name": "stderr",
     "output_type": "stream",
     "text": [
      "Epoch 1264/2000: 100%|█| 6/6 [00:05<00:00,  1.05batch/s, avg_loss=0.547, loss=0.\n"
     ]
    },
    {
     "name": "stdout",
     "output_type": "stream",
     "text": [
      "1264/2000 train loss: 0.546661247809728  val loss: 0.7291758954524994\n"
     ]
    },
    {
     "name": "stderr",
     "output_type": "stream",
     "text": [
      "Epoch 1265/2000: 100%|█| 6/6 [00:05<00:00,  1.05batch/s, avg_loss=0.481, loss=0.\n"
     ]
    },
    {
     "name": "stdout",
     "output_type": "stream",
     "text": [
      "1265/2000 train loss: 0.4808029731114705  val loss: 0.7626856565475464\n"
     ]
    },
    {
     "name": "stderr",
     "output_type": "stream",
     "text": [
      "Epoch 1266/2000: 100%|█| 6/6 [00:05<00:00,  1.06batch/s, avg_loss=0.507, loss=0.\n"
     ]
    },
    {
     "name": "stdout",
     "output_type": "stream",
     "text": [
      "1266/2000 train loss: 0.5065220991770426  val loss: 0.7335249582926432\n"
     ]
    },
    {
     "name": "stderr",
     "output_type": "stream",
     "text": [
      "Epoch 1267/2000: 100%|█| 6/6 [00:05<00:00,  1.07batch/s, avg_loss=0.46, loss=0.3\n"
     ]
    },
    {
     "name": "stdout",
     "output_type": "stream",
     "text": [
      "1267/2000 train loss: 0.4604780673980713  val loss: 0.6887173453966776\n"
     ]
    },
    {
     "name": "stderr",
     "output_type": "stream",
     "text": [
      "Epoch 1268/2000: 100%|█| 6/6 [00:05<00:00,  1.07batch/s, avg_loss=0.56, loss=0.4\n"
     ]
    },
    {
     "name": "stdout",
     "output_type": "stream",
     "text": [
      "1268/2000 train loss: 0.5596367915471395  val loss: 0.659996767838796\n"
     ]
    },
    {
     "name": "stderr",
     "output_type": "stream",
     "text": [
      "Epoch 1269/2000: 100%|█| 6/6 [00:05<00:00,  1.06batch/s, avg_loss=0.521, loss=0.\n"
     ]
    },
    {
     "name": "stdout",
     "output_type": "stream",
     "text": [
      "1269/2000 train loss: 0.5205274522304535  val loss: 0.7885566155115763\n"
     ]
    },
    {
     "name": "stderr",
     "output_type": "stream",
     "text": [
      "Epoch 1270/2000: 100%|█| 6/6 [00:05<00:00,  1.06batch/s, avg_loss=0.532, loss=0.\n"
     ]
    },
    {
     "name": "stdout",
     "output_type": "stream",
     "text": [
      "1270/2000 train loss: 0.5321854551633199  val loss: 0.9288022915522257\n"
     ]
    },
    {
     "name": "stderr",
     "output_type": "stream",
     "text": [
      "Epoch 1271/2000: 100%|█| 6/6 [00:05<00:00,  1.06batch/s, avg_loss=0.529, loss=0.\n"
     ]
    },
    {
     "name": "stdout",
     "output_type": "stream",
     "text": [
      "1271/2000 train loss: 0.5290581583976746  val loss: 0.7014709015687307\n"
     ]
    },
    {
     "name": "stderr",
     "output_type": "stream",
     "text": [
      "Epoch 1272/2000: 100%|█| 6/6 [00:05<00:00,  1.06batch/s, avg_loss=0.535, loss=0.\n"
     ]
    },
    {
     "name": "stdout",
     "output_type": "stream",
     "text": [
      "1272/2000 train loss: 0.5346009929974874  val loss: 0.7017456193765005\n"
     ]
    },
    {
     "name": "stderr",
     "output_type": "stream",
     "text": [
      "Epoch 1273/2000: 100%|█| 6/6 [00:05<00:00,  1.06batch/s, avg_loss=0.546, loss=0.\n"
     ]
    },
    {
     "name": "stdout",
     "output_type": "stream",
     "text": [
      "1273/2000 train loss: 0.5455679992834727  val loss: 0.9226638376712799\n"
     ]
    },
    {
     "name": "stderr",
     "output_type": "stream",
     "text": [
      "Epoch 1274/2000: 100%|█| 6/6 [00:05<00:00,  1.06batch/s, avg_loss=0.497, loss=0.\n"
     ]
    },
    {
     "name": "stdout",
     "output_type": "stream",
     "text": [
      "1274/2000 train loss: 0.49652527769406635  val loss: 0.8884888490041097\n"
     ]
    },
    {
     "name": "stderr",
     "output_type": "stream",
     "text": [
      "Epoch 1275/2000: 100%|█| 6/6 [00:05<00:00,  1.08batch/s, avg_loss=0.469, loss=0.\n"
     ]
    },
    {
     "name": "stdout",
     "output_type": "stream",
     "text": [
      "1275/2000 train loss: 0.46940972407658893  val loss: 0.7510673403739929\n"
     ]
    },
    {
     "name": "stderr",
     "output_type": "stream",
     "text": [
      "Epoch 1276/2000: 100%|█| 6/6 [00:05<00:00,  1.07batch/s, avg_loss=0.53, loss=0.7\n"
     ]
    },
    {
     "name": "stdout",
     "output_type": "stream",
     "text": [
      "1276/2000 train loss: 0.5296989778677622  val loss: 0.807003249724706\n"
     ]
    },
    {
     "name": "stderr",
     "output_type": "stream",
     "text": [
      "Epoch 1277/2000: 100%|█| 6/6 [00:05<00:00,  1.08batch/s, avg_loss=0.534, loss=0.\n"
     ]
    },
    {
     "name": "stdout",
     "output_type": "stream",
     "text": [
      "1277/2000 train loss: 0.5341241161028544  val loss: 0.8889469901720682\n"
     ]
    },
    {
     "name": "stderr",
     "output_type": "stream",
     "text": [
      "Epoch 1278/2000: 100%|█| 6/6 [00:05<00:00,  1.08batch/s, avg_loss=0.64, loss=0.4\n"
     ]
    },
    {
     "name": "stdout",
     "output_type": "stream",
     "text": [
      "1278/2000 train loss: 0.6398579378922781  val loss: 0.7940012216567993\n"
     ]
    },
    {
     "name": "stderr",
     "output_type": "stream",
     "text": [
      "Epoch 1279/2000: 100%|█| 6/6 [00:05<00:00,  1.07batch/s, avg_loss=0.519, loss=0.\n"
     ]
    },
    {
     "name": "stdout",
     "output_type": "stream",
     "text": [
      "1279/2000 train loss: 0.518525610367457  val loss: 0.740150143702825\n"
     ]
    },
    {
     "name": "stderr",
     "output_type": "stream",
     "text": [
      "Epoch 1280/2000: 100%|█| 6/6 [00:05<00:00,  1.08batch/s, avg_loss=0.603, loss=0.\n"
     ]
    },
    {
     "name": "stdout",
     "output_type": "stream",
     "text": [
      "1280/2000 train loss: 0.6033731400966644  val loss: 0.67925958832105\n"
     ]
    },
    {
     "name": "stderr",
     "output_type": "stream",
     "text": [
      "Epoch 1281/2000: 100%|█| 6/6 [00:05<00:00,  1.07batch/s, avg_loss=0.535, loss=0.\n"
     ]
    },
    {
     "name": "stdout",
     "output_type": "stream",
     "text": [
      "1281/2000 train loss: 0.5347575147946676  val loss: 0.7877763509750366\n"
     ]
    },
    {
     "name": "stderr",
     "output_type": "stream",
     "text": [
      "Epoch 1282/2000: 100%|█| 6/6 [00:05<00:00,  1.07batch/s, avg_loss=0.525, loss=0.\n"
     ]
    },
    {
     "name": "stdout",
     "output_type": "stream",
     "text": [
      "1282/2000 train loss: 0.5252768297990164  val loss: 0.8143211801846822\n"
     ]
    },
    {
     "name": "stderr",
     "output_type": "stream",
     "text": [
      "Epoch 1283/2000: 100%|█| 6/6 [00:05<00:00,  1.07batch/s, avg_loss=0.597, loss=0.\n"
     ]
    },
    {
     "name": "stdout",
     "output_type": "stream",
     "text": [
      "1283/2000 train loss: 0.5973612169424692  val loss: 0.8220003048578898\n"
     ]
    },
    {
     "name": "stderr",
     "output_type": "stream",
     "text": [
      "Epoch 1284/2000: 100%|█| 6/6 [00:05<00:00,  1.05batch/s, avg_loss=0.506, loss=0.\n"
     ]
    },
    {
     "name": "stdout",
     "output_type": "stream",
     "text": [
      "1284/2000 train loss: 0.5055630008379618  val loss: 0.78072656194369\n"
     ]
    },
    {
     "name": "stderr",
     "output_type": "stream",
     "text": [
      "Epoch 1285/2000: 100%|█| 6/6 [00:05<00:00,  1.05batch/s, avg_loss=0.509, loss=0.\n"
     ]
    },
    {
     "name": "stdout",
     "output_type": "stream",
     "text": [
      "1285/2000 train loss: 0.5090089837710062  val loss: 0.7078583240509033\n"
     ]
    },
    {
     "name": "stderr",
     "output_type": "stream",
     "text": [
      "Epoch 1286/2000: 100%|█| 6/6 [00:05<00:00,  1.08batch/s, avg_loss=0.526, loss=0.\n"
     ]
    },
    {
     "name": "stdout",
     "output_type": "stream",
     "text": [
      "1286/2000 train loss: 0.5264493425687155  val loss: 0.7199113865693411\n"
     ]
    },
    {
     "name": "stderr",
     "output_type": "stream",
     "text": [
      "Epoch 1287/2000: 100%|█| 6/6 [00:05<00:00,  1.05batch/s, avg_loss=0.592, loss=0.\n"
     ]
    },
    {
     "name": "stdout",
     "output_type": "stream",
     "text": [
      "1287/2000 train loss: 0.5920468469460806  val loss: 0.8762308855851492\n"
     ]
    },
    {
     "name": "stderr",
     "output_type": "stream",
     "text": [
      "Epoch 1288/2000: 100%|█| 6/6 [00:05<00:00,  1.05batch/s, avg_loss=0.586, loss=0.\n"
     ]
    },
    {
     "name": "stdout",
     "output_type": "stream",
     "text": [
      "1288/2000 train loss: 0.586055060227712  val loss: 0.7926313976446787\n"
     ]
    },
    {
     "name": "stderr",
     "output_type": "stream",
     "text": [
      "Epoch 1289/2000: 100%|█| 6/6 [00:05<00:00,  1.07batch/s, avg_loss=0.533, loss=0.\n"
     ]
    },
    {
     "name": "stdout",
     "output_type": "stream",
     "text": [
      "1289/2000 train loss: 0.5325866341590881  val loss: 0.6249705851078033\n"
     ]
    },
    {
     "name": "stderr",
     "output_type": "stream",
     "text": [
      "Epoch 1290/2000: 100%|█| 6/6 [00:05<00:00,  1.05batch/s, avg_loss=0.46, loss=0.4\n"
     ]
    },
    {
     "name": "stdout",
     "output_type": "stream",
     "text": [
      "1290/2000 train loss: 0.460032860438029  val loss: 0.7992814977963766\n"
     ]
    },
    {
     "name": "stderr",
     "output_type": "stream",
     "text": [
      "Epoch 1291/2000: 100%|█| 6/6 [00:05<00:00,  1.02batch/s, avg_loss=0.46, loss=0.4\n"
     ]
    },
    {
     "name": "stdout",
     "output_type": "stream",
     "text": [
      "1291/2000 train loss: 0.4600747426350911  val loss: 0.7544410626093546\n"
     ]
    },
    {
     "name": "stderr",
     "output_type": "stream",
     "text": [
      "Epoch 1292/2000: 100%|█| 6/6 [00:05<00:00,  1.07batch/s, avg_loss=0.516, loss=0.\n"
     ]
    },
    {
     "name": "stdout",
     "output_type": "stream",
     "text": [
      "1292/2000 train loss: 0.5164117912451426  val loss: 0.7717577219009399\n"
     ]
    },
    {
     "name": "stderr",
     "output_type": "stream",
     "text": [
      "Epoch 1293/2000: 100%|█| 6/6 [00:05<00:00,  1.00batch/s, avg_loss=0.508, loss=0.\n"
     ]
    },
    {
     "name": "stdout",
     "output_type": "stream",
     "text": [
      "1293/2000 train loss: 0.5080508987108866  val loss: 0.8087204694747925\n"
     ]
    },
    {
     "name": "stderr",
     "output_type": "stream",
     "text": [
      "Epoch 1294/2000: 100%|█| 6/6 [00:05<00:00,  1.03batch/s, avg_loss=0.546, loss=0.\n"
     ]
    },
    {
     "name": "stdout",
     "output_type": "stream",
     "text": [
      "1294/2000 train loss: 0.5464619100093842  val loss: 0.9274288415908813\n"
     ]
    },
    {
     "name": "stderr",
     "output_type": "stream",
     "text": [
      "Epoch 1295/2000: 100%|█| 6/6 [00:05<00:00,  1.07batch/s, avg_loss=0.497, loss=0.\n"
     ]
    },
    {
     "name": "stdout",
     "output_type": "stream",
     "text": [
      "1295/2000 train loss: 0.4966590305169423  val loss: 0.7559360166390737\n"
     ]
    },
    {
     "name": "stderr",
     "output_type": "stream",
     "text": [
      "Epoch 1296/2000: 100%|█| 6/6 [00:05<00:00,  1.04batch/s, avg_loss=0.551, loss=0.\n"
     ]
    },
    {
     "name": "stdout",
     "output_type": "stream",
     "text": [
      "1296/2000 train loss: 0.5512921313444773  val loss: 0.7101764678955078\n"
     ]
    },
    {
     "name": "stderr",
     "output_type": "stream",
     "text": [
      "Epoch 1297/2000: 100%|█| 6/6 [00:05<00:00,  1.06batch/s, avg_loss=0.508, loss=0.\n"
     ]
    },
    {
     "name": "stdout",
     "output_type": "stream",
     "text": [
      "1297/2000 train loss: 0.5081634024779002  val loss: 0.7523070573806763\n"
     ]
    },
    {
     "name": "stderr",
     "output_type": "stream",
     "text": [
      "Epoch 1298/2000: 100%|█| 6/6 [00:05<00:00,  1.08batch/s, avg_loss=0.511, loss=0.\n"
     ]
    },
    {
     "name": "stdout",
     "output_type": "stream",
     "text": [
      "1298/2000 train loss: 0.5105173587799072  val loss: 0.7367941538492838\n"
     ]
    },
    {
     "name": "stderr",
     "output_type": "stream",
     "text": [
      "Epoch 1299/2000: 100%|█| 6/6 [00:05<00:00,  1.04batch/s, avg_loss=0.474, loss=0.\n"
     ]
    },
    {
     "name": "stdout",
     "output_type": "stream",
     "text": [
      "1299/2000 train loss: 0.4739739994208018  val loss: 0.5979576706886292\n"
     ]
    },
    {
     "name": "stderr",
     "output_type": "stream",
     "text": [
      "Epoch 1300/2000: 100%|█| 6/6 [00:05<00:00,  1.07batch/s, avg_loss=0.493, loss=0.\n"
     ]
    },
    {
     "name": "stdout",
     "output_type": "stream",
     "text": [
      "1300/2000 train loss: 0.49273934960365295  val loss: 0.7922930320103964\n"
     ]
    },
    {
     "name": "stderr",
     "output_type": "stream",
     "text": [
      "Epoch 1301/2000: 100%|█| 6/6 [00:05<00:00,  1.09batch/s, avg_loss=0.508, loss=0.\n"
     ]
    },
    {
     "name": "stdout",
     "output_type": "stream",
     "text": [
      "1301/2000 train loss: 0.5077861646811167  val loss: 0.7977863053480784\n"
     ]
    },
    {
     "name": "stderr",
     "output_type": "stream",
     "text": [
      "Epoch 1302/2000: 100%|█| 6/6 [00:05<00:00,  1.04batch/s, avg_loss=0.58, loss=0.6\n"
     ]
    },
    {
     "name": "stdout",
     "output_type": "stream",
     "text": [
      "1302/2000 train loss: 0.5798062980175018  val loss: 0.6713945070902506\n"
     ]
    },
    {
     "name": "stderr",
     "output_type": "stream",
     "text": [
      "Epoch 1303/2000: 100%|█| 6/6 [00:05<00:00,  1.06batch/s, avg_loss=0.485, loss=0.\n"
     ]
    },
    {
     "name": "stdout",
     "output_type": "stream",
     "text": [
      "1303/2000 train loss: 0.48503783345222473  val loss: 0.7928470174471537\n"
     ]
    },
    {
     "name": "stderr",
     "output_type": "stream",
     "text": [
      "Epoch 1304/2000: 100%|█| 6/6 [00:05<00:00,  1.07batch/s, avg_loss=0.564, loss=0.\n"
     ]
    },
    {
     "name": "stdout",
     "output_type": "stream",
     "text": [
      "1304/2000 train loss: 0.5640400648117065  val loss: 0.8536094625790914\n"
     ]
    },
    {
     "name": "stderr",
     "output_type": "stream",
     "text": [
      "Epoch 1305/2000: 100%|█| 6/6 [00:05<00:00,  1.04batch/s, avg_loss=0.529, loss=0.\n"
     ]
    },
    {
     "name": "stdout",
     "output_type": "stream",
     "text": [
      "1305/2000 train loss: 0.5291123489538828  val loss: 0.7616651554902395\n"
     ]
    },
    {
     "name": "stderr",
     "output_type": "stream",
     "text": [
      "Epoch 1306/2000: 100%|█| 6/6 [00:05<00:00,  1.06batch/s, avg_loss=0.547, loss=0.\n"
     ]
    },
    {
     "name": "stdout",
     "output_type": "stream",
     "text": [
      "1306/2000 train loss: 0.5467645128568014  val loss: 0.785869429508845\n"
     ]
    },
    {
     "name": "stderr",
     "output_type": "stream",
     "text": [
      "Epoch 1307/2000: 100%|█| 6/6 [00:05<00:00,  1.07batch/s, avg_loss=0.514, loss=0.\n"
     ]
    },
    {
     "name": "stdout",
     "output_type": "stream",
     "text": [
      "1307/2000 train loss: 0.5144299666086832  val loss: 0.8910894791285197\n"
     ]
    },
    {
     "name": "stderr",
     "output_type": "stream",
     "text": [
      "Epoch 1308/2000: 100%|█| 6/6 [00:05<00:00,  1.05batch/s, avg_loss=0.517, loss=0.\n"
     ]
    },
    {
     "name": "stdout",
     "output_type": "stream",
     "text": [
      "1308/2000 train loss: 0.5171478390693665  val loss: 0.7878470321496328\n"
     ]
    },
    {
     "name": "stderr",
     "output_type": "stream",
     "text": [
      "Epoch 1309/2000: 100%|█| 6/6 [00:05<00:00,  1.06batch/s, avg_loss=0.511, loss=0.\n"
     ]
    },
    {
     "name": "stdout",
     "output_type": "stream",
     "text": [
      "1309/2000 train loss: 0.5105299750963846  val loss: 0.8300229211648306\n"
     ]
    },
    {
     "name": "stderr",
     "output_type": "stream",
     "text": [
      "Epoch 1310/2000: 100%|█| 6/6 [00:05<00:00,  1.07batch/s, avg_loss=0.494, loss=0.\n"
     ]
    },
    {
     "name": "stdout",
     "output_type": "stream",
     "text": [
      "1310/2000 train loss: 0.49442262450853985  val loss: 0.7080603837966919\n"
     ]
    },
    {
     "name": "stderr",
     "output_type": "stream",
     "text": [
      "Epoch 1311/2000: 100%|█| 6/6 [00:05<00:00,  1.04batch/s, avg_loss=0.547, loss=0.\n"
     ]
    },
    {
     "name": "stdout",
     "output_type": "stream",
     "text": [
      "1311/2000 train loss: 0.5467524528503418  val loss: 0.8385298351446787\n"
     ]
    },
    {
     "name": "stderr",
     "output_type": "stream",
     "text": [
      "Epoch 1312/2000: 100%|█| 6/6 [00:05<00:00,  1.05batch/s, avg_loss=0.516, loss=0.\n"
     ]
    },
    {
     "name": "stdout",
     "output_type": "stream",
     "text": [
      "1312/2000 train loss: 0.5159253974755605  val loss: 0.7536747753620148\n"
     ]
    },
    {
     "name": "stderr",
     "output_type": "stream",
     "text": [
      "Epoch 1313/2000: 100%|█| 6/6 [00:05<00:00,  1.08batch/s, avg_loss=0.542, loss=0.\n"
     ]
    },
    {
     "name": "stdout",
     "output_type": "stream",
     "text": [
      "1313/2000 train loss: 0.5420551896095276  val loss: 0.6483988066514333\n"
     ]
    },
    {
     "name": "stderr",
     "output_type": "stream",
     "text": [
      "Epoch 1314/2000: 100%|█| 6/6 [00:05<00:00,  1.07batch/s, avg_loss=0.549, loss=0.\n"
     ]
    },
    {
     "name": "stdout",
     "output_type": "stream",
     "text": [
      "1314/2000 train loss: 0.5488298137982687  val loss: 0.6967452466487885\n"
     ]
    },
    {
     "name": "stderr",
     "output_type": "stream",
     "text": [
      "Epoch 1315/2000: 100%|█| 6/6 [00:05<00:00,  1.05batch/s, avg_loss=0.517, loss=0.\n"
     ]
    },
    {
     "name": "stdout",
     "output_type": "stream",
     "text": [
      "1315/2000 train loss: 0.5167143742243449  val loss: 0.6658901770909628\n"
     ]
    },
    {
     "name": "stderr",
     "output_type": "stream",
     "text": [
      "Epoch 1316/2000: 100%|█| 6/6 [00:05<00:00,  1.04batch/s, avg_loss=0.562, loss=0.\n"
     ]
    },
    {
     "name": "stdout",
     "output_type": "stream",
     "text": [
      "1316/2000 train loss: 0.5622665782769521  val loss: 0.5958955983320872\n"
     ]
    },
    {
     "name": "stderr",
     "output_type": "stream",
     "text": [
      "Epoch 1317/2000: 100%|█| 6/6 [00:05<00:00,  1.05batch/s, avg_loss=0.505, loss=0.\n"
     ]
    },
    {
     "name": "stdout",
     "output_type": "stream",
     "text": [
      "1317/2000 train loss: 0.5053811570008596  val loss: 0.7777930299441019\n"
     ]
    },
    {
     "name": "stderr",
     "output_type": "stream",
     "text": [
      "Epoch 1318/2000: 100%|█| 6/6 [00:05<00:00,  1.06batch/s, avg_loss=0.508, loss=0.\n"
     ]
    },
    {
     "name": "stdout",
     "output_type": "stream",
     "text": [
      "1318/2000 train loss: 0.507733146349589  val loss: 0.8981987833976746\n"
     ]
    },
    {
     "name": "stderr",
     "output_type": "stream",
     "text": [
      "Epoch 1319/2000: 100%|█| 6/6 [00:05<00:00,  1.06batch/s, avg_loss=0.541, loss=0.\n"
     ]
    },
    {
     "name": "stdout",
     "output_type": "stream",
     "text": [
      "1319/2000 train loss: 0.5409193138281504  val loss: 0.7429523269335429\n"
     ]
    },
    {
     "name": "stderr",
     "output_type": "stream",
     "text": [
      "Epoch 1320/2000: 100%|█| 6/6 [00:05<00:00,  1.05batch/s, avg_loss=0.516, loss=0.\n"
     ]
    },
    {
     "name": "stdout",
     "output_type": "stream",
     "text": [
      "1320/2000 train loss: 0.5162429014841715  val loss: 0.7341713905334473\n"
     ]
    },
    {
     "name": "stderr",
     "output_type": "stream",
     "text": [
      "Epoch 1321/2000: 100%|█| 6/6 [00:05<00:00,  1.05batch/s, avg_loss=0.552, loss=0.\n"
     ]
    },
    {
     "name": "stdout",
     "output_type": "stream",
     "text": [
      "1321/2000 train loss: 0.5523166457811991  val loss: 0.8169009685516357\n"
     ]
    },
    {
     "name": "stderr",
     "output_type": "stream",
     "text": [
      "Epoch 1322/2000: 100%|█| 6/6 [00:05<00:00,  1.05batch/s, avg_loss=0.561, loss=0.\n"
     ]
    },
    {
     "name": "stdout",
     "output_type": "stream",
     "text": [
      "1322/2000 train loss: 0.5606596767902374  val loss: 0.9306880235671997\n"
     ]
    },
    {
     "name": "stderr",
     "output_type": "stream",
     "text": [
      "Epoch 1323/2000: 100%|█| 6/6 [00:05<00:00,  1.05batch/s, avg_loss=0.503, loss=0.\n"
     ]
    },
    {
     "name": "stdout",
     "output_type": "stream",
     "text": [
      "1323/2000 train loss: 0.5029891033967336  val loss: 0.7259115477403005\n"
     ]
    },
    {
     "name": "stderr",
     "output_type": "stream",
     "text": [
      "Epoch 1324/2000: 100%|█| 6/6 [00:05<00:00,  1.06batch/s, avg_loss=0.556, loss=0.\n"
     ]
    },
    {
     "name": "stdout",
     "output_type": "stream",
     "text": [
      "1324/2000 train loss: 0.5555836856365204  val loss: 0.6376999715963999\n"
     ]
    },
    {
     "name": "stderr",
     "output_type": "stream",
     "text": [
      "Epoch 1325/2000: 100%|█| 6/6 [00:05<00:00,  1.05batch/s, avg_loss=0.455, loss=0.\n"
     ]
    },
    {
     "name": "stdout",
     "output_type": "stream",
     "text": [
      "1325/2000 train loss: 0.4552994469801585  val loss: 0.8279159168402354\n"
     ]
    },
    {
     "name": "stderr",
     "output_type": "stream",
     "text": [
      "Epoch 1326/2000: 100%|█| 6/6 [00:05<00:00,  1.04batch/s, avg_loss=0.533, loss=0.\n"
     ]
    },
    {
     "name": "stdout",
     "output_type": "stream",
     "text": [
      "1326/2000 train loss: 0.5328306158383688  val loss: 0.8554573754469553\n"
     ]
    },
    {
     "name": "stderr",
     "output_type": "stream",
     "text": [
      "Epoch 1327/2000: 100%|█| 6/6 [00:05<00:00,  1.04batch/s, avg_loss=0.536, loss=0.\n"
     ]
    },
    {
     "name": "stdout",
     "output_type": "stream",
     "text": [
      "1327/2000 train loss: 0.5356999337673187  val loss: 0.6499544481436411\n"
     ]
    },
    {
     "name": "stderr",
     "output_type": "stream",
     "text": [
      "Epoch 1328/2000: 100%|█| 6/6 [00:05<00:00,  1.05batch/s, avg_loss=0.506, loss=0.\n"
     ]
    },
    {
     "name": "stdout",
     "output_type": "stream",
     "text": [
      "1328/2000 train loss: 0.5058065752188364  val loss: 0.751435250043869\n"
     ]
    },
    {
     "name": "stderr",
     "output_type": "stream",
     "text": [
      "Epoch 1329/2000: 100%|█| 6/6 [00:05<00:00,  1.05batch/s, avg_loss=0.492, loss=0.\n"
     ]
    },
    {
     "name": "stdout",
     "output_type": "stream",
     "text": [
      "1329/2000 train loss: 0.4918749729792277  val loss: 0.7606830596923828\n"
     ]
    },
    {
     "name": "stderr",
     "output_type": "stream",
     "text": [
      "Epoch 1330/2000: 100%|█| 6/6 [00:05<00:00,  1.05batch/s, avg_loss=0.552, loss=0.\n"
     ]
    },
    {
     "name": "stdout",
     "output_type": "stream",
     "text": [
      "1330/2000 train loss: 0.5522760351498922  val loss: 0.8483599325021108\n"
     ]
    },
    {
     "name": "stderr",
     "output_type": "stream",
     "text": [
      "Epoch 1331/2000: 100%|█| 6/6 [00:05<00:00,  1.05batch/s, avg_loss=0.49, loss=0.4\n"
     ]
    },
    {
     "name": "stdout",
     "output_type": "stream",
     "text": [
      "1331/2000 train loss: 0.4901876548926036  val loss: 0.7962143321832021\n"
     ]
    },
    {
     "name": "stderr",
     "output_type": "stream",
     "text": [
      "Epoch 1332/2000: 100%|█| 6/6 [00:05<00:00,  1.05batch/s, avg_loss=0.495, loss=0.\n"
     ]
    },
    {
     "name": "stdout",
     "output_type": "stream",
     "text": [
      "1332/2000 train loss: 0.495086411635081  val loss: 0.7905788024266561\n"
     ]
    },
    {
     "name": "stderr",
     "output_type": "stream",
     "text": [
      "Epoch 1333/2000: 100%|█| 6/6 [00:05<00:00,  1.05batch/s, avg_loss=0.509, loss=0.\n"
     ]
    },
    {
     "name": "stdout",
     "output_type": "stream",
     "text": [
      "1333/2000 train loss: 0.5086852411429087  val loss: 0.8145267268021902\n"
     ]
    },
    {
     "name": "stderr",
     "output_type": "stream",
     "text": [
      "Epoch 1334/2000: 100%|█| 6/6 [00:05<00:00,  1.05batch/s, avg_loss=0.508, loss=0.\n"
     ]
    },
    {
     "name": "stdout",
     "output_type": "stream",
     "text": [
      "1334/2000 train loss: 0.5084082285563151  val loss: 0.9116245706876119\n"
     ]
    },
    {
     "name": "stderr",
     "output_type": "stream",
     "text": [
      "Epoch 1335/2000: 100%|█| 6/6 [00:05<00:00,  1.05batch/s, avg_loss=0.496, loss=0.\n"
     ]
    },
    {
     "name": "stdout",
     "output_type": "stream",
     "text": [
      "1335/2000 train loss: 0.4961580236752828  val loss: 0.7666950325171152\n"
     ]
    },
    {
     "name": "stderr",
     "output_type": "stream",
     "text": [
      "Epoch 1336/2000: 100%|█| 6/6 [00:05<00:00,  1.05batch/s, avg_loss=0.489, loss=0.\n"
     ]
    },
    {
     "name": "stdout",
     "output_type": "stream",
     "text": [
      "1336/2000 train loss: 0.48876036206881207  val loss: 0.83999631802241\n"
     ]
    },
    {
     "name": "stderr",
     "output_type": "stream",
     "text": [
      "Epoch 1337/2000: 100%|█| 6/6 [00:05<00:00,  1.05batch/s, avg_loss=0.475, loss=0.\n"
     ]
    },
    {
     "name": "stdout",
     "output_type": "stream",
     "text": [
      "1337/2000 train loss: 0.4746317168076833  val loss: 0.7502760291099548\n"
     ]
    },
    {
     "name": "stderr",
     "output_type": "stream",
     "text": [
      "Epoch 1338/2000: 100%|█| 6/6 [00:05<00:00,  1.04batch/s, avg_loss=0.51, loss=0.5\n"
     ]
    },
    {
     "name": "stdout",
     "output_type": "stream",
     "text": [
      "1338/2000 train loss: 0.5098847250143687  val loss: 0.6315010587374369\n"
     ]
    },
    {
     "name": "stderr",
     "output_type": "stream",
     "text": [
      "Epoch 1339/2000: 100%|█| 6/6 [00:05<00:00,  1.04batch/s, avg_loss=0.43, loss=0.3\n"
     ]
    },
    {
     "name": "stdout",
     "output_type": "stream",
     "text": [
      "1339/2000 train loss: 0.4297533929347992  val loss: 0.8526600499947866\n"
     ]
    },
    {
     "name": "stderr",
     "output_type": "stream",
     "text": [
      "Epoch 1340/2000: 100%|█| 6/6 [00:05<00:00,  1.05batch/s, avg_loss=0.523, loss=0.\n"
     ]
    },
    {
     "name": "stdout",
     "output_type": "stream",
     "text": [
      "1340/2000 train loss: 0.5225324928760529  val loss: 0.761122594277064\n"
     ]
    },
    {
     "name": "stderr",
     "output_type": "stream",
     "text": [
      "Epoch 1341/2000: 100%|█| 6/6 [00:05<00:00,  1.05batch/s, avg_loss=0.572, loss=0.\n"
     ]
    },
    {
     "name": "stdout",
     "output_type": "stream",
     "text": [
      "1341/2000 train loss: 0.572457512219747  val loss: 0.821275015672048\n"
     ]
    },
    {
     "name": "stderr",
     "output_type": "stream",
     "text": [
      "Epoch 1342/2000: 100%|█| 6/6 [00:05<00:00,  1.05batch/s, avg_loss=0.54, loss=0.8\n"
     ]
    },
    {
     "name": "stdout",
     "output_type": "stream",
     "text": [
      "1342/2000 train loss: 0.5403304298718771  val loss: 0.7014481027921041\n"
     ]
    },
    {
     "name": "stderr",
     "output_type": "stream",
     "text": [
      "Epoch 1343/2000: 100%|█| 6/6 [00:05<00:00,  1.05batch/s, avg_loss=0.504, loss=0.\n"
     ]
    },
    {
     "name": "stdout",
     "output_type": "stream",
     "text": [
      "1343/2000 train loss: 0.5044297377268473  val loss: 0.6682438353697459\n"
     ]
    },
    {
     "name": "stderr",
     "output_type": "stream",
     "text": [
      "Epoch 1344/2000: 100%|█| 6/6 [00:05<00:00,  1.04batch/s, avg_loss=0.562, loss=0.\n"
     ]
    },
    {
     "name": "stdout",
     "output_type": "stream",
     "text": [
      "1344/2000 train loss: 0.5620687107245127  val loss: 0.7583189209302267\n"
     ]
    },
    {
     "name": "stderr",
     "output_type": "stream",
     "text": [
      "Epoch 1345/2000: 100%|█| 6/6 [00:05<00:00,  1.04batch/s, avg_loss=0.491, loss=0.\n"
     ]
    },
    {
     "name": "stdout",
     "output_type": "stream",
     "text": [
      "1345/2000 train loss: 0.49062005678812665  val loss: 0.8036996523539225\n"
     ]
    },
    {
     "name": "stderr",
     "output_type": "stream",
     "text": [
      "Epoch 1346/2000: 100%|█| 6/6 [00:05<00:00,  1.04batch/s, avg_loss=0.527, loss=0.\n"
     ]
    },
    {
     "name": "stdout",
     "output_type": "stream",
     "text": [
      "1346/2000 train loss: 0.5271768271923065  val loss: 0.790441612402598\n"
     ]
    },
    {
     "name": "stderr",
     "output_type": "stream",
     "text": [
      "Epoch 1347/2000: 100%|█| 6/6 [00:05<00:00,  1.04batch/s, avg_loss=0.482, loss=0.\n"
     ]
    },
    {
     "name": "stdout",
     "output_type": "stream",
     "text": [
      "1347/2000 train loss: 0.4821159839630127  val loss: 0.7536848684151968\n"
     ]
    },
    {
     "name": "stderr",
     "output_type": "stream",
     "text": [
      "Epoch 1348/2000: 100%|█| 6/6 [00:05<00:00,  1.03batch/s, avg_loss=0.487, loss=0.\n"
     ]
    },
    {
     "name": "stdout",
     "output_type": "stream",
     "text": [
      "1348/2000 train loss: 0.4871233105659485  val loss: 0.6201110680898031\n"
     ]
    },
    {
     "name": "stderr",
     "output_type": "stream",
     "text": [
      "Epoch 1349/2000: 100%|█| 6/6 [00:05<00:00,  1.05batch/s, avg_loss=0.58, loss=0.4\n"
     ]
    },
    {
     "name": "stdout",
     "output_type": "stream",
     "text": [
      "1349/2000 train loss: 0.5796811679999033  val loss: 0.7890879313151041\n"
     ]
    },
    {
     "name": "stderr",
     "output_type": "stream",
     "text": [
      "Epoch 1350/2000: 100%|█| 6/6 [00:05<00:00,  1.05batch/s, avg_loss=0.469, loss=0.\n"
     ]
    },
    {
     "name": "stdout",
     "output_type": "stream",
     "text": [
      "1350/2000 train loss: 0.46922125418980914  val loss: 0.7441613972187042\n"
     ]
    },
    {
     "name": "stderr",
     "output_type": "stream",
     "text": [
      "Epoch 1351/2000: 100%|█| 6/6 [00:05<00:00,  1.05batch/s, avg_loss=0.514, loss=0.\n"
     ]
    },
    {
     "name": "stdout",
     "output_type": "stream",
     "text": [
      "1351/2000 train loss: 0.5140365560849508  val loss: 0.6598517596721649\n"
     ]
    },
    {
     "name": "stderr",
     "output_type": "stream",
     "text": [
      "Epoch 1352/2000: 100%|█| 6/6 [00:05<00:00,  1.05batch/s, avg_loss=0.531, loss=0.\n"
     ]
    },
    {
     "name": "stdout",
     "output_type": "stream",
     "text": [
      "1352/2000 train loss: 0.531297375758489  val loss: 0.6627967754999796\n"
     ]
    },
    {
     "name": "stderr",
     "output_type": "stream",
     "text": [
      "Epoch 1353/2000: 100%|█| 6/6 [00:05<00:00,  1.05batch/s, avg_loss=0.545, loss=0.\n"
     ]
    },
    {
     "name": "stdout",
     "output_type": "stream",
     "text": [
      "1353/2000 train loss: 0.5452959537506104  val loss: 0.7653943002223969\n"
     ]
    },
    {
     "name": "stderr",
     "output_type": "stream",
     "text": [
      "Epoch 1354/2000: 100%|█| 6/6 [00:05<00:00,  1.05batch/s, avg_loss=0.511, loss=0.\n"
     ]
    },
    {
     "name": "stdout",
     "output_type": "stream",
     "text": [
      "1354/2000 train loss: 0.5113054613272349  val loss: 0.9175493816534678\n"
     ]
    },
    {
     "name": "stderr",
     "output_type": "stream",
     "text": [
      "Epoch 1355/2000: 100%|█| 6/6 [00:05<00:00,  1.05batch/s, avg_loss=0.485, loss=0.\n"
     ]
    },
    {
     "name": "stdout",
     "output_type": "stream",
     "text": [
      "1355/2000 train loss: 0.4854799012343089  val loss: 0.9002368648846945\n"
     ]
    },
    {
     "name": "stderr",
     "output_type": "stream",
     "text": [
      "Epoch 1356/2000: 100%|█| 6/6 [00:05<00:00,  1.06batch/s, avg_loss=0.509, loss=0.\n"
     ]
    },
    {
     "name": "stdout",
     "output_type": "stream",
     "text": [
      "1356/2000 train loss: 0.5092222392559052  val loss: 0.7512192030747732\n"
     ]
    },
    {
     "name": "stderr",
     "output_type": "stream",
     "text": [
      "Epoch 1357/2000: 100%|█| 6/6 [00:05<00:00,  1.05batch/s, avg_loss=0.447, loss=0.\n"
     ]
    },
    {
     "name": "stdout",
     "output_type": "stream",
     "text": [
      "1357/2000 train loss: 0.4469657043615977  val loss: 0.801732579867045\n"
     ]
    },
    {
     "name": "stderr",
     "output_type": "stream",
     "text": [
      "Epoch 1358/2000: 100%|█| 6/6 [00:05<00:00,  1.05batch/s, avg_loss=0.539, loss=0.\n"
     ]
    },
    {
     "name": "stdout",
     "output_type": "stream",
     "text": [
      "1358/2000 train loss: 0.5389072597026825  val loss: 0.6775999565919241\n"
     ]
    },
    {
     "name": "stderr",
     "output_type": "stream",
     "text": [
      "Epoch 1359/2000: 100%|█| 6/6 [00:05<00:00,  1.05batch/s, avg_loss=0.583, loss=0.\n"
     ]
    },
    {
     "name": "stdout",
     "output_type": "stream",
     "text": [
      "1359/2000 train loss: 0.5832640727361044  val loss: 0.813724547624588\n"
     ]
    },
    {
     "name": "stderr",
     "output_type": "stream",
     "text": [
      "Epoch 1360/2000: 100%|█| 6/6 [00:05<00:00,  1.05batch/s, avg_loss=0.448, loss=0.\n"
     ]
    },
    {
     "name": "stdout",
     "output_type": "stream",
     "text": [
      "1360/2000 train loss: 0.4476785759131114  val loss: 0.7705588837464651\n"
     ]
    },
    {
     "name": "stderr",
     "output_type": "stream",
     "text": [
      "Epoch 1361/2000: 100%|█| 6/6 [00:05<00:00,  1.04batch/s, avg_loss=0.583, loss=0.\n"
     ]
    },
    {
     "name": "stdout",
     "output_type": "stream",
     "text": [
      "1361/2000 train loss: 0.5825300017992655  val loss: 0.889763206243515\n"
     ]
    },
    {
     "name": "stderr",
     "output_type": "stream",
     "text": [
      "Epoch 1362/2000: 100%|█| 6/6 [00:05<00:00,  1.04batch/s, avg_loss=0.502, loss=0.\n"
     ]
    },
    {
     "name": "stdout",
     "output_type": "stream",
     "text": [
      "1362/2000 train loss: 0.50216872493426  val loss: 0.8462508718172709\n"
     ]
    },
    {
     "name": "stderr",
     "output_type": "stream",
     "text": [
      "Epoch 1363/2000: 100%|█| 6/6 [00:05<00:00,  1.04batch/s, avg_loss=0.527, loss=0.\n"
     ]
    },
    {
     "name": "stdout",
     "output_type": "stream",
     "text": [
      "1363/2000 train loss: 0.5269202490647634  val loss: 0.8532999058564504\n"
     ]
    },
    {
     "name": "stderr",
     "output_type": "stream",
     "text": [
      "Epoch 1364/2000: 100%|█| 6/6 [00:05<00:00,  1.04batch/s, avg_loss=0.511, loss=0.\n"
     ]
    },
    {
     "name": "stdout",
     "output_type": "stream",
     "text": [
      "1364/2000 train loss: 0.5107361872990926  val loss: 0.6848260263601939\n"
     ]
    },
    {
     "name": "stderr",
     "output_type": "stream",
     "text": [
      "Epoch 1365/2000: 100%|█| 6/6 [00:05<00:00,  1.04batch/s, avg_loss=0.491, loss=0.\n"
     ]
    },
    {
     "name": "stdout",
     "output_type": "stream",
     "text": [
      "1365/2000 train loss: 0.49139418204625446  val loss: 0.7029990752538046\n"
     ]
    },
    {
     "name": "stderr",
     "output_type": "stream",
     "text": [
      "Epoch 1366/2000: 100%|█| 6/6 [00:05<00:00,  1.04batch/s, avg_loss=0.501, loss=0.\n"
     ]
    },
    {
     "name": "stdout",
     "output_type": "stream",
     "text": [
      "1366/2000 train loss: 0.5005318423112234  val loss: 0.8389383256435394\n"
     ]
    },
    {
     "name": "stderr",
     "output_type": "stream",
     "text": [
      "Epoch 1367/2000: 100%|█| 6/6 [00:05<00:00,  1.06batch/s, avg_loss=0.492, loss=0.\n"
     ]
    },
    {
     "name": "stdout",
     "output_type": "stream",
     "text": [
      "1367/2000 train loss: 0.4918469190597534  val loss: 0.6560244063536326\n"
     ]
    },
    {
     "name": "stderr",
     "output_type": "stream",
     "text": [
      "Epoch 1368/2000: 100%|█| 6/6 [00:05<00:00,  1.05batch/s, avg_loss=0.526, loss=0.\n"
     ]
    },
    {
     "name": "stdout",
     "output_type": "stream",
     "text": [
      "1368/2000 train loss: 0.5261041820049286  val loss: 0.6765864292780558\n"
     ]
    },
    {
     "name": "stderr",
     "output_type": "stream",
     "text": [
      "Epoch 1369/2000: 100%|█| 6/6 [00:05<00:00,  1.06batch/s, avg_loss=0.465, loss=0.\n"
     ]
    },
    {
     "name": "stdout",
     "output_type": "stream",
     "text": [
      "1369/2000 train loss: 0.4646523594856262  val loss: 0.6891306936740875\n"
     ]
    },
    {
     "name": "stderr",
     "output_type": "stream",
     "text": [
      "Epoch 1370/2000: 100%|█| 6/6 [00:05<00:00,  1.06batch/s, avg_loss=0.448, loss=0.\n"
     ]
    },
    {
     "name": "stdout",
     "output_type": "stream",
     "text": [
      "1370/2000 train loss: 0.44764626026153564  val loss: 0.6799882849057516\n"
     ]
    },
    {
     "name": "stderr",
     "output_type": "stream",
     "text": [
      "Epoch 1371/2000: 100%|█| 6/6 [00:05<00:00,  1.06batch/s, avg_loss=0.522, loss=0.\n"
     ]
    },
    {
     "name": "stdout",
     "output_type": "stream",
     "text": [
      "1371/2000 train loss: 0.5219226976235708  val loss: 0.8590992391109467\n"
     ]
    },
    {
     "name": "stderr",
     "output_type": "stream",
     "text": [
      "Epoch 1372/2000: 100%|█| 6/6 [00:05<00:00,  1.06batch/s, avg_loss=0.532, loss=0.\n"
     ]
    },
    {
     "name": "stdout",
     "output_type": "stream",
     "text": [
      "1372/2000 train loss: 0.5315150221188863  val loss: 0.6240136623382568\n"
     ]
    },
    {
     "name": "stderr",
     "output_type": "stream",
     "text": [
      "Epoch 1373/2000: 100%|█| 6/6 [00:05<00:00,  1.07batch/s, avg_loss=0.527, loss=0.\n"
     ]
    },
    {
     "name": "stdout",
     "output_type": "stream",
     "text": [
      "1373/2000 train loss: 0.527173231045405  val loss: 0.9085122148195902\n"
     ]
    },
    {
     "name": "stderr",
     "output_type": "stream",
     "text": [
      "Epoch 1374/2000: 100%|█| 6/6 [00:05<00:00,  1.07batch/s, avg_loss=0.465, loss=0.\n"
     ]
    },
    {
     "name": "stdout",
     "output_type": "stream",
     "text": [
      "1374/2000 train loss: 0.4652341902256012  val loss: 0.7308571636676788\n"
     ]
    },
    {
     "name": "stderr",
     "output_type": "stream",
     "text": [
      "Epoch 1375/2000: 100%|█| 6/6 [00:05<00:00,  1.05batch/s, avg_loss=0.51, loss=0.4\n"
     ]
    },
    {
     "name": "stdout",
     "output_type": "stream",
     "text": [
      "1375/2000 train loss: 0.5100820859273275  val loss: 0.7720389068126678\n"
     ]
    },
    {
     "name": "stderr",
     "output_type": "stream",
     "text": [
      "Epoch 1376/2000: 100%|█| 6/6 [00:05<00:00,  1.06batch/s, avg_loss=0.518, loss=0.\n"
     ]
    },
    {
     "name": "stdout",
     "output_type": "stream",
     "text": [
      "1376/2000 train loss: 0.5178581873575846  val loss: 0.8297609786192576\n"
     ]
    },
    {
     "name": "stderr",
     "output_type": "stream",
     "text": [
      "Epoch 1377/2000: 100%|█| 6/6 [00:05<00:00,  1.06batch/s, avg_loss=0.51, loss=0.4\n"
     ]
    },
    {
     "name": "stdout",
     "output_type": "stream",
     "text": [
      "1377/2000 train loss: 0.5098199446996053  val loss: 0.7943854530652364\n"
     ]
    },
    {
     "name": "stderr",
     "output_type": "stream",
     "text": [
      "Epoch 1378/2000: 100%|█| 6/6 [00:05<00:00,  1.06batch/s, avg_loss=0.555, loss=0.\n"
     ]
    },
    {
     "name": "stdout",
     "output_type": "stream",
     "text": [
      "1378/2000 train loss: 0.555014431476593  val loss: 0.6740745902061462\n"
     ]
    },
    {
     "name": "stderr",
     "output_type": "stream",
     "text": [
      "Epoch 1379/2000: 100%|█| 6/6 [00:05<00:00,  1.05batch/s, avg_loss=0.48, loss=0.4\n"
     ]
    },
    {
     "name": "stdout",
     "output_type": "stream",
     "text": [
      "1379/2000 train loss: 0.4800476133823395  val loss: 0.8738868435223898\n"
     ]
    },
    {
     "name": "stderr",
     "output_type": "stream",
     "text": [
      "Epoch 1380/2000: 100%|█| 6/6 [00:05<00:00,  1.05batch/s, avg_loss=0.538, loss=0.\n"
     ]
    },
    {
     "name": "stdout",
     "output_type": "stream",
     "text": [
      "1380/2000 train loss: 0.538324385881424  val loss: 0.7832875748475393\n"
     ]
    },
    {
     "name": "stderr",
     "output_type": "stream",
     "text": [
      "Epoch 1381/2000: 100%|█| 6/6 [00:05<00:00,  1.06batch/s, avg_loss=0.493, loss=0.\n"
     ]
    },
    {
     "name": "stdout",
     "output_type": "stream",
     "text": [
      "1381/2000 train loss: 0.4934358298778534  val loss: 0.774827390909195\n"
     ]
    },
    {
     "name": "stderr",
     "output_type": "stream",
     "text": [
      "Epoch 1382/2000: 100%|█| 6/6 [00:05<00:00,  1.07batch/s, avg_loss=0.472, loss=0.\n"
     ]
    },
    {
     "name": "stdout",
     "output_type": "stream",
     "text": [
      "1382/2000 train loss: 0.471923828125  val loss: 0.8038046558698019\n"
     ]
    },
    {
     "name": "stderr",
     "output_type": "stream",
     "text": [
      "Epoch 1383/2000: 100%|█| 6/6 [00:05<00:00,  1.07batch/s, avg_loss=0.568, loss=0.\n"
     ]
    },
    {
     "name": "stdout",
     "output_type": "stream",
     "text": [
      "1383/2000 train loss: 0.5678117175896963  val loss: 0.6805035869280497\n"
     ]
    },
    {
     "name": "stderr",
     "output_type": "stream",
     "text": [
      "Epoch 1384/2000: 100%|█| 6/6 [00:05<00:00,  1.08batch/s, avg_loss=0.537, loss=0.\n"
     ]
    },
    {
     "name": "stdout",
     "output_type": "stream",
     "text": [
      "1384/2000 train loss: 0.5365700423717499  val loss: 0.8519004185994467\n"
     ]
    },
    {
     "name": "stderr",
     "output_type": "stream",
     "text": [
      "Epoch 1385/2000: 100%|█| 6/6 [00:05<00:00,  1.05batch/s, avg_loss=0.502, loss=0.\n"
     ]
    },
    {
     "name": "stdout",
     "output_type": "stream",
     "text": [
      "1385/2000 train loss: 0.5018608470757803  val loss: 0.6976886093616486\n"
     ]
    },
    {
     "name": "stderr",
     "output_type": "stream",
     "text": [
      "Epoch 1386/2000: 100%|█| 6/6 [00:05<00:00,  1.05batch/s, avg_loss=0.586, loss=0.\n"
     ]
    },
    {
     "name": "stdout",
     "output_type": "stream",
     "text": [
      "1386/2000 train loss: 0.5857417186101278  val loss: 0.7807613511880239\n"
     ]
    },
    {
     "name": "stderr",
     "output_type": "stream",
     "text": [
      "Epoch 1387/2000: 100%|█| 6/6 [00:05<00:00,  1.05batch/s, avg_loss=0.497, loss=0.\n"
     ]
    },
    {
     "name": "stdout",
     "output_type": "stream",
     "text": [
      "1387/2000 train loss: 0.49726055065790814  val loss: 0.7969309190909067\n"
     ]
    },
    {
     "name": "stderr",
     "output_type": "stream",
     "text": [
      "Epoch 1388/2000: 100%|█| 6/6 [00:05<00:00,  1.05batch/s, avg_loss=0.518, loss=0.\n"
     ]
    },
    {
     "name": "stdout",
     "output_type": "stream",
     "text": [
      "1388/2000 train loss: 0.5176963011423746  val loss: 0.8114363253116608\n"
     ]
    },
    {
     "name": "stderr",
     "output_type": "stream",
     "text": [
      "Epoch 1389/2000: 100%|█| 6/6 [00:05<00:00,  1.05batch/s, avg_loss=0.489, loss=0.\n"
     ]
    },
    {
     "name": "stdout",
     "output_type": "stream",
     "text": [
      "1389/2000 train loss: 0.48893147706985474  val loss: 0.6730338831742605\n"
     ]
    },
    {
     "name": "stderr",
     "output_type": "stream",
     "text": [
      "Epoch 1390/2000: 100%|█| 6/6 [00:05<00:00,  1.07batch/s, avg_loss=0.544, loss=0.\n"
     ]
    },
    {
     "name": "stdout",
     "output_type": "stream",
     "text": [
      "1390/2000 train loss: 0.5444098909695944  val loss: 0.8754697442054749\n"
     ]
    },
    {
     "name": "stderr",
     "output_type": "stream",
     "text": [
      "Epoch 1391/2000: 100%|█| 6/6 [00:05<00:00,  1.07batch/s, avg_loss=0.583, loss=0.\n"
     ]
    },
    {
     "name": "stdout",
     "output_type": "stream",
     "text": [
      "1391/2000 train loss: 0.5828539331754049  val loss: 0.6209518313407898\n"
     ]
    },
    {
     "name": "stderr",
     "output_type": "stream",
     "text": [
      "Epoch 1392/2000: 100%|█| 6/6 [00:05<00:00,  1.07batch/s, avg_loss=0.488, loss=0.\n"
     ]
    },
    {
     "name": "stdout",
     "output_type": "stream",
     "text": [
      "1392/2000 train loss: 0.4877760310967763  val loss: 0.6202589571475983\n"
     ]
    },
    {
     "name": "stderr",
     "output_type": "stream",
     "text": [
      "Epoch 1393/2000: 100%|█| 6/6 [00:05<00:00,  1.08batch/s, avg_loss=0.487, loss=0.\n"
     ]
    },
    {
     "name": "stdout",
     "output_type": "stream",
     "text": [
      "1393/2000 train loss: 0.486965815226237  val loss: 0.6364426414171854\n"
     ]
    },
    {
     "name": "stderr",
     "output_type": "stream",
     "text": [
      "Epoch 1394/2000: 100%|█| 6/6 [00:05<00:00,  1.08batch/s, avg_loss=0.435, loss=0.\n"
     ]
    },
    {
     "name": "stdout",
     "output_type": "stream",
     "text": [
      "1394/2000 train loss: 0.435392568508784  val loss: 0.8034220635890961\n"
     ]
    },
    {
     "name": "stderr",
     "output_type": "stream",
     "text": [
      "Epoch 1395/2000: 100%|█| 6/6 [00:05<00:00,  1.07batch/s, avg_loss=0.512, loss=0.\n"
     ]
    },
    {
     "name": "stdout",
     "output_type": "stream",
     "text": [
      "1395/2000 train loss: 0.5117944578329722  val loss: 0.8318157494068146\n"
     ]
    },
    {
     "name": "stderr",
     "output_type": "stream",
     "text": [
      "Epoch 1396/2000: 100%|█| 6/6 [00:05<00:00,  1.06batch/s, avg_loss=0.5, loss=0.25\n"
     ]
    },
    {
     "name": "stdout",
     "output_type": "stream",
     "text": [
      "1396/2000 train loss: 0.5000953674316406  val loss: 0.7414990166823069\n"
     ]
    },
    {
     "name": "stderr",
     "output_type": "stream",
     "text": [
      "Epoch 1397/2000: 100%|█| 6/6 [00:05<00:00,  1.08batch/s, avg_loss=0.497, loss=0.\n"
     ]
    },
    {
     "name": "stdout",
     "output_type": "stream",
     "text": [
      "1397/2000 train loss: 0.4967804551124573  val loss: 0.826893816391627\n"
     ]
    },
    {
     "name": "stderr",
     "output_type": "stream",
     "text": [
      "Epoch 1398/2000: 100%|█| 6/6 [00:05<00:00,  1.09batch/s, avg_loss=0.482, loss=0.\n"
     ]
    },
    {
     "name": "stdout",
     "output_type": "stream",
     "text": [
      "1398/2000 train loss: 0.4820631941159566  val loss: 0.7232109506924947\n"
     ]
    },
    {
     "name": "stderr",
     "output_type": "stream",
     "text": [
      "Epoch 1399/2000: 100%|█| 6/6 [00:05<00:00,  1.06batch/s, avg_loss=0.457, loss=0.\n"
     ]
    },
    {
     "name": "stdout",
     "output_type": "stream",
     "text": [
      "1399/2000 train loss: 0.45749586820602417  val loss: 0.8161368370056152\n"
     ]
    },
    {
     "name": "stderr",
     "output_type": "stream",
     "text": [
      "Epoch 1400/2000: 100%|█| 6/6 [00:05<00:00,  1.05batch/s, avg_loss=0.58, loss=0.3\n"
     ]
    },
    {
     "name": "stdout",
     "output_type": "stream",
     "text": [
      "1400/2000 train loss: 0.5799949069817861  val loss: 0.8267810046672821\n"
     ]
    },
    {
     "name": "stderr",
     "output_type": "stream",
     "text": [
      "Epoch 1401/2000: 100%|█| 6/6 [00:05<00:00,  1.04batch/s, avg_loss=0.408, loss=0.\n"
     ]
    },
    {
     "name": "stdout",
     "output_type": "stream",
     "text": [
      "1401/2000 train loss: 0.4084649384021759  val loss: 0.8824493288993835\n"
     ]
    },
    {
     "name": "stderr",
     "output_type": "stream",
     "text": [
      "Epoch 1402/2000: 100%|█| 6/6 [00:05<00:00,  1.06batch/s, avg_loss=0.48, loss=0.4\n"
     ]
    },
    {
     "name": "stdout",
     "output_type": "stream",
     "text": [
      "1402/2000 train loss: 0.4803614616394043  val loss: 0.8785633742809296\n"
     ]
    },
    {
     "name": "stderr",
     "output_type": "stream",
     "text": [
      "Epoch 1403/2000: 100%|█| 6/6 [00:05<00:00,  1.05batch/s, avg_loss=0.542, loss=0.\n"
     ]
    },
    {
     "name": "stdout",
     "output_type": "stream",
     "text": [
      "1403/2000 train loss: 0.5419500867525736  val loss: 0.7590914666652679\n"
     ]
    },
    {
     "name": "stderr",
     "output_type": "stream",
     "text": [
      "Epoch 1404/2000: 100%|█| 6/6 [00:05<00:00,  1.05batch/s, avg_loss=0.553, loss=0.\n"
     ]
    },
    {
     "name": "stdout",
     "output_type": "stream",
     "text": [
      "1404/2000 train loss: 0.5531344016393026  val loss: 0.7594204048315684\n"
     ]
    },
    {
     "name": "stderr",
     "output_type": "stream",
     "text": [
      "Epoch 1405/2000: 100%|█| 6/6 [00:05<00:00,  1.05batch/s, avg_loss=0.494, loss=0.\n"
     ]
    },
    {
     "name": "stdout",
     "output_type": "stream",
     "text": [
      "1405/2000 train loss: 0.49398934841156006  val loss: 0.6984881858030955\n"
     ]
    },
    {
     "name": "stderr",
     "output_type": "stream",
     "text": [
      "Epoch 1406/2000: 100%|█| 6/6 [00:05<00:00,  1.05batch/s, avg_loss=0.468, loss=0.\n"
     ]
    },
    {
     "name": "stdout",
     "output_type": "stream",
     "text": [
      "1406/2000 train loss: 0.4678145746390025  val loss: 0.7873906890551249\n"
     ]
    },
    {
     "name": "stderr",
     "output_type": "stream",
     "text": [
      "Epoch 1407/2000: 100%|█| 6/6 [00:05<00:00,  1.05batch/s, avg_loss=0.552, loss=0.\n"
     ]
    },
    {
     "name": "stdout",
     "output_type": "stream",
     "text": [
      "1407/2000 train loss: 0.5518176853656769  val loss: 0.7852954268455505\n"
     ]
    },
    {
     "name": "stderr",
     "output_type": "stream",
     "text": [
      "Epoch 1408/2000: 100%|█| 6/6 [00:05<00:00,  1.05batch/s, avg_loss=0.456, loss=0.\n"
     ]
    },
    {
     "name": "stdout",
     "output_type": "stream",
     "text": [
      "1408/2000 train loss: 0.4556642969449361  val loss: 0.8745814363161722\n"
     ]
    },
    {
     "name": "stderr",
     "output_type": "stream",
     "text": [
      "Epoch 1409/2000: 100%|█| 6/6 [00:05<00:00,  1.05batch/s, avg_loss=0.488, loss=0.\n"
     ]
    },
    {
     "name": "stdout",
     "output_type": "stream",
     "text": [
      "1409/2000 train loss: 0.48758407433827716  val loss: 0.8930196464061737\n"
     ]
    },
    {
     "name": "stderr",
     "output_type": "stream",
     "text": [
      "Epoch 1410/2000: 100%|█| 6/6 [00:05<00:00,  1.05batch/s, avg_loss=0.486, loss=0.\n"
     ]
    },
    {
     "name": "stdout",
     "output_type": "stream",
     "text": [
      "1410/2000 train loss: 0.4856245517730713  val loss: 0.6972179512182871\n"
     ]
    },
    {
     "name": "stderr",
     "output_type": "stream",
     "text": [
      "Epoch 1411/2000: 100%|█| 6/6 [00:05<00:00,  1.05batch/s, avg_loss=0.511, loss=0.\n"
     ]
    },
    {
     "name": "stdout",
     "output_type": "stream",
     "text": [
      "1411/2000 train loss: 0.5109119613965353  val loss: 0.743558277686437\n"
     ]
    },
    {
     "name": "stderr",
     "output_type": "stream",
     "text": [
      "Epoch 1412/2000: 100%|█| 6/6 [00:05<00:00,  1.04batch/s, avg_loss=0.427, loss=0.\n"
     ]
    },
    {
     "name": "stdout",
     "output_type": "stream",
     "text": [
      "1412/2000 train loss: 0.4273587266604106  val loss: 0.7874572376410166\n"
     ]
    },
    {
     "name": "stderr",
     "output_type": "stream",
     "text": [
      "Epoch 1413/2000: 100%|█| 6/6 [00:05<00:00,  1.05batch/s, avg_loss=0.515, loss=0.\n"
     ]
    },
    {
     "name": "stdout",
     "output_type": "stream",
     "text": [
      "1413/2000 train loss: 0.5153505206108093  val loss: 0.7552578945954641\n"
     ]
    },
    {
     "name": "stderr",
     "output_type": "stream",
     "text": [
      "Epoch 1414/2000: 100%|█| 6/6 [00:05<00:00,  1.05batch/s, avg_loss=0.515, loss=0.\n"
     ]
    },
    {
     "name": "stdout",
     "output_type": "stream",
     "text": [
      "1414/2000 train loss: 0.5149116118748983  val loss: 0.8091709415117899\n"
     ]
    },
    {
     "name": "stderr",
     "output_type": "stream",
     "text": [
      "Epoch 1415/2000: 100%|█| 6/6 [00:05<00:00,  1.05batch/s, avg_loss=0.525, loss=0.\n"
     ]
    },
    {
     "name": "stdout",
     "output_type": "stream",
     "text": [
      "1415/2000 train loss: 0.5249438186486562  val loss: 0.9006694455941519\n"
     ]
    },
    {
     "name": "stderr",
     "output_type": "stream",
     "text": [
      "Epoch 1416/2000: 100%|█| 6/6 [00:05<00:00,  1.05batch/s, avg_loss=0.508, loss=0.\n"
     ]
    },
    {
     "name": "stdout",
     "output_type": "stream",
     "text": [
      "1416/2000 train loss: 0.5077222088972727  val loss: 0.7826350529988607\n"
     ]
    },
    {
     "name": "stderr",
     "output_type": "stream",
     "text": [
      "Epoch 1417/2000: 100%|█| 6/6 [00:05<00:00,  1.05batch/s, avg_loss=0.456, loss=0.\n"
     ]
    },
    {
     "name": "stdout",
     "output_type": "stream",
     "text": [
      "1417/2000 train loss: 0.455562690893809  val loss: 0.7712142566839854\n"
     ]
    },
    {
     "name": "stderr",
     "output_type": "stream",
     "text": [
      "Epoch 1418/2000: 100%|█| 6/6 [00:05<00:00,  1.05batch/s, avg_loss=0.456, loss=0.\n"
     ]
    },
    {
     "name": "stdout",
     "output_type": "stream",
     "text": [
      "1418/2000 train loss: 0.45637386043866474  val loss: 0.7602984309196472\n"
     ]
    },
    {
     "name": "stderr",
     "output_type": "stream",
     "text": [
      "Epoch 1419/2000: 100%|█| 6/6 [00:05<00:00,  1.05batch/s, avg_loss=0.446, loss=0.\n"
     ]
    },
    {
     "name": "stdout",
     "output_type": "stream",
     "text": [
      "1419/2000 train loss: 0.4459511439005534  val loss: 0.6879075467586517\n"
     ]
    },
    {
     "name": "stderr",
     "output_type": "stream",
     "text": [
      "Epoch 1420/2000: 100%|█| 6/6 [00:05<00:00,  1.05batch/s, avg_loss=0.438, loss=0.\n"
     ]
    },
    {
     "name": "stdout",
     "output_type": "stream",
     "text": [
      "1420/2000 train loss: 0.4376504917939504  val loss: 0.7908032337824503\n"
     ]
    },
    {
     "name": "stderr",
     "output_type": "stream",
     "text": [
      "Epoch 1421/2000: 100%|█| 6/6 [00:05<00:00,  1.06batch/s, avg_loss=0.551, loss=0.\n"
     ]
    },
    {
     "name": "stdout",
     "output_type": "stream",
     "text": [
      "1421/2000 train loss: 0.5505549112955729  val loss: 0.838320920864741\n"
     ]
    },
    {
     "name": "stderr",
     "output_type": "stream",
     "text": [
      "Epoch 1422/2000: 100%|█| 6/6 [00:05<00:00,  1.05batch/s, avg_loss=0.479, loss=0.\n"
     ]
    },
    {
     "name": "stdout",
     "output_type": "stream",
     "text": [
      "1422/2000 train loss: 0.47880231340726215  val loss: 0.92520605524381\n"
     ]
    },
    {
     "name": "stderr",
     "output_type": "stream",
     "text": [
      "Epoch 1423/2000: 100%|█| 6/6 [00:05<00:00,  1.04batch/s, avg_loss=0.496, loss=0.\n"
     ]
    },
    {
     "name": "stdout",
     "output_type": "stream",
     "text": [
      "1423/2000 train loss: 0.4956350525220235  val loss: 0.9151220122973124\n"
     ]
    },
    {
     "name": "stderr",
     "output_type": "stream",
     "text": [
      "Epoch 1424/2000: 100%|█| 6/6 [00:05<00:00,  1.05batch/s, avg_loss=0.503, loss=0.\n"
     ]
    },
    {
     "name": "stdout",
     "output_type": "stream",
     "text": [
      "1424/2000 train loss: 0.502736916144689  val loss: 0.8202559550603231\n"
     ]
    },
    {
     "name": "stderr",
     "output_type": "stream",
     "text": [
      "Epoch 1425/2000: 100%|█| 6/6 [00:05<00:00,  1.05batch/s, avg_loss=0.468, loss=0.\n"
     ]
    },
    {
     "name": "stdout",
     "output_type": "stream",
     "text": [
      "1425/2000 train loss: 0.4678114950656891  val loss: 0.7500815093517303\n"
     ]
    },
    {
     "name": "stderr",
     "output_type": "stream",
     "text": [
      "Epoch 1426/2000: 100%|█| 6/6 [00:05<00:00,  1.05batch/s, avg_loss=0.459, loss=0.\n"
     ]
    },
    {
     "name": "stdout",
     "output_type": "stream",
     "text": [
      "1426/2000 train loss: 0.45932601888974506  val loss: 0.7886849741141001\n"
     ]
    },
    {
     "name": "stderr",
     "output_type": "stream",
     "text": [
      "Epoch 1427/2000: 100%|█| 6/6 [00:05<00:00,  1.06batch/s, avg_loss=0.539, loss=0.\n"
     ]
    },
    {
     "name": "stdout",
     "output_type": "stream",
     "text": [
      "1427/2000 train loss: 0.53934445977211  val loss: 0.6941579977671305\n"
     ]
    },
    {
     "name": "stderr",
     "output_type": "stream",
     "text": [
      "Epoch 1428/2000: 100%|█| 6/6 [00:05<00:00,  1.06batch/s, avg_loss=0.424, loss=0.\n"
     ]
    },
    {
     "name": "stdout",
     "output_type": "stream",
     "text": [
      "1428/2000 train loss: 0.4240135947863261  val loss: 0.8409115771452585\n"
     ]
    },
    {
     "name": "stderr",
     "output_type": "stream",
     "text": [
      "Epoch 1429/2000: 100%|█| 6/6 [00:05<00:00,  1.04batch/s, avg_loss=0.567, loss=0.\n"
     ]
    },
    {
     "name": "stdout",
     "output_type": "stream",
     "text": [
      "1429/2000 train loss: 0.5668281614780426  val loss: 0.8813973963260651\n"
     ]
    },
    {
     "name": "stderr",
     "output_type": "stream",
     "text": [
      "Epoch 1430/2000: 100%|█| 6/6 [00:05<00:00,  1.04batch/s, avg_loss=0.526, loss=0.\n"
     ]
    },
    {
     "name": "stdout",
     "output_type": "stream",
     "text": [
      "1430/2000 train loss: 0.5260165333747864  val loss: 0.7896525859832764\n"
     ]
    },
    {
     "name": "stderr",
     "output_type": "stream",
     "text": [
      "Epoch 1431/2000: 100%|█| 6/6 [00:05<00:00,  1.04batch/s, avg_loss=0.518, loss=0.\n"
     ]
    },
    {
     "name": "stdout",
     "output_type": "stream",
     "text": [
      "1431/2000 train loss: 0.5182837843894958  val loss: 0.7656050622463226\n"
     ]
    },
    {
     "name": "stderr",
     "output_type": "stream",
     "text": [
      "Epoch 1432/2000: 100%|█| 6/6 [00:05<00:00,  1.05batch/s, avg_loss=0.532, loss=0.\n"
     ]
    },
    {
     "name": "stdout",
     "output_type": "stream",
     "text": [
      "1432/2000 train loss: 0.5315991938114166  val loss: 0.8201336761315664\n"
     ]
    },
    {
     "name": "stderr",
     "output_type": "stream",
     "text": [
      "Epoch 1433/2000: 100%|█| 6/6 [00:05<00:00,  1.06batch/s, avg_loss=0.529, loss=0.\n"
     ]
    },
    {
     "name": "stdout",
     "output_type": "stream",
     "text": [
      "1433/2000 train loss: 0.52939040462176  val loss: 0.8088130156199137\n"
     ]
    },
    {
     "name": "stderr",
     "output_type": "stream",
     "text": [
      "Epoch 1434/2000: 100%|█| 6/6 [00:05<00:00,  1.07batch/s, avg_loss=0.45, loss=0.2\n"
     ]
    },
    {
     "name": "stdout",
     "output_type": "stream",
     "text": [
      "1434/2000 train loss: 0.45027591784795123  val loss: 0.797012080748876\n"
     ]
    },
    {
     "name": "stderr",
     "output_type": "stream",
     "text": [
      "Epoch 1435/2000: 100%|█| 6/6 [00:05<00:00,  1.06batch/s, avg_loss=0.538, loss=0.\n"
     ]
    },
    {
     "name": "stdout",
     "output_type": "stream",
     "text": [
      "1435/2000 train loss: 0.537778397401174  val loss: 0.8193617065747579\n"
     ]
    },
    {
     "name": "stderr",
     "output_type": "stream",
     "text": [
      "Epoch 1436/2000: 100%|█| 6/6 [00:05<00:00,  1.06batch/s, avg_loss=0.562, loss=0.\n"
     ]
    },
    {
     "name": "stdout",
     "output_type": "stream",
     "text": [
      "1436/2000 train loss: 0.5616286098957062  val loss: 0.6762143870194753\n"
     ]
    },
    {
     "name": "stderr",
     "output_type": "stream",
     "text": [
      "Epoch 1437/2000: 100%|█| 6/6 [00:05<00:00,  1.06batch/s, avg_loss=0.473, loss=0.\n"
     ]
    },
    {
     "name": "stdout",
     "output_type": "stream",
     "text": [
      "1437/2000 train loss: 0.47299153606096905  val loss: 0.7492665946483612\n"
     ]
    },
    {
     "name": "stderr",
     "output_type": "stream",
     "text": [
      "Epoch 1438/2000: 100%|█| 6/6 [00:05<00:00,  1.06batch/s, avg_loss=0.506, loss=0.\n"
     ]
    },
    {
     "name": "stdout",
     "output_type": "stream",
     "text": [
      "1438/2000 train loss: 0.5063576002915701  val loss: 0.8176133831342062\n"
     ]
    },
    {
     "name": "stderr",
     "output_type": "stream",
     "text": [
      "Epoch 1439/2000: 100%|█| 6/6 [00:05<00:00,  1.08batch/s, avg_loss=0.473, loss=0.\n"
     ]
    },
    {
     "name": "stdout",
     "output_type": "stream",
     "text": [
      "1439/2000 train loss: 0.4729650914669037  val loss: 0.6961826284726461\n"
     ]
    },
    {
     "name": "stderr",
     "output_type": "stream",
     "text": [
      "Epoch 1440/2000: 100%|█| 6/6 [00:05<00:00,  1.05batch/s, avg_loss=0.565, loss=0.\n"
     ]
    },
    {
     "name": "stdout",
     "output_type": "stream",
     "text": [
      "1440/2000 train loss: 0.5651588141918182  val loss: 0.9298707544803619\n"
     ]
    },
    {
     "name": "stderr",
     "output_type": "stream",
     "text": [
      "Epoch 1441/2000: 100%|█| 6/6 [00:05<00:00,  1.04batch/s, avg_loss=0.485, loss=0.\n"
     ]
    },
    {
     "name": "stdout",
     "output_type": "stream",
     "text": [
      "1441/2000 train loss: 0.48462528983751935  val loss: 0.7734146118164062\n"
     ]
    },
    {
     "name": "stderr",
     "output_type": "stream",
     "text": [
      "Epoch 1442/2000: 100%|█| 6/6 [00:05<00:00,  1.03batch/s, avg_loss=0.461, loss=0.\n"
     ]
    },
    {
     "name": "stdout",
     "output_type": "stream",
     "text": [
      "1442/2000 train loss: 0.46092034379641217  val loss: 0.6916827658812205\n"
     ]
    },
    {
     "name": "stderr",
     "output_type": "stream",
     "text": [
      "Epoch 1443/2000: 100%|█| 6/6 [00:05<00:00,  1.04batch/s, avg_loss=0.455, loss=0.\n"
     ]
    },
    {
     "name": "stdout",
     "output_type": "stream",
     "text": [
      "1443/2000 train loss: 0.4548693795998891  val loss: 0.7571301658948263\n"
     ]
    },
    {
     "name": "stderr",
     "output_type": "stream",
     "text": [
      "Epoch 1444/2000: 100%|█| 6/6 [00:05<00:00,  1.05batch/s, avg_loss=0.449, loss=0.\n"
     ]
    },
    {
     "name": "stdout",
     "output_type": "stream",
     "text": [
      "1444/2000 train loss: 0.4494512677192688  val loss: 0.7891309559345245\n"
     ]
    },
    {
     "name": "stderr",
     "output_type": "stream",
     "text": [
      "Epoch 1445/2000: 100%|█| 6/6 [00:05<00:00,  1.04batch/s, avg_loss=0.452, loss=0.\n"
     ]
    },
    {
     "name": "stdout",
     "output_type": "stream",
     "text": [
      "1445/2000 train loss: 0.4522113899389903  val loss: 0.8273335893948873\n"
     ]
    },
    {
     "name": "stderr",
     "output_type": "stream",
     "text": [
      "Epoch 1446/2000: 100%|█| 6/6 [00:05<00:00,  1.06batch/s, avg_loss=0.525, loss=0.\n"
     ]
    },
    {
     "name": "stdout",
     "output_type": "stream",
     "text": [
      "1446/2000 train loss: 0.5250119268894196  val loss: 0.8375828564167023\n"
     ]
    },
    {
     "name": "stderr",
     "output_type": "stream",
     "text": [
      "Epoch 1447/2000: 100%|█| 6/6 [00:05<00:00,  1.05batch/s, avg_loss=0.444, loss=0.\n"
     ]
    },
    {
     "name": "stdout",
     "output_type": "stream",
     "text": [
      "1447/2000 train loss: 0.44360583027203876  val loss: 0.8617593844731649\n"
     ]
    },
    {
     "name": "stderr",
     "output_type": "stream",
     "text": [
      "Epoch 1448/2000: 100%|█| 6/6 [00:05<00:00,  1.05batch/s, avg_loss=0.472, loss=0.\n"
     ]
    },
    {
     "name": "stdout",
     "output_type": "stream",
     "text": [
      "1448/2000 train loss: 0.4721386134624481  val loss: 0.8206750154495239\n"
     ]
    },
    {
     "name": "stderr",
     "output_type": "stream",
     "text": [
      "Epoch 1449/2000: 100%|█| 6/6 [00:05<00:00,  1.05batch/s, avg_loss=0.48, loss=0.3\n"
     ]
    },
    {
     "name": "stdout",
     "output_type": "stream",
     "text": [
      "1449/2000 train loss: 0.4796936810016632  val loss: 0.9067057371139526\n"
     ]
    },
    {
     "name": "stderr",
     "output_type": "stream",
     "text": [
      "Epoch 1450/2000: 100%|█| 6/6 [00:05<00:00,  1.06batch/s, avg_loss=0.444, loss=0.\n"
     ]
    },
    {
     "name": "stdout",
     "output_type": "stream",
     "text": [
      "1450/2000 train loss: 0.44391772150993347  val loss: 0.7654745578765869\n"
     ]
    },
    {
     "name": "stderr",
     "output_type": "stream",
     "text": [
      "Epoch 1451/2000: 100%|█| 6/6 [00:05<00:00,  1.05batch/s, avg_loss=0.466, loss=0.\n"
     ]
    },
    {
     "name": "stdout",
     "output_type": "stream",
     "text": [
      "1451/2000 train loss: 0.46556124091148376  val loss: 0.897436132033666\n"
     ]
    },
    {
     "name": "stderr",
     "output_type": "stream",
     "text": [
      "Epoch 1452/2000: 100%|█| 6/6 [00:06<00:00,  1.02s/batch, avg_loss=0.531, loss=0.\n"
     ]
    },
    {
     "name": "stdout",
     "output_type": "stream",
     "text": [
      "1452/2000 train loss: 0.5309396783510844  val loss: 0.6938474675019582\n"
     ]
    },
    {
     "name": "stderr",
     "output_type": "stream",
     "text": [
      "Epoch 1453/2000: 100%|█| 6/6 [00:05<00:00,  1.03batch/s, avg_loss=0.495, loss=0.\n"
     ]
    },
    {
     "name": "stdout",
     "output_type": "stream",
     "text": [
      "1453/2000 train loss: 0.49481045206387836  val loss: 0.6103954215844473\n"
     ]
    },
    {
     "name": "stderr",
     "output_type": "stream",
     "text": [
      "Epoch 1454/2000: 100%|█| 6/6 [00:05<00:00,  1.03batch/s, avg_loss=0.45, loss=0.8\n"
     ]
    },
    {
     "name": "stdout",
     "output_type": "stream",
     "text": [
      "1454/2000 train loss: 0.4496699372927348  val loss: 0.717226485411326\n"
     ]
    },
    {
     "name": "stderr",
     "output_type": "stream",
     "text": [
      "Epoch 1455/2000: 100%|█| 6/6 [00:05<00:00,  1.05batch/s, avg_loss=0.521, loss=0.\n"
     ]
    },
    {
     "name": "stdout",
     "output_type": "stream",
     "text": [
      "1455/2000 train loss: 0.5213559071222941  val loss: 0.7282272775967916\n"
     ]
    },
    {
     "name": "stderr",
     "output_type": "stream",
     "text": [
      "Epoch 1456/2000: 100%|█| 6/6 [00:05<00:00,  1.04batch/s, avg_loss=0.49, loss=0.5\n"
     ]
    },
    {
     "name": "stdout",
     "output_type": "stream",
     "text": [
      "1456/2000 train loss: 0.4903768102327983  val loss: 0.8395184377829233\n"
     ]
    },
    {
     "name": "stderr",
     "output_type": "stream",
     "text": [
      "Epoch 1457/2000: 100%|█| 6/6 [00:05<00:00,  1.04batch/s, avg_loss=0.481, loss=0.\n"
     ]
    },
    {
     "name": "stdout",
     "output_type": "stream",
     "text": [
      "1457/2000 train loss: 0.4814167817433675  val loss: 0.8286107381184896\n"
     ]
    },
    {
     "name": "stderr",
     "output_type": "stream",
     "text": [
      "Epoch 1458/2000: 100%|█| 6/6 [00:05<00:00,  1.05batch/s, avg_loss=0.502, loss=0.\n"
     ]
    },
    {
     "name": "stdout",
     "output_type": "stream",
     "text": [
      "1458/2000 train loss: 0.5019195874532064  val loss: 0.7407022615273794\n"
     ]
    },
    {
     "name": "stderr",
     "output_type": "stream",
     "text": [
      "Epoch 1459/2000: 100%|█| 6/6 [00:05<00:00,  1.06batch/s, avg_loss=0.472, loss=0.\n"
     ]
    },
    {
     "name": "stdout",
     "output_type": "stream",
     "text": [
      "1459/2000 train loss: 0.47202446063359577  val loss: 0.6180050770441691\n"
     ]
    },
    {
     "name": "stderr",
     "output_type": "stream",
     "text": [
      "Epoch 1460/2000: 100%|█| 6/6 [00:05<00:00,  1.05batch/s, avg_loss=0.468, loss=0.\n"
     ]
    },
    {
     "name": "stdout",
     "output_type": "stream",
     "text": [
      "1460/2000 train loss: 0.46805740396181744  val loss: 0.7888316810131073\n"
     ]
    },
    {
     "name": "stderr",
     "output_type": "stream",
     "text": [
      "Epoch 1461/2000: 100%|█| 6/6 [00:05<00:00,  1.05batch/s, avg_loss=0.473, loss=0.\n"
     ]
    },
    {
     "name": "stdout",
     "output_type": "stream",
     "text": [
      "1461/2000 train loss: 0.4733376403649648  val loss: 0.933075487613678\n"
     ]
    },
    {
     "name": "stderr",
     "output_type": "stream",
     "text": [
      "Epoch 1462/2000: 100%|█| 6/6 [00:05<00:00,  1.05batch/s, avg_loss=0.501, loss=0.\n"
     ]
    },
    {
     "name": "stdout",
     "output_type": "stream",
     "text": [
      "1462/2000 train loss: 0.5006191631158193  val loss: 0.8519575794537863\n"
     ]
    },
    {
     "name": "stderr",
     "output_type": "stream",
     "text": [
      "Epoch 1463/2000: 100%|█| 6/6 [00:05<00:00,  1.05batch/s, avg_loss=0.449, loss=0.\n"
     ]
    },
    {
     "name": "stdout",
     "output_type": "stream",
     "text": [
      "1463/2000 train loss: 0.4490484893321991  val loss: 0.7421925167242686\n"
     ]
    },
    {
     "name": "stderr",
     "output_type": "stream",
     "text": [
      "Epoch 1464/2000: 100%|█| 6/6 [00:05<00:00,  1.05batch/s, avg_loss=0.444, loss=0.\n"
     ]
    },
    {
     "name": "stdout",
     "output_type": "stream",
     "text": [
      "1464/2000 train loss: 0.44388099511464435  val loss: 0.7515397469202677\n"
     ]
    },
    {
     "name": "stderr",
     "output_type": "stream",
     "text": [
      "Epoch 1465/2000: 100%|█| 6/6 [00:05<00:00,  1.05batch/s, avg_loss=0.465, loss=0.\n"
     ]
    },
    {
     "name": "stdout",
     "output_type": "stream",
     "text": [
      "1465/2000 train loss: 0.46511541803677875  val loss: 0.7815544108549753\n"
     ]
    },
    {
     "name": "stderr",
     "output_type": "stream",
     "text": [
      "Epoch 1466/2000: 100%|█| 6/6 [00:05<00:00,  1.05batch/s, avg_loss=0.535, loss=0.\n"
     ]
    },
    {
     "name": "stdout",
     "output_type": "stream",
     "text": [
      "1466/2000 train loss: 0.5348958174387614  val loss: 0.8199858367443085\n"
     ]
    },
    {
     "name": "stderr",
     "output_type": "stream",
     "text": [
      "Epoch 1467/2000: 100%|█| 6/6 [00:05<00:00,  1.04batch/s, avg_loss=0.497, loss=0.\n"
     ]
    },
    {
     "name": "stdout",
     "output_type": "stream",
     "text": [
      "1467/2000 train loss: 0.4965289731820424  val loss: 0.9286759893099467\n"
     ]
    },
    {
     "name": "stderr",
     "output_type": "stream",
     "text": [
      "Epoch 1468/2000: 100%|█| 6/6 [00:05<00:00,  1.04batch/s, avg_loss=0.479, loss=0.\n"
     ]
    },
    {
     "name": "stdout",
     "output_type": "stream",
     "text": [
      "1468/2000 train loss: 0.4787834584712982  val loss: 0.7959182560443878\n"
     ]
    },
    {
     "name": "stderr",
     "output_type": "stream",
     "text": [
      "Epoch 1469/2000: 100%|█| 6/6 [00:05<00:00,  1.04batch/s, avg_loss=0.54, loss=0.4\n"
     ]
    },
    {
     "name": "stdout",
     "output_type": "stream",
     "text": [
      "1469/2000 train loss: 0.539871076742808  val loss: 0.8456661800543467\n"
     ]
    },
    {
     "name": "stderr",
     "output_type": "stream",
     "text": [
      "Epoch 1470/2000: 100%|█| 6/6 [00:05<00:00,  1.04batch/s, avg_loss=0.501, loss=0.\n"
     ]
    },
    {
     "name": "stdout",
     "output_type": "stream",
     "text": [
      "1470/2000 train loss: 0.5012874205907186  val loss: 0.7931405305862427\n"
     ]
    },
    {
     "name": "stderr",
     "output_type": "stream",
     "text": [
      "Epoch 1471/2000: 100%|█| 6/6 [00:05<00:00,  1.03batch/s, avg_loss=0.481, loss=0.\n"
     ]
    },
    {
     "name": "stdout",
     "output_type": "stream",
     "text": [
      "1471/2000 train loss: 0.48076345523198444  val loss: 0.7780738274256388\n"
     ]
    },
    {
     "name": "stderr",
     "output_type": "stream",
     "text": [
      "Epoch 1472/2000: 100%|█| 6/6 [00:05<00:00,  1.04batch/s, avg_loss=0.466, loss=0.\n"
     ]
    },
    {
     "name": "stdout",
     "output_type": "stream",
     "text": [
      "1472/2000 train loss: 0.46617358922958374  val loss: 0.737743745247523\n"
     ]
    },
    {
     "name": "stderr",
     "output_type": "stream",
     "text": [
      "Epoch 1473/2000: 100%|█| 6/6 [00:05<00:00,  1.04batch/s, avg_loss=0.563, loss=0.\n"
     ]
    },
    {
     "name": "stdout",
     "output_type": "stream",
     "text": [
      "1473/2000 train loss: 0.56307519475619  val loss: 0.7102057834466299\n"
     ]
    },
    {
     "name": "stderr",
     "output_type": "stream",
     "text": [
      "Epoch 1474/2000: 100%|█| 6/6 [00:05<00:00,  1.06batch/s, avg_loss=0.534, loss=0.\n"
     ]
    },
    {
     "name": "stdout",
     "output_type": "stream",
     "text": [
      "1474/2000 train loss: 0.5339520871639252  val loss: 0.762965073188146\n"
     ]
    },
    {
     "name": "stderr",
     "output_type": "stream",
     "text": [
      "Epoch 1475/2000: 100%|█| 6/6 [00:05<00:00,  1.06batch/s, avg_loss=0.469, loss=0.\n"
     ]
    },
    {
     "name": "stdout",
     "output_type": "stream",
     "text": [
      "1475/2000 train loss: 0.46900565425554913  val loss: 0.8209781646728516\n"
     ]
    },
    {
     "name": "stderr",
     "output_type": "stream",
     "text": [
      "Epoch 1476/2000: 100%|█| 6/6 [00:05<00:00,  1.06batch/s, avg_loss=0.475, loss=0.\n"
     ]
    },
    {
     "name": "stdout",
     "output_type": "stream",
     "text": [
      "1476/2000 train loss: 0.47504432996114093  val loss: 0.7183906435966492\n"
     ]
    },
    {
     "name": "stderr",
     "output_type": "stream",
     "text": [
      "Epoch 1477/2000: 100%|█| 6/6 [00:05<00:00,  1.07batch/s, avg_loss=0.458, loss=0.\n"
     ]
    },
    {
     "name": "stdout",
     "output_type": "stream",
     "text": [
      "1477/2000 train loss: 0.45754725734392804  val loss: 0.8065842688083649\n"
     ]
    },
    {
     "name": "stderr",
     "output_type": "stream",
     "text": [
      "Epoch 1478/2000: 100%|█| 6/6 [00:05<00:00,  1.06batch/s, avg_loss=0.457, loss=0.\n"
     ]
    },
    {
     "name": "stdout",
     "output_type": "stream",
     "text": [
      "1478/2000 train loss: 0.45700645446777344  val loss: 0.7781961361567179\n"
     ]
    },
    {
     "name": "stderr",
     "output_type": "stream",
     "text": [
      "Epoch 1479/2000: 100%|█| 6/6 [00:05<00:00,  1.05batch/s, avg_loss=0.496, loss=0.\n"
     ]
    },
    {
     "name": "stdout",
     "output_type": "stream",
     "text": [
      "1479/2000 train loss: 0.4961018164952596  val loss: 0.6950185298919678\n"
     ]
    },
    {
     "name": "stderr",
     "output_type": "stream",
     "text": [
      "Epoch 1480/2000: 100%|█| 6/6 [00:05<00:00,  1.04batch/s, avg_loss=0.511, loss=0.\n"
     ]
    },
    {
     "name": "stdout",
     "output_type": "stream",
     "text": [
      "1480/2000 train loss: 0.5106181899706522  val loss: 0.8870357473691305\n"
     ]
    },
    {
     "name": "stderr",
     "output_type": "stream",
     "text": [
      "Epoch 1481/2000: 100%|█| 6/6 [00:05<00:00,  1.04batch/s, avg_loss=0.448, loss=0.\n"
     ]
    },
    {
     "name": "stdout",
     "output_type": "stream",
     "text": [
      "1481/2000 train loss: 0.44790704051653546  val loss: 0.9002495606740316\n"
     ]
    },
    {
     "name": "stderr",
     "output_type": "stream",
     "text": [
      "Epoch 1482/2000: 100%|█| 6/6 [00:05<00:00,  1.04batch/s, avg_loss=0.526, loss=0.\n"
     ]
    },
    {
     "name": "stdout",
     "output_type": "stream",
     "text": [
      "1482/2000 train loss: 0.5257446269194285  val loss: 0.8708195586999258\n"
     ]
    },
    {
     "name": "stderr",
     "output_type": "stream",
     "text": [
      "Epoch 1483/2000: 100%|█| 6/6 [00:05<00:00,  1.05batch/s, avg_loss=0.491, loss=0.\n"
     ]
    },
    {
     "name": "stdout",
     "output_type": "stream",
     "text": [
      "1483/2000 train loss: 0.4905607004960378  val loss: 0.7598650058110555\n"
     ]
    },
    {
     "name": "stderr",
     "output_type": "stream",
     "text": [
      "Epoch 1484/2000: 100%|█| 6/6 [00:05<00:00,  1.05batch/s, avg_loss=0.437, loss=0.\n"
     ]
    },
    {
     "name": "stdout",
     "output_type": "stream",
     "text": [
      "1484/2000 train loss: 0.43725966413815814  val loss: 0.8711891571680704\n"
     ]
    },
    {
     "name": "stderr",
     "output_type": "stream",
     "text": [
      "Epoch 1485/2000: 100%|█| 6/6 [00:05<00:00,  1.05batch/s, avg_loss=0.497, loss=0.\n"
     ]
    },
    {
     "name": "stdout",
     "output_type": "stream",
     "text": [
      "1485/2000 train loss: 0.4974597593148549  val loss: 0.8054460982481638\n"
     ]
    },
    {
     "name": "stderr",
     "output_type": "stream",
     "text": [
      "Epoch 1486/2000: 100%|█| 6/6 [00:05<00:00,  1.05batch/s, avg_loss=0.512, loss=0.\n"
     ]
    },
    {
     "name": "stdout",
     "output_type": "stream",
     "text": [
      "1486/2000 train loss: 0.5122242073218027  val loss: 0.8132904469966888\n"
     ]
    },
    {
     "name": "stderr",
     "output_type": "stream",
     "text": [
      "Epoch 1487/2000: 100%|█| 6/6 [00:05<00:00,  1.05batch/s, avg_loss=0.543, loss=0.\n"
     ]
    },
    {
     "name": "stdout",
     "output_type": "stream",
     "text": [
      "1487/2000 train loss: 0.5428542693456014  val loss: 0.6837357381979624\n"
     ]
    },
    {
     "name": "stderr",
     "output_type": "stream",
     "text": [
      "Epoch 1488/2000: 100%|█| 6/6 [00:05<00:00,  1.03batch/s, avg_loss=0.511, loss=0.\n"
     ]
    },
    {
     "name": "stdout",
     "output_type": "stream",
     "text": [
      "1488/2000 train loss: 0.5114561021327972  val loss: 0.7651408116022745\n"
     ]
    },
    {
     "name": "stderr",
     "output_type": "stream",
     "text": [
      "Epoch 1489/2000: 100%|█| 6/6 [00:05<00:00,  1.04batch/s, avg_loss=0.44, loss=0.5\n"
     ]
    },
    {
     "name": "stdout",
     "output_type": "stream",
     "text": [
      "1489/2000 train loss: 0.4398277203241984  val loss: 0.8880055646101633\n"
     ]
    },
    {
     "name": "stderr",
     "output_type": "stream",
     "text": [
      "Epoch 1490/2000: 100%|█| 6/6 [00:05<00:00,  1.05batch/s, avg_loss=0.494, loss=0.\n"
     ]
    },
    {
     "name": "stdout",
     "output_type": "stream",
     "text": [
      "1490/2000 train loss: 0.4938896099726359  val loss: 0.7106981376806895\n"
     ]
    },
    {
     "name": "stderr",
     "output_type": "stream",
     "text": [
      "Epoch 1491/2000: 100%|█| 6/6 [00:05<00:00,  1.04batch/s, avg_loss=0.502, loss=0.\n"
     ]
    },
    {
     "name": "stdout",
     "output_type": "stream",
     "text": [
      "1491/2000 train loss: 0.5017171402772268  val loss: 0.6607344647248586\n"
     ]
    },
    {
     "name": "stderr",
     "output_type": "stream",
     "text": [
      "Epoch 1492/2000: 100%|█| 6/6 [00:05<00:00,  1.05batch/s, avg_loss=0.534, loss=0.\n"
     ]
    },
    {
     "name": "stdout",
     "output_type": "stream",
     "text": [
      "1492/2000 train loss: 0.5335517525672913  val loss: 0.7131789028644562\n"
     ]
    },
    {
     "name": "stderr",
     "output_type": "stream",
     "text": [
      "Epoch 1493/2000: 100%|█| 6/6 [00:05<00:00,  1.04batch/s, avg_loss=0.554, loss=0.\n"
     ]
    },
    {
     "name": "stdout",
     "output_type": "stream",
     "text": [
      "1493/2000 train loss: 0.5535129408041636  val loss: 0.7362833817799886\n"
     ]
    },
    {
     "name": "stderr",
     "output_type": "stream",
     "text": [
      "Epoch 1494/2000: 100%|█| 6/6 [00:05<00:00,  1.05batch/s, avg_loss=0.467, loss=0.\n"
     ]
    },
    {
     "name": "stdout",
     "output_type": "stream",
     "text": [
      "1494/2000 train loss: 0.4674987594286601  val loss: 0.8175542950630188\n"
     ]
    },
    {
     "name": "stderr",
     "output_type": "stream",
     "text": [
      "Epoch 1495/2000: 100%|█| 6/6 [00:05<00:00,  1.05batch/s, avg_loss=0.516, loss=0.\n"
     ]
    },
    {
     "name": "stdout",
     "output_type": "stream",
     "text": [
      "1495/2000 train loss: 0.5156980653603872  val loss: 0.6816858351230621\n"
     ]
    },
    {
     "name": "stderr",
     "output_type": "stream",
     "text": [
      "Epoch 1496/2000: 100%|█| 6/6 [00:05<00:00,  1.05batch/s, avg_loss=0.485, loss=0.\n"
     ]
    },
    {
     "name": "stdout",
     "output_type": "stream",
     "text": [
      "1496/2000 train loss: 0.4850483139355977  val loss: 0.9024067719777426\n"
     ]
    },
    {
     "name": "stderr",
     "output_type": "stream",
     "text": [
      "Epoch 1497/2000: 100%|█| 6/6 [00:05<00:00,  1.05batch/s, avg_loss=0.482, loss=0.\n"
     ]
    },
    {
     "name": "stdout",
     "output_type": "stream",
     "text": [
      "1497/2000 train loss: 0.4824203948179881  val loss: 0.8264163633187612\n"
     ]
    },
    {
     "name": "stderr",
     "output_type": "stream",
     "text": [
      "Epoch 1498/2000: 100%|█| 6/6 [00:05<00:00,  1.05batch/s, avg_loss=0.483, loss=0.\n"
     ]
    },
    {
     "name": "stdout",
     "output_type": "stream",
     "text": [
      "1498/2000 train loss: 0.48273763060569763  val loss: 0.7802842756112417\n"
     ]
    },
    {
     "name": "stderr",
     "output_type": "stream",
     "text": [
      "Epoch 1499/2000: 100%|█| 6/6 [00:05<00:00,  1.04batch/s, avg_loss=0.472, loss=0.\n"
     ]
    },
    {
     "name": "stdout",
     "output_type": "stream",
     "text": [
      "1499/2000 train loss: 0.4722018341223399  val loss: 0.9317044317722321\n"
     ]
    },
    {
     "name": "stderr",
     "output_type": "stream",
     "text": [
      "Epoch 1500/2000: 100%|█| 6/6 [00:05<00:00,  1.04batch/s, avg_loss=0.501, loss=0.\n"
     ]
    },
    {
     "name": "stdout",
     "output_type": "stream",
     "text": [
      "1500/2000 train loss: 0.5010613898436228  val loss: 0.8346170882383982\n"
     ]
    },
    {
     "name": "stderr",
     "output_type": "stream",
     "text": [
      "Epoch 1501/2000: 100%|█| 6/6 [00:05<00:00,  1.05batch/s, avg_loss=0.485, loss=0.\n"
     ]
    },
    {
     "name": "stdout",
     "output_type": "stream",
     "text": [
      "1501/2000 train loss: 0.48519537846247357  val loss: 0.7311282952626547\n"
     ]
    },
    {
     "name": "stderr",
     "output_type": "stream",
     "text": [
      "Epoch 1502/2000: 100%|█| 6/6 [00:05<00:00,  1.04batch/s, avg_loss=0.42, loss=0.3\n"
     ]
    },
    {
     "name": "stdout",
     "output_type": "stream",
     "text": [
      "1502/2000 train loss: 0.4203824003537496  val loss: 0.8835652569929758\n"
     ]
    },
    {
     "name": "stderr",
     "output_type": "stream",
     "text": [
      "Epoch 1503/2000: 100%|█| 6/6 [00:05<00:00,  1.06batch/s, avg_loss=0.522, loss=0.\n"
     ]
    },
    {
     "name": "stdout",
     "output_type": "stream",
     "text": [
      "1503/2000 train loss: 0.5215994020303091  val loss: 0.7247437139352163\n"
     ]
    },
    {
     "name": "stderr",
     "output_type": "stream",
     "text": [
      "Epoch 1504/2000: 100%|█| 6/6 [00:05<00:00,  1.05batch/s, avg_loss=0.495, loss=0.\n"
     ]
    },
    {
     "name": "stdout",
     "output_type": "stream",
     "text": [
      "1504/2000 train loss: 0.4954323172569275  val loss: 0.6677220563093821\n"
     ]
    },
    {
     "name": "stderr",
     "output_type": "stream",
     "text": [
      "Epoch 1505/2000: 100%|█| 6/6 [00:05<00:00,  1.05batch/s, avg_loss=0.539, loss=0.\n"
     ]
    },
    {
     "name": "stdout",
     "output_type": "stream",
     "text": [
      "1505/2000 train loss: 0.5385384559631348  val loss: 0.7141205171744028\n"
     ]
    },
    {
     "name": "stderr",
     "output_type": "stream",
     "text": [
      "Epoch 1506/2000: 100%|█| 6/6 [00:05<00:00,  1.05batch/s, avg_loss=0.506, loss=0.\n"
     ]
    },
    {
     "name": "stdout",
     "output_type": "stream",
     "text": [
      "1506/2000 train loss: 0.5060928364594778  val loss: 0.8226842482884725\n"
     ]
    },
    {
     "name": "stderr",
     "output_type": "stream",
     "text": [
      "Epoch 1507/2000: 100%|█| 6/6 [00:05<00:00,  1.04batch/s, avg_loss=0.477, loss=0.\n"
     ]
    },
    {
     "name": "stdout",
     "output_type": "stream",
     "text": [
      "1507/2000 train loss: 0.47655561566352844  val loss: 0.8925194442272186\n"
     ]
    },
    {
     "name": "stderr",
     "output_type": "stream",
     "text": [
      "Epoch 1508/2000: 100%|█| 6/6 [00:05<00:00,  1.04batch/s, avg_loss=0.54, loss=0.6\n"
     ]
    },
    {
     "name": "stdout",
     "output_type": "stream",
     "text": [
      "1508/2000 train loss: 0.5396056870619456  val loss: 0.7320678234100342\n"
     ]
    },
    {
     "name": "stderr",
     "output_type": "stream",
     "text": [
      "Epoch 1509/2000: 100%|█| 6/6 [00:05<00:00,  1.05batch/s, avg_loss=0.518, loss=0.\n"
     ]
    },
    {
     "name": "stdout",
     "output_type": "stream",
     "text": [
      "1509/2000 train loss: 0.5178305705388387  val loss: 0.8004236618677775\n"
     ]
    },
    {
     "name": "stderr",
     "output_type": "stream",
     "text": [
      "Epoch 1510/2000: 100%|█| 6/6 [00:05<00:00,  1.05batch/s, avg_loss=0.438, loss=0.\n"
     ]
    },
    {
     "name": "stdout",
     "output_type": "stream",
     "text": [
      "1510/2000 train loss: 0.4380909899870555  val loss: 0.7623784144719442\n"
     ]
    },
    {
     "name": "stderr",
     "output_type": "stream",
     "text": [
      "Epoch 1511/2000: 100%|█| 6/6 [00:05<00:00,  1.05batch/s, avg_loss=0.473, loss=0.\n"
     ]
    },
    {
     "name": "stdout",
     "output_type": "stream",
     "text": [
      "1511/2000 train loss: 0.473041574160258  val loss: 0.7671629985173544\n"
     ]
    },
    {
     "name": "stderr",
     "output_type": "stream",
     "text": [
      "Epoch 1512/2000: 100%|█| 6/6 [00:05<00:00,  1.05batch/s, avg_loss=0.443, loss=0.\n"
     ]
    },
    {
     "name": "stdout",
     "output_type": "stream",
     "text": [
      "1512/2000 train loss: 0.44325920939445496  val loss: 0.7814374069372813\n"
     ]
    },
    {
     "name": "stderr",
     "output_type": "stream",
     "text": [
      "Epoch 1513/2000: 100%|█| 6/6 [00:05<00:00,  1.04batch/s, avg_loss=0.551, loss=0.\n"
     ]
    },
    {
     "name": "stdout",
     "output_type": "stream",
     "text": [
      "1513/2000 train loss: 0.5512208739916483  val loss: 0.8665791650613149\n"
     ]
    },
    {
     "name": "stderr",
     "output_type": "stream",
     "text": [
      "Epoch 1514/2000: 100%|█| 6/6 [00:05<00:00,  1.04batch/s, avg_loss=0.466, loss=0.\n"
     ]
    },
    {
     "name": "stdout",
     "output_type": "stream",
     "text": [
      "1514/2000 train loss: 0.46638737122217816  val loss: 0.8403249979019165\n"
     ]
    },
    {
     "name": "stderr",
     "output_type": "stream",
     "text": [
      "Epoch 1515/2000: 100%|█| 6/6 [00:05<00:00,  1.05batch/s, avg_loss=0.467, loss=0.\n"
     ]
    },
    {
     "name": "stdout",
     "output_type": "stream",
     "text": [
      "1515/2000 train loss: 0.46732468406359357  val loss: 0.7084162334601084\n"
     ]
    },
    {
     "name": "stderr",
     "output_type": "stream",
     "text": [
      "Epoch 1516/2000: 100%|█| 6/6 [00:05<00:00,  1.07batch/s, avg_loss=0.533, loss=0.\n"
     ]
    },
    {
     "name": "stdout",
     "output_type": "stream",
     "text": [
      "1516/2000 train loss: 0.5328374008337656  val loss: 0.8455873926480612\n"
     ]
    },
    {
     "name": "stderr",
     "output_type": "stream",
     "text": [
      "Epoch 1517/2000: 100%|█| 6/6 [00:05<00:00,  1.06batch/s, avg_loss=0.5, loss=0.28\n"
     ]
    },
    {
     "name": "stdout",
     "output_type": "stream",
     "text": [
      "1517/2000 train loss: 0.5004326601823171  val loss: 0.8308363656202952\n"
     ]
    },
    {
     "name": "stderr",
     "output_type": "stream",
     "text": [
      "Epoch 1518/2000: 100%|█| 6/6 [00:05<00:00,  1.05batch/s, avg_loss=0.494, loss=0.\n"
     ]
    },
    {
     "name": "stdout",
     "output_type": "stream",
     "text": [
      "1518/2000 train loss: 0.4944131275018056  val loss: 0.7713435093561808\n"
     ]
    },
    {
     "name": "stderr",
     "output_type": "stream",
     "text": [
      "Epoch 1519/2000: 100%|█| 6/6 [00:05<00:00,  1.04batch/s, avg_loss=0.44, loss=0.3\n"
     ]
    },
    {
     "name": "stdout",
     "output_type": "stream",
     "text": [
      "1519/2000 train loss: 0.4397332767645518  val loss: 0.8772923847039541\n"
     ]
    },
    {
     "name": "stderr",
     "output_type": "stream",
     "text": [
      "Epoch 1520/2000: 100%|█| 6/6 [00:05<00:00,  1.05batch/s, avg_loss=0.478, loss=0.\n"
     ]
    },
    {
     "name": "stdout",
     "output_type": "stream",
     "text": [
      "1520/2000 train loss: 0.47778905431429547  val loss: 0.6234260400136312\n"
     ]
    },
    {
     "name": "stderr",
     "output_type": "stream",
     "text": [
      "Epoch 1521/2000: 100%|█| 6/6 [00:05<00:00,  1.06batch/s, avg_loss=0.515, loss=0.\n"
     ]
    },
    {
     "name": "stdout",
     "output_type": "stream",
     "text": [
      "1521/2000 train loss: 0.5154684881369272  val loss: 0.7418615619341532\n"
     ]
    },
    {
     "name": "stderr",
     "output_type": "stream",
     "text": [
      "Epoch 1522/2000: 100%|█| 6/6 [00:05<00:00,  1.06batch/s, avg_loss=0.448, loss=0.\n"
     ]
    },
    {
     "name": "stdout",
     "output_type": "stream",
     "text": [
      "1522/2000 train loss: 0.4478116234143575  val loss: 0.8460649152596792\n"
     ]
    },
    {
     "name": "stderr",
     "output_type": "stream",
     "text": [
      "Epoch 1523/2000: 100%|█| 6/6 [00:05<00:00,  1.06batch/s, avg_loss=0.493, loss=0.\n"
     ]
    },
    {
     "name": "stdout",
     "output_type": "stream",
     "text": [
      "1523/2000 train loss: 0.4930303692817688  val loss: 0.8156983653704325\n"
     ]
    },
    {
     "name": "stderr",
     "output_type": "stream",
     "text": [
      "Epoch 1524/2000: 100%|█| 6/6 [00:05<00:00,  1.06batch/s, avg_loss=0.529, loss=0.\n"
     ]
    },
    {
     "name": "stdout",
     "output_type": "stream",
     "text": [
      "1524/2000 train loss: 0.5290391246477762  val loss: 0.7782745162645975\n"
     ]
    },
    {
     "name": "stderr",
     "output_type": "stream",
     "text": [
      "Epoch 1525/2000: 100%|█| 6/6 [00:05<00:00,  1.06batch/s, avg_loss=0.484, loss=0.\n"
     ]
    },
    {
     "name": "stdout",
     "output_type": "stream",
     "text": [
      "1525/2000 train loss: 0.48438982168833417  val loss: 0.8496394356091818\n"
     ]
    },
    {
     "name": "stderr",
     "output_type": "stream",
     "text": [
      "Epoch 1526/2000: 100%|█| 6/6 [00:05<00:00,  1.06batch/s, avg_loss=0.462, loss=0.\n"
     ]
    },
    {
     "name": "stdout",
     "output_type": "stream",
     "text": [
      "1526/2000 train loss: 0.4618804156780243  val loss: 0.8322998881340027\n"
     ]
    },
    {
     "name": "stderr",
     "output_type": "stream",
     "text": [
      "Epoch 1527/2000: 100%|█| 6/6 [00:05<00:00,  1.09batch/s, avg_loss=0.493, loss=0.\n"
     ]
    },
    {
     "name": "stdout",
     "output_type": "stream",
     "text": [
      "1527/2000 train loss: 0.4931116799513499  val loss: 0.863302101691564\n"
     ]
    },
    {
     "name": "stderr",
     "output_type": "stream",
     "text": [
      "Epoch 1528/2000: 100%|█| 6/6 [00:05<00:00,  1.07batch/s, avg_loss=0.537, loss=0.\n"
     ]
    },
    {
     "name": "stdout",
     "output_type": "stream",
     "text": [
      "1528/2000 train loss: 0.5366584956645966  val loss: 0.6469827195008596\n"
     ]
    },
    {
     "name": "stderr",
     "output_type": "stream",
     "text": [
      "Epoch 1529/2000: 100%|█| 6/6 [00:05<00:00,  1.08batch/s, avg_loss=0.491, loss=0.\n"
     ]
    },
    {
     "name": "stdout",
     "output_type": "stream",
     "text": [
      "1529/2000 train loss: 0.4905777871608734  val loss: 0.6757254401842753\n"
     ]
    },
    {
     "name": "stderr",
     "output_type": "stream",
     "text": [
      "Epoch 1530/2000: 100%|█| 6/6 [00:05<00:00,  1.07batch/s, avg_loss=0.426, loss=0.\n"
     ]
    },
    {
     "name": "stdout",
     "output_type": "stream",
     "text": [
      "1530/2000 train loss: 0.42645151416460675  val loss: 0.7068585058053335\n"
     ]
    },
    {
     "name": "stderr",
     "output_type": "stream",
     "text": [
      "Epoch 1531/2000: 100%|█| 6/6 [00:05<00:00,  1.07batch/s, avg_loss=0.478, loss=0.\n"
     ]
    },
    {
     "name": "stdout",
     "output_type": "stream",
     "text": [
      "1531/2000 train loss: 0.47751279671986896  val loss: 0.8084884583950043\n"
     ]
    },
    {
     "name": "stderr",
     "output_type": "stream",
     "text": [
      "Epoch 1532/2000: 100%|█| 6/6 [00:05<00:00,  1.08batch/s, avg_loss=0.478, loss=0.\n"
     ]
    },
    {
     "name": "stdout",
     "output_type": "stream",
     "text": [
      "1532/2000 train loss: 0.4781367878119151  val loss: 0.7471987803777059\n"
     ]
    },
    {
     "name": "stderr",
     "output_type": "stream",
     "text": [
      "Epoch 1533/2000: 100%|█| 6/6 [00:05<00:00,  1.08batch/s, avg_loss=0.472, loss=0.\n"
     ]
    },
    {
     "name": "stdout",
     "output_type": "stream",
     "text": [
      "1533/2000 train loss: 0.47203559676806134  val loss: 0.8035746216773987\n"
     ]
    },
    {
     "name": "stderr",
     "output_type": "stream",
     "text": [
      "Epoch 1534/2000: 100%|█| 6/6 [00:05<00:00,  1.10batch/s, avg_loss=0.417, loss=0.\n"
     ]
    },
    {
     "name": "stdout",
     "output_type": "stream",
     "text": [
      "1534/2000 train loss: 0.41652565201123554  val loss: 0.7417943378289541\n"
     ]
    },
    {
     "name": "stderr",
     "output_type": "stream",
     "text": [
      "Epoch 1535/2000: 100%|█| 6/6 [00:05<00:00,  1.09batch/s, avg_loss=0.536, loss=0.\n"
     ]
    },
    {
     "name": "stdout",
     "output_type": "stream",
     "text": [
      "1535/2000 train loss: 0.5362429718176523  val loss: 0.8045256535212199\n"
     ]
    },
    {
     "name": "stderr",
     "output_type": "stream",
     "text": [
      "Epoch 1536/2000: 100%|█| 6/6 [00:05<00:00,  1.10batch/s, avg_loss=0.512, loss=0.\n"
     ]
    },
    {
     "name": "stdout",
     "output_type": "stream",
     "text": [
      "1536/2000 train loss: 0.5123302737871805  val loss: 0.6846475402514139\n"
     ]
    },
    {
     "name": "stderr",
     "output_type": "stream",
     "text": [
      "Epoch 1537/2000: 100%|█| 6/6 [00:05<00:00,  1.09batch/s, avg_loss=0.527, loss=0.\n"
     ]
    },
    {
     "name": "stdout",
     "output_type": "stream",
     "text": [
      "1537/2000 train loss: 0.5269075830777487  val loss: 0.8326251804828644\n"
     ]
    },
    {
     "name": "stderr",
     "output_type": "stream",
     "text": [
      "Epoch 1538/2000: 100%|█| 6/6 [00:05<00:00,  1.10batch/s, avg_loss=0.432, loss=0.\n"
     ]
    },
    {
     "name": "stdout",
     "output_type": "stream",
     "text": [
      "1538/2000 train loss: 0.4317243993282318  val loss: 0.7512112259864807\n"
     ]
    },
    {
     "name": "stderr",
     "output_type": "stream",
     "text": [
      "Epoch 1539/2000: 100%|█| 6/6 [00:05<00:00,  1.09batch/s, avg_loss=0.556, loss=0.\n"
     ]
    },
    {
     "name": "stdout",
     "output_type": "stream",
     "text": [
      "1539/2000 train loss: 0.5563900570074717  val loss: 0.7010384400685629\n"
     ]
    },
    {
     "name": "stderr",
     "output_type": "stream",
     "text": [
      "Epoch 1540/2000: 100%|█| 6/6 [00:05<00:00,  1.09batch/s, avg_loss=0.51, loss=0.4\n"
     ]
    },
    {
     "name": "stdout",
     "output_type": "stream",
     "text": [
      "1540/2000 train loss: 0.5103310247262319  val loss: 0.7476414640744528\n"
     ]
    },
    {
     "name": "stderr",
     "output_type": "stream",
     "text": [
      "Epoch 1541/2000: 100%|█| 6/6 [00:05<00:00,  1.10batch/s, avg_loss=0.486, loss=0.\n"
     ]
    },
    {
     "name": "stdout",
     "output_type": "stream",
     "text": [
      "1541/2000 train loss: 0.48607316613197327  val loss: 0.8042157292366028\n"
     ]
    },
    {
     "name": "stderr",
     "output_type": "stream",
     "text": [
      "Epoch 1542/2000: 100%|█| 6/6 [00:05<00:00,  1.09batch/s, avg_loss=0.514, loss=0.\n"
     ]
    },
    {
     "name": "stdout",
     "output_type": "stream",
     "text": [
      "1542/2000 train loss: 0.5141908625761668  val loss: 0.8956456085046133\n"
     ]
    },
    {
     "name": "stderr",
     "output_type": "stream",
     "text": [
      "Epoch 1543/2000: 100%|█| 6/6 [00:05<00:00,  1.09batch/s, avg_loss=0.528, loss=0.\n"
     ]
    },
    {
     "name": "stdout",
     "output_type": "stream",
     "text": [
      "1543/2000 train loss: 0.5275460183620453  val loss: 0.7993099292119344\n"
     ]
    },
    {
     "name": "stderr",
     "output_type": "stream",
     "text": [
      "Epoch 1544/2000: 100%|█| 6/6 [00:05<00:00,  1.09batch/s, avg_loss=0.48, loss=0.4\n"
     ]
    },
    {
     "name": "stdout",
     "output_type": "stream",
     "text": [
      "1544/2000 train loss: 0.4798809289932251  val loss: 0.6099520325660706\n"
     ]
    },
    {
     "name": "stderr",
     "output_type": "stream",
     "text": [
      "Epoch 1545/2000: 100%|█| 6/6 [00:05<00:00,  1.10batch/s, avg_loss=0.517, loss=0.\n"
     ]
    },
    {
     "name": "stdout",
     "output_type": "stream",
     "text": [
      "1545/2000 train loss: 0.5167446732521057  val loss: 0.7450153231620789\n"
     ]
    },
    {
     "name": "stderr",
     "output_type": "stream",
     "text": [
      "Epoch 1546/2000: 100%|█| 6/6 [00:05<00:00,  1.10batch/s, avg_loss=0.465, loss=0.\n"
     ]
    },
    {
     "name": "stdout",
     "output_type": "stream",
     "text": [
      "1546/2000 train loss: 0.4650421142578125  val loss: 0.8195982575416565\n"
     ]
    },
    {
     "name": "stderr",
     "output_type": "stream",
     "text": [
      "Epoch 1547/2000: 100%|█| 6/6 [00:05<00:00,  1.10batch/s, avg_loss=0.427, loss=0.\n"
     ]
    },
    {
     "name": "stdout",
     "output_type": "stream",
     "text": [
      "1547/2000 train loss: 0.4273803134759267  val loss: 0.8102098107337952\n"
     ]
    },
    {
     "name": "stderr",
     "output_type": "stream",
     "text": [
      "Epoch 1548/2000: 100%|█| 6/6 [00:05<00:00,  1.10batch/s, avg_loss=0.502, loss=0.\n"
     ]
    },
    {
     "name": "stdout",
     "output_type": "stream",
     "text": [
      "1548/2000 train loss: 0.5024931927522024  val loss: 0.9340324997901917\n"
     ]
    },
    {
     "name": "stderr",
     "output_type": "stream",
     "text": [
      "Epoch 1549/2000: 100%|█| 6/6 [00:05<00:00,  1.06batch/s, avg_loss=0.473, loss=0.\n"
     ]
    },
    {
     "name": "stdout",
     "output_type": "stream",
     "text": [
      "1549/2000 train loss: 0.4733316997687022  val loss: 0.8230843544006348\n"
     ]
    },
    {
     "name": "stderr",
     "output_type": "stream",
     "text": [
      "Epoch 1550/2000: 100%|█| 6/6 [00:05<00:00,  1.05batch/s, avg_loss=0.544, loss=0.\n"
     ]
    },
    {
     "name": "stdout",
     "output_type": "stream",
     "text": [
      "1550/2000 train loss: 0.5444899400075277  val loss: 0.8344927728176117\n"
     ]
    },
    {
     "name": "stderr",
     "output_type": "stream",
     "text": [
      "Epoch 1551/2000: 100%|█| 6/6 [00:05<00:00,  1.05batch/s, avg_loss=0.405, loss=0.\n"
     ]
    },
    {
     "name": "stdout",
     "output_type": "stream",
     "text": [
      "1551/2000 train loss: 0.4047623872756958  val loss: 0.8288645446300507\n"
     ]
    },
    {
     "name": "stderr",
     "output_type": "stream",
     "text": [
      "Epoch 1552/2000: 100%|█| 6/6 [00:05<00:00,  1.04batch/s, avg_loss=0.485, loss=0.\n"
     ]
    },
    {
     "name": "stdout",
     "output_type": "stream",
     "text": [
      "1552/2000 train loss: 0.48533206184705097  val loss: 0.8490155438582102\n"
     ]
    },
    {
     "name": "stderr",
     "output_type": "stream",
     "text": [
      "Epoch 1553/2000: 100%|█| 6/6 [00:05<00:00,  1.06batch/s, avg_loss=0.539, loss=0.\n"
     ]
    },
    {
     "name": "stdout",
     "output_type": "stream",
     "text": [
      "1553/2000 train loss: 0.5388740301132202  val loss: 0.8748204012711843\n"
     ]
    },
    {
     "name": "stderr",
     "output_type": "stream",
     "text": [
      "Epoch 1554/2000: 100%|█| 6/6 [00:05<00:00,  1.05batch/s, avg_loss=0.449, loss=0.\n"
     ]
    },
    {
     "name": "stdout",
     "output_type": "stream",
     "text": [
      "1554/2000 train loss: 0.448804368575414  val loss: 0.6832141776879629\n"
     ]
    },
    {
     "name": "stderr",
     "output_type": "stream",
     "text": [
      "Epoch 1555/2000: 100%|█| 6/6 [00:05<00:00,  1.06batch/s, avg_loss=0.463, loss=0.\n"
     ]
    },
    {
     "name": "stdout",
     "output_type": "stream",
     "text": [
      "1555/2000 train loss: 0.463154137134552  val loss: 0.7534566422303518\n"
     ]
    },
    {
     "name": "stderr",
     "output_type": "stream",
     "text": [
      "Epoch 1556/2000: 100%|█| 6/6 [00:05<00:00,  1.04batch/s, avg_loss=0.454, loss=0.\n"
     ]
    },
    {
     "name": "stdout",
     "output_type": "stream",
     "text": [
      "1556/2000 train loss: 0.4544691840807597  val loss: 0.8126000364621481\n"
     ]
    },
    {
     "name": "stderr",
     "output_type": "stream",
     "text": [
      "Epoch 1557/2000: 100%|█| 6/6 [00:05<00:00,  1.05batch/s, avg_loss=0.495, loss=0.\n"
     ]
    },
    {
     "name": "stdout",
     "output_type": "stream",
     "text": [
      "1557/2000 train loss: 0.4948501984278361  val loss: 0.6783052782217661\n"
     ]
    },
    {
     "name": "stderr",
     "output_type": "stream",
     "text": [
      "Epoch 1558/2000: 100%|█| 6/6 [00:05<00:00,  1.05batch/s, avg_loss=0.494, loss=0.\n"
     ]
    },
    {
     "name": "stdout",
     "output_type": "stream",
     "text": [
      "1558/2000 train loss: 0.49411608775456745  val loss: 0.7471990982691447\n"
     ]
    },
    {
     "name": "stderr",
     "output_type": "stream",
     "text": [
      "Epoch 1559/2000: 100%|█| 6/6 [00:05<00:00,  1.05batch/s, avg_loss=0.523, loss=0.\n"
     ]
    },
    {
     "name": "stdout",
     "output_type": "stream",
     "text": [
      "1559/2000 train loss: 0.5226135849952698  val loss: 0.858492523431778\n"
     ]
    },
    {
     "name": "stderr",
     "output_type": "stream",
     "text": [
      "Epoch 1560/2000: 100%|█| 6/6 [00:05<00:00,  1.04batch/s, avg_loss=0.46, loss=0.4\n"
     ]
    },
    {
     "name": "stdout",
     "output_type": "stream",
     "text": [
      "1560/2000 train loss: 0.45976125200589496  val loss: 0.7153679331143697\n"
     ]
    },
    {
     "name": "stderr",
     "output_type": "stream",
     "text": [
      "Epoch 1561/2000: 100%|█| 6/6 [00:05<00:00,  1.04batch/s, avg_loss=0.463, loss=0.\n"
     ]
    },
    {
     "name": "stdout",
     "output_type": "stream",
     "text": [
      "1561/2000 train loss: 0.4633154670397441  val loss: 0.6416414082050323\n"
     ]
    },
    {
     "name": "stderr",
     "output_type": "stream",
     "text": [
      "Epoch 1562/2000: 100%|█| 6/6 [00:05<00:00,  1.05batch/s, avg_loss=0.526, loss=0.\n"
     ]
    },
    {
     "name": "stdout",
     "output_type": "stream",
     "text": [
      "1562/2000 train loss: 0.5264337658882141  val loss: 0.7527321378389994\n"
     ]
    },
    {
     "name": "stderr",
     "output_type": "stream",
     "text": [
      "Epoch 1563/2000: 100%|█| 6/6 [00:05<00:00,  1.04batch/s, avg_loss=0.452, loss=0.\n"
     ]
    },
    {
     "name": "stdout",
     "output_type": "stream",
     "text": [
      "1563/2000 train loss: 0.45240625739097595  val loss: 0.7944636543591818\n"
     ]
    },
    {
     "name": "stderr",
     "output_type": "stream",
     "text": [
      "Epoch 1564/2000: 100%|█| 6/6 [00:05<00:00,  1.04batch/s, avg_loss=0.523, loss=0.\n"
     ]
    },
    {
     "name": "stdout",
     "output_type": "stream",
     "text": [
      "1564/2000 train loss: 0.5230168501536051  val loss: 0.7791140675544739\n"
     ]
    },
    {
     "name": "stderr",
     "output_type": "stream",
     "text": [
      "Epoch 1565/2000: 100%|█| 6/6 [00:05<00:00,  1.04batch/s, avg_loss=0.496, loss=0.\n"
     ]
    },
    {
     "name": "stdout",
     "output_type": "stream",
     "text": [
      "1565/2000 train loss: 0.4962232808272044  val loss: 0.8050512274106344\n"
     ]
    },
    {
     "name": "stderr",
     "output_type": "stream",
     "text": [
      "Epoch 1566/2000: 100%|█| 6/6 [00:05<00:00,  1.04batch/s, avg_loss=0.457, loss=0.\n"
     ]
    },
    {
     "name": "stdout",
     "output_type": "stream",
     "text": [
      "1566/2000 train loss: 0.4566967884699504  val loss: 0.9181040823459625\n"
     ]
    },
    {
     "name": "stderr",
     "output_type": "stream",
     "text": [
      "Epoch 1567/2000: 100%|█| 6/6 [00:05<00:00,  1.06batch/s, avg_loss=0.457, loss=0.\n"
     ]
    },
    {
     "name": "stdout",
     "output_type": "stream",
     "text": [
      "1567/2000 train loss: 0.4572501977284749  val loss: 0.7200587193171183\n"
     ]
    },
    {
     "name": "stderr",
     "output_type": "stream",
     "text": [
      "Epoch 1568/2000: 100%|█| 6/6 [00:05<00:00,  1.05batch/s, avg_loss=0.471, loss=0.\n"
     ]
    },
    {
     "name": "stdout",
     "output_type": "stream",
     "text": [
      "1568/2000 train loss: 0.4705063005288442  val loss: 0.8246059020360311\n"
     ]
    },
    {
     "name": "stderr",
     "output_type": "stream",
     "text": [
      "Epoch 1569/2000: 100%|█| 6/6 [00:05<00:00,  1.04batch/s, avg_loss=0.493, loss=0.\n"
     ]
    },
    {
     "name": "stdout",
     "output_type": "stream",
     "text": [
      "1569/2000 train loss: 0.49294288953145343  val loss: 0.6271374821662903\n"
     ]
    },
    {
     "name": "stderr",
     "output_type": "stream",
     "text": [
      "Epoch 1570/2000: 100%|█| 6/6 [00:05<00:00,  1.05batch/s, avg_loss=0.526, loss=0.\n"
     ]
    },
    {
     "name": "stdout",
     "output_type": "stream",
     "text": [
      "1570/2000 train loss: 0.5262701114018759  val loss: 0.792257567246755\n"
     ]
    },
    {
     "name": "stderr",
     "output_type": "stream",
     "text": [
      "Epoch 1571/2000: 100%|█| 6/6 [00:05<00:00,  1.04batch/s, avg_loss=0.529, loss=0.\n"
     ]
    },
    {
     "name": "stdout",
     "output_type": "stream",
     "text": [
      "1571/2000 train loss: 0.5294991234938303  val loss: 0.9265589813391367\n"
     ]
    },
    {
     "name": "stderr",
     "output_type": "stream",
     "text": [
      "Epoch 1572/2000: 100%|█| 6/6 [00:05<00:00,  1.05batch/s, avg_loss=0.536, loss=0.\n"
     ]
    },
    {
     "name": "stdout",
     "output_type": "stream",
     "text": [
      "1572/2000 train loss: 0.5357571542263031  val loss: 0.860064168771108\n"
     ]
    },
    {
     "name": "stderr",
     "output_type": "stream",
     "text": [
      "Epoch 1573/2000: 100%|█| 6/6 [00:05<00:00,  1.04batch/s, avg_loss=0.469, loss=0.\n"
     ]
    },
    {
     "name": "stdout",
     "output_type": "stream",
     "text": [
      "1573/2000 train loss: 0.4690578877925873  val loss: 0.8344744145870209\n"
     ]
    },
    {
     "name": "stderr",
     "output_type": "stream",
     "text": [
      "Epoch 1574/2000: 100%|█| 6/6 [00:05<00:00,  1.04batch/s, avg_loss=0.517, loss=0.\n"
     ]
    },
    {
     "name": "stdout",
     "output_type": "stream",
     "text": [
      "1574/2000 train loss: 0.5166153907775879  val loss: 0.7613584101200104\n"
     ]
    },
    {
     "name": "stderr",
     "output_type": "stream",
     "text": [
      "Epoch 1575/2000: 100%|█| 6/6 [00:05<00:00,  1.04batch/s, avg_loss=0.468, loss=0.\n"
     ]
    },
    {
     "name": "stdout",
     "output_type": "stream",
     "text": [
      "1575/2000 train loss: 0.4681103726228078  val loss: 0.769877145687739\n"
     ]
    },
    {
     "name": "stderr",
     "output_type": "stream",
     "text": [
      "Epoch 1576/2000: 100%|█| 6/6 [00:05<00:00,  1.03batch/s, avg_loss=0.514, loss=0.\n"
     ]
    },
    {
     "name": "stdout",
     "output_type": "stream",
     "text": [
      "1576/2000 train loss: 0.5143938759962717  val loss: 0.805941770474116\n"
     ]
    },
    {
     "name": "stderr",
     "output_type": "stream",
     "text": [
      "Epoch 1577/2000: 100%|█| 6/6 [00:05<00:00,  1.06batch/s, avg_loss=0.469, loss=0.\n"
     ]
    },
    {
     "name": "stdout",
     "output_type": "stream",
     "text": [
      "1577/2000 train loss: 0.4691798786322276  val loss: 0.7991261084874471\n"
     ]
    },
    {
     "name": "stderr",
     "output_type": "stream",
     "text": [
      "Epoch 1578/2000: 100%|█| 6/6 [00:05<00:00,  1.05batch/s, avg_loss=0.446, loss=0.\n"
     ]
    },
    {
     "name": "stdout",
     "output_type": "stream",
     "text": [
      "1578/2000 train loss: 0.4458548128604889  val loss: 0.7203677694002787\n"
     ]
    },
    {
     "name": "stderr",
     "output_type": "stream",
     "text": [
      "Epoch 1579/2000: 100%|█| 6/6 [00:05<00:00,  1.05batch/s, avg_loss=0.457, loss=0.\n"
     ]
    },
    {
     "name": "stdout",
     "output_type": "stream",
     "text": [
      "1579/2000 train loss: 0.45710404713948566  val loss: 0.8139115075270335\n"
     ]
    },
    {
     "name": "stderr",
     "output_type": "stream",
     "text": [
      "Epoch 1580/2000: 100%|█| 6/6 [00:05<00:00,  1.05batch/s, avg_loss=0.56, loss=0.5\n"
     ]
    },
    {
     "name": "stdout",
     "output_type": "stream",
     "text": [
      "1580/2000 train loss: 0.5596155722935995  val loss: 0.8200420538584391\n"
     ]
    },
    {
     "name": "stderr",
     "output_type": "stream",
     "text": [
      "Epoch 1581/2000: 100%|█| 6/6 [00:05<00:00,  1.05batch/s, avg_loss=0.552, loss=0.\n"
     ]
    },
    {
     "name": "stdout",
     "output_type": "stream",
     "text": [
      "1581/2000 train loss: 0.5522807538509369  val loss: 0.8450951476891836\n"
     ]
    },
    {
     "name": "stderr",
     "output_type": "stream",
     "text": [
      "Epoch 1582/2000: 100%|█| 6/6 [00:05<00:00,  1.05batch/s, avg_loss=0.469, loss=0.\n"
     ]
    },
    {
     "name": "stdout",
     "output_type": "stream",
     "text": [
      "1582/2000 train loss: 0.4686416784922282  val loss: 0.8263456722100576\n"
     ]
    },
    {
     "name": "stderr",
     "output_type": "stream",
     "text": [
      "Epoch 1583/2000: 100%|█| 6/6 [00:05<00:00,  1.05batch/s, avg_loss=0.504, loss=0.\n"
     ]
    },
    {
     "name": "stdout",
     "output_type": "stream",
     "text": [
      "1583/2000 train loss: 0.5041822691758474  val loss: 0.7797628939151764\n"
     ]
    },
    {
     "name": "stderr",
     "output_type": "stream",
     "text": [
      "Epoch 1584/2000: 100%|█| 6/6 [00:05<00:00,  1.04batch/s, avg_loss=0.474, loss=0.\n"
     ]
    },
    {
     "name": "stdout",
     "output_type": "stream",
     "text": [
      "1584/2000 train loss: 0.47369591395060223  val loss: 0.7863454719384512\n"
     ]
    },
    {
     "name": "stderr",
     "output_type": "stream",
     "text": [
      "Epoch 1585/2000: 100%|█| 6/6 [00:05<00:00,  1.04batch/s, avg_loss=0.483, loss=0.\n"
     ]
    },
    {
     "name": "stdout",
     "output_type": "stream",
     "text": [
      "1585/2000 train loss: 0.48346589008967084  val loss: 0.8653056621551514\n"
     ]
    },
    {
     "name": "stderr",
     "output_type": "stream",
     "text": [
      "Epoch 1586/2000: 100%|█| 6/6 [00:05<00:00,  1.05batch/s, avg_loss=0.419, loss=0.\n"
     ]
    },
    {
     "name": "stdout",
     "output_type": "stream",
     "text": [
      "1586/2000 train loss: 0.4188089470068614  val loss: 0.8511658807595571\n"
     ]
    },
    {
     "name": "stderr",
     "output_type": "stream",
     "text": [
      "Epoch 1587/2000: 100%|█| 6/6 [00:05<00:00,  1.03batch/s, avg_loss=0.492, loss=0.\n"
     ]
    },
    {
     "name": "stdout",
     "output_type": "stream",
     "text": [
      "1587/2000 train loss: 0.4916642407576243  val loss: 0.860742042462031\n"
     ]
    },
    {
     "name": "stderr",
     "output_type": "stream",
     "text": [
      "Epoch 1588/2000: 100%|█| 6/6 [00:05<00:00,  1.04batch/s, avg_loss=0.45, loss=0.3\n"
     ]
    },
    {
     "name": "stdout",
     "output_type": "stream",
     "text": [
      "1588/2000 train loss: 0.45008816321690875  val loss: 0.8110259373982748\n"
     ]
    },
    {
     "name": "stderr",
     "output_type": "stream",
     "text": [
      "Epoch 1589/2000: 100%|█| 6/6 [00:05<00:00,  1.04batch/s, avg_loss=0.558, loss=0.\n"
     ]
    },
    {
     "name": "stdout",
     "output_type": "stream",
     "text": [
      "1589/2000 train loss: 0.5577215552330017  val loss: 0.8363821307818095\n"
     ]
    },
    {
     "name": "stderr",
     "output_type": "stream",
     "text": [
      "Epoch 1590/2000: 100%|█| 6/6 [00:05<00:00,  1.06batch/s, avg_loss=0.484, loss=0.\n"
     ]
    },
    {
     "name": "stdout",
     "output_type": "stream",
     "text": [
      "1590/2000 train loss: 0.4839424292246501  val loss: 0.86781245470047\n"
     ]
    },
    {
     "name": "stderr",
     "output_type": "stream",
     "text": [
      "Epoch 1591/2000: 100%|█| 6/6 [00:05<00:00,  1.05batch/s, avg_loss=0.486, loss=0.\n"
     ]
    },
    {
     "name": "stdout",
     "output_type": "stream",
     "text": [
      "1591/2000 train loss: 0.48558642466862995  val loss: 0.832179476817449\n"
     ]
    },
    {
     "name": "stderr",
     "output_type": "stream",
     "text": [
      "Epoch 1592/2000: 100%|█| 6/6 [00:05<00:00,  1.05batch/s, avg_loss=0.49, loss=0.3\n"
     ]
    },
    {
     "name": "stdout",
     "output_type": "stream",
     "text": [
      "1592/2000 train loss: 0.4902092516422272  val loss: 0.7792650858561198\n"
     ]
    },
    {
     "name": "stderr",
     "output_type": "stream",
     "text": [
      "Epoch 1593/2000: 100%|█| 6/6 [00:05<00:00,  1.05batch/s, avg_loss=0.487, loss=0.\n"
     ]
    },
    {
     "name": "stdout",
     "output_type": "stream",
     "text": [
      "1593/2000 train loss: 0.48695777853329975  val loss: 0.7558682958285013\n"
     ]
    },
    {
     "name": "stderr",
     "output_type": "stream",
     "text": [
      "Epoch 1594/2000: 100%|█| 6/6 [00:05<00:00,  1.05batch/s, avg_loss=0.456, loss=0.\n"
     ]
    },
    {
     "name": "stdout",
     "output_type": "stream",
     "text": [
      "1594/2000 train loss: 0.4556373357772827  val loss: 0.8577145636081696\n"
     ]
    },
    {
     "name": "stderr",
     "output_type": "stream",
     "text": [
      "Epoch 1595/2000: 100%|█| 6/6 [00:05<00:00,  1.05batch/s, avg_loss=0.419, loss=0.\n"
     ]
    },
    {
     "name": "stdout",
     "output_type": "stream",
     "text": [
      "1595/2000 train loss: 0.419085164864858  val loss: 0.8287653823693594\n"
     ]
    },
    {
     "name": "stderr",
     "output_type": "stream",
     "text": [
      "Epoch 1596/2000: 100%|█| 6/6 [00:05<00:00,  1.05batch/s, avg_loss=0.46, loss=0.5\n"
     ]
    },
    {
     "name": "stdout",
     "output_type": "stream",
     "text": [
      "1596/2000 train loss: 0.45967525243759155  val loss: 0.6778633991877238\n"
     ]
    },
    {
     "name": "stderr",
     "output_type": "stream",
     "text": [
      "Epoch 1597/2000: 100%|█| 6/6 [00:05<00:00,  1.05batch/s, avg_loss=0.402, loss=0.\n"
     ]
    },
    {
     "name": "stdout",
     "output_type": "stream",
     "text": [
      "1597/2000 train loss: 0.4016953110694885  val loss: 0.630101223786672\n"
     ]
    },
    {
     "name": "stderr",
     "output_type": "stream",
     "text": [
      "Epoch 1598/2000: 100%|█| 6/6 [00:05<00:00,  1.05batch/s, avg_loss=0.492, loss=0.\n"
     ]
    },
    {
     "name": "stdout",
     "output_type": "stream",
     "text": [
      "1598/2000 train loss: 0.4919788142045339  val loss: 0.6448719700177511\n"
     ]
    },
    {
     "name": "stderr",
     "output_type": "stream",
     "text": [
      "Epoch 1599/2000: 100%|█| 6/6 [00:05<00:00,  1.05batch/s, avg_loss=0.45, loss=0.3\n"
     ]
    },
    {
     "name": "stdout",
     "output_type": "stream",
     "text": [
      "1599/2000 train loss: 0.45048466324806213  val loss: 0.7916504740715027\n"
     ]
    },
    {
     "name": "stderr",
     "output_type": "stream",
     "text": [
      "Epoch 1600/2000: 100%|█| 6/6 [00:05<00:00,  1.05batch/s, avg_loss=0.454, loss=0.\n"
     ]
    },
    {
     "name": "stdout",
     "output_type": "stream",
     "text": [
      "1600/2000 train loss: 0.4539232552051544  val loss: 0.8034840623537699\n"
     ]
    },
    {
     "name": "stderr",
     "output_type": "stream",
     "text": [
      "Epoch 1601/2000: 100%|█| 6/6 [00:05<00:00,  1.04batch/s, avg_loss=0.455, loss=0.\n"
     ]
    },
    {
     "name": "stdout",
     "output_type": "stream",
     "text": [
      "1601/2000 train loss: 0.4553173283735911  val loss: 0.7957151432832082\n"
     ]
    },
    {
     "name": "stderr",
     "output_type": "stream",
     "text": [
      "Epoch 1602/2000: 100%|█| 6/6 [00:05<00:00,  1.05batch/s, avg_loss=0.458, loss=0.\n"
     ]
    },
    {
     "name": "stdout",
     "output_type": "stream",
     "text": [
      "1602/2000 train loss: 0.45820654431978863  val loss: 0.7469567557175955\n"
     ]
    },
    {
     "name": "stderr",
     "output_type": "stream",
     "text": [
      "Epoch 1603/2000: 100%|█| 6/6 [00:05<00:00,  1.04batch/s, avg_loss=0.507, loss=0.\n"
     ]
    },
    {
     "name": "stdout",
     "output_type": "stream",
     "text": [
      "1603/2000 train loss: 0.5070604185263315  val loss: 0.7581067184607188\n"
     ]
    },
    {
     "name": "stderr",
     "output_type": "stream",
     "text": [
      "Epoch 1604/2000: 100%|█| 6/6 [00:05<00:00,  1.05batch/s, avg_loss=0.499, loss=0.\n"
     ]
    },
    {
     "name": "stdout",
     "output_type": "stream",
     "text": [
      "1604/2000 train loss: 0.49906585613886517  val loss: 0.8624425927797953\n"
     ]
    },
    {
     "name": "stderr",
     "output_type": "stream",
     "text": [
      "Epoch 1605/2000: 100%|█| 6/6 [00:05<00:00,  1.06batch/s, avg_loss=0.501, loss=0.\n"
     ]
    },
    {
     "name": "stdout",
     "output_type": "stream",
     "text": [
      "1605/2000 train loss: 0.5010066429773966  val loss: 0.8609742124875387\n"
     ]
    },
    {
     "name": "stderr",
     "output_type": "stream",
     "text": [
      "Epoch 1606/2000: 100%|█| 6/6 [00:05<00:00,  1.06batch/s, avg_loss=0.451, loss=0.\n"
     ]
    },
    {
     "name": "stdout",
     "output_type": "stream",
     "text": [
      "1606/2000 train loss: 0.45137307047843933  val loss: 0.8026734292507172\n"
     ]
    },
    {
     "name": "stderr",
     "output_type": "stream",
     "text": [
      "Epoch 1607/2000: 100%|█| 6/6 [00:05<00:00,  1.07batch/s, avg_loss=0.471, loss=0.\n"
     ]
    },
    {
     "name": "stdout",
     "output_type": "stream",
     "text": [
      "1607/2000 train loss: 0.47143006324768066  val loss: 0.7695870995521545\n"
     ]
    },
    {
     "name": "stderr",
     "output_type": "stream",
     "text": [
      "Epoch 1608/2000: 100%|█| 6/6 [00:05<00:00,  1.06batch/s, avg_loss=0.509, loss=0.\n"
     ]
    },
    {
     "name": "stdout",
     "output_type": "stream",
     "text": [
      "1608/2000 train loss: 0.5094201366106669  val loss: 0.7174348334471384\n"
     ]
    },
    {
     "name": "stderr",
     "output_type": "stream",
     "text": [
      "Epoch 1609/2000: 100%|█| 6/6 [00:05<00:00,  1.07batch/s, avg_loss=0.415, loss=0.\n"
     ]
    },
    {
     "name": "stdout",
     "output_type": "stream",
     "text": [
      "1609/2000 train loss: 0.41487016280492145  val loss: 0.7972575128078461\n"
     ]
    },
    {
     "name": "stderr",
     "output_type": "stream",
     "text": [
      "Epoch 1610/2000: 100%|█| 6/6 [00:05<00:00,  1.06batch/s, avg_loss=0.452, loss=0.\n"
     ]
    },
    {
     "name": "stdout",
     "output_type": "stream",
     "text": [
      "1610/2000 train loss: 0.4522415002187093  val loss: 0.7931930820147196\n"
     ]
    },
    {
     "name": "stderr",
     "output_type": "stream",
     "text": [
      "Epoch 1611/2000: 100%|█| 6/6 [00:05<00:00,  1.06batch/s, avg_loss=0.395, loss=0.\n"
     ]
    },
    {
     "name": "stdout",
     "output_type": "stream",
     "text": [
      "1611/2000 train loss: 0.3954949875672658  val loss: 0.8328650196393331\n"
     ]
    },
    {
     "name": "stderr",
     "output_type": "stream",
     "text": [
      "Epoch 1612/2000: 100%|█| 6/6 [00:05<00:00,  1.05batch/s, avg_loss=0.483, loss=0.\n"
     ]
    },
    {
     "name": "stdout",
     "output_type": "stream",
     "text": [
      "1612/2000 train loss: 0.48346494634946185  val loss: 0.7436510324478149\n"
     ]
    },
    {
     "name": "stderr",
     "output_type": "stream",
     "text": [
      "Epoch 1613/2000: 100%|█| 6/6 [00:05<00:00,  1.05batch/s, avg_loss=0.469, loss=0.\n"
     ]
    },
    {
     "name": "stdout",
     "output_type": "stream",
     "text": [
      "1613/2000 train loss: 0.4689182937145233  val loss: 0.7579562266667684\n"
     ]
    },
    {
     "name": "stderr",
     "output_type": "stream",
     "text": [
      "Epoch 1614/2000: 100%|█| 6/6 [00:05<00:00,  1.07batch/s, avg_loss=0.405, loss=0.\n"
     ]
    },
    {
     "name": "stdout",
     "output_type": "stream",
     "text": [
      "1614/2000 train loss: 0.40512917439142865  val loss: 0.7266075015068054\n"
     ]
    },
    {
     "name": "stderr",
     "output_type": "stream",
     "text": [
      "Epoch 1615/2000: 100%|█| 6/6 [00:05<00:00,  1.05batch/s, avg_loss=0.418, loss=0.\n"
     ]
    },
    {
     "name": "stdout",
     "output_type": "stream",
     "text": [
      "1615/2000 train loss: 0.41803109645843506  val loss: 0.7512734830379486\n"
     ]
    },
    {
     "name": "stderr",
     "output_type": "stream",
     "text": [
      "Epoch 1616/2000: 100%|█| 6/6 [00:05<00:00,  1.05batch/s, avg_loss=0.471, loss=0.\n"
     ]
    },
    {
     "name": "stdout",
     "output_type": "stream",
     "text": [
      "1616/2000 train loss: 0.4709363679091136  val loss: 0.771475483973821\n"
     ]
    },
    {
     "name": "stderr",
     "output_type": "stream",
     "text": [
      "Epoch 1617/2000: 100%|█| 6/6 [00:05<00:00,  1.03batch/s, avg_loss=0.454, loss=0.\n"
     ]
    },
    {
     "name": "stdout",
     "output_type": "stream",
     "text": [
      "1617/2000 train loss: 0.4537700017293294  val loss: 0.783207376797994\n"
     ]
    },
    {
     "name": "stderr",
     "output_type": "stream",
     "text": [
      "Epoch 1618/2000: 100%|█| 6/6 [00:05<00:00,  1.05batch/s, avg_loss=0.491, loss=0.\n"
     ]
    },
    {
     "name": "stdout",
     "output_type": "stream",
     "text": [
      "1618/2000 train loss: 0.49105674028396606  val loss: 0.7690609991550446\n"
     ]
    },
    {
     "name": "stderr",
     "output_type": "stream",
     "text": [
      "Epoch 1619/2000: 100%|█| 6/6 [00:05<00:00,  1.04batch/s, avg_loss=0.406, loss=0.\n"
     ]
    },
    {
     "name": "stdout",
     "output_type": "stream",
     "text": [
      "1619/2000 train loss: 0.406041552623113  val loss: 0.870368093252182\n"
     ]
    },
    {
     "name": "stderr",
     "output_type": "stream",
     "text": [
      "Epoch 1620/2000: 100%|█| 6/6 [00:05<00:00,  1.05batch/s, avg_loss=0.473, loss=0.\n"
     ]
    },
    {
     "name": "stdout",
     "output_type": "stream",
     "text": [
      "1620/2000 train loss: 0.4732215305169423  val loss: 0.8480108082294464\n"
     ]
    },
    {
     "name": "stderr",
     "output_type": "stream",
     "text": [
      "Epoch 1621/2000: 100%|█| 6/6 [00:05<00:00,  1.06batch/s, avg_loss=0.426, loss=0.\n"
     ]
    },
    {
     "name": "stdout",
     "output_type": "stream",
     "text": [
      "1621/2000 train loss: 0.4260799288749695  val loss: 0.7186764180660248\n"
     ]
    },
    {
     "name": "stderr",
     "output_type": "stream",
     "text": [
      "Epoch 1622/2000: 100%|█| 6/6 [00:05<00:00,  1.08batch/s, avg_loss=0.544, loss=0.\n"
     ]
    },
    {
     "name": "stdout",
     "output_type": "stream",
     "text": [
      "1622/2000 train loss: 0.5441562036673228  val loss: 0.7932677169640859\n"
     ]
    },
    {
     "name": "stderr",
     "output_type": "stream",
     "text": [
      "Epoch 1623/2000: 100%|█| 6/6 [00:05<00:00,  1.09batch/s, avg_loss=0.44, loss=0.3\n"
     ]
    },
    {
     "name": "stdout",
     "output_type": "stream",
     "text": [
      "1623/2000 train loss: 0.4400178889433543  val loss: 0.7853144109249115\n"
     ]
    },
    {
     "name": "stderr",
     "output_type": "stream",
     "text": [
      "Epoch 1624/2000: 100%|█| 6/6 [00:05<00:00,  1.09batch/s, avg_loss=0.527, loss=0.\n"
     ]
    },
    {
     "name": "stdout",
     "output_type": "stream",
     "text": [
      "1624/2000 train loss: 0.5271049241224924  val loss: 0.7147019505500793\n"
     ]
    },
    {
     "name": "stderr",
     "output_type": "stream",
     "text": [
      "Epoch 1625/2000: 100%|█| 6/6 [00:05<00:00,  1.08batch/s, avg_loss=0.476, loss=0.\n"
     ]
    },
    {
     "name": "stdout",
     "output_type": "stream",
     "text": [
      "1625/2000 train loss: 0.47600269317626953  val loss: 0.7252620458602905\n"
     ]
    },
    {
     "name": "stderr",
     "output_type": "stream",
     "text": [
      "Epoch 1626/2000: 100%|█| 6/6 [00:05<00:00,  1.08batch/s, avg_loss=0.509, loss=0.\n"
     ]
    },
    {
     "name": "stdout",
     "output_type": "stream",
     "text": [
      "1626/2000 train loss: 0.5093237459659576  val loss: 0.7055959602197012\n"
     ]
    },
    {
     "name": "stderr",
     "output_type": "stream",
     "text": [
      "Epoch 1627/2000: 100%|█| 6/6 [00:05<00:00,  1.08batch/s, avg_loss=0.495, loss=0.\n"
     ]
    },
    {
     "name": "stdout",
     "output_type": "stream",
     "text": [
      "1627/2000 train loss: 0.49453073740005493  val loss: 0.7607513169447581\n"
     ]
    },
    {
     "name": "stderr",
     "output_type": "stream",
     "text": [
      "Epoch 1628/2000: 100%|█| 6/6 [00:05<00:00,  1.08batch/s, avg_loss=0.448, loss=0.\n"
     ]
    },
    {
     "name": "stdout",
     "output_type": "stream",
     "text": [
      "1628/2000 train loss: 0.4484221537907918  val loss: 0.8544570207595825\n"
     ]
    },
    {
     "name": "stderr",
     "output_type": "stream",
     "text": [
      "Epoch 1629/2000: 100%|█| 6/6 [00:05<00:00,  1.08batch/s, avg_loss=0.549, loss=0.\n"
     ]
    },
    {
     "name": "stdout",
     "output_type": "stream",
     "text": [
      "1629/2000 train loss: 0.5486615300178528  val loss: 0.668556829293569\n"
     ]
    },
    {
     "name": "stderr",
     "output_type": "stream",
     "text": [
      "Epoch 1630/2000: 100%|█| 6/6 [00:05<00:00,  1.08batch/s, avg_loss=0.476, loss=0.\n"
     ]
    },
    {
     "name": "stdout",
     "output_type": "stream",
     "text": [
      "1630/2000 train loss: 0.4759480853875478  val loss: 0.7992092669010162\n"
     ]
    },
    {
     "name": "stderr",
     "output_type": "stream",
     "text": [
      "Epoch 1631/2000: 100%|█| 6/6 [00:05<00:00,  1.06batch/s, avg_loss=0.431, loss=0.\n"
     ]
    },
    {
     "name": "stdout",
     "output_type": "stream",
     "text": [
      "1631/2000 train loss: 0.4311002393563588  val loss: 0.7956338127454122\n"
     ]
    },
    {
     "name": "stderr",
     "output_type": "stream",
     "text": [
      "Epoch 1632/2000: 100%|█| 6/6 [00:05<00:00,  1.04batch/s, avg_loss=0.501, loss=0.\n"
     ]
    },
    {
     "name": "stdout",
     "output_type": "stream",
     "text": [
      "1632/2000 train loss: 0.5005374252796173  val loss: 0.8103632032871246\n"
     ]
    },
    {
     "name": "stderr",
     "output_type": "stream",
     "text": [
      "Epoch 1633/2000: 100%|█| 6/6 [00:05<00:00,  1.04batch/s, avg_loss=0.526, loss=0.\n"
     ]
    },
    {
     "name": "stdout",
     "output_type": "stream",
     "text": [
      "1633/2000 train loss: 0.5262253880500793  val loss: 0.6560924549897512\n"
     ]
    },
    {
     "name": "stderr",
     "output_type": "stream",
     "text": [
      "Epoch 1634/2000: 100%|█| 6/6 [00:05<00:00,  1.05batch/s, avg_loss=0.506, loss=0.\n"
     ]
    },
    {
     "name": "stdout",
     "output_type": "stream",
     "text": [
      "1634/2000 train loss: 0.5060475667317709  val loss: 0.6663635273774465\n"
     ]
    },
    {
     "name": "stderr",
     "output_type": "stream",
     "text": [
      "Epoch 1635/2000: 100%|█| 6/6 [00:05<00:00,  1.04batch/s, avg_loss=0.452, loss=0.\n"
     ]
    },
    {
     "name": "stdout",
     "output_type": "stream",
     "text": [
      "1635/2000 train loss: 0.4521973232428233  val loss: 0.7162428895632426\n"
     ]
    },
    {
     "name": "stderr",
     "output_type": "stream",
     "text": [
      "Epoch 1636/2000: 100%|█| 6/6 [00:05<00:00,  1.05batch/s, avg_loss=0.5, loss=0.31\n"
     ]
    },
    {
     "name": "stdout",
     "output_type": "stream",
     "text": [
      "1636/2000 train loss: 0.49961233139038086  val loss: 0.6600659290949503\n"
     ]
    },
    {
     "name": "stderr",
     "output_type": "stream",
     "text": [
      "Epoch 1637/2000: 100%|█| 6/6 [00:05<00:00,  1.05batch/s, avg_loss=0.469, loss=0.\n"
     ]
    },
    {
     "name": "stdout",
     "output_type": "stream",
     "text": [
      "1637/2000 train loss: 0.46945177515347797  val loss: 0.7575742602348328\n"
     ]
    },
    {
     "name": "stderr",
     "output_type": "stream",
     "text": [
      "Epoch 1638/2000: 100%|█| 6/6 [00:05<00:00,  1.05batch/s, avg_loss=0.47, loss=0.4\n"
     ]
    },
    {
     "name": "stdout",
     "output_type": "stream",
     "text": [
      "1638/2000 train loss: 0.47032320499420166  val loss: 0.7019087175528208\n"
     ]
    },
    {
     "name": "stderr",
     "output_type": "stream",
     "text": [
      "Epoch 1639/2000: 100%|█| 6/6 [00:05<00:00,  1.08batch/s, avg_loss=0.497, loss=0.\n"
     ]
    },
    {
     "name": "stdout",
     "output_type": "stream",
     "text": [
      "1639/2000 train loss: 0.49741168816884357  val loss: 0.8897819221019745\n"
     ]
    },
    {
     "name": "stderr",
     "output_type": "stream",
     "text": [
      "Epoch 1640/2000: 100%|█| 6/6 [00:05<00:00,  1.08batch/s, avg_loss=0.48, loss=0.5\n"
     ]
    },
    {
     "name": "stdout",
     "output_type": "stream",
     "text": [
      "1640/2000 train loss: 0.4795494278271993  val loss: 0.8254310389359792\n"
     ]
    },
    {
     "name": "stderr",
     "output_type": "stream",
     "text": [
      "Epoch 1641/2000: 100%|█| 6/6 [00:05<00:00,  1.07batch/s, avg_loss=0.441, loss=0.\n"
     ]
    },
    {
     "name": "stdout",
     "output_type": "stream",
     "text": [
      "1641/2000 train loss: 0.44065897663434345  val loss: 0.7209104398886362\n"
     ]
    },
    {
     "name": "stderr",
     "output_type": "stream",
     "text": [
      "Epoch 1642/2000: 100%|█| 6/6 [00:05<00:00,  1.08batch/s, avg_loss=0.488, loss=0.\n"
     ]
    },
    {
     "name": "stdout",
     "output_type": "stream",
     "text": [
      "1642/2000 train loss: 0.48790963490804035  val loss: 0.7614741921424866\n"
     ]
    },
    {
     "name": "stderr",
     "output_type": "stream",
     "text": [
      "Epoch 1643/2000: 100%|█| 6/6 [00:05<00:00,  1.07batch/s, avg_loss=0.538, loss=0.\n"
     ]
    },
    {
     "name": "stdout",
     "output_type": "stream",
     "text": [
      "1643/2000 train loss: 0.538455863793691  val loss: 0.854689747095108\n"
     ]
    },
    {
     "name": "stderr",
     "output_type": "stream",
     "text": [
      "Epoch 1644/2000: 100%|█| 6/6 [00:05<00:00,  1.08batch/s, avg_loss=0.437, loss=0.\n"
     ]
    },
    {
     "name": "stdout",
     "output_type": "stream",
     "text": [
      "1644/2000 train loss: 0.43674521644910175  val loss: 0.7282346189022064\n"
     ]
    },
    {
     "name": "stderr",
     "output_type": "stream",
     "text": [
      "Epoch 1645/2000: 100%|█| 6/6 [00:05<00:00,  1.07batch/s, avg_loss=0.515, loss=0.\n"
     ]
    },
    {
     "name": "stdout",
     "output_type": "stream",
     "text": [
      "1645/2000 train loss: 0.5149889290332794  val loss: 0.6396136383215586\n"
     ]
    },
    {
     "name": "stderr",
     "output_type": "stream",
     "text": [
      "Epoch 1646/2000: 100%|█| 6/6 [00:05<00:00,  1.07batch/s, avg_loss=0.453, loss=0.\n"
     ]
    },
    {
     "name": "stdout",
     "output_type": "stream",
     "text": [
      "1646/2000 train loss: 0.4525924623012543  val loss: 0.7780916889508566\n"
     ]
    },
    {
     "name": "stderr",
     "output_type": "stream",
     "text": [
      "Epoch 1647/2000: 100%|█| 6/6 [00:05<00:00,  1.05batch/s, avg_loss=0.415, loss=0.\n"
     ]
    },
    {
     "name": "stdout",
     "output_type": "stream",
     "text": [
      "1647/2000 train loss: 0.41493913531303406  val loss: 0.6824736495812734\n"
     ]
    },
    {
     "name": "stderr",
     "output_type": "stream",
     "text": [
      "Epoch 1648/2000: 100%|█| 6/6 [00:05<00:00,  1.05batch/s, avg_loss=0.467, loss=0.\n"
     ]
    },
    {
     "name": "stdout",
     "output_type": "stream",
     "text": [
      "1648/2000 train loss: 0.4674188296000163  val loss: 0.8090417087078094\n"
     ]
    },
    {
     "name": "stderr",
     "output_type": "stream",
     "text": [
      "Epoch 1649/2000: 100%|█| 6/6 [00:05<00:00,  1.04batch/s, avg_loss=0.435, loss=0.\n"
     ]
    },
    {
     "name": "stdout",
     "output_type": "stream",
     "text": [
      "1649/2000 train loss: 0.43524672587712604  val loss: 0.6802360316117605\n"
     ]
    },
    {
     "name": "stderr",
     "output_type": "stream",
     "text": [
      "Epoch 1650/2000: 100%|█| 6/6 [00:05<00:00,  1.05batch/s, avg_loss=0.488, loss=0.\n"
     ]
    },
    {
     "name": "stdout",
     "output_type": "stream",
     "text": [
      "1650/2000 train loss: 0.4876231054464976  val loss: 0.880562404791514\n"
     ]
    },
    {
     "name": "stderr",
     "output_type": "stream",
     "text": [
      "Epoch 1651/2000: 100%|█| 6/6 [00:05<00:00,  1.04batch/s, avg_loss=0.518, loss=0.\n"
     ]
    },
    {
     "name": "stdout",
     "output_type": "stream",
     "text": [
      "1651/2000 train loss: 0.5182592570781708  val loss: 0.7088616192340851\n"
     ]
    },
    {
     "name": "stderr",
     "output_type": "stream",
     "text": [
      "Epoch 1652/2000: 100%|█| 6/6 [00:05<00:00,  1.05batch/s, avg_loss=0.449, loss=0.\n"
     ]
    },
    {
     "name": "stdout",
     "output_type": "stream",
     "text": [
      "1652/2000 train loss: 0.4494554400444031  val loss: 0.7715776662031809\n"
     ]
    },
    {
     "name": "stderr",
     "output_type": "stream",
     "text": [
      "Epoch 1653/2000: 100%|█| 6/6 [00:05<00:00,  1.04batch/s, avg_loss=0.455, loss=0.\n"
     ]
    },
    {
     "name": "stdout",
     "output_type": "stream",
     "text": [
      "1653/2000 train loss: 0.4553725520769755  val loss: 0.865350584189097\n"
     ]
    },
    {
     "name": "stderr",
     "output_type": "stream",
     "text": [
      "Epoch 1654/2000: 100%|█| 6/6 [00:05<00:00,  1.06batch/s, avg_loss=0.518, loss=0.\n"
     ]
    },
    {
     "name": "stdout",
     "output_type": "stream",
     "text": [
      "1654/2000 train loss: 0.5182899236679077  val loss: 0.7402710517247518\n"
     ]
    },
    {
     "name": "stderr",
     "output_type": "stream",
     "text": [
      "Epoch 1655/2000: 100%|█| 6/6 [00:05<00:00,  1.07batch/s, avg_loss=0.493, loss=0.\n"
     ]
    },
    {
     "name": "stdout",
     "output_type": "stream",
     "text": [
      "1655/2000 train loss: 0.49342117706934613  val loss: 0.745618055264155\n"
     ]
    },
    {
     "name": "stderr",
     "output_type": "stream",
     "text": [
      "Epoch 1656/2000: 100%|█| 6/6 [00:05<00:00,  1.07batch/s, avg_loss=0.409, loss=0.\n"
     ]
    },
    {
     "name": "stdout",
     "output_type": "stream",
     "text": [
      "1656/2000 train loss: 0.40902098019917804  val loss: 0.6474499404430389\n"
     ]
    },
    {
     "name": "stderr",
     "output_type": "stream",
     "text": [
      "Epoch 1657/2000: 100%|█| 6/6 [00:05<00:00,  1.05batch/s, avg_loss=0.415, loss=0.\n"
     ]
    },
    {
     "name": "stdout",
     "output_type": "stream",
     "text": [
      "1657/2000 train loss: 0.41458266973495483  val loss: 0.8728179335594177\n"
     ]
    },
    {
     "name": "stderr",
     "output_type": "stream",
     "text": [
      "Epoch 1658/2000: 100%|█| 6/6 [00:05<00:00,  1.05batch/s, avg_loss=0.489, loss=0.\n"
     ]
    },
    {
     "name": "stdout",
     "output_type": "stream",
     "text": [
      "1658/2000 train loss: 0.48934294780095416  val loss: 0.7692273656527201\n"
     ]
    },
    {
     "name": "stderr",
     "output_type": "stream",
     "text": [
      "Epoch 1659/2000: 100%|█| 6/6 [00:05<00:00,  1.05batch/s, avg_loss=0.445, loss=0.\n"
     ]
    },
    {
     "name": "stdout",
     "output_type": "stream",
     "text": [
      "1659/2000 train loss: 0.44515126943588257  val loss: 0.8207252522309622\n"
     ]
    },
    {
     "name": "stderr",
     "output_type": "stream",
     "text": [
      "Epoch 1660/2000: 100%|█| 6/6 [00:05<00:00,  1.05batch/s, avg_loss=0.447, loss=0.\n"
     ]
    },
    {
     "name": "stdout",
     "output_type": "stream",
     "text": [
      "1660/2000 train loss: 0.4473743438720703  val loss: 0.8764406144618988\n"
     ]
    },
    {
     "name": "stderr",
     "output_type": "stream",
     "text": [
      "Epoch 1661/2000: 100%|█| 6/6 [00:05<00:00,  1.05batch/s, avg_loss=0.44, loss=0.5\n"
     ]
    },
    {
     "name": "stdout",
     "output_type": "stream",
     "text": [
      "1661/2000 train loss: 0.4398111899693807  val loss: 0.7244891226291656\n"
     ]
    },
    {
     "name": "stderr",
     "output_type": "stream",
     "text": [
      "Epoch 1662/2000:  50%|▌| 3/6 [00:02<00:02,  1.03batch/s, avg_loss=0.541, loss=0."
     ]
    }
   ],
   "source": [
    "experiment.train(train_loader, test_loader, epochs=1000)"
   ]
  },
  {
   "cell_type": "code",
   "execution_count": null,
   "metadata": {},
   "outputs": [],
   "source": [
    "import os\n",
    "weights_dir = \"/projectnb/dunlop/chrisdc/gva_senior_design/image_processing/weights/\"\n",
    "name = '3-29-24_epochs2000'\n",
    "weights_path = os.path.join(weights_dir, name + '.pkl')\n",
    "experiment.save_experiment(weights_path)"
   ]
  },
  {
   "cell_type": "code",
   "execution_count": null,
   "metadata": {},
   "outputs": [],
   "source": []
  }
 ],
 "metadata": {
  "kernelspec": {
   "display_name": "Python 3 (ipykernel)",
   "language": "python",
   "name": "python3"
  },
  "language_info": {
   "codemirror_mode": {
    "name": "ipython",
    "version": 3
   },
   "file_extension": ".py",
   "mimetype": "text/x-python",
   "name": "python",
   "nbconvert_exporter": "python",
   "pygments_lexer": "ipython3",
   "version": "3.10.13"
  }
 },
 "nbformat": 4,
 "nbformat_minor": 4
}
